{
 "cells": [
  {
   "cell_type": "code",
   "execution_count": 1,
   "metadata": {},
   "outputs": [],
   "source": [
    "%matplotlib inline\n",
    "import pandas as pd\n",
    "import numpy as np\n",
    "import matplotlib.pyplot as plt\n",
    "import seaborn as sns\n",
    "import xgboost\n",
    "\n",
    "from sklearn import metrics\n",
    "from sklearn.metrics import roc_auc_score, brier_score_loss\n",
    "\n",
    "from sklearn.tree import DecisionTreeClassifier\n",
    "from sklearn.linear_model import LogisticRegression\n",
    "from sklearn.ensemble import RandomForestClassifier\n",
    "from sklearn.ensemble import AdaBoostClassifier\n",
    "from sklearn.ensemble import BaggingClassifier\n",
    "from sklearn.neighbors import KNeighborsClassifier\n",
    "from sklearn.model_selection import cross_val_score, RandomizedSearchCV, GridSearchCV, StratifiedKFold\n",
    "\n",
    "from xgboost import XGBClassifier\n",
    "from sklearn.model_selection import train_test_split\n",
    "from sklearn.metrics import roc_curve, auc"
   ]
  },
  {
   "cell_type": "code",
   "execution_count": 2,
   "metadata": {},
   "outputs": [],
   "source": [
    "data = pd.read_csv('ml_case_training_data.csv')\n",
    "output = pd.read_csv('ml_case_training_output.csv')\n",
    "data_test = pd.read_csv('ml_case_test_data.csv')\n",
    "data_hist = pd.read_csv('ml_case_training_hist_data.csv')\n",
    "data = pd.merge(data, output, on = 'id')\n",
    "\n",
    "data_test_id = data_test['id']\n",
    "data_id = data['id']"
   ]
  },
  {
   "cell_type": "code",
   "execution_count": 3,
   "metadata": {},
   "outputs": [
    {
     "name": "stdout",
     "output_type": "stream",
     "text": [
      "id                             0\n",
      "activity_new                2354\n",
      "campaign_disc_ele           4024\n",
      "channel_sales               1056\n",
      "cons_12m                       0\n",
      "cons_gas_12m                   0\n",
      "cons_last_month                0\n",
      "date_activ                     0\n",
      "date_end                       0\n",
      "date_first_activ            3147\n",
      "date_modif_prod               45\n",
      "date_renewal                   4\n",
      "forecast_base_bill_ele      3147\n",
      "forecast_base_bill_year     3147\n",
      "forecast_bill_12m           3147\n",
      "forecast_cons               3147\n",
      "forecast_cons_12m              0\n",
      "forecast_cons_year             0\n",
      "forecast_discount_energy      24\n",
      "forecast_meter_rent_12m        0\n",
      "forecast_price_energy_p1      24\n",
      "forecast_price_energy_p2      24\n",
      "forecast_price_pow_p1         24\n",
      "has_gas                        0\n",
      "imp_cons                       0\n",
      "margin_gross_pow_ele           2\n",
      "margin_net_pow_ele             2\n",
      "nb_prod_act                    0\n",
      "net_margin                     3\n",
      "num_years_antig                0\n",
      "origin_up                     27\n",
      "pow_max                        1\n",
      "dtype: int64\n"
     ]
    }
   ],
   "source": [
    "print(data_test.isnull().sum())"
   ]
  },
  {
   "cell_type": "code",
   "execution_count": 4,
   "metadata": {},
   "outputs": [
    {
     "data": {
      "text/html": [
       "<div>\n",
       "<style scoped>\n",
       "    .dataframe tbody tr th:only-of-type {\n",
       "        vertical-align: middle;\n",
       "    }\n",
       "\n",
       "    .dataframe tbody tr th {\n",
       "        vertical-align: top;\n",
       "    }\n",
       "\n",
       "    .dataframe thead th {\n",
       "        text-align: right;\n",
       "    }\n",
       "</style>\n",
       "<table border=\"1\" class=\"dataframe\">\n",
       "  <thead>\n",
       "    <tr style=\"text-align: right;\">\n",
       "      <th></th>\n",
       "      <th>id</th>\n",
       "      <th>activity_new</th>\n",
       "      <th>campaign_disc_ele</th>\n",
       "      <th>channel_sales</th>\n",
       "      <th>cons_12m</th>\n",
       "      <th>cons_gas_12m</th>\n",
       "      <th>cons_last_month</th>\n",
       "      <th>date_activ</th>\n",
       "      <th>date_end</th>\n",
       "      <th>date_first_activ</th>\n",
       "      <th>...</th>\n",
       "      <th>has_gas</th>\n",
       "      <th>imp_cons</th>\n",
       "      <th>margin_gross_pow_ele</th>\n",
       "      <th>margin_net_pow_ele</th>\n",
       "      <th>nb_prod_act</th>\n",
       "      <th>net_margin</th>\n",
       "      <th>num_years_antig</th>\n",
       "      <th>origin_up</th>\n",
       "      <th>pow_max</th>\n",
       "      <th>churn</th>\n",
       "    </tr>\n",
       "  </thead>\n",
       "  <tbody>\n",
       "    <tr>\n",
       "      <th>0</th>\n",
       "      <td>48ada52261e7cf58715202705a0451c9</td>\n",
       "      <td>esoiiifxdlbkcsluxmfuacbdckommixw</td>\n",
       "      <td>NaN</td>\n",
       "      <td>lmkebamcaaclubfxadlmueccxoimlema</td>\n",
       "      <td>309275</td>\n",
       "      <td>0</td>\n",
       "      <td>10025</td>\n",
       "      <td>2012-11-07</td>\n",
       "      <td>2016-11-06</td>\n",
       "      <td>NaN</td>\n",
       "      <td>...</td>\n",
       "      <td>f</td>\n",
       "      <td>831.8</td>\n",
       "      <td>-41.76</td>\n",
       "      <td>-41.76</td>\n",
       "      <td>1</td>\n",
       "      <td>1732.36</td>\n",
       "      <td>3</td>\n",
       "      <td>ldkssxwpmemidmecebumciepifcamkci</td>\n",
       "      <td>180.000</td>\n",
       "      <td>0</td>\n",
       "    </tr>\n",
       "    <tr>\n",
       "      <th>1</th>\n",
       "      <td>24011ae4ebbe3035111d65fa7c15bc57</td>\n",
       "      <td>NaN</td>\n",
       "      <td>NaN</td>\n",
       "      <td>foosdfpfkusacimwkcsosbicdxkicaua</td>\n",
       "      <td>0</td>\n",
       "      <td>54946</td>\n",
       "      <td>0</td>\n",
       "      <td>2013-06-15</td>\n",
       "      <td>2016-06-15</td>\n",
       "      <td>NaN</td>\n",
       "      <td>...</td>\n",
       "      <td>t</td>\n",
       "      <td>0.0</td>\n",
       "      <td>25.44</td>\n",
       "      <td>25.44</td>\n",
       "      <td>2</td>\n",
       "      <td>678.99</td>\n",
       "      <td>3</td>\n",
       "      <td>lxidpiddsbxsbosboudacockeimpuepw</td>\n",
       "      <td>43.648</td>\n",
       "      <td>1</td>\n",
       "    </tr>\n",
       "    <tr>\n",
       "      <th>2</th>\n",
       "      <td>d29c2c54acc38ff3c0614d0a653813dd</td>\n",
       "      <td>NaN</td>\n",
       "      <td>NaN</td>\n",
       "      <td>NaN</td>\n",
       "      <td>4660</td>\n",
       "      <td>0</td>\n",
       "      <td>0</td>\n",
       "      <td>2009-08-21</td>\n",
       "      <td>2016-08-30</td>\n",
       "      <td>NaN</td>\n",
       "      <td>...</td>\n",
       "      <td>f</td>\n",
       "      <td>0.0</td>\n",
       "      <td>16.38</td>\n",
       "      <td>16.38</td>\n",
       "      <td>1</td>\n",
       "      <td>18.89</td>\n",
       "      <td>6</td>\n",
       "      <td>kamkkxfxxuwbdslkwifmmcsiusiuosws</td>\n",
       "      <td>13.800</td>\n",
       "      <td>0</td>\n",
       "    </tr>\n",
       "    <tr>\n",
       "      <th>3</th>\n",
       "      <td>764c75f661154dac3a6c254cd082ea7d</td>\n",
       "      <td>NaN</td>\n",
       "      <td>NaN</td>\n",
       "      <td>foosdfpfkusacimwkcsosbicdxkicaua</td>\n",
       "      <td>544</td>\n",
       "      <td>0</td>\n",
       "      <td>0</td>\n",
       "      <td>2010-04-16</td>\n",
       "      <td>2016-04-16</td>\n",
       "      <td>NaN</td>\n",
       "      <td>...</td>\n",
       "      <td>f</td>\n",
       "      <td>0.0</td>\n",
       "      <td>28.60</td>\n",
       "      <td>28.60</td>\n",
       "      <td>1</td>\n",
       "      <td>6.60</td>\n",
       "      <td>6</td>\n",
       "      <td>kamkkxfxxuwbdslkwifmmcsiusiuosws</td>\n",
       "      <td>13.856</td>\n",
       "      <td>0</td>\n",
       "    </tr>\n",
       "    <tr>\n",
       "      <th>4</th>\n",
       "      <td>bba03439a292a1e166f80264c16191cb</td>\n",
       "      <td>NaN</td>\n",
       "      <td>NaN</td>\n",
       "      <td>lmkebamcaaclubfxadlmueccxoimlema</td>\n",
       "      <td>1584</td>\n",
       "      <td>0</td>\n",
       "      <td>0</td>\n",
       "      <td>2010-03-30</td>\n",
       "      <td>2016-03-30</td>\n",
       "      <td>NaN</td>\n",
       "      <td>...</td>\n",
       "      <td>f</td>\n",
       "      <td>0.0</td>\n",
       "      <td>30.22</td>\n",
       "      <td>30.22</td>\n",
       "      <td>1</td>\n",
       "      <td>25.46</td>\n",
       "      <td>6</td>\n",
       "      <td>kamkkxfxxuwbdslkwifmmcsiusiuosws</td>\n",
       "      <td>13.200</td>\n",
       "      <td>0</td>\n",
       "    </tr>\n",
       "  </tbody>\n",
       "</table>\n",
       "<p>5 rows × 33 columns</p>\n",
       "</div>"
      ],
      "text/plain": [
       "                                 id                      activity_new  \\\n",
       "0  48ada52261e7cf58715202705a0451c9  esoiiifxdlbkcsluxmfuacbdckommixw   \n",
       "1  24011ae4ebbe3035111d65fa7c15bc57                               NaN   \n",
       "2  d29c2c54acc38ff3c0614d0a653813dd                               NaN   \n",
       "3  764c75f661154dac3a6c254cd082ea7d                               NaN   \n",
       "4  bba03439a292a1e166f80264c16191cb                               NaN   \n",
       "\n",
       "   campaign_disc_ele                     channel_sales  cons_12m  \\\n",
       "0                NaN  lmkebamcaaclubfxadlmueccxoimlema    309275   \n",
       "1                NaN  foosdfpfkusacimwkcsosbicdxkicaua         0   \n",
       "2                NaN                               NaN      4660   \n",
       "3                NaN  foosdfpfkusacimwkcsosbicdxkicaua       544   \n",
       "4                NaN  lmkebamcaaclubfxadlmueccxoimlema      1584   \n",
       "\n",
       "   cons_gas_12m  cons_last_month  date_activ    date_end date_first_activ  \\\n",
       "0             0            10025  2012-11-07  2016-11-06              NaN   \n",
       "1         54946                0  2013-06-15  2016-06-15              NaN   \n",
       "2             0                0  2009-08-21  2016-08-30              NaN   \n",
       "3             0                0  2010-04-16  2016-04-16              NaN   \n",
       "4             0                0  2010-03-30  2016-03-30              NaN   \n",
       "\n",
       "   ...   has_gas imp_cons  margin_gross_pow_ele  margin_net_pow_ele  \\\n",
       "0  ...         f    831.8                -41.76              -41.76   \n",
       "1  ...         t      0.0                 25.44               25.44   \n",
       "2  ...         f      0.0                 16.38               16.38   \n",
       "3  ...         f      0.0                 28.60               28.60   \n",
       "4  ...         f      0.0                 30.22               30.22   \n",
       "\n",
       "   nb_prod_act  net_margin  num_years_antig                         origin_up  \\\n",
       "0            1     1732.36                3  ldkssxwpmemidmecebumciepifcamkci   \n",
       "1            2      678.99                3  lxidpiddsbxsbosboudacockeimpuepw   \n",
       "2            1       18.89                6  kamkkxfxxuwbdslkwifmmcsiusiuosws   \n",
       "3            1        6.60                6  kamkkxfxxuwbdslkwifmmcsiusiuosws   \n",
       "4            1       25.46                6  kamkkxfxxuwbdslkwifmmcsiusiuosws   \n",
       "\n",
       "   pow_max  churn  \n",
       "0  180.000      0  \n",
       "1   43.648      1  \n",
       "2   13.800      0  \n",
       "3   13.856      0  \n",
       "4   13.200      0  \n",
       "\n",
       "[5 rows x 33 columns]"
      ]
     },
     "execution_count": 4,
     "metadata": {},
     "output_type": "execute_result"
    }
   ],
   "source": [
    "data.head()"
   ]
  },
  {
   "cell_type": "markdown",
   "metadata": {},
   "source": [
    "1. ***id*** - contact id\n",
    "\n",
    "2. ***activity_new*** -  category of the company's activity\n",
    "\n",
    "3. ***campaign_disc_ele*** - code of the electricity campaign the customer last subscribed to\n",
    "\n",
    "4. ***channel_sales*** - code of the sales channel\n",
    "\n",
    "5. ***cons_12m*** - electricity consumption of the past 12 months \n",
    "    \n",
    "6. ***cons_gas_12m*** - gas consumption of the past 12 months\n",
    "\n",
    "7. ***cons_last_month*** - electricity consumption of the last month\n",
    "\n",
    "8. ***date_activ*** - date of activation of the contract\n",
    "\n",
    "9. ***date_end*** - registered date of the end of the contract\n",
    "\n",
    "10. ***date_first_activ*** - date of first contract of the client\n",
    "\n",
    "11. ***date_modif_prod*** - date of last modification of the product\n",
    "\n",
    "12. ***date_renewal*** - date of the next contract renewal\n",
    "\n",
    "13. ***forecast_base_bill_ele*** - forecasted electricity bill baseline for next month\n",
    "\n",
    "14. ***forecast_base_bill_year*** - forecasted electricity bill baseline for calendar year\n",
    "\n",
    "15. ***forecast_bill_12m*** - forecasted electricity bill baseline for 12 months\n",
    "\n",
    "16. ***forecast_cons*** - forecasted electricity consumption for next month\n",
    "\n",
    "17. ***forecast_cons_12m*** - forecasted electricity consumption for next 12 months\n",
    "\n",
    "18. ***forecast_cons_year*** - forecasted electricity consumption for next calendar year\n",
    "\n",
    "19. ***forecast_discount_energy*** - forecasted value of current discount\n",
    "\n",
    "20. ***forecast_meter_rent_12m*** - forecasted bill of meter rental for the next 12 months\n",
    "\n",
    "21. ***forecast_price_energy_p1*** - forecasted energy price for 1st period\n",
    "\n",
    "22. ***forecast_price_energy_p2*** - forecasted energy price for 2nd period\n",
    "\n",
    "23. ***forecast_price_pow_p1*** - forecasted power price for 1st period\n",
    "\n",
    "24. ***has_gas*** - indicated if client is also a gas client\n",
    "\n",
    "25. ***imp_cons*** - current paid consumption\n",
    "\n",
    "26. ***margin_gross_pow_ele*** - gross margin on power subscription\n",
    "\n",
    "27. ***margin_net_pow_ele*** - net margin on power subscription\n",
    "\n",
    "28. ***nb_prod_act*** - number of active products and services\n",
    "\n",
    "29. ***net_margin*** - total net margin\n",
    "\n",
    "30. ***num_years_antig*** - antiquity of the client (in number of years)\n",
    "\n",
    "31. ***origin_up*** - code of the electricity campaign the customer first subscribed to\n",
    "\n",
    "32. ***pow_max*** - subscribed power\n",
    "\n",
    "33. ***churn*** - churn status"
   ]
  },
  {
   "cell_type": "code",
   "execution_count": 5,
   "metadata": {},
   "outputs": [
    {
     "data": {
      "text/plain": [
       "id                           object\n",
       "activity_new                 object\n",
       "campaign_disc_ele           float64\n",
       "channel_sales                object\n",
       "cons_12m                      int64\n",
       "cons_gas_12m                  int64\n",
       "cons_last_month               int64\n",
       "date_activ                   object\n",
       "date_end                     object\n",
       "date_first_activ             object\n",
       "date_modif_prod              object\n",
       "date_renewal                 object\n",
       "forecast_base_bill_ele      float64\n",
       "forecast_base_bill_year     float64\n",
       "forecast_bill_12m           float64\n",
       "forecast_cons               float64\n",
       "forecast_cons_12m           float64\n",
       "forecast_cons_year            int64\n",
       "forecast_discount_energy    float64\n",
       "forecast_meter_rent_12m     float64\n",
       "forecast_price_energy_p1    float64\n",
       "forecast_price_energy_p2    float64\n",
       "forecast_price_pow_p1       float64\n",
       "has_gas                      object\n",
       "imp_cons                    float64\n",
       "margin_gross_pow_ele        float64\n",
       "margin_net_pow_ele          float64\n",
       "nb_prod_act                   int64\n",
       "net_margin                  float64\n",
       "num_years_antig               int64\n",
       "origin_up                    object\n",
       "pow_max                     float64\n",
       "churn                         int64\n",
       "dtype: object"
      ]
     },
     "execution_count": 5,
     "metadata": {},
     "output_type": "execute_result"
    }
   ],
   "source": [
    "data.dtypes"
   ]
  },
  {
   "cell_type": "code",
   "execution_count": 6,
   "metadata": {},
   "outputs": [],
   "source": [
    "data[\"date_activ\"] = pd.to_datetime(data[\"date_activ\"])\n",
    "data[\"date_end\"] = pd.to_datetime(data[\"date_end\"])\n",
    "data[\"date_first_activ\"] = pd.to_datetime(data[\"date_first_activ\"])\n",
    "data[\"date_modif_prod\"] = pd.to_datetime(data[\"date_modif_prod\"])\n",
    "data[\"date_renewal\"] = pd.to_datetime(data[\"date_renewal\"])\n",
    "data['has_gas'] = data['has_gas'].str.contains('t').astype(bool)\n",
    "\n",
    "# Do the same with the testing data\n",
    "data_test[\"date_activ\"] = pd.to_datetime(data_test[\"date_activ\"])\n",
    "data_test[\"date_end\"] = pd.to_datetime(data_test[\"date_end\"])\n",
    "data_test[\"date_first_activ\"] = pd.to_datetime(data_test[\"date_first_activ\"])\n",
    "data_test[\"date_modif_prod\"] = pd.to_datetime(data_test[\"date_modif_prod\"])\n",
    "data_test[\"date_renewal\"] = pd.to_datetime(data_test[\"date_renewal\"])\n",
    "data_test['has_gas'] = data_test['has_gas'].str.contains('t').astype(bool)"
   ]
  },
  {
   "cell_type": "markdown",
   "metadata": {},
   "source": [
    "# Descriptive Statistics"
   ]
  },
  {
   "cell_type": "code",
   "execution_count": 7,
   "metadata": {},
   "outputs": [
    {
     "name": "stdout",
     "output_type": "stream",
     "text": [
      "We have uniques customers: 16096\n",
      "Each customer appears in a dataset 1 time.\n"
     ]
    }
   ],
   "source": [
    "# Counting the number of customers by counting unique ids.\n",
    "customers = data['id'].value_counts()\n",
    "print(\"We have uniques customers: \" + str(len(customers)))\n",
    "\n",
    "# Check the max numbers of times we can see the same customer in a dataset.\n",
    "print(\"Each customer appears in a dataset \" + str(max(customers)) + \" time.\")"
   ]
  },
  {
   "cell_type": "code",
   "execution_count": 8,
   "metadata": {},
   "outputs": [],
   "source": [
    "data[\"total_cons_12m\"] = data[\"cons_12m\"] + data[\"cons_gas_12m\"]\n",
    "data_test[\"total_cons_12m\"] = data_test[\"cons_12m\"] + data_test[\"cons_gas_12m\"]\n",
    "\n",
    "total_cons_12m = data[\"total_cons_12m\"]\n",
    "elc_cons_12m = data[\"cons_12m\"]\n",
    "gas_cons_12m = data[\"cons_gas_12m\"]\n",
    "sub_power = data[\"pow_max\"]\n",
    "forecast_cons_12m = data['forecast_cons_12m']\n",
    "date_activated = pd.to_datetime(data['date_activ'])"
   ]
  },
  {
   "cell_type": "code",
   "execution_count": 9,
   "metadata": {},
   "outputs": [
    {
     "name": "stderr",
     "output_type": "stream",
     "text": [
      "/anaconda3/envs/MaskRCNN/lib/python3.6/site-packages/ipykernel_launcher.py:1: RuntimeWarning: divide by zero encountered in log\n",
      "  \"\"\"Entry point for launching an IPython kernel.\n",
      "/anaconda3/envs/MaskRCNN/lib/python3.6/site-packages/ipykernel_launcher.py:1: RuntimeWarning: invalid value encountered in log\n",
      "  \"\"\"Entry point for launching an IPython kernel.\n",
      "/anaconda3/envs/MaskRCNN/lib/python3.6/site-packages/ipykernel_launcher.py:2: RuntimeWarning: divide by zero encountered in log\n",
      "  \n",
      "/anaconda3/envs/MaskRCNN/lib/python3.6/site-packages/ipykernel_launcher.py:2: RuntimeWarning: invalid value encountered in log\n",
      "  \n"
     ]
    },
    {
     "data": {
      "image/png": "[encoded data removed]",
      "text/plain": [
       "<Figure size 432x288 with 1 Axes>"
      ]
     },
     "metadata": {},
     "output_type": "display_data"
    }
   ],
   "source": [
    "log_curr_cons = np.log(elc_cons_12m)\n",
    "log_fore_cons = np.log(forecast_cons_12m)\n",
    "\n",
    "consumption = pd.DataFrame({'date_activated':date_activated,\n",
    "     'total_curr_cons':log_curr_cons,\n",
    "     'total_fore_cons':log_fore_cons})\n",
    "consumption.sort_values('date_activated',inplace = True)\n",
    "\n",
    "plt.plot(consumption['date_activated'], consumption['total_curr_cons'])\n",
    "plt.plot(consumption['date_activated'], consumption['total_fore_cons'])\n",
    "plt.legend(['Current consumption', 'Forecasted consumption'], loc = 'upper left')\n",
    "plt.xlabel('Date of Activation of Contract')\n",
    "plt.ylabel('Total consumption')\n",
    "plt.savefig('forecast.png')\n",
    "plt.show()"
   ]
  },
  {
   "cell_type": "markdown",
   "metadata": {},
   "source": [
    "Correlation between the electricity consumption and subscribed power separately for gas users and non-gas users. We see the generat trend in channel sales."
   ]
  },
  {
   "cell_type": "code",
   "execution_count": 10,
   "metadata": {},
   "outputs": [
    {
     "data": {
      "image/png": "[encoded data removed]",
      "text/plain": [
       "<Figure size 432x288 with 1 Axes>"
      ]
     },
     "metadata": {},
     "output_type": "display_data"
    },
    {
     "name": "stdout",
     "output_type": "stream",
     "text": [
      "The pearson correlation is 0.1024225583501766\n",
      "The kendall correlation is 0.2824519560330777\n"
     ]
    }
   ],
   "source": [
    "# Correlation between subscribed power and total consumption using two different correlation methods\n",
    "sns.set()\n",
    "ax = sns.scatterplot(x = \"pow_max\", y = \"cons_12m\", data = data)\n",
    "plt.savefig('consumption.png')\n",
    "plt.show()\n",
    "\n",
    "print(\"The pearson correlation is\", str(data[\"cons_12m\"].corr(data[\"pow_max\"], method = 'pearson')))\n",
    "print(\"The kendall correlation is\", str(data[\"cons_12m\"].corr(data[\"pow_max\"], method = 'kendall')))\n",
    "# This implies that there is a weak positive correlation between the electricity consumption and subscribed power"
   ]
  },
  {
   "cell_type": "code",
   "execution_count": 11,
   "metadata": {},
   "outputs": [
    {
     "data": {
      "image/png": "[encoded data removed]",
      "text/plain": [
       "<Figure size 585.975x360 with 1 Axes>"
      ]
     },
     "metadata": {},
     "output_type": "display_data"
    }
   ],
   "source": [
    "sns.set()\n",
    "g = sns.lmplot(x = \"pow_max\", y = \"cons_12m\", hue = 'channel_sales', scatter = True,\n",
    "               truncate = True, height = 5, data = data)\n",
    "plt.savefig('consumption2.png')\n",
    "plt.show(g.set_axis_labels(\"Subscribed power\", \"Electricity consumption\"))"
   ]
  },
  {
   "cell_type": "code",
   "execution_count": 12,
   "metadata": {},
   "outputs": [
    {
     "data": {
      "image/png": "[encoded data removed]",
      "text/plain": [
       "<Figure size 586.225x360 with 1 Axes>"
      ]
     },
     "metadata": {},
     "output_type": "display_data"
    }
   ],
   "source": [
    "sns.set()\n",
    "g = sns.lmplot(x = \"pow_max\", y = \"cons_12m\", hue = 'origin_up', scatter = True,\n",
    "               truncate = True, height = 5, data = data)\n",
    "plt.savefig('consumption3.png')\n",
    "plt.show(g.set_axis_labels(\"Subscribed power\", \"Electricity consumption\"))"
   ]
  },
  {
   "cell_type": "markdown",
   "metadata": {},
   "source": [
    "Visualise the same for different electricity campaigns"
   ]
  },
  {
   "cell_type": "markdown",
   "metadata": {},
   "source": [
    "# Feature Engineering"
   ]
  },
  {
   "cell_type": "code",
   "execution_count": 13,
   "metadata": {},
   "outputs": [
    {
     "name": "stderr",
     "output_type": "stream",
     "text": [
      "/anaconda3/envs/MaskRCNN/lib/python3.6/site-packages/seaborn/regression.py:546: UserWarning: The `size` paramter has been renamed to `height`; please update your code.\n",
      "  warnings.warn(msg, UserWarning)\n"
     ]
    },
    {
     "data": {
      "image/png": "[encoded data removed]",
      "text/plain": [
       "<Figure size 946.225x360 with 2 Axes>"
      ]
     },
     "metadata": {},
     "output_type": "display_data"
    }
   ],
   "source": [
    "g = sns.lmplot(x = \"pow_max\", y = \"cons_12m\", hue = 'origin_up', col = 'has_gas', scatter = True,\n",
    "               truncate = True, size = 5, data = data)\n",
    "\n",
    "plt.show(g.set_axis_labels(\"Subscribed power\", \"Electricity consumption\"))\n",
    "\n",
    "# Scatter plot with different markers for different electricity campaigns"
   ]
  },
  {
   "cell_type": "code",
   "execution_count": 14,
   "metadata": {},
   "outputs": [
    {
     "data": {
      "text/html": [
       "<div>\n",
       "<style scoped>\n",
       "    .dataframe tbody tr th:only-of-type {\n",
       "        vertical-align: middle;\n",
       "    }\n",
       "\n",
       "    .dataframe tbody tr th {\n",
       "        vertical-align: top;\n",
       "    }\n",
       "\n",
       "    .dataframe thead th {\n",
       "        text-align: right;\n",
       "    }\n",
       "</style>\n",
       "<table border=\"1\" class=\"dataframe\">\n",
       "  <thead>\n",
       "    <tr style=\"text-align: right;\">\n",
       "      <th></th>\n",
       "      <th>campaign_disc_ele</th>\n",
       "      <th>cons_12m</th>\n",
       "      <th>cons_gas_12m</th>\n",
       "      <th>cons_last_month</th>\n",
       "      <th>forecast_base_bill_ele</th>\n",
       "      <th>forecast_base_bill_year</th>\n",
       "      <th>forecast_bill_12m</th>\n",
       "      <th>forecast_cons</th>\n",
       "      <th>forecast_cons_12m</th>\n",
       "      <th>forecast_cons_year</th>\n",
       "      <th>...</th>\n",
       "      <th>forecast_price_pow_p1</th>\n",
       "      <th>imp_cons</th>\n",
       "      <th>margin_gross_pow_ele</th>\n",
       "      <th>margin_net_pow_ele</th>\n",
       "      <th>nb_prod_act</th>\n",
       "      <th>net_margin</th>\n",
       "      <th>num_years_antig</th>\n",
       "      <th>pow_max</th>\n",
       "      <th>churn</th>\n",
       "      <th>total_cons_12m</th>\n",
       "    </tr>\n",
       "  </thead>\n",
       "  <tbody>\n",
       "    <tr>\n",
       "      <th>count</th>\n",
       "      <td>0.0</td>\n",
       "      <td>1.609600e+04</td>\n",
       "      <td>1.609600e+04</td>\n",
       "      <td>1.609600e+04</td>\n",
       "      <td>3508.000000</td>\n",
       "      <td>3508.000000</td>\n",
       "      <td>3508.000000</td>\n",
       "      <td>3508.000000</td>\n",
       "      <td>16096.000000</td>\n",
       "      <td>16096.000000</td>\n",
       "      <td>...</td>\n",
       "      <td>15970.000000</td>\n",
       "      <td>16096.000000</td>\n",
       "      <td>16083.000000</td>\n",
       "      <td>16083.000000</td>\n",
       "      <td>16096.000000</td>\n",
       "      <td>16081.000000</td>\n",
       "      <td>16096.000000</td>\n",
       "      <td>16093.000000</td>\n",
       "      <td>16096.000000</td>\n",
       "      <td>1.609600e+04</td>\n",
       "    </tr>\n",
       "    <tr>\n",
       "      <th>mean</th>\n",
       "      <td>NaN</td>\n",
       "      <td>1.948044e+05</td>\n",
       "      <td>3.191164e+04</td>\n",
       "      <td>1.946154e+04</td>\n",
       "      <td>335.843857</td>\n",
       "      <td>335.843857</td>\n",
       "      <td>3837.441866</td>\n",
       "      <td>206.845165</td>\n",
       "      <td>2370.555949</td>\n",
       "      <td>1907.347229</td>\n",
       "      <td>...</td>\n",
       "      <td>43.533496</td>\n",
       "      <td>196.123447</td>\n",
       "      <td>22.462276</td>\n",
       "      <td>21.460318</td>\n",
       "      <td>1.347788</td>\n",
       "      <td>217.987028</td>\n",
       "      <td>5.030629</td>\n",
       "      <td>20.604131</td>\n",
       "      <td>0.099093</td>\n",
       "      <td>2.267160e+05</td>\n",
       "    </tr>\n",
       "    <tr>\n",
       "      <th>std</th>\n",
       "      <td>NaN</td>\n",
       "      <td>6.795151e+05</td>\n",
       "      <td>1.775885e+05</td>\n",
       "      <td>8.235676e+04</td>\n",
       "      <td>649.406000</td>\n",
       "      <td>649.406000</td>\n",
       "      <td>5425.744327</td>\n",
       "      <td>455.634288</td>\n",
       "      <td>4035.085664</td>\n",
       "      <td>5257.364759</td>\n",
       "      <td>...</td>\n",
       "      <td>5.212252</td>\n",
       "      <td>494.366979</td>\n",
       "      <td>23.700883</td>\n",
       "      <td>27.917349</td>\n",
       "      <td>1.459808</td>\n",
       "      <td>366.742030</td>\n",
       "      <td>1.676101</td>\n",
       "      <td>21.772421</td>\n",
       "      <td>0.298796</td>\n",
       "      <td>7.791083e+05</td>\n",
       "    </tr>\n",
       "    <tr>\n",
       "      <th>min</th>\n",
       "      <td>NaN</td>\n",
       "      <td>-1.252760e+05</td>\n",
       "      <td>-3.037000e+03</td>\n",
       "      <td>-9.138600e+04</td>\n",
       "      <td>-364.940000</td>\n",
       "      <td>-364.940000</td>\n",
       "      <td>-2503.480000</td>\n",
       "      <td>0.000000</td>\n",
       "      <td>-16689.260000</td>\n",
       "      <td>-85627.000000</td>\n",
       "      <td>...</td>\n",
       "      <td>-0.122184</td>\n",
       "      <td>-9038.210000</td>\n",
       "      <td>-525.540000</td>\n",
       "      <td>-615.660000</td>\n",
       "      <td>1.000000</td>\n",
       "      <td>-4148.990000</td>\n",
       "      <td>1.000000</td>\n",
       "      <td>1.000000</td>\n",
       "      <td>0.000000</td>\n",
       "      <td>-1.252760e+05</td>\n",
       "    </tr>\n",
       "    <tr>\n",
       "      <th>25%</th>\n",
       "      <td>NaN</td>\n",
       "      <td>5.906250e+03</td>\n",
       "      <td>0.000000e+00</td>\n",
       "      <td>0.000000e+00</td>\n",
       "      <td>0.000000</td>\n",
       "      <td>0.000000</td>\n",
       "      <td>1158.175000</td>\n",
       "      <td>0.000000</td>\n",
       "      <td>513.230000</td>\n",
       "      <td>0.000000</td>\n",
       "      <td>...</td>\n",
       "      <td>40.606701</td>\n",
       "      <td>0.000000</td>\n",
       "      <td>11.960000</td>\n",
       "      <td>11.950000</td>\n",
       "      <td>1.000000</td>\n",
       "      <td>51.970000</td>\n",
       "      <td>4.000000</td>\n",
       "      <td>12.500000</td>\n",
       "      <td>0.000000</td>\n",
       "      <td>6.528000e+03</td>\n",
       "    </tr>\n",
       "    <tr>\n",
       "      <th>50%</th>\n",
       "      <td>NaN</td>\n",
       "      <td>1.533250e+04</td>\n",
       "      <td>0.000000e+00</td>\n",
       "      <td>9.010000e+02</td>\n",
       "      <td>162.955000</td>\n",
       "      <td>162.955000</td>\n",
       "      <td>2187.230000</td>\n",
       "      <td>42.215000</td>\n",
       "      <td>1179.160000</td>\n",
       "      <td>378.000000</td>\n",
       "      <td>...</td>\n",
       "      <td>44.311378</td>\n",
       "      <td>44.465000</td>\n",
       "      <td>21.090000</td>\n",
       "      <td>20.970000</td>\n",
       "      <td>1.000000</td>\n",
       "      <td>119.680000</td>\n",
       "      <td>5.000000</td>\n",
       "      <td>13.856000</td>\n",
       "      <td>0.000000</td>\n",
       "      <td>1.793900e+04</td>\n",
       "    </tr>\n",
       "    <tr>\n",
       "      <th>75%</th>\n",
       "      <td>NaN</td>\n",
       "      <td>5.022150e+04</td>\n",
       "      <td>0.000000e+00</td>\n",
       "      <td>4.127000e+03</td>\n",
       "      <td>396.185000</td>\n",
       "      <td>396.185000</td>\n",
       "      <td>4246.555000</td>\n",
       "      <td>228.117500</td>\n",
       "      <td>2692.077500</td>\n",
       "      <td>1994.250000</td>\n",
       "      <td>...</td>\n",
       "      <td>44.311378</td>\n",
       "      <td>218.090000</td>\n",
       "      <td>29.640000</td>\n",
       "      <td>29.640000</td>\n",
       "      <td>1.000000</td>\n",
       "      <td>275.810000</td>\n",
       "      <td>6.000000</td>\n",
       "      <td>19.800000</td>\n",
       "      <td>0.000000</td>\n",
       "      <td>6.292275e+04</td>\n",
       "    </tr>\n",
       "    <tr>\n",
       "      <th>max</th>\n",
       "      <td>NaN</td>\n",
       "      <td>1.609711e+07</td>\n",
       "      <td>4.188440e+06</td>\n",
       "      <td>4.538720e+06</td>\n",
       "      <td>12566.080000</td>\n",
       "      <td>12566.080000</td>\n",
       "      <td>81122.630000</td>\n",
       "      <td>9682.890000</td>\n",
       "      <td>103801.930000</td>\n",
       "      <td>175375.000000</td>\n",
       "      <td>...</td>\n",
       "      <td>59.444710</td>\n",
       "      <td>15042.790000</td>\n",
       "      <td>374.640000</td>\n",
       "      <td>374.640000</td>\n",
       "      <td>32.000000</td>\n",
       "      <td>24570.650000</td>\n",
       "      <td>16.000000</td>\n",
       "      <td>500.000000</td>\n",
       "      <td>1.000000</td>\n",
       "      <td>1.609711e+07</td>\n",
       "    </tr>\n",
       "  </tbody>\n",
       "</table>\n",
       "<p>8 rows × 24 columns</p>\n",
       "</div>"
      ],
      "text/plain": [
       "       campaign_disc_ele      cons_12m  cons_gas_12m  cons_last_month  \\\n",
       "count                0.0  1.609600e+04  1.609600e+04     1.609600e+04   \n",
       "mean                 NaN  1.948044e+05  3.191164e+04     1.946154e+04   \n",
       "std                  NaN  6.795151e+05  1.775885e+05     8.235676e+04   \n",
       "min                  NaN -1.252760e+05 -3.037000e+03    -9.138600e+04   \n",
       "25%                  NaN  5.906250e+03  0.000000e+00     0.000000e+00   \n",
       "50%                  NaN  1.533250e+04  0.000000e+00     9.010000e+02   \n",
       "75%                  NaN  5.022150e+04  0.000000e+00     4.127000e+03   \n",
       "max                  NaN  1.609711e+07  4.188440e+06     4.538720e+06   \n",
       "\n",
       "       forecast_base_bill_ele  forecast_base_bill_year  forecast_bill_12m  \\\n",
       "count             3508.000000              3508.000000        3508.000000   \n",
       "mean               335.843857               335.843857        3837.441866   \n",
       "std                649.406000               649.406000        5425.744327   \n",
       "min               -364.940000              -364.940000       -2503.480000   \n",
       "25%                  0.000000                 0.000000        1158.175000   \n",
       "50%                162.955000               162.955000        2187.230000   \n",
       "75%                396.185000               396.185000        4246.555000   \n",
       "max              12566.080000             12566.080000       81122.630000   \n",
       "\n",
       "       forecast_cons  forecast_cons_12m  forecast_cons_year       ...        \\\n",
       "count    3508.000000       16096.000000        16096.000000       ...         \n",
       "mean      206.845165        2370.555949         1907.347229       ...         \n",
       "std       455.634288        4035.085664         5257.364759       ...         \n",
       "min         0.000000      -16689.260000       -85627.000000       ...         \n",
       "25%         0.000000         513.230000            0.000000       ...         \n",
       "50%        42.215000        1179.160000          378.000000       ...         \n",
       "75%       228.117500        2692.077500         1994.250000       ...         \n",
       "max      9682.890000      103801.930000       175375.000000       ...         \n",
       "\n",
       "       forecast_price_pow_p1      imp_cons  margin_gross_pow_ele  \\\n",
       "count           15970.000000  16096.000000          16083.000000   \n",
       "mean               43.533496    196.123447             22.462276   \n",
       "std                 5.212252    494.366979             23.700883   \n",
       "min                -0.122184  -9038.210000           -525.540000   \n",
       "25%                40.606701      0.000000             11.960000   \n",
       "50%                44.311378     44.465000             21.090000   \n",
       "75%                44.311378    218.090000             29.640000   \n",
       "max                59.444710  15042.790000            374.640000   \n",
       "\n",
       "       margin_net_pow_ele   nb_prod_act    net_margin  num_years_antig  \\\n",
       "count        16083.000000  16096.000000  16081.000000     16096.000000   \n",
       "mean            21.460318      1.347788    217.987028         5.030629   \n",
       "std             27.917349      1.459808    366.742030         1.676101   \n",
       "min           -615.660000      1.000000  -4148.990000         1.000000   \n",
       "25%             11.950000      1.000000     51.970000         4.000000   \n",
       "50%             20.970000      1.000000    119.680000         5.000000   \n",
       "75%             29.640000      1.000000    275.810000         6.000000   \n",
       "max            374.640000     32.000000  24570.650000        16.000000   \n",
       "\n",
       "            pow_max         churn  total_cons_12m  \n",
       "count  16093.000000  16096.000000    1.609600e+04  \n",
       "mean      20.604131      0.099093    2.267160e+05  \n",
       "std       21.772421      0.298796    7.791083e+05  \n",
       "min        1.000000      0.000000   -1.252760e+05  \n",
       "25%       12.500000      0.000000    6.528000e+03  \n",
       "50%       13.856000      0.000000    1.793900e+04  \n",
       "75%       19.800000      0.000000    6.292275e+04  \n",
       "max      500.000000      1.000000    1.609711e+07  \n",
       "\n",
       "[8 rows x 24 columns]"
      ]
     },
     "execution_count": 14,
     "metadata": {},
     "output_type": "execute_result"
    }
   ],
   "source": [
    "data.describe()"
   ]
  },
  {
   "cell_type": "markdown",
   "metadata": {},
   "source": [
    "Checking columns with negative values, they need to be fixed somehow in a business process."
   ]
  },
  {
   "cell_type": "code",
   "execution_count": 15,
   "metadata": {},
   "outputs": [
    {
     "data": {
      "text/plain": [
       "id                          0002203ffbb812588b632b9e628cc38d\n",
       "campaign_disc_ele                                        NaN\n",
       "cons_12m                                             -125276\n",
       "cons_gas_12m                                           -3037\n",
       "cons_last_month                                       -91386\n",
       "date_activ                               2000-07-25 00:00:00\n",
       "date_end                                 2006-08-26 00:00:00\n",
       "date_first_activ                         2001-01-10 00:00:00\n",
       "date_modif_prod                          2000-07-25 00:00:00\n",
       "date_renewal                             2013-06-26 00:00:00\n",
       "forecast_base_bill_ele                               -364.94\n",
       "forecast_base_bill_year                              -364.94\n",
       "forecast_bill_12m                                   -2503.48\n",
       "forecast_cons                                              0\n",
       "forecast_cons_12m                                   -16689.3\n",
       "forecast_cons_year                                    -85627\n",
       "forecast_discount_energy                                   0\n",
       "forecast_meter_rent_12m                              -242.96\n",
       "forecast_price_energy_p1                                   0\n",
       "forecast_price_energy_p2                                   0\n",
       "forecast_price_pow_p1                              -0.122184\n",
       "has_gas                                                False\n",
       "imp_cons                                            -9038.21\n",
       "margin_gross_pow_ele                                 -525.54\n",
       "margin_net_pow_ele                                   -615.66\n",
       "nb_prod_act                                                1\n",
       "net_margin                                          -4148.99\n",
       "num_years_antig                                            1\n",
       "pow_max                                                    1\n",
       "churn                                                      0\n",
       "total_cons_12m                                       -125276\n",
       "dtype: object"
      ]
     },
     "execution_count": 15,
     "metadata": {},
     "output_type": "execute_result"
    }
   ],
   "source": [
    "data.min()"
   ]
  },
  {
   "cell_type": "markdown",
   "metadata": {},
   "source": [
    "One way to fix negative values in some columns is to assign them to 0. \n",
    "I did this, because Module function predicts worse."
   ]
  },
  {
   "cell_type": "code",
   "execution_count": 16,
   "metadata": {},
   "outputs": [],
   "source": [
    "data.loc[~(data['cons_12m'] > 0), 'cons_12m'] = 0\n",
    "data.loc[~(data['cons_gas_12m'] > 0), 'cons_gas_12m'] = 0\n",
    "data.loc[~(data['cons_last_month'] > 0), 'cons_last_month'] = 0\n",
    "data.loc[~(data['forecast_cons_12m'] > 0), 'forecast_cons_12m'] = 0\n",
    "data.loc[~(data['forecast_meter_rent_12m'] > 0), 'forecast_meter_rent_12m'] = 0\n",
    "data.loc[~(data['forecast_price_pow_p1'] > 0), 'forecast_price_pow_p1'] = 0\n",
    "data.loc[~(data['imp_cons'] > 0), 'imp_cons'] = 0\n",
    "\n",
    "data_test.loc[~(data_test['cons_12m'] > 0), 'cons_12m'] = 0\n",
    "data_test.loc[~(data_test['cons_gas_12m'] > 0), 'cons_gas_12m'] = 0\n",
    "data_test.loc[~(data_test['cons_last_month'] > 0), 'cons_last_month'] = 0\n",
    "data_test.loc[~(data_test['forecast_cons_12m'] > 0), 'forecast_cons_12m'] = 0\n",
    "data_test.loc[~(data_test['forecast_meter_rent_12m'] > 0), 'forecast_meter_rent_12m'] = 0\n",
    "data_test.loc[~(data_test['forecast_price_pow_p1'] > 0), 'forecast_price_pow_p1'] = 0\n",
    "data_test.loc[~(data_test['imp_cons'] > 0), 'imp_cons'] = 0"
   ]
  },
  {
   "cell_type": "code",
   "execution_count": 17,
   "metadata": {},
   "outputs": [],
   "source": [
    "#data['cons_12m'] = data['cons_12m'].abs()\n",
    "#data['cons_gas_12m'] = data['cons_gas_12m'].abs()\n",
    "#data['cons_last_month'] = data['cons_last_month'].abs()\n",
    "#data['forecast_cons_12m'] = data['forecast_cons_12m'].abs()\n",
    "#data['forecast_meter_rent_12m'] = data['forecast_meter_rent_12m'].abs()\n",
    "#data['forecast_price_pow_p1'] = data['forecast_price_pow_p1'].abs()\n",
    "#data['imp_cons'] = data['imp_cons'].abs()"
   ]
  },
  {
   "cell_type": "markdown",
   "metadata": {},
   "source": [
    "### Remove High Correlated Variables\n",
    "Helps to fight multicollinearity, which makes the predictions unstable."
   ]
  },
  {
   "cell_type": "code",
   "execution_count": 18,
   "metadata": {},
   "outputs": [
    {
     "name": "stdout",
     "output_type": "stream",
     "text": [
      "The variables whose the correlations  > 0.9: ['cons_last_month', 'forecast_base_bill_year', 'forecast_cons', 'forecast_cons_12m', 'forecast_cons_year', 'imp_cons', 'total_cons_12m']\n"
     ]
    },
    {
     "data": {
      "image/png": "[encoded data removed]",
      "text/plain": [
       "<Figure size 720x576 with 2 Axes>"
      ]
     },
     "metadata": {},
     "output_type": "display_data"
    }
   ],
   "source": [
    "# Calculate the correlation matrix\n",
    "corr_matrix = data.corr(method = 'pearson').abs()\n",
    "f, ax = plt.subplots(figsize = (10, 8))\n",
    "\n",
    "sns.heatmap(corr_matrix, mask = np.zeros_like(corr_matrix, dtype = np.bool),\n",
    "            square = True, ax = ax)\n",
    "\n",
    "upper = corr_matrix.where(np.triu(np.ones(corr_matrix.shape), k = 1).astype(np.bool))\n",
    "# Find index of feature columns with correlation greater than 0.9\n",
    "to_drop = [column for column in upper.columns if any(upper[column] > 0.9)]\n",
    "\n",
    "print('The variables whose the correlations  > 0.9: {}'.format(to_drop) )"
   ]
  },
  {
   "cell_type": "markdown",
   "metadata": {},
   "source": [
    "* **forecast_base_bill_year**, **forecast_bill_ele**, **forecast_cons**, **forecast_cons_year** are high correlated with **imp_cons**. Since, **imp_cons** has less missing values, so that we keep only **imp_cons**.\n",
    "* **forecast_bill_12m** and **forecast_cons_12m** are strongly correlated. Since **forecast_cons_12m** has less missing values, so that we discard **forecast_bill_12m** (78% of missing values).\n",
    "* **campaign_disc_ele** is an empty column.\n",
    "* **date_first_activ** has a lot of missing values (78%)."
   ]
  },
  {
   "cell_type": "code",
   "execution_count": 19,
   "metadata": {},
   "outputs": [
    {
     "name": "stdout",
     "output_type": "stream",
     "text": [
      "% of churned customers is 9.909294234592446\n"
     ]
    }
   ],
   "source": [
    "print(\"% of churned customers is \" + str((data[\"churn\"].sum()/len(data))*100.0))"
   ]
  },
  {
   "cell_type": "code",
   "execution_count": 20,
   "metadata": {
    "scrolled": true
   },
   "outputs": [
    {
     "data": {
      "image/png": "[encoded data removed]",
      "text/plain": [
       "<Figure size 432x288 with 1 Axes>"
      ]
     },
     "metadata": {},
     "output_type": "display_data"
    }
   ],
   "source": [
    "fig, ax = plt.subplots()\n",
    "ax = data['churn'].value_counts(normalize=False).plot(kind='bar')\n",
    "ax.set_xlabel('Churn')\n",
    "ax.set_ylabel('Percentage')\n",
    "plt.title('Churn distribution')\n",
    "plt.savefig('churn.png')\n",
    "plt.show()"
   ]
  },
  {
   "cell_type": "markdown",
   "metadata": {},
   "source": [
    "# Adding prices"
   ]
  },
  {
   "cell_type": "markdown",
   "metadata": {},
   "source": [
    "### Pricing Data: 2015"
   ]
  },
  {
   "cell_type": "code",
   "execution_count": 21,
   "metadata": {},
   "outputs": [
    {
     "data": {
      "text/html": [
       "<div>\n",
       "<style scoped>\n",
       "    .dataframe tbody tr th:only-of-type {\n",
       "        vertical-align: middle;\n",
       "    }\n",
       "\n",
       "    .dataframe tbody tr th {\n",
       "        vertical-align: top;\n",
       "    }\n",
       "\n",
       "    .dataframe thead th {\n",
       "        text-align: right;\n",
       "    }\n",
       "</style>\n",
       "<table border=\"1\" class=\"dataframe\">\n",
       "  <thead>\n",
       "    <tr style=\"text-align: right;\">\n",
       "      <th></th>\n",
       "      <th>id</th>\n",
       "      <th>price_date</th>\n",
       "      <th>price_p1_var</th>\n",
       "      <th>price_p2_var</th>\n",
       "      <th>price_p3_var</th>\n",
       "      <th>price_p1_fix</th>\n",
       "      <th>price_p2_fix</th>\n",
       "      <th>price_p3_fix</th>\n",
       "    </tr>\n",
       "  </thead>\n",
       "  <tbody>\n",
       "    <tr>\n",
       "      <th>0</th>\n",
       "      <td>038af19179925da21a25619c5a24b745</td>\n",
       "      <td>2015-01-01</td>\n",
       "      <td>0.151367</td>\n",
       "      <td>0.0</td>\n",
       "      <td>0.0</td>\n",
       "      <td>44.266931</td>\n",
       "      <td>0.0</td>\n",
       "      <td>0.0</td>\n",
       "    </tr>\n",
       "    <tr>\n",
       "      <th>1</th>\n",
       "      <td>038af19179925da21a25619c5a24b745</td>\n",
       "      <td>2015-02-01</td>\n",
       "      <td>0.151367</td>\n",
       "      <td>0.0</td>\n",
       "      <td>0.0</td>\n",
       "      <td>44.266931</td>\n",
       "      <td>0.0</td>\n",
       "      <td>0.0</td>\n",
       "    </tr>\n",
       "    <tr>\n",
       "      <th>2</th>\n",
       "      <td>038af19179925da21a25619c5a24b745</td>\n",
       "      <td>2015-03-01</td>\n",
       "      <td>0.151367</td>\n",
       "      <td>0.0</td>\n",
       "      <td>0.0</td>\n",
       "      <td>44.266931</td>\n",
       "      <td>0.0</td>\n",
       "      <td>0.0</td>\n",
       "    </tr>\n",
       "    <tr>\n",
       "      <th>3</th>\n",
       "      <td>038af19179925da21a25619c5a24b745</td>\n",
       "      <td>2015-04-01</td>\n",
       "      <td>0.149626</td>\n",
       "      <td>0.0</td>\n",
       "      <td>0.0</td>\n",
       "      <td>44.266931</td>\n",
       "      <td>0.0</td>\n",
       "      <td>0.0</td>\n",
       "    </tr>\n",
       "    <tr>\n",
       "      <th>4</th>\n",
       "      <td>038af19179925da21a25619c5a24b745</td>\n",
       "      <td>2015-05-01</td>\n",
       "      <td>0.149626</td>\n",
       "      <td>0.0</td>\n",
       "      <td>0.0</td>\n",
       "      <td>44.266931</td>\n",
       "      <td>0.0</td>\n",
       "      <td>0.0</td>\n",
       "    </tr>\n",
       "  </tbody>\n",
       "</table>\n",
       "</div>"
      ],
      "text/plain": [
       "                                 id price_date  price_p1_var  price_p2_var  \\\n",
       "0  038af19179925da21a25619c5a24b745 2015-01-01      0.151367           0.0   \n",
       "1  038af19179925da21a25619c5a24b745 2015-02-01      0.151367           0.0   \n",
       "2  038af19179925da21a25619c5a24b745 2015-03-01      0.151367           0.0   \n",
       "3  038af19179925da21a25619c5a24b745 2015-04-01      0.149626           0.0   \n",
       "4  038af19179925da21a25619c5a24b745 2015-05-01      0.149626           0.0   \n",
       "\n",
       "   price_p3_var  price_p1_fix  price_p2_fix  price_p3_fix  \n",
       "0           0.0     44.266931           0.0           0.0  \n",
       "1           0.0     44.266931           0.0           0.0  \n",
       "2           0.0     44.266931           0.0           0.0  \n",
       "3           0.0     44.266931           0.0           0.0  \n",
       "4           0.0     44.266931           0.0           0.0  "
      ]
     },
     "execution_count": 21,
     "metadata": {},
     "output_type": "execute_result"
    }
   ],
   "source": [
    "#data_hist = pd.read_csv('ml_case_training_hist_data.csv', index_col='id')\n",
    "data_hist['price_date'] = pd.to_datetime(data_hist['price_date'])\n",
    "data_hist.head()"
   ]
  },
  {
   "cell_type": "code",
   "execution_count": 22,
   "metadata": {},
   "outputs": [
    {
     "data": {
      "text/plain": [
       "id                 0\n",
       "price_date         0\n",
       "price_p1_var    1359\n",
       "price_p2_var    1359\n",
       "price_p3_var    1359\n",
       "price_p1_fix    1359\n",
       "price_p2_fix    1359\n",
       "price_p3_fix    1359\n",
       "dtype: int64"
      ]
     },
     "execution_count": 22,
     "metadata": {},
     "output_type": "execute_result"
    }
   ],
   "source": [
    "data_hist.isnull().sum()"
   ]
  },
  {
   "cell_type": "code",
   "execution_count": 23,
   "metadata": {},
   "outputs": [
    {
     "data": {
      "text/plain": [
       "id                 0\n",
       "price_date         0\n",
       "price_p1_var    1359\n",
       "price_p2_var    1359\n",
       "price_p3_var    1359\n",
       "price_p1_fix    1359\n",
       "price_p2_fix    1359\n",
       "price_p3_fix    1359\n",
       "dtype: int64"
      ]
     },
     "execution_count": 23,
     "metadata": {},
     "output_type": "execute_result"
    }
   ],
   "source": [
    "#data_hist.dropna(inplace = True)\n",
    "data_hist = data_hist.dropna(how = 'all') #to drop if all values in the row are nan\n",
    "\n",
    "data_hist.isnull().sum()"
   ]
  },
  {
   "cell_type": "code",
   "execution_count": 24,
   "metadata": {},
   "outputs": [
    {
     "name": "stdout",
     "output_type": "stream",
     "text": [
      "% of customers without energy pricing for p1: 0.011398845607817535\n",
      "% customers without energy pricing for p2: 3.7564377571216876\n",
      "% customers without energy pricing for p3: 4.826374856219107\n",
      "% of customers without power pricing for p1: 0.061657392151376667\n",
      "% customers without power pricing for p2: 4.833110537714635\n",
      "% customers without power pricing for p3: 4.833110537714635\n"
     ]
    }
   ],
   "source": [
    "print(\"% of customers without energy pricing for p1: \" + str((data_hist.groupby('id')['price_p1_var'].mean() == 0).sum()/data_hist.index.nunique()*100.0))\n",
    "print(\"% customers without energy pricing for p2: \" + str((data_hist.groupby('id')['price_p2_var'].mean() == 0).sum()/data_hist.index.nunique()*100.0))\n",
    "print(\"% customers without energy pricing for p3: \" + str((data_hist.groupby('id')['price_p3_var'].mean() == 0).sum()/data_hist.index.nunique()*100.0))\n",
    "print(\"% of customers without power pricing for p1: \" + str((data_hist.groupby('id')['price_p1_fix'].mean() == 0).sum()/data_hist.index.nunique()*100.0))\n",
    "print(\"% customers without power pricing for p2: \" + str((data_hist.groupby('id')['price_p2_fix'].mean() == 0).sum()/data_hist.index.nunique()*100.0))\n",
    "print(\"% customers without power pricing for p3: \" + str((data_hist.groupby('id')['price_p3_fix'].mean() == 0).sum()/data_hist.index.nunique()*100.0))"
   ]
  },
  {
   "cell_type": "code",
   "execution_count": 25,
   "metadata": {},
   "outputs": [
    {
     "data": {
      "text/plain": [
       "id              0002203ffbb812588b632b9e628cc38d\n",
       "price_date                   2015-01-01 00:00:00\n",
       "price_p1_var                                   0\n",
       "price_p2_var                                   0\n",
       "price_p3_var                                   0\n",
       "price_p1_fix                           -0.177779\n",
       "price_p2_fix                           -0.097752\n",
       "price_p3_fix                           -0.065172\n",
       "dtype: object"
      ]
     },
     "execution_count": 25,
     "metadata": {},
     "output_type": "execute_result"
    }
   ],
   "source": [
    "data_hist.min()"
   ]
  },
  {
   "cell_type": "code",
   "execution_count": 26,
   "metadata": {},
   "outputs": [
    {
     "data": {
      "image/png": "[encoded data removed]",
      "text/plain": [
       "<Figure size 576x288 with 3 Axes>"
      ]
     },
     "metadata": {},
     "output_type": "display_data"
    }
   ],
   "source": [
    "fig, ((ax1, ax2, ax3)) = plt.subplots(1, 3, figsize=(8,4))\n",
    "ax1 = sns.distplot(data_hist[\"price_p1_var\"].dropna(), ax=ax1, color='orange')\n",
    "# where available\n",
    "ax2 = sns.distplot(data_hist[\"price_p2_var\"].dropna(), ax=ax2)\n",
    "# where available\n",
    "ax3 = sns.distplot(data_hist[\"price_p3_var\"].dropna(), ax=ax3, color='green')\n",
    "plt.show()"
   ]
  },
  {
   "cell_type": "code",
   "execution_count": 27,
   "metadata": {},
   "outputs": [
    {
     "data": {
      "image/png": "[encoded data removed]",
      "text/plain": [
       "<Figure size 576x288 with 3 Axes>"
      ]
     },
     "metadata": {},
     "output_type": "display_data"
    }
   ],
   "source": [
    "fig, ((ax1, ax2, ax3)) = plt.subplots(1, 3, figsize=(8,4))\n",
    "ax1 = sns.distplot(data_hist[\"price_p1_fix\"].dropna(), ax=ax1, color='purple')\n",
    "# where available\n",
    "ax2 = sns.distplot(data_hist[\"price_p2_fix\"].dropna(), ax=ax2, color='brown')\n",
    "# where available\n",
    "ax3 = sns.distplot(data_hist[\"price_p3_fix\"].dropna(), ax=ax3, color='red')\n",
    "plt.show()"
   ]
  },
  {
   "cell_type": "code",
   "execution_count": 28,
   "metadata": {},
   "outputs": [],
   "source": [
    "#Creat new vars to describe variation of forecast prices compared with prices in 2015.\n",
    "\n",
    "#price_mean_2015 = data_hist.groupby('id')['price_p1_var'].mean()\n",
    "#price_mean_2015 = price_mean_2015.loc[data[\"id\"], ].values\n",
    "#price_forecast = data['forecast_price_energy_p1']\n",
    "#data['forecast_price_energy_p1_delta'] = [(p1-p2)/p2*100 if p2!= 0 else 0 for (p1, p2) in zip(price_forecast, price_mean_2015) ]\n",
    "#data_test['forecast_price_energy_p1_delta'] = [(p1-p2)/p2*100 if p2!= 0 else 0 for (p1, p2) in zip(price_forecast, price_mean_2015) ]\n",
    "#data['forecast_price_energy_p1_delta'].fillna(0, inplace = True)\n",
    "#data_test['forecast_price_energy_p1_delta'].fillna(0, inplace = True)\n",
    "\n",
    "#price_mean_2015 = data_hist.groupby('id')['price_p2_var'].mean()\n",
    "#price_mean_2015 = price_mean_2015.loc[data[\"id\"], ].values\n",
    "#price_forecast = data['forecast_price_energy_p2']\n",
    "#data['forecast_price_energy_p2_delta'] = [(p1-p2)/p2*100 if p2!= 0 else 0 for (p1, p2) in zip(price_forecast, price_mean_2015) ]\n",
    "#data_test['forecast_price_energy_p2_delta'] = [(p1-p2)/p2*100 if p2!= 0 else 0 for (p1, p2) in zip(price_forecast, price_mean_2015) ]\n",
    "#data['forecast_price_energy_p2_delta'].fillna(0, inplace = True)\n",
    "#data_test['forecast_price_energy_p2_delta'].fillna(0, inplace = True)\n",
    "\n",
    "#price_mean_2015 = data_hist.groupby('id')['price_p1_fix'].mean()\n",
    "#price_mean_2015 = price_mean_2015.loc[data[\"id\"], ].values\n",
    "#price_forecast = data['forecast_price_pow_p1']\n",
    "#data['forecast_price_pow_p1_delta'] = [(p1-p2)/p2*100 if p2!= 0 else 0 for (p1, p2) in zip(price_forecast, price_mean_2015) ]\n",
    "#data_test['forecast_price_pow_p1_delta'] = [(p1-p2)/p2*100 if p2!= 0 else 0 for (p1, p2) in zip(price_forecast, price_mean_2015) ]\n",
    "#data['forecast_price_pow_p1_delta'].fillna(0, inplace = True)\n",
    "#data_test['forecast_price_pow_p1_delta'].fillna(0, inplace = True)\n",
    "\n",
    "#Creat new variables to describe dynamic of 2015 prices.\n",
    "\n",
    "#def mean_derivate(prices):\n",
    "#    return(np.gradient(prices).mean())\n",
    "\n",
    "#price_p1_var_derivate = data_hist.groupby('id')['price_p1_var'].apply(mean_derivate)\n",
    "#price_p1_var_derivate = price_p1_var_derivate.loc[data[\"id\"], ].values\n",
    "#data['price2015_energy_p1_derivate'] = price_p1_var_derivate\n",
    "#data_test['price2015_energy_p1_derivate'] = price_p1_var_derivate\n",
    "#data['price2015_energy_p1_derivate'].fillna(0, inplace = True)\n",
    "#data_test['price2015_energy_p1_derivate'].fillna(0, inplace = True)\n",
    "\n",
    "#price_p2_var_derivate = data_hist.groupby('id')['price_p2_var'].apply(mean_derivate)\n",
    "#price_p2_var_derivate = price_p2_var_derivate.loc[data[\"id\"], ].values\n",
    "#data['price2015_energy_p2_derivate'] = price_p2_var_derivate\n",
    "#data_test['price2015_energy_p2_derivate'] = price_p2_var_derivate\n",
    "#data['price2015_energy_p2_derivate'].fillna(0, inplace = True)\n",
    "#data_test['price2015_energy_p2_derivate'].fillna(0, inplace = True)\n",
    "\n",
    "#price_p1_fix_derivate = data_hist.groupby('id')['price_p1_fix'].apply(mean_derivate)\n",
    "#price_p1_fix_derivate = price_p1_fix_derivate.loc[data[\"id\"], ].values\n",
    "#data['price2015_pow_p1_derivate'] = price_p1_fix_derivate\n",
    "#data_test['price2015_pow_p1_derivate'] = price_p1_fix_derivate\n",
    "#data['price2015_pow_p1_derivate'].fillna(0, inplace = True)\n",
    "#data_test['price2015_pow_p1_derivate'].fillna(0, inplace = True)"
   ]
  },
  {
   "cell_type": "code",
   "execution_count": 29,
   "metadata": {},
   "outputs": [],
   "source": [
    "data.drop(['campaign_disc_ele', 'date_first_activ', 'forecast_base_bill_year','forecast_base_bill_ele', 'forecast_cons', 'forecast_cons_year', \"forecast_bill_12m\"], inplace = True, axis = 1)\n",
    "data_test.drop(['campaign_disc_ele', 'date_first_activ', 'forecast_base_bill_year','forecast_base_bill_ele', 'forecast_cons', 'forecast_cons_year', \"forecast_bill_12m\"], inplace = True, axis = 1)\n"
   ]
  },
  {
   "cell_type": "markdown",
   "metadata": {},
   "source": [
    "There are several options for working with **activity_new** column. Creating dummy variables would create more than 400 columns and make our data sparse. I decided to use the probabilities to stay for each label instead and filling the missing data values with the separate label."
   ]
  },
  {
   "cell_type": "code",
   "execution_count": 30,
   "metadata": {},
   "outputs": [],
   "source": [
    "data['activity_new'].fillna('unknown', inplace=True)\n",
    "data_test['activity_new'].fillna('unknown', inplace=True)\n",
    "\n",
    "\n",
    "dictd = pd.DataFrame(data['activity_new'].value_counts())\n",
    "dictd['id'] = dictd.index\n",
    "dictd.reset_index(drop = True, inplace = True)\n",
    "dictd.columns = ['count', 'activity_new']\n",
    "\n",
    "\n",
    "churn_counts = data[data['churn'] == 1]\n",
    "dictd2 = pd.DataFrame(churn_counts['activity_new'].value_counts())\n",
    "dictd2['id'] = dictd2.index\n",
    "dictd2.reset_index(drop = True, inplace = True)\n",
    "dictd2.columns = ['count_1', 'activity_new']\n",
    "\n",
    "\n",
    "datafr = pd.merge(dictd, dictd2, how = 'outer', on = 'activity_new')\n",
    "datafr['probability'] = datafr[\"count_1\"] / datafr['count']\n",
    "datafr.drop(['count_1', 'count'], inplace = True, axis = 1)\n",
    "\n",
    "\n",
    "datafr['probability'].fillna(0.0 , inplace=True)\n",
    "data = pd.merge(data, datafr, on = 'activity_new')\n",
    "data_test = pd.merge(data_test, datafr, how = 'left', on = 'activity_new')\n",
    "data_test['probability'].fillna(data_test['probability'].mean(), inplace=True)\n",
    "\n",
    "data.drop(['activity_new'], inplace = True, axis = 1)\n",
    "data_test.drop(['activity_new'], inplace = True, axis = 1)\n",
    "\n",
    "#del churn_counts, datafr, dictd2, dictd"
   ]
  },
  {
   "cell_type": "markdown",
   "metadata": {},
   "source": [
    "For add values to the missing cells in **activity_new** column, I decided first to see the proportion of existing sales channels. If there is one sales channel that dominates (about 90%) then we can fill in the missing values with that channel, otherwise - fill it with an \"unknown\" label."
   ]
  },
  {
   "cell_type": "code",
   "execution_count": 31,
   "metadata": {},
   "outputs": [
    {
     "name": "stdout",
     "output_type": "stream",
     "text": [
      "Proportion of sales channels in a dataset:\n",
      "foosdfpfkusacimwkcsosbicdxkicaua    0.621064\n",
      "lmkebamcaaclubfxadlmueccxoimlema    0.174524\n",
      "usilxuppasemubllopkaafesmlibmsdf    0.121569\n",
      "ewpakwlliwisiwduibdlfmalxowmwpci    0.081327\n",
      "sddiedcslfslkckwlfkdpoeeailfpeds    0.001010\n",
      "epumfxlbckeskwekxbiuasklxalciiuu    0.000337\n",
      "fixdbufsefwooaasfcxdxadsiekoceaa    0.000168\n",
      "Name: channel_sales, dtype: float64\n"
     ]
    }
   ],
   "source": [
    "values = data['channel_sales'].value_counts()\n",
    "count = data['channel_sales'].count()\n",
    "\n",
    "print(\"Proportion of sales channels in a dataset:\")\n",
    "print(values/count)"
   ]
  },
  {
   "cell_type": "markdown",
   "metadata": {},
   "source": [
    "4 first channels give us 99% of sales.\n",
    "Although there is one channel that is dominant, there are 3 more that have a considerable proportion in the dataset. I've filled it in with \"unknown\" label."
   ]
  },
  {
   "cell_type": "code",
   "execution_count": 32,
   "metadata": {},
   "outputs": [],
   "source": [
    "data['channel_sales'].fillna('unknown',inplace = True)\n",
    "data_test['channel_sales'].fillna('unknown',inplace = True)"
   ]
  },
  {
   "cell_type": "markdown",
   "metadata": {},
   "source": [
    "Transform the modified categorical variable into dummy variables."
   ]
  },
  {
   "cell_type": "code",
   "execution_count": 33,
   "metadata": {},
   "outputs": [],
   "source": [
    "dummies = pd.get_dummies(data['channel_sales']).rename(columns = lambda x: 'sale_' + str(x))\n",
    "data = pd.concat([data, dummies], axis = 1)\n",
    "\n",
    "dummies = pd.get_dummies(data_test['channel_sales']).rename(columns = lambda x: 'sale_' + str(x))\n",
    "data_test = pd.concat([data_test, dummies], axis = 1)\n",
    "data.drop(['channel_sales'], inplace = True, axis = 1)\n",
    "data_test.drop(['channel_sales'], inplace = True, axis = 1)"
   ]
  },
  {
   "cell_type": "code",
   "execution_count": 34,
   "metadata": {},
   "outputs": [
    {
     "name": "stdout",
     "output_type": "stream",
     "text": [
      "Avarage conctract duration is 2018 days 03:45:39.256865\n",
      "Avarage conctract lenght till the modification is 705 days 15:40:12.874082\n",
      "Avarage time till the contract renewal is 1645 days 06:07:21.255605\n"
     ]
    }
   ],
   "source": [
    "# Get the mean duration of each contract\n",
    "mean_dur = (data[\"date_end\"] - data[\"date_activ\"]).mean()\n",
    "mean_mod_dur = (data[\"date_modif_prod\"] - data[\"date_activ\"]).mean()\n",
    "mean_renew_dur = (data[\"date_renewal\"] - data[\"date_activ\"]).mean()\n",
    "\n",
    "print(\"Avarage conctract duration is \" + str(mean_dur))\n",
    "print(\"Avarage conctract lenght till the modification is \" + str(mean_mod_dur))\n",
    "print(\"Avarage time till the contract renewal is \" + str(mean_renew_dur))"
   ]
  },
  {
   "cell_type": "code",
   "execution_count": 35,
   "metadata": {},
   "outputs": [],
   "source": [
    "# Get the indices of null values in the date_end column\n",
    "date_end_ind = data[data[\"date_end\"].isnull()].index.tolist()\n",
    "date_end_ind_test = data_test[data_test[\"date_end\"].isnull()].index.tolist()\n",
    "\n",
    "date_mod_ind = data[data[\"date_modif_prod\"].isnull()].index.tolist()\n",
    "date_mod_ind_test = data_test[data_test[\"date_modif_prod\"].isnull()].index.tolist()\n",
    "\n",
    "date_renew_ind = data[data[\"date_renewal\"].isnull()].index.tolist()\n",
    "date_renew_ind_test = data_test[data_test[\"date_renewal\"].isnull()].index.tolist()"
   ]
  },
  {
   "cell_type": "code",
   "execution_count": 36,
   "metadata": {},
   "outputs": [],
   "source": [
    "# Change series into lists in order to insert values at certain indices\n",
    "date_activation_list = data[\"date_activ\"].tolist()\n",
    "date_activation_list_test = data_test[\"date_activ\"].tolist()\n",
    "\n",
    "date_end_list = data[\"date_end\"].tolist()\n",
    "date_end_list_test = data_test[\"date_end\"].tolist()\n",
    "\n",
    "date_mod_list = data[\"date_modif_prod\"].tolist()\n",
    "date_mod_list_test = data_test[\"date_modif_prod\"].tolist()\n",
    "\n",
    "date_renew_list = data[\"date_renewal\"].tolist()\n",
    "date_renew_list_test = data_test[\"date_renewal\"].tolist()"
   ]
  },
  {
   "cell_type": "code",
   "execution_count": 37,
   "metadata": {},
   "outputs": [],
   "source": [
    "# Change list to have median duration at the NaN indices\n",
    "for index in date_end_ind:\n",
    "    date_end_list[index] = date_activation_list[index] + mean_dur\n",
    "    \n",
    "for index in date_end_ind_test:\n",
    "    date_end_list_test[index] = date_activation_list_test[index] + mean_dur\n",
    "\n",
    "for index in date_mod_ind:\n",
    "    date_mod_list[index] = date_activation_list[index] + mean_mod_dur\n",
    "    \n",
    "for index in date_mod_ind_test:\n",
    "    date_mod_list_test[index] = date_activation_list_test[index] + mean_mod_dur\n",
    "    \n",
    "for index in date_renew_ind:\n",
    "    date_renew_list[index] = date_activation_list[index] + mean_renew_dur\n",
    "    \n",
    "for index in date_renew_ind_test:\n",
    "    date_renew_list_test[index] = date_activation_list_test[index] + mean_renew_dur\n",
    "\n",
    "for i in range(len(date_end_list)):\n",
    "    date_activation_list[i] = date_activation_list[i].value\n",
    "    date_end_list[i] = date_end_list[i].value\n",
    "    date_mod_list[i] = date_mod_list[i].value\n",
    "    date_renew_list[i] = date_renew_list[i].value\n",
    "    \n",
    "for i in range(len(date_end_list_test)):\n",
    "    date_activation_list_test[i] = date_activation_list_test[i].value\n",
    "    date_end_list_test[i] = date_end_list_test[i].value\n",
    "    date_mod_list_test[i] = date_mod_list_test[i].value\n",
    "    date_renew_list_test[i] = date_renew_list_test[i].value"
   ]
  },
  {
   "cell_type": "code",
   "execution_count": 38,
   "metadata": {},
   "outputs": [],
   "source": [
    "# Convert list back into pandas series\n",
    "data[\"date_activ\"] = pd.to_datetime(date_activation_list)\n",
    "data_test[\"date_activ\"] = pd.to_datetime(date_activation_list_test)\n",
    "\n",
    "data[\"date_end\"] = pd.to_datetime(date_end_list)\n",
    "data_test[\"date_end\"] = pd.to_datetime(date_end_list_test)\n",
    "\n",
    "data[\"date_modif_prod\"] = pd.to_datetime(date_mod_list)\n",
    "data_test[\"date_modif_prod\"] = pd.to_datetime(date_mod_list_test)\n",
    "\n",
    "data[\"date_renewal\"] = pd.to_datetime(date_renew_list)\n",
    "data_test[\"date_renewal\"] = pd.to_datetime(date_renew_list_test)"
   ]
  },
  {
   "cell_type": "markdown",
   "metadata": {},
   "source": [
    "It's important to not introduce any features that we would not have known by the end of Jan 2016\n",
    "\n",
    ">1. Length of the contract in days\n",
    "2. How many days since the end of contract was their last renewal?\n",
    "3. How many days since their last product modification?"
   ]
  },
  {
   "cell_type": "code",
   "execution_count": 39,
   "metadata": {},
   "outputs": [],
   "source": [
    "# Length of the contract in days\n",
    "data['contract_long'] = (data[\"date_end\"] - data[\"date_activ\"]).dt.days\n",
    "data_test['contract_long'] = (data_test[\"date_end\"] - data_test[\"date_activ\"]).dt.days\n",
    "#data[\"contract_long\"] = data[\"contract_long\"].dt.days"
   ]
  },
  {
   "cell_type": "code",
   "execution_count": 40,
   "metadata": {},
   "outputs": [],
   "source": [
    "# How many days since the end of the contract was the last renewal?\n",
    "data['renewal_to_end'] = (data[\"date_end\"] - data[\"date_renewal\"]).dt.days\n",
    "data_test['renewal_to_end'] = (data_test[\"date_end\"] - data_test[\"date_renewal\"]).dt.days\n",
    "#data[\"renewal_to_end\"] = data[\"renewal_to_end\"].dt.days"
   ]
  },
  {
   "cell_type": "code",
   "execution_count": 41,
   "metadata": {},
   "outputs": [],
   "source": [
    "# How many days since the last product modification?\n",
    "data['modification_deferral'] = (data[\"date_end\"]  - data[\"date_modif_prod\"]).dt.days\n",
    "data_test['modification_deferral'] = (data_test[\"date_end\"]  - data_test[\"date_modif_prod\"]).dt.days\n",
    "#data[\"modification_deferral\"] = data[\"modification_deferral\"].dt.days"
   ]
  },
  {
   "cell_type": "markdown",
   "metadata": {},
   "source": [
    "For **forecast energy** columns, which are continuous variables, it is possible to use the means of these columns to fill in the missing values."
   ]
  },
  {
   "cell_type": "code",
   "execution_count": 42,
   "metadata": {},
   "outputs": [],
   "source": [
    "data['forecast_discount_energy'].fillna(data['forecast_discount_energy'].mean(), inplace=True)\n",
    "data_test['forecast_discount_energy'].fillna(data_test['forecast_discount_energy'].mean(), inplace=True)\n",
    "\n",
    "data['forecast_price_energy_p1'].fillna(data['forecast_price_energy_p1'].mean(), inplace=True)\n",
    "data_test['forecast_price_energy_p1'].fillna(data_test['forecast_price_energy_p1'].mean(), inplace=True)\n",
    "\n",
    "data['forecast_price_energy_p2'].fillna(data['forecast_price_energy_p2'].mean(), inplace=True)\n",
    "data_test['forecast_price_energy_p2'].fillna(data_test['forecast_price_energy_p2'].mean(), inplace=True)\n",
    "\n",
    "data['forecast_price_pow_p1'].fillna(data['forecast_price_pow_p1'].mean(), inplace=True)\n",
    "data_test['forecast_price_pow_p1'].fillna(data_test['forecast_price_pow_p1'].mean(), inplace=True)"
   ]
  },
  {
   "cell_type": "markdown",
   "metadata": {},
   "source": [
    "Do the same for **margin** columns."
   ]
  },
  {
   "cell_type": "code",
   "execution_count": 43,
   "metadata": {},
   "outputs": [
    {
     "data": {
      "image/png": "[encoded data removed]",
      "text/plain": [
       "<Figure size 432x288 with 1 Axes>"
      ]
     },
     "metadata": {},
     "output_type": "display_data"
    }
   ],
   "source": [
    "data1 = data[~np.isnan(data[\"net_margin\"])] # Remove the NaNs\n",
    "ax = sns.distplot(data1[\"net_margin\"].astype(int))"
   ]
  },
  {
   "cell_type": "code",
   "execution_count": 44,
   "metadata": {},
   "outputs": [],
   "source": [
    "data[\"margin_gross_pow_ele\"].fillna(data[\"margin_gross_pow_ele\"].mean(), inplace = True)\n",
    "data_test[\"margin_gross_pow_ele\"].fillna(data_test[\"margin_gross_pow_ele\"].mean(), inplace = True)\n",
    "\n",
    "data[\"margin_net_pow_ele\"].fillna(data[\"margin_net_pow_ele\"].mean(), inplace = True)\n",
    "data_test[\"margin_net_pow_ele\"].fillna(data_test[\"margin_net_pow_ele\"].mean(), inplace = True)\n",
    "\n",
    "data[\"net_margin\"].fillna(data[\"net_margin\"].mean(), inplace = True)\n",
    "data_test[\"net_margin\"].fillna(data_test[\"net_margin\"].mean(), inplace = True)"
   ]
  },
  {
   "cell_type": "code",
   "execution_count": 45,
   "metadata": {},
   "outputs": [
    {
     "name": "stdout",
     "output_type": "stream",
     "text": [
      "Number of unique values: 5\n",
      "lxidpiddsbxsbosboudacockeimpuepw    7825\n",
      "kamkkxfxxuwbdslkwifmmcsiusiuosws    4517\n",
      "ldkssxwpmemidmecebumciepifcamkci    3664\n",
      "usapbepcfoloekilkwsdiboslwaxobdp       2\n",
      "ewxeelcelemmiwuafmddpobolfuxioce       1\n",
      "Name: origin_up, dtype: int64\n"
     ]
    }
   ],
   "source": [
    "# Transforming the categorical variable orgin_up.\n",
    "unique = data[\"origin_up\"].unique()\n",
    "print(\"Number of unique values: \" + str(len(unique) - 1))\n",
    "print(data[\"origin_up\"].value_counts())"
   ]
  },
  {
   "cell_type": "markdown",
   "metadata": {},
   "source": [
    "As we can see there are 5 different campaigns that customers subscribe to, with 3 campaigns accounting for more than 99% of the campaigns. However, similar to the trouble behind filling missing values in the channel_sales column, we will fill in missing values in origin_up with \"unknown\"."
   ]
  },
  {
   "cell_type": "code",
   "execution_count": 46,
   "metadata": {},
   "outputs": [],
   "source": [
    "data['origin_up'].fillna('unknown', inplace=True)\n",
    "data_test['origin_up'].fillna('unknown', inplace=True)"
   ]
  },
  {
   "cell_type": "markdown",
   "metadata": {},
   "source": [
    "Transform the modified categorical variable into dummy variables."
   ]
  },
  {
   "cell_type": "code",
   "execution_count": 47,
   "metadata": {},
   "outputs": [],
   "source": [
    "dummies = pd.get_dummies(data['origin_up']).rename(columns = lambda x: 'origin_' + str(x))\n",
    "data = pd.concat([data, dummies], axis = 1)\n",
    "\n",
    "dummies = pd.get_dummies(data_test['origin_up']).rename(columns = lambda x: 'origin_' + str(x))\n",
    "data_test = pd.concat([data_test, dummies], axis = 1)\n",
    "\n",
    "data.drop(['origin_up'], inplace = True, axis = 1)\n",
    "data_test.drop(['origin_up'], inplace = True, axis = 1)"
   ]
  },
  {
   "cell_type": "markdown",
   "metadata": {},
   "source": [
    "Lastly, we will add values to the missing values of pow_max\n",
    "Here, we will look at the median value and add the median to the missing values. \n",
    "This is because the mean is likely to get swayed by certain big medium sized \n",
    "enterprises who might subscribe to very high power levels."
   ]
  },
  {
   "cell_type": "code",
   "execution_count": 48,
   "metadata": {},
   "outputs": [
    {
     "data": {
      "image/png": "[encoded data removed]",
      "text/plain": [
       "<Figure size 432x288 with 1 Axes>"
      ]
     },
     "metadata": {},
     "output_type": "display_data"
    }
   ],
   "source": [
    "data1 = data[~np.isnan(data[\"pow_max\"])] # Remove the NaNs\n",
    "ax = sns.distplot(data1[\"pow_max\"].astype(int))"
   ]
  },
  {
   "cell_type": "code",
   "execution_count": 49,
   "metadata": {},
   "outputs": [],
   "source": [
    "data[\"pow_max\"].fillna(data[\"pow_max\"].median(), inplace = True)\n",
    "data_test[\"pow_max\"].fillna(data_test[\"pow_max\"].median(), inplace = True)\n",
    "\n",
    "data[\"forecast_discount_energy\"].fillna(data[\"forecast_discount_energy\"].median(), inplace=True)\n",
    "data_test[\"forecast_discount_energy\"].fillna(data_test[\"forecast_discount_energy\"].median(), inplace=True)\n",
    "\n",
    "data[\"forecast_price_energy_p1\"].fillna(data[\"forecast_price_energy_p1\"].median(), inplace=True)\n",
    "data_test[\"forecast_price_energy_p1\"].fillna(data_test[\"forecast_price_energy_p1\"].median(), inplace=True)\n",
    "\n",
    "data[\"forecast_price_energy_p2\"].fillna(data[\"forecast_price_energy_p2\"].median(), inplace=True)\n",
    "data_test[\"forecast_price_energy_p2\"].fillna(data_test[\"forecast_price_energy_p2\"].median(), inplace=True)"
   ]
  },
  {
   "cell_type": "code",
   "execution_count": 50,
   "metadata": {},
   "outputs": [
    {
     "name": "stdout",
     "output_type": "stream",
     "text": [
      "False\n"
     ]
    }
   ],
   "source": [
    "#Checking if margin_gross_pow_ele and margin_net_pow_ele are equal completelly.\n",
    "print(str(data['margin_gross_pow_ele'].equals(data['margin_net_pow_ele'])))"
   ]
  },
  {
   "cell_type": "code",
   "execution_count": 51,
   "metadata": {},
   "outputs": [
    {
     "name": "stdout",
     "output_type": "stream",
     "text": [
      "The following columns were deleted: []\n"
     ]
    }
   ],
   "source": [
    "# Cleaning of an empty columns and columns with a lot of missing data\n",
    "list_del = []\n",
    "\n",
    "for i in data.columns:\n",
    "    if data[i].isnull().sum() == data.shape[0]: # or len(data[i].unique()) < 3\n",
    "        list_del.append(i)\n",
    "data.drop(list_del, axis = 1, inplace = True)\n",
    "print('The following columns were deleted:', list_del)"
   ]
  },
  {
   "cell_type": "code",
   "execution_count": 52,
   "metadata": {},
   "outputs": [
    {
     "name": "stdout",
     "output_type": "stream",
     "text": [
      "(16096, 42)\n",
      "(4024, 40)\n"
     ]
    }
   ],
   "source": [
    "data = data.dropna(how = 'all') #to drop if all values in the row are nan\n",
    "data_test = data_test.dropna(how = 'all') #to drop if all values in the row are nan\n",
    "\n",
    "print(data.shape) #we still have the churn column\n",
    "print(data_test.shape)"
   ]
  },
  {
   "cell_type": "markdown",
   "metadata": {},
   "source": [
    "# Building a model and tuning parameters"
   ]
  },
  {
   "cell_type": "markdown",
   "metadata": {},
   "source": [
    "Start building ML models. I will use Decision Tree, Bagging Classifier,\n",
    "Logistic Regression, Random Forest, Adaptive Boosting, and finally a \n",
    "Voting Classifier that incorporates the best of these models."
   ]
  },
  {
   "cell_type": "code",
   "execution_count": 53,
   "metadata": {},
   "outputs": [],
   "source": [
    "y = data['churn']\n",
    "data.drop(['churn'], axis=1, inplace=True)"
   ]
  },
  {
   "cell_type": "code",
   "execution_count": 54,
   "metadata": {},
   "outputs": [
    {
     "data": {
      "text/plain": [
       "cons_12m                                     int64\n",
       "cons_gas_12m                                 int64\n",
       "cons_last_month                              int64\n",
       "forecast_cons_12m                          float64\n",
       "forecast_discount_energy                   float64\n",
       "forecast_meter_rent_12m                    float64\n",
       "forecast_price_energy_p1                   float64\n",
       "forecast_price_energy_p2                   float64\n",
       "forecast_price_pow_p1                      float64\n",
       "has_gas                                       bool\n",
       "imp_cons                                   float64\n",
       "margin_gross_pow_ele                       float64\n",
       "margin_net_pow_ele                         float64\n",
       "nb_prod_act                                  int64\n",
       "net_margin                                 float64\n",
       "num_years_antig                              int64\n",
       "pow_max                                    float64\n",
       "total_cons_12m                               int64\n",
       "probability                                float64\n",
       "sale_epumfxlbckeskwekxbiuasklxalciiuu        uint8\n",
       "sale_ewpakwlliwisiwduibdlfmalxowmwpci        uint8\n",
       "sale_fixdbufsefwooaasfcxdxadsiekoceaa        uint8\n",
       "sale_foosdfpfkusacimwkcsosbicdxkicaua        uint8\n",
       "sale_lmkebamcaaclubfxadlmueccxoimlema        uint8\n",
       "sale_sddiedcslfslkckwlfkdpoeeailfpeds        uint8\n",
       "sale_unknown                                 uint8\n",
       "sale_usilxuppasemubllopkaafesmlibmsdf        uint8\n",
       "contract_long                                int64\n",
       "renewal_to_end                               int64\n",
       "modification_deferral                        int64\n",
       "origin_ewxeelcelemmiwuafmddpobolfuxioce      uint8\n",
       "origin_kamkkxfxxuwbdslkwifmmcsiusiuosws      uint8\n",
       "origin_ldkssxwpmemidmecebumciepifcamkci      uint8\n",
       "origin_lxidpiddsbxsbosboudacockeimpuepw      uint8\n",
       "origin_unknown                               uint8\n",
       "origin_usapbepcfoloekilkwsdiboslwaxobdp      uint8\n",
       "dtype: object"
      ]
     },
     "execution_count": 54,
     "metadata": {},
     "output_type": "execute_result"
    }
   ],
   "source": [
    "data.drop(['id', 'date_activ', 'date_end', 'date_modif_prod', \"date_renewal\"], inplace = True, axis = 1)\n",
    "data_test.drop(['id', 'date_activ', 'date_end', 'date_modif_prod', \"date_renewal\"], inplace = True, axis = 1)\n",
    "\n",
    "data.dtypes"
   ]
  },
  {
   "cell_type": "markdown",
   "metadata": {},
   "source": [
    "# Scaling Variables\n",
    "---\n",
    "Normalise trainind datasets into a scale between 0 and 1 before using them together."
   ]
  },
  {
   "cell_type": "code",
   "execution_count": 55,
   "metadata": {},
   "outputs": [],
   "source": [
    "def normalize(df):\n",
    "    result = df.copy()\n",
    "    for feature_name in df.columns:\n",
    "        max_value = df[feature_name].max()\n",
    "        min_value = df[feature_name].min()\n",
    "        result[feature_name] = (df[feature_name] - min_value) / (max_value - min_value)\n",
    "    return result"
   ]
  },
  {
   "cell_type": "code",
   "execution_count": 56,
   "metadata": {},
   "outputs": [],
   "source": [
    "data = normalize(data[['cons_12m', 'cons_gas_12m', 'cons_last_month','forecast_cons_12m', 'forecast_discount_energy', 'forecast_meter_rent_12m', 'forecast_price_energy_p1', 'forecast_price_energy_p2', 'forecast_price_pow_p1', 'imp_cons', 'margin_gross_pow_ele', 'margin_net_pow_ele', 'net_margin', 'pow_max', 'total_cons_12m', 'contract_long', 'renewal_to_end', 'modification_deferral']])\n",
    "data_test = normalize(data_test[['cons_12m', 'cons_gas_12m', 'cons_last_month','forecast_cons_12m', 'forecast_discount_energy', 'forecast_meter_rent_12m', 'forecast_price_energy_p1', 'forecast_price_energy_p2', 'forecast_price_pow_p1', 'imp_cons', 'margin_gross_pow_ele', 'margin_net_pow_ele', 'net_margin', 'pow_max', 'total_cons_12m', 'contract_long', 'renewal_to_end', 'modification_deferral']])"
   ]
  },
  {
   "cell_type": "code",
   "execution_count": 57,
   "metadata": {},
   "outputs": [],
   "source": [
    "# Spliting our data\n",
    "X_train, X_test, y_train, y_test = train_test_split(data, y, test_size = 0.33, random_state = 33, stratify = y)"
   ]
  },
  {
   "cell_type": "code",
   "execution_count": 58,
   "metadata": {},
   "outputs": [],
   "source": [
    "# Tried to use techniques (SMOTE) to fight the class imbalance, but they did not help.\n",
    "#X_train_res, X_test, y_train_res, y_test = train_test_split(data, y, test_size = 0.33, random_state = 33, stratify = y)"
   ]
  },
  {
   "cell_type": "code",
   "execution_count": 59,
   "metadata": {},
   "outputs": [],
   "source": [
    "#from imblearn.over_sampling import SMOTE\n",
    "#print(\"Before OverSampling, counts of label '1': {}\".format(sum(y_train_res==1)))\n",
    "#print(\"Before OverSampling, counts of label '0': {} \\n\".format(sum(y_train_res==0)))\n",
    "\n",
    "#sm = SMOTE(random_state = 2)\n",
    "#X_train, y_train = sm.fit_sample(X_train_res, y_train_res.ravel())\n",
    "\n",
    "#print(\"After OverSampling, counts of label '1': {}\".format(sum(y_train==1)))\n",
    "#print(\"After OverSampling, counts of label '0': {}\".format(sum(y_train==0)))"
   ]
  },
  {
   "cell_type": "code",
   "execution_count": 60,
   "metadata": {},
   "outputs": [],
   "source": [
    "# Strandartisation\n",
    "#data[\"cons_12m\"] = (data[\"cons_12m\"] - data[\"cons_12m\"].mean()) / data[\"cons_12m\"].std()\n",
    "\n",
    "from sklearn.preprocessing import StandardScaler\n",
    "scaler = StandardScaler()\n",
    "\n",
    "# Fit on training set only.\n",
    "scaler.fit(X_train)\n",
    "# Apply transform to both the training set and the test set.\n",
    "X_train = scaler.transform(X_train)\n",
    "X_test = scaler.transform(X_test)"
   ]
  },
  {
   "cell_type": "code",
   "execution_count": 61,
   "metadata": {},
   "outputs": [],
   "source": [
    "# Did not help much as well\n",
    "#from sklearn.decomposition import PCA\n",
    "# Make an instance of the Model\n",
    "#pca = PCA(.95)\n",
    "#pca.fit(X_train)\n",
    "\n",
    "#X_train = pca.transform(X_train)\n",
    "#X_test = pca.transform(X_test)"
   ]
  },
  {
   "cell_type": "markdown",
   "metadata": {},
   "source": [
    "### DecisionTreeClassifier"
   ]
  },
  {
   "cell_type": "code",
   "execution_count": 62,
   "metadata": {},
   "outputs": [
    {
     "data": {
      "text/plain": [
       "RandomizedSearchCV(cv=StratifiedKFold(n_splits=10, random_state=None, shuffle=True),\n",
       "          error_score='raise',\n",
       "          estimator=DecisionTreeClassifier(class_weight=None, criterion='gini', max_depth=None,\n",
       "            max_features=None, max_leaf_nodes=None,\n",
       "            min_impurity_decrease=0.0, min_impurity_split=None,\n",
       "            min_samples_leaf=1, min_samples_split=2,\n",
       "            min_weight_fraction_leaf=0.0, presort=False, random_state=None,\n",
       "            splitter='best'),\n",
       "          fit_params=None, iid=True, n_iter=3, n_jobs=1,\n",
       "          param_distributions={'max_depth': [2, 4, 8]},\n",
       "          pre_dispatch='2*n_jobs', random_state=None, refit=True,\n",
       "          return_train_score='warn', scoring='accuracy', verbose=0)"
      ]
     },
     "execution_count": 62,
     "metadata": {},
     "output_type": "execute_result"
    }
   ],
   "source": [
    "#StratifiedKFold(n_splits=10)\n",
    "tc = DecisionTreeClassifier()\n",
    "params = {'max_depth':[2,4,8]}\n",
    "\n",
    "tcgrid = RandomizedSearchCV(estimator = tc, param_distributions = params, cv = StratifiedKFold(n_splits = 10, shuffle = True), scoring='accuracy', n_iter = 3)\n",
    "tcgrid.fit(X_train, y_train)"
   ]
  },
  {
   "cell_type": "code",
   "execution_count": 63,
   "metadata": {},
   "outputs": [
    {
     "name": "stdout",
     "output_type": "stream",
     "text": [
      "Accuracy is 90.10%\n"
     ]
    }
   ],
   "source": [
    "tc_predictions = tcgrid.predict(X_test)\n",
    "print(\"Accuracy is %.2f%%\" %(metrics.accuracy_score(y_test, tc_predictions)* 100.0))"
   ]
  },
  {
   "cell_type": "code",
   "execution_count": 64,
   "metadata": {},
   "outputs": [
    {
     "name": "stdout",
     "output_type": "stream",
     "text": [
      "[[4786    0]\n",
      " [ 526    0]]\n"
     ]
    }
   ],
   "source": [
    "from sklearn.metrics import confusion_matrix\n",
    "confusion_matrix = confusion_matrix(y_test, tc_predictions)\n",
    "print(confusion_matrix)"
   ]
  },
  {
   "cell_type": "code",
   "execution_count": 65,
   "metadata": {},
   "outputs": [
    {
     "name": "stdout",
     "output_type": "stream",
     "text": [
      "             precision    recall  f1-score   support\n",
      "\n",
      "          0       0.90      1.00      0.95      4786\n",
      "          1       0.00      0.00      0.00       526\n",
      "\n",
      "avg / total       0.81      0.90      0.85      5312\n",
      "\n"
     ]
    },
    {
     "name": "stderr",
     "output_type": "stream",
     "text": [
      "/anaconda3/envs/MaskRCNN/lib/python3.6/site-packages/sklearn/metrics/classification.py:1135: UndefinedMetricWarning: Precision and F-score are ill-defined and being set to 0.0 in labels with no predicted samples.\n",
      "  'precision', 'predicted', average, warn_for)\n"
     ]
    }
   ],
   "source": [
    "from sklearn.metrics import classification_report\n",
    "print(classification_report(y_test, tc_predictions))"
   ]
  },
  {
   "cell_type": "code",
   "execution_count": 66,
   "metadata": {},
   "outputs": [
    {
     "data": {
      "image/png": "[encoded data removed]",
      "text/plain": [
       "<Figure size 432x288 with 1 Axes>"
      ]
     },
     "metadata": {},
     "output_type": "display_data"
    }
   ],
   "source": [
    "tc_predictions_proba = tcgrid.predict_proba(X_test)[:,1]\n",
    "\n",
    "false_positive_rate, true_positive_rate, thresholds = roc_curve(y_test, tc_predictions_proba)\n",
    "roc_auc = auc(false_positive_rate, true_positive_rate)\n",
    "\n",
    "plt.title('Trees Classifier ROC')\n",
    "plt.plot(false_positive_rate, true_positive_rate, 'b',\n",
    "label = 'AUC = %0.2f'% roc_auc)\n",
    "plt.legend(loc = 'lower right')\n",
    "plt.plot([0,1], [0,1], 'r--')\n",
    "plt.xlim([-0.1, 1.1])\n",
    "plt.ylim([-0.1, 1.1])\n",
    "plt.grid(True)\n",
    "plt.ylabel('True Positive Rate')\n",
    "plt.xlabel('False Positive Rate')\n",
    "plt.show()"
   ]
  },
  {
   "cell_type": "code",
   "execution_count": 67,
   "metadata": {},
   "outputs": [
    {
     "name": "stdout",
     "output_type": "stream",
     "text": [
      "Brier: 0.088\n"
     ]
    }
   ],
   "source": [
    "print(\"Brier: %1.3f\" % (brier_score_loss(y_test, tc_predictions_proba, pos_label=y.max())))"
   ]
  },
  {
   "cell_type": "markdown",
   "metadata": {},
   "source": [
    "### Logistic regression"
   ]
  },
  {
   "cell_type": "code",
   "execution_count": 68,
   "metadata": {},
   "outputs": [
    {
     "data": {
      "text/plain": [
       "RandomizedSearchCV(cv=StratifiedKFold(n_splits=10, random_state=None, shuffle=True),\n",
       "          error_score='raise',\n",
       "          estimator=LogisticRegression(C=1.0, class_weight=None, dual=False, fit_intercept=True,\n",
       "          intercept_scaling=1, max_iter=100, multi_class='ovr', n_jobs=1,\n",
       "          penalty='l2', random_state=None, solver='liblinear', tol=0.0001,\n",
       "          verbose=0, warm_start=False),\n",
       "          fit_params=None, iid=True, n_iter=3, n_jobs=1,\n",
       "          param_distributions={'C': [0.01, 0.1, 1, 10]},\n",
       "          pre_dispatch='2*n_jobs', random_state=None, refit=True,\n",
       "          return_train_score='warn', scoring='accuracy', verbose=0)"
      ]
     },
     "execution_count": 68,
     "metadata": {},
     "output_type": "execute_result"
    }
   ],
   "source": [
    "log = LogisticRegression()\n",
    "params = {'C':[0.01, 0.1, 1, 10]}\n",
    "\n",
    "loggrid = RandomizedSearchCV(estimator = log, param_distributions = params, cv = StratifiedKFold(n_splits = 10, shuffle = True), scoring='accuracy', n_iter = 3)\n",
    "loggrid.fit(X_train,y_train)"
   ]
  },
  {
   "cell_type": "code",
   "execution_count": 69,
   "metadata": {},
   "outputs": [
    {
     "name": "stdout",
     "output_type": "stream",
     "text": [
      "Accuracy is 90.10%\n"
     ]
    }
   ],
   "source": [
    "lr_predictions = loggrid.predict(X_test)\n",
    "print(\"Accuracy is %.2f%%\" %(metrics.accuracy_score(y_test, lr_predictions)* 100.0))"
   ]
  },
  {
   "cell_type": "code",
   "execution_count": 70,
   "metadata": {},
   "outputs": [
    {
     "name": "stdout",
     "output_type": "stream",
     "text": [
      "[[4784    2]\n",
      " [ 524    2]]\n"
     ]
    }
   ],
   "source": [
    "from sklearn.metrics import confusion_matrix\n",
    "confusion_matrix = confusion_matrix(y_test, lr_predictions)\n",
    "print(confusion_matrix)"
   ]
  },
  {
   "cell_type": "code",
   "execution_count": 71,
   "metadata": {},
   "outputs": [
    {
     "name": "stdout",
     "output_type": "stream",
     "text": [
      "             precision    recall  f1-score   support\n",
      "\n",
      "          0       0.90      1.00      0.95      4786\n",
      "          1       0.50      0.00      0.01       526\n",
      "\n",
      "avg / total       0.86      0.90      0.85      5312\n",
      "\n"
     ]
    }
   ],
   "source": [
    "from sklearn.metrics import classification_report\n",
    "print(classification_report(y_test, lr_predictions))"
   ]
  },
  {
   "cell_type": "code",
   "execution_count": 72,
   "metadata": {},
   "outputs": [
    {
     "data": {
      "image/png": "[encoded data removed]",
      "text/plain": [
       "<Figure size 432x288 with 1 Axes>"
      ]
     },
     "metadata": {},
     "output_type": "display_data"
    }
   ],
   "source": [
    "lr_predictions_proba = loggrid.predict_proba(X_test)[:,1]\n",
    "\n",
    "false_positive_rate, true_positive_rate, thresholds = roc_curve(y_test, lr_predictions_proba)\n",
    "roc_auc = auc(false_positive_rate, true_positive_rate)\n",
    "\n",
    "plt.title('Logistic regression ROC')\n",
    "plt.plot(false_positive_rate, true_positive_rate, 'b',\n",
    "label = 'AUC = %0.2f'% roc_auc)\n",
    "plt.legend(loc = 'lower right')\n",
    "plt.plot([0,1], [0,1], 'r--')\n",
    "plt.xlim([-0.1, 1.1])\n",
    "plt.ylim([-0.1, 1.1])\n",
    "plt.grid(True)\n",
    "plt.ylabel('True Positive Rate')\n",
    "plt.xlabel('False Positive Rate')\n",
    "plt.show()"
   ]
  },
  {
   "cell_type": "code",
   "execution_count": 73,
   "metadata": {},
   "outputs": [
    {
     "name": "stdout",
     "output_type": "stream",
     "text": [
      "Brier: 0.087\n"
     ]
    }
   ],
   "source": [
    "print(\"Brier: %1.3f\" % (brier_score_loss(y_test, lr_predictions_proba, pos_label=y.max())))"
   ]
  },
  {
   "cell_type": "markdown",
   "metadata": {},
   "source": [
    "### Random forest classifier"
   ]
  },
  {
   "cell_type": "code",
   "execution_count": 74,
   "metadata": {},
   "outputs": [
    {
     "data": {
      "text/plain": [
       "RandomizedSearchCV(cv=StratifiedKFold(n_splits=10, random_state=None, shuffle=True),\n",
       "          error_score='raise',\n",
       "          estimator=RandomForestClassifier(bootstrap=True, class_weight=None, criterion='gini',\n",
       "            max_depth=None, max_features='auto', max_leaf_nodes=None,\n",
       "            min_impurity_decrease=0.0, min_impurity_split=None,\n",
       "            min_samples_leaf=1, min_samples_split=2,\n",
       "            min_weight_fraction_leaf=0.0, n_estimators=10, n_jobs=1,\n",
       "            oob_score=False, random_state=None, verbose=0,\n",
       "            warm_start=False),\n",
       "          fit_params=None, iid=True, n_iter=3, n_jobs=1,\n",
       "          param_distributions={'max_depth': [8, 16, 32], 'min_samples_leaf': [2, 4, 8]},\n",
       "          pre_dispatch='2*n_jobs', random_state=None, refit=True,\n",
       "          return_train_score='warn', scoring='accuracy', verbose=0)"
      ]
     },
     "execution_count": 74,
     "metadata": {},
     "output_type": "execute_result"
    }
   ],
   "source": [
    "rf = RandomForestClassifier()\n",
    "params = {'max_depth': [8, 16, 32], 'min_samples_leaf':[2, 4, 8]}\n",
    "\n",
    "rfgrid = RandomizedSearchCV(estimator = rf, param_distributions = params, cv = StratifiedKFold(n_splits = 10, shuffle = True), scoring='accuracy', n_iter = 3)\n",
    "rfgrid.fit(X_train, y_train)"
   ]
  },
  {
   "cell_type": "code",
   "execution_count": 75,
   "metadata": {},
   "outputs": [
    {
     "name": "stdout",
     "output_type": "stream",
     "text": [
      "Accuracy is 90.15%\n"
     ]
    }
   ],
   "source": [
    "rf_predictions = rfgrid.predict(X_test)\n",
    "print(\"Accuracy is %.2f%%\" %(metrics.accuracy_score(y_test, rf_predictions)* 100.0))"
   ]
  },
  {
   "cell_type": "code",
   "execution_count": 76,
   "metadata": {},
   "outputs": [
    {
     "name": "stdout",
     "output_type": "stream",
     "text": [
      "[[4783    3]\n",
      " [ 520    6]]\n"
     ]
    }
   ],
   "source": [
    "from sklearn.metrics import confusion_matrix\n",
    "confusion_matrix = confusion_matrix(y_test, rf_predictions)\n",
    "print(confusion_matrix)"
   ]
  },
  {
   "cell_type": "code",
   "execution_count": 77,
   "metadata": {},
   "outputs": [
    {
     "name": "stdout",
     "output_type": "stream",
     "text": [
      "             precision    recall  f1-score   support\n",
      "\n",
      "          0       0.90      1.00      0.95      4786\n",
      "          1       0.67      0.01      0.02       526\n",
      "\n",
      "avg / total       0.88      0.90      0.86      5312\n",
      "\n"
     ]
    }
   ],
   "source": [
    "from sklearn.metrics import classification_report\n",
    "print(classification_report(y_test, rf_predictions))"
   ]
  },
  {
   "cell_type": "code",
   "execution_count": 78,
   "metadata": {},
   "outputs": [
    {
     "data": {
      "image/png": "[encoded data removed]",
      "text/plain": [
       "<Figure size 432x288 with 1 Axes>"
      ]
     },
     "metadata": {},
     "output_type": "display_data"
    }
   ],
   "source": [
    "rf_predictions_proba = rfgrid.predict_proba(X_test)[:,1]\n",
    "\n",
    "false_positive_rate, true_positive_rate, thresholds = roc_curve(y_test, rf_predictions_proba)\n",
    "roc_auc = auc(false_positive_rate, true_positive_rate)\n",
    "\n",
    "plt.title('Random Forest ROC')\n",
    "plt.plot(false_positive_rate, true_positive_rate, 'b',\n",
    "label = 'AUC = %0.2f'% roc_auc)\n",
    "plt.legend(loc = 'lower right')\n",
    "plt.plot([0,1], [0,1], 'r--')\n",
    "plt.xlim([-0.1, 1.1])\n",
    "plt.ylim([-0.1, 1.1])\n",
    "plt.grid(True)\n",
    "plt.ylabel('True Positive Rate')\n",
    "plt.xlabel('False Positive Rate')\n",
    "plt.show()"
   ]
  },
  {
   "cell_type": "code",
   "execution_count": 79,
   "metadata": {},
   "outputs": [
    {
     "name": "stdout",
     "output_type": "stream",
     "text": [
      "Brier: 0.086\n"
     ]
    }
   ],
   "source": [
    "print(\"Brier: %1.3f\" % (brier_score_loss(y_test, rf_predictions_proba, pos_label=y.max())))"
   ]
  },
  {
   "cell_type": "code",
   "execution_count": 80,
   "metadata": {},
   "outputs": [],
   "source": [
    "from sklearn.feature_selection import SelectKBest\n",
    "from sklearn.feature_selection import f_classif\n",
    "from sklearn.feature_selection import SelectFromModel\n",
    "\n",
    "name_features = data.columns\n",
    "\n",
    "#Select Important Features In Random Forest\n",
    "score_rf = rfgrid.best_estimator_.feature_importances_"
   ]
  },
  {
   "cell_type": "code",
   "execution_count": 81,
   "metadata": {},
   "outputs": [
    {
     "name": "stdout",
     "output_type": "stream",
     "text": [
      "Index(['margin_net_pow_ele', 'margin_gross_pow_ele', 'forecast_meter_rent_12m',\n",
      "       'net_margin', 'forecast_cons_12m', 'cons_12m', 'total_cons_12m',\n",
      "       'forecast_price_energy_p1', 'modification_deferral', 'pow_max',\n",
      "       'cons_last_month', 'contract_long', 'imp_cons',\n",
      "       'forecast_price_energy_p2', 'renewal_to_end', 'forecast_price_pow_p1',\n",
      "       'cons_gas_12m', 'forecast_discount_energy'],\n",
      "      dtype='object')\n",
      "[0.07012723 0.00692076 0.05689258 0.07530177 0.00571784 0.08394967\n",
      " 0.06259663 0.03525005 0.02334695 0.04761241 0.08671463 0.09916975\n",
      " 0.080963   0.05835502 0.06639871 0.05215577 0.02716247 0.06136477]\n"
     ]
    },
    {
     "data": {
      "text/plain": [
       "Text(0,0.5,'Score')"
      ]
     },
     "execution_count": 81,
     "metadata": {},
     "output_type": "execute_result"
    },
    {
     "data": {
      "image/png": "[encoded data removed]",
      "text/plain": [
       "<Figure size 432x288 with 1 Axes>"
      ]
     },
     "metadata": {},
     "output_type": "display_data"
    }
   ],
   "source": [
    "feature_rf = name_features[( -score_rf).argsort()][:30]\n",
    "print(feature_rf)\n",
    "print(score_rf)\n",
    "plt.plot( np.arange(18), -np.sort( -score_rf))\n",
    "plt.title('Feature Importance by Random Forest')\n",
    "plt.xlabel('Rank Feature')\n",
    "plt.ylabel('Score')"
   ]
  },
  {
   "cell_type": "markdown",
   "metadata": {},
   "source": [
    "### XGBClassifier"
   ]
  },
  {
   "cell_type": "code",
   "execution_count": 82,
   "metadata": {},
   "outputs": [],
   "source": [
    "#from scipy import stats\n",
    "#xgb = XGBClassifier()\n",
    "#xgb_params = xgb.get_xgb_params()\n",
    "#xgb = XGBClassifier(**xgb_params)\n",
    "\n",
    "#xgb.fit(X_train, y_train)\n",
    "#params = {'n_estimators': stats.randint(150, 1000),\n",
    "#              'learning_rate': stats.uniform(0.01, 0.6),\n",
    "#              'subsample': stats.uniform(0.3, 0.9),\n",
    "#              'max_depth': [3, 4, 5, 6, 7, 8, 9],\n",
    "#              'colsample_bytree': stats.uniform(0.5, 0.9),\n",
    "#              'min_child_weight': [1, 2, 3, 4]}\n",
    "\n",
    "#xgbgrid = RandomizedSearchCV(xgb, param_distributions = params,\n",
    "#                             cv = StratifiedKFold(n_splits=10),  n_iter = 3, scoring = 'accuracy', \n",
    "#                             error_score = 0, verbose = 3, n_jobs = -1) #roc_auc)\n",
    "#xgbgrid.fit(X_train, y_train)"
   ]
  },
  {
   "cell_type": "code",
   "execution_count": 83,
   "metadata": {
    "scrolled": true
   },
   "outputs": [],
   "source": [
    "#xgb_predictions = xgbgrid.predict(X_test)\n",
    "#print(\"Accuracy is %.2f%%\" %(metrics.accuracy_score(y_test, xgb_predictions)* 100.0))"
   ]
  },
  {
   "cell_type": "code",
   "execution_count": 84,
   "metadata": {},
   "outputs": [],
   "source": [
    "#from sklearn.metrics import confusion_matrix\n",
    "#confusion_matrix = confusion_matrix(y_test, xgb_predictions)\n",
    "#print(confusion_matrix)"
   ]
  },
  {
   "cell_type": "code",
   "execution_count": 85,
   "metadata": {},
   "outputs": [],
   "source": [
    "#from sklearn.metrics import classification_report\n",
    "#print(classification_report(y_test, xgb_predictions))"
   ]
  },
  {
   "cell_type": "code",
   "execution_count": 86,
   "metadata": {},
   "outputs": [],
   "source": [
    "#xgb_predictions_proba = xgbgrid.predict_proba(X_test)[:,1]\n",
    "\n",
    "#false_positive_rate, true_positive_rate, thresholds = roc_curve(y_test, xgb_predictions_proba)\n",
    "#roc_auc = auc(false_positive_rate, true_positive_rate)\n",
    "\n",
    "#plt.title('XGboost ROC')\n",
    "#plt.plot(false_positive_rate, true_positive_rate, 'b',\n",
    "#label = 'AUC = %0.2f'% roc_auc)\n",
    "#plt.legend(loc = 'lower right')\n",
    "#plt.plot([0,1], [0,1], 'r--')\n",
    "#plt.xlim([-0.1, 1.1])\n",
    "#plt.ylim([-0.1, 1.1])\n",
    "#plt.grid(True)\n",
    "#plt.ylabel('True Positive Rate')\n",
    "#plt.xlabel('False Positive Rate')\n",
    "#plt.show()"
   ]
  },
  {
   "cell_type": "markdown",
   "metadata": {},
   "source": [
    "### Naive Bayes"
   ]
  },
  {
   "cell_type": "code",
   "execution_count": 87,
   "metadata": {},
   "outputs": [
    {
     "data": {
      "text/plain": [
       "GaussianNB(priors=None)"
      ]
     },
     "execution_count": 87,
     "metadata": {},
     "output_type": "execute_result"
    }
   ],
   "source": [
    "from sklearn.naive_bayes import GaussianNB\n",
    "#Create a Gaussian Classifier\n",
    "nb = GaussianNB()\n",
    "nb.fit(X_train, y_train)"
   ]
  },
  {
   "cell_type": "code",
   "execution_count": 88,
   "metadata": {},
   "outputs": [
    {
     "name": "stdout",
     "output_type": "stream",
     "text": [
      "Accuracy is 24.62%\n"
     ]
    }
   ],
   "source": [
    "nb_predictions = nb.predict(X_test)\n",
    "print(\"Accuracy is %.2f%%\" %(metrics.accuracy_score(y_test, nb_predictions)* 100.0))"
   ]
  },
  {
   "cell_type": "code",
   "execution_count": 89,
   "metadata": {},
   "outputs": [
    {
     "name": "stdout",
     "output_type": "stream",
     "text": [
      "[[ 849 3937]\n",
      " [  67  459]]\n"
     ]
    }
   ],
   "source": [
    "from sklearn.metrics import confusion_matrix\n",
    "confusion_matrix = confusion_matrix(y_test, nb_predictions)\n",
    "print(confusion_matrix)"
   ]
  },
  {
   "cell_type": "code",
   "execution_count": 90,
   "metadata": {},
   "outputs": [
    {
     "name": "stdout",
     "output_type": "stream",
     "text": [
      "             precision    recall  f1-score   support\n",
      "\n",
      "          0       0.93      0.18      0.30      4786\n",
      "          1       0.10      0.87      0.19       526\n",
      "\n",
      "avg / total       0.85      0.25      0.29      5312\n",
      "\n"
     ]
    }
   ],
   "source": [
    "from sklearn.metrics import classification_report\n",
    "print(classification_report(y_test, nb_predictions))"
   ]
  },
  {
   "cell_type": "code",
   "execution_count": 91,
   "metadata": {},
   "outputs": [
    {
     "data": {
      "image/png": "[encoded data removed]",
      "text/plain": [
       "<Figure size 432x288 with 1 Axes>"
      ]
     },
     "metadata": {},
     "output_type": "display_data"
    }
   ],
   "source": [
    "nb_predictions_proba = nb.predict_proba(X_test)[:,1]\n",
    "\n",
    "false_positive_rate, true_positive_rate, thresholds = roc_curve(y_test, nb_predictions_proba)\n",
    "roc_auc = auc(false_positive_rate, true_positive_rate)\n",
    "\n",
    "plt.title('Naive Bayes ROC')\n",
    "plt.plot(false_positive_rate, true_positive_rate, 'b',\n",
    "label = 'AUC = %0.2f'% roc_auc)\n",
    "plt.legend(loc = 'lower right')\n",
    "plt.plot([0,1], [0,1], 'r--')\n",
    "plt.xlim([-0.1, 1.1])\n",
    "plt.ylim([-0.1, 1.1])\n",
    "plt.grid(True)\n",
    "plt.ylabel('True Positive Rate')\n",
    "plt.xlabel('False Positive Rate')\n",
    "plt.show()"
   ]
  },
  {
   "cell_type": "code",
   "execution_count": 92,
   "metadata": {},
   "outputs": [
    {
     "name": "stdout",
     "output_type": "stream",
     "text": [
      "Brier: 0.511\n"
     ]
    }
   ],
   "source": [
    "print(\"Brier: %1.3f\" % (brier_score_loss(y_test, nb_predictions_proba, pos_label=y.max())))"
   ]
  },
  {
   "cell_type": "markdown",
   "metadata": {},
   "source": [
    "## SVM classifier"
   ]
  },
  {
   "cell_type": "code",
   "execution_count": 93,
   "metadata": {},
   "outputs": [],
   "source": [
    "#from sklearn.svm import SVC\n",
    "#svc = SVC(C = 1, kernel = 'rbf', probability = True,  random_state = 0, class_weight = 'balanced')\n",
    "\n",
    "#svc.fit(X_train, y_train)"
   ]
  },
  {
   "cell_type": "code",
   "execution_count": 94,
   "metadata": {},
   "outputs": [],
   "source": [
    "#svc_predictions = svc.predict(X_test)\n",
    "#print(\"Accuracy is %.2f%%\" %(metrics.accuracy_score(y_test, svc_predictions)* 100.0))"
   ]
  },
  {
   "cell_type": "code",
   "execution_count": 95,
   "metadata": {},
   "outputs": [],
   "source": [
    "#from sklearn.metrics import confusion_matrix\n",
    "#confusion_matrix = confusion_matrix(y_test, svc_predictions)\n",
    "#print(confusion_matrix)"
   ]
  },
  {
   "cell_type": "code",
   "execution_count": 96,
   "metadata": {},
   "outputs": [],
   "source": [
    "#from sklearn.metrics import classification_report\n",
    "#print(classification_report(y_test, svc_predictions))"
   ]
  },
  {
   "cell_type": "code",
   "execution_count": 97,
   "metadata": {},
   "outputs": [],
   "source": [
    "#svc_predictions_proba = svc.predict_proba(X_test)[:,1]\n",
    "\n",
    "#false_positive_rate, true_positive_rate, thresholds = roc_curve(y_test, svc_predictions_proba)\n",
    "#roc_auc = auc(false_positive_rate, true_positive_rate)\n",
    "\n",
    "#plt.title('SVC ROC')\n",
    "#plt.plot(false_positive_rate, true_positive_rate, 'b',\n",
    "#label = 'AUC = %0.2f'% roc_auc)\n",
    "#plt.legend(loc = 'lower right')\n",
    "#plt.plot([0,1], [0,1], 'r--')\n",
    "#plt.xlim([-0.1, 1.1])\n",
    "#plt.ylim([-0.1, 1.1])\n",
    "#plt.grid(True)\n",
    "#plt.ylabel('True Positive Rate')\n",
    "#plt.xlabel('False Positive Rate')\n",
    "#plt.show()"
   ]
  },
  {
   "cell_type": "markdown",
   "metadata": {},
   "source": [
    "### Bagging Classifier"
   ]
  },
  {
   "cell_type": "code",
   "execution_count": 98,
   "metadata": {},
   "outputs": [
    {
     "data": {
      "text/plain": [
       "RandomizedSearchCV(cv=StratifiedKFold(n_splits=10, random_state=None, shuffle=True),\n",
       "          error_score='raise',\n",
       "          estimator=BaggingClassifier(base_estimator=DecisionTreeClassifier(class_weight=None, criterion='gini', max_depth=2,\n",
       "            max_features=None, max_leaf_nodes=None,\n",
       "            min_impurity_decrease=0.0, min_impurity_split=None,\n",
       "            min_samples_leaf=1, min_samples_split=2,\n",
       "            min... n_estimators=2, n_jobs=1, oob_score=False,\n",
       "         random_state=None, verbose=0, warm_start=False),\n",
       "          fit_params=None, iid=True, n_iter=3, n_jobs=1,\n",
       "          param_distributions={'base_estimator': [DecisionTreeClassifier(class_weight=None, criterion='gini', max_depth=2,\n",
       "            max_features=None, max_leaf_nodes=None,\n",
       "            min_impurity_decrease=0.0, min_impurity_split=None,\n",
       "            min_samples_leaf=1, min_samples_split=2,\n",
       "            min_we...None, verbose=0,\n",
       "            warm_start=False), GaussianNB(priors=None)], 'n_estimators': [2, 3, 4]},\n",
       "          pre_dispatch='2*n_jobs', random_state=None, refit=True,\n",
       "          return_train_score='warn', scoring='accuracy', verbose=0)"
      ]
     },
     "execution_count": 98,
     "metadata": {},
     "output_type": "execute_result"
    }
   ],
   "source": [
    "bag = BaggingClassifier(base_estimator = tcgrid.best_estimator_, n_estimators = 2)\n",
    "params = {'base_estimator':[tcgrid.best_estimator_, loggrid.best_estimator_, rfgrid.best_estimator_, nb],'n_estimators':[2, 3, 4]}\n",
    "\n",
    "baggrid = RandomizedSearchCV(estimator = bag, param_distributions = params, cv = StratifiedKFold(n_splits = 10, shuffle = True), scoring='accuracy', n_iter = 3)\n",
    "baggrid.fit(X_train, y_train)"
   ]
  },
  {
   "cell_type": "code",
   "execution_count": 99,
   "metadata": {},
   "outputs": [
    {
     "name": "stdout",
     "output_type": "stream",
     "text": [
      "Accuracy is 90.15%\n"
     ]
    }
   ],
   "source": [
    "bg_predictions = baggrid.predict(X_test)\n",
    "print(\"Accuracy is %.2f%%\" %(metrics.accuracy_score(y_test, bg_predictions)* 100.0))"
   ]
  },
  {
   "cell_type": "code",
   "execution_count": 100,
   "metadata": {},
   "outputs": [
    {
     "name": "stdout",
     "output_type": "stream",
     "text": [
      "[[4786    0]\n",
      " [ 523    3]]\n"
     ]
    }
   ],
   "source": [
    "from sklearn.metrics import confusion_matrix\n",
    "confusion_matrix = confusion_matrix(y_test, bg_predictions)\n",
    "print(confusion_matrix)"
   ]
  },
  {
   "cell_type": "code",
   "execution_count": 101,
   "metadata": {},
   "outputs": [
    {
     "name": "stdout",
     "output_type": "stream",
     "text": [
      "             precision    recall  f1-score   support\n",
      "\n",
      "          0       0.90      1.00      0.95      4786\n",
      "          1       1.00      0.01      0.01       526\n",
      "\n",
      "avg / total       0.91      0.90      0.86      5312\n",
      "\n"
     ]
    }
   ],
   "source": [
    "from sklearn.metrics import classification_report\n",
    "print(classification_report(y_test, bg_predictions))"
   ]
  },
  {
   "cell_type": "code",
   "execution_count": 102,
   "metadata": {},
   "outputs": [
    {
     "data": {
      "image/png": "[encoded data removed]",
      "text/plain": [
       "<Figure size 432x288 with 1 Axes>"
      ]
     },
     "metadata": {},
     "output_type": "display_data"
    }
   ],
   "source": [
    "bg_predictions_proba = baggrid.predict_proba(X_test)[:,1]\n",
    "\n",
    "false_positive_rate, true_positive_rate, thresholds = roc_curve(y_test, bg_predictions_proba)\n",
    "roc_auc = auc(false_positive_rate, true_positive_rate)\n",
    "\n",
    "plt.title('Bagging claffifier ROC')\n",
    "plt.plot(false_positive_rate, true_positive_rate, 'b',\n",
    "label = 'AUC = %0.2f' % roc_auc)\n",
    "plt.legend(loc = 'lower right')\n",
    "plt.plot([0,1], [0,1], 'r--')\n",
    "plt.xlim([-0.1, 1.1])\n",
    "plt.ylim([-0.1, 1.1])\n",
    "plt.grid(True)\n",
    "plt.ylabel('True Positive Rate')\n",
    "plt.xlabel('False Positive Rate')\n",
    "plt.show()"
   ]
  },
  {
   "cell_type": "code",
   "execution_count": 103,
   "metadata": {},
   "outputs": [
    {
     "name": "stdout",
     "output_type": "stream",
     "text": [
      "Brier: 0.086\n"
     ]
    }
   ],
   "source": [
    "print(\"Brier: %1.3f\" % (brier_score_loss(y_test, bg_predictions_proba, pos_label=y.max())))"
   ]
  },
  {
   "cell_type": "markdown",
   "metadata": {},
   "source": [
    "### Adaboost Classifier"
   ]
  },
  {
   "cell_type": "code",
   "execution_count": 104,
   "metadata": {},
   "outputs": [
    {
     "data": {
      "text/plain": [
       "RandomizedSearchCV(cv=StratifiedKFold(n_splits=10, random_state=None, shuffle=True),\n",
       "          error_score='raise',\n",
       "          estimator=AdaBoostClassifier(algorithm='SAMME.R',\n",
       "          base_estimator=RandomForestClassifier(bootstrap=True, class_weight=None, criterion='gini',\n",
       "            max_depth=16, max_features='auto', max_leaf_nodes=None,\n",
       "            min_impurity_decrease=0.0, min_impurity_split=None,\n",
       "            min_s...se=0,\n",
       "            warm_start=False),\n",
       "          learning_rate=1.0, n_estimators=4, random_state=None),\n",
       "          fit_params=None, iid=True, n_iter=3, n_jobs=1,\n",
       "          param_distributions={'base_estimator': [DecisionTreeClassifier(class_weight=None, criterion='gini', max_depth=2,\n",
       "            max_features=None, max_leaf_nodes=None,\n",
       "            min_impurity_decrease=0.0, min_impurity_split=None,\n",
       "            min_samples_leaf=1, min_samples_split=2,\n",
       "            min_we...None, verbose=0,\n",
       "            warm_start=False), GaussianNB(priors=None)], 'n_estimators': [2, 3, 4]},\n",
       "          pre_dispatch='2*n_jobs', random_state=None, refit=True,\n",
       "          return_train_score='warn', scoring='accuracy', verbose=0)"
      ]
     },
     "execution_count": 104,
     "metadata": {},
     "output_type": "execute_result"
    }
   ],
   "source": [
    "ada = AdaBoostClassifier(base_estimator = rfgrid.best_estimator_, n_estimators = 4)\n",
    "params = {'base_estimator':[tcgrid.best_estimator_, loggrid.best_estimator_, rfgrid.best_estimator_, nb],'n_estimators':[2, 3, 4]}\n",
    "\n",
    "adagrid = RandomizedSearchCV(estimator = ada, param_distributions = params, cv = StratifiedKFold(n_splits = 10, shuffle = True), scoring='accuracy', n_iter = 3)\n",
    "adagrid.fit(X_train, y_train)"
   ]
  },
  {
   "cell_type": "code",
   "execution_count": 105,
   "metadata": {},
   "outputs": [
    {
     "name": "stdout",
     "output_type": "stream",
     "text": [
      "Accuracy is 90.38%\n"
     ]
    }
   ],
   "source": [
    "ada_predictions = adagrid.predict(X_test)\n",
    "print(\"Accuracy is %.2f%%\" %(metrics.accuracy_score(y_test, ada_predictions)* 100.0))"
   ]
  },
  {
   "cell_type": "code",
   "execution_count": 106,
   "metadata": {},
   "outputs": [
    {
     "name": "stdout",
     "output_type": "stream",
     "text": [
      "[[4781    5]\n",
      " [ 506   20]]\n"
     ]
    }
   ],
   "source": [
    "from sklearn.metrics import confusion_matrix\n",
    "confusion_matrix = confusion_matrix(y_test, ada_predictions)\n",
    "print(confusion_matrix)"
   ]
  },
  {
   "cell_type": "code",
   "execution_count": 107,
   "metadata": {},
   "outputs": [
    {
     "name": "stdout",
     "output_type": "stream",
     "text": [
      "             precision    recall  f1-score   support\n",
      "\n",
      "          0       0.90      1.00      0.95      4786\n",
      "          1       0.80      0.04      0.07       526\n",
      "\n",
      "avg / total       0.89      0.90      0.86      5312\n",
      "\n"
     ]
    }
   ],
   "source": [
    "from sklearn.metrics import classification_report\n",
    "print(classification_report(y_test, ada_predictions))"
   ]
  },
  {
   "cell_type": "code",
   "execution_count": 108,
   "metadata": {},
   "outputs": [
    {
     "data": {
      "image/png": "[encoded data removed]",
      "text/plain": [
       "<Figure size 432x288 with 1 Axes>"
      ]
     },
     "metadata": {},
     "output_type": "display_data"
    }
   ],
   "source": [
    "ada_predictions = adagrid.predict_proba(X_test)[:,1]\n",
    "\n",
    "false_positive_rate, true_positive_rate, thresholds = roc_curve(y_test, ada_predictions)\n",
    "roc_auc = auc(false_positive_rate, true_positive_rate)\n",
    "\n",
    "plt.title('Ada ROC')\n",
    "plt.plot(false_positive_rate, true_positive_rate, 'b',\n",
    "label = 'AUC = %0.2f' % roc_auc)\n",
    "plt.legend(loc = 'lower right')\n",
    "plt.plot([0,1], [0,1], 'r--')\n",
    "plt.xlim([-0.1, 1.1])\n",
    "plt.ylim([-0.1, 1.1])\n",
    "plt.grid(True)\n",
    "plt.ylabel('True Positive Rate')\n",
    "plt.xlabel('False Positive Rate')\n",
    "plt.savefig('ada.png')\n",
    "plt.show()"
   ]
  },
  {
   "cell_type": "code",
   "execution_count": 109,
   "metadata": {},
   "outputs": [
    {
     "name": "stdout",
     "output_type": "stream",
     "text": [
      "Brier: 0.107\n"
     ]
    }
   ],
   "source": [
    "print(\"Brier: %1.3f\" % (brier_score_loss(y_test, ada_predictions, pos_label=y.max())))"
   ]
  },
  {
   "cell_type": "code",
   "execution_count": 110,
   "metadata": {},
   "outputs": [
    {
     "name": "stdout",
     "output_type": "stream",
     "text": [
      "Index(['margin_net_pow_ele', 'margin_gross_pow_ele', 'forecast_meter_rent_12m',\n",
      "       'net_margin', 'forecast_cons_12m', 'cons_12m', 'total_cons_12m',\n",
      "       'forecast_price_energy_p1', 'modification_deferral', 'pow_max',\n",
      "       'cons_last_month', 'contract_long', 'imp_cons',\n",
      "       'forecast_price_energy_p2', 'renewal_to_end', 'forecast_price_pow_p1',\n",
      "       'cons_gas_12m', 'forecast_discount_energy'],\n",
      "      dtype='object')\n",
      "[0.07012723 0.00692076 0.05689258 0.07530177 0.00571784 0.08394967\n",
      " 0.06259663 0.03525005 0.02334695 0.04761241 0.08671463 0.09916975\n",
      " 0.080963   0.05835502 0.06639871 0.05215577 0.02716247 0.06136477]\n"
     ]
    },
    {
     "data": {
      "text/plain": [
       "Text(0,0.5,'Score')"
      ]
     },
     "execution_count": 110,
     "metadata": {},
     "output_type": "execute_result"
    },
    {
     "data": {
      "image/png": "[encoded data removed]",
      "text/plain": [
       "<Figure size 432x288 with 1 Axes>"
      ]
     },
     "metadata": {},
     "output_type": "display_data"
    }
   ],
   "source": [
    "feature_rf = name_features[(-score_rf).argsort()][:30]\n",
    "print(feature_rf)\n",
    "print(score_rf)\n",
    "plt.plot( np.arange(18), -np.sort(-score_rf))\n",
    "plt.title('Feature Importance by Random Forest')\n",
    "plt.xlabel('Rank Feature')\n",
    "plt.ylabel('Score')"
   ]
  },
  {
   "cell_type": "markdown",
   "metadata": {},
   "source": [
    "## Final prediction"
   ]
  },
  {
   "cell_type": "code",
   "execution_count": 111,
   "metadata": {},
   "outputs": [],
   "source": [
    "# Predict churned customers based on adaboost\n",
    "\n",
    "final_pred = adagrid.predict(data_test)\n",
    "\n",
    "final_pred_prob = adagrid.predict_proba(data_test)\n",
    "prob = final_pred_prob[:,1]\n",
    "\n",
    "indices_list = [i for i in range(len(final_pred))]\n",
    "\n",
    "prediction = pd.DataFrame(\n",
    "{'index': indices_list,\n",
    " 'id': data_test_id,\n",
    " 'Churn_prediction': final_pred,\n",
    " 'Churn_probability': prob})\n",
    "\n",
    "# Place in descending order of probability to churn\n",
    "prediction = prediction[['index', 'id', 'Churn_prediction', 'Churn_probability']]\n",
    "prediction = prediction.sort_values('Churn_probability', ascending = False)\n",
    "prediction.to_csv('ml_case_test_output.csv', index = False)"
   ]
  },
  {
   "cell_type": "markdown",
   "metadata": {},
   "source": [
    "# Analysing discount"
   ]
  },
  {
   "cell_type": "code",
   "execution_count": 112,
   "metadata": {},
   "outputs": [
    {
     "name": "stdout",
     "output_type": "stream",
     "text": [
      "4024\n"
     ]
    }
   ],
   "source": [
    "# Get the indices of these customers and add them to a list so \n",
    "# that we can access it more easily for future steps.\n",
    "\n",
    "churned_index = prediction[\"index\"].tolist()\n",
    "print(len(churned_index))"
   ]
  },
  {
   "cell_type": "code",
   "execution_count": 113,
   "metadata": {},
   "outputs": [],
   "source": [
    "price_data = pd.read_csv('ml_case_test_hist_data.csv')\n",
    "\n",
    "\n",
    "count1 = []\n",
    "price_data['price_p1_var'].fillna(0,inplace=True)\n",
    "for i in price_data['price_p1_var'].iteritems():\n",
    "    if i[1]!=0:\n",
    "        count1.append(1)\n",
    "    else:\n",
    "        count1.append(0)\n",
    "\n",
    "count2 = []\n",
    "price_data['price_p2_var'].fillna(0,inplace=True)\n",
    "for i in price_data['price_p2_var'].iteritems():\n",
    "    if i[1]!=0:\n",
    "        count2.append(1)\n",
    "    else:\n",
    "        count2.append(0)\n",
    "\n",
    "count3 = []\n",
    "price_data['price_p3_var'].fillna(0,inplace=True)\n",
    "for i in price_data['price_p3_var'].iteritems():\n",
    "    if i[1]!=0:\n",
    "        count3.append(1)\n",
    "    else:\n",
    "        count3.append(0)\n",
    "\n",
    "count = []\n",
    "for i in range(len(count1)):\n",
    "    count.append(count1[i]+count2[i]+count3[i])\n",
    "\n",
    "price_data['count'] = count\n",
    "\n",
    "# Create new columns for the average variable price and the total fixed price for each price date\n",
    "\n",
    "price_data['avg_price_var'] = (price_data['price_p1_var'] + price_data['price_p2_var'] + price_data['price_p3_var'])/price_data['count']\n",
    "price_data['sum_price_fix'] = 30*(price_data['price_p1_fix'] + price_data['price_p2_fix'] + price_data['price_p3_fix'])\n",
    "\n",
    "price_data = price_data.drop(['count'],axis = 1)"
   ]
  },
  {
   "cell_type": "code",
   "execution_count": 114,
   "metadata": {},
   "outputs": [],
   "source": [
    "# Group by customer id and get the average 12 month prices for\n",
    "# the variable price and the total sum 12 month prices for the \n",
    "# fixed prices\n",
    "\n",
    "id_=[]\n",
    "for i in price_data['id'].iteritems():\n",
    "    if i[1] in id_:\n",
    "        pass\n",
    "    else:\n",
    "        id_.append(i[1])\n",
    "\n",
    "avg_var_12m = price_data.groupby('id', sort = False)['avg_price_var'].mean()\n",
    "#price_p1_fix_derivate = data_hist.groupby('id')['price_p1_fix'].apply(mean_derivate)\n",
    "\n",
    "sum_fix_12m = price_data.groupby('id', sort = False)['sum_price_fix'].sum()\n",
    "\n",
    "temp_data = pd.DataFrame(\n",
    "  {'id':id_,\n",
    "   'avg_var_12m':avg_var_12m,\n",
    "   'fix_12m':sum_fix_12m})\n",
    "\n",
    "temp_data = temp_data[['avg_var_12m','fix_12m']]"
   ]
  },
  {
   "cell_type": "code",
   "execution_count": 115,
   "metadata": {},
   "outputs": [
    {
     "data": {
      "text/html": [
       "<div>\n",
       "<style scoped>\n",
       "    .dataframe tbody tr th:only-of-type {\n",
       "        vertical-align: middle;\n",
       "    }\n",
       "\n",
       "    .dataframe tbody tr th {\n",
       "        vertical-align: top;\n",
       "    }\n",
       "\n",
       "    .dataframe thead th {\n",
       "        text-align: right;\n",
       "    }\n",
       "</style>\n",
       "<table border=\"1\" class=\"dataframe\">\n",
       "  <thead>\n",
       "    <tr style=\"text-align: right;\">\n",
       "      <th></th>\n",
       "      <th>cons_12m</th>\n",
       "      <th>cons_gas_12m</th>\n",
       "      <th>cons_last_month</th>\n",
       "      <th>forecast_cons_12m</th>\n",
       "      <th>forecast_discount_energy</th>\n",
       "      <th>forecast_meter_rent_12m</th>\n",
       "      <th>forecast_price_energy_p1</th>\n",
       "      <th>forecast_price_energy_p2</th>\n",
       "      <th>forecast_price_pow_p1</th>\n",
       "      <th>imp_cons</th>\n",
       "      <th>margin_gross_pow_ele</th>\n",
       "      <th>margin_net_pow_ele</th>\n",
       "      <th>net_margin</th>\n",
       "      <th>pow_max</th>\n",
       "      <th>total_cons_12m</th>\n",
       "      <th>contract_long</th>\n",
       "      <th>renewal_to_end</th>\n",
       "      <th>modification_deferral</th>\n",
       "    </tr>\n",
       "  </thead>\n",
       "  <tbody>\n",
       "    <tr>\n",
       "      <th>0</th>\n",
       "      <td>0.019213</td>\n",
       "      <td>0.000000</td>\n",
       "      <td>0.002209</td>\n",
       "      <td>0.255489</td>\n",
       "      <td>0.0</td>\n",
       "      <td>0.148979</td>\n",
       "      <td>0.350117</td>\n",
       "      <td>0.450808</td>\n",
       "      <td>0.992451</td>\n",
       "      <td>0.055296</td>\n",
       "      <td>0.537426</td>\n",
       "      <td>0.579521</td>\n",
       "      <td>0.204785</td>\n",
       "      <td>0.358717</td>\n",
       "      <td>0.026787</td>\n",
       "      <td>0.196942</td>\n",
       "      <td>0.439807</td>\n",
       "      <td>0.512821</td>\n",
       "    </tr>\n",
       "    <tr>\n",
       "      <th>1</th>\n",
       "      <td>0.000339</td>\n",
       "      <td>0.008214</td>\n",
       "      <td>0.000172</td>\n",
       "      <td>0.007923</td>\n",
       "      <td>0.0</td>\n",
       "      <td>0.004155</td>\n",
       "      <td>0.535452</td>\n",
       "      <td>0.000000</td>\n",
       "      <td>0.745422</td>\n",
       "      <td>0.007661</td>\n",
       "      <td>0.615810</td>\n",
       "      <td>0.650772</td>\n",
       "      <td>0.147277</td>\n",
       "      <td>0.021042</td>\n",
       "      <td>0.010180</td>\n",
       "      <td>0.328417</td>\n",
       "      <td>0.437400</td>\n",
       "      <td>0.592580</td>\n",
       "    </tr>\n",
       "    <tr>\n",
       "      <th>2</th>\n",
       "      <td>0.002764</td>\n",
       "      <td>0.000000</td>\n",
       "      <td>0.000947</td>\n",
       "      <td>0.031620</td>\n",
       "      <td>0.0</td>\n",
       "      <td>0.055102</td>\n",
       "      <td>0.420400</td>\n",
       "      <td>0.504335</td>\n",
       "      <td>0.683100</td>\n",
       "      <td>0.021557</td>\n",
       "      <td>0.617410</td>\n",
       "      <td>0.652227</td>\n",
       "      <td>0.157220</td>\n",
       "      <td>0.064128</td>\n",
       "      <td>0.010465</td>\n",
       "      <td>0.394245</td>\n",
       "      <td>0.439540</td>\n",
       "      <td>0.632515</td>\n",
       "    </tr>\n",
       "    <tr>\n",
       "      <th>3</th>\n",
       "      <td>0.000874</td>\n",
       "      <td>0.000000</td>\n",
       "      <td>0.000218</td>\n",
       "      <td>0.014495</td>\n",
       "      <td>0.0</td>\n",
       "      <td>0.053742</td>\n",
       "      <td>0.439373</td>\n",
       "      <td>0.528062</td>\n",
       "      <td>0.683100</td>\n",
       "      <td>0.006630</td>\n",
       "      <td>0.652736</td>\n",
       "      <td>0.684338</td>\n",
       "      <td>0.150254</td>\n",
       "      <td>0.060220</td>\n",
       "      <td>0.008590</td>\n",
       "      <td>0.131295</td>\n",
       "      <td>0.440075</td>\n",
       "      <td>0.367594</td>\n",
       "    </tr>\n",
       "    <tr>\n",
       "      <th>4</th>\n",
       "      <td>0.008697</td>\n",
       "      <td>0.000000</td>\n",
       "      <td>0.003157</td>\n",
       "      <td>0.132825</td>\n",
       "      <td>0.0</td>\n",
       "      <td>0.000000</td>\n",
       "      <td>0.409836</td>\n",
       "      <td>0.489568</td>\n",
       "      <td>0.683100</td>\n",
       "      <td>0.091199</td>\n",
       "      <td>0.576174</td>\n",
       "      <td>0.614743</td>\n",
       "      <td>0.179670</td>\n",
       "      <td>0.318637</td>\n",
       "      <td>0.016353</td>\n",
       "      <td>0.262950</td>\n",
       "      <td>0.440342</td>\n",
       "      <td>0.552864</td>\n",
       "    </tr>\n",
       "  </tbody>\n",
       "</table>\n",
       "</div>"
      ],
      "text/plain": [
       "   cons_12m  cons_gas_12m  cons_last_month  forecast_cons_12m  \\\n",
       "0  0.019213      0.000000         0.002209           0.255489   \n",
       "1  0.000339      0.008214         0.000172           0.007923   \n",
       "2  0.002764      0.000000         0.000947           0.031620   \n",
       "3  0.000874      0.000000         0.000218           0.014495   \n",
       "4  0.008697      0.000000         0.003157           0.132825   \n",
       "\n",
       "   forecast_discount_energy  forecast_meter_rent_12m  \\\n",
       "0                       0.0                 0.148979   \n",
       "1                       0.0                 0.004155   \n",
       "2                       0.0                 0.055102   \n",
       "3                       0.0                 0.053742   \n",
       "4                       0.0                 0.000000   \n",
       "\n",
       "   forecast_price_energy_p1  forecast_price_energy_p2  forecast_price_pow_p1  \\\n",
       "0                  0.350117                  0.450808               0.992451   \n",
       "1                  0.535452                  0.000000               0.745422   \n",
       "2                  0.420400                  0.504335               0.683100   \n",
       "3                  0.439373                  0.528062               0.683100   \n",
       "4                  0.409836                  0.489568               0.683100   \n",
       "\n",
       "   imp_cons  margin_gross_pow_ele  margin_net_pow_ele  net_margin   pow_max  \\\n",
       "0  0.055296              0.537426            0.579521    0.204785  0.358717   \n",
       "1  0.007661              0.615810            0.650772    0.147277  0.021042   \n",
       "2  0.021557              0.617410            0.652227    0.157220  0.064128   \n",
       "3  0.006630              0.652736            0.684338    0.150254  0.060220   \n",
       "4  0.091199              0.576174            0.614743    0.179670  0.318637   \n",
       "\n",
       "   total_cons_12m  contract_long  renewal_to_end  modification_deferral  \n",
       "0        0.026787       0.196942        0.439807               0.512821  \n",
       "1        0.010180       0.328417        0.437400               0.592580  \n",
       "2        0.010465       0.394245        0.439540               0.632515  \n",
       "3        0.008590       0.131295        0.440075               0.367594  \n",
       "4        0.016353       0.262950        0.440342               0.552864  "
      ]
     },
     "execution_count": 115,
     "metadata": {},
     "output_type": "execute_result"
    }
   ],
   "source": [
    "data.head()"
   ]
  },
  {
   "cell_type": "code",
   "execution_count": 116,
   "metadata": {},
   "outputs": [],
   "source": [
    "data = pd.concat([data, data_id], axis = 1)\n",
    "temp_data = temp_data.reset_index()"
   ]
  },
  {
   "cell_type": "code",
   "execution_count": 117,
   "metadata": {},
   "outputs": [
    {
     "name": "stdout",
     "output_type": "stream",
     "text": [
      "(16096, 19)\n"
     ]
    },
    {
     "data": {
      "text/html": [
       "<div>\n",
       "<style scoped>\n",
       "    .dataframe tbody tr th:only-of-type {\n",
       "        vertical-align: middle;\n",
       "    }\n",
       "\n",
       "    .dataframe tbody tr th {\n",
       "        vertical-align: top;\n",
       "    }\n",
       "\n",
       "    .dataframe thead th {\n",
       "        text-align: right;\n",
       "    }\n",
       "</style>\n",
       "<table border=\"1\" class=\"dataframe\">\n",
       "  <thead>\n",
       "    <tr style=\"text-align: right;\">\n",
       "      <th></th>\n",
       "      <th>id</th>\n",
       "      <th>avg_var_12m</th>\n",
       "      <th>fix_12m</th>\n",
       "    </tr>\n",
       "  </thead>\n",
       "  <tbody>\n",
       "    <tr>\n",
       "      <th>0</th>\n",
       "      <td>3acc714fbd9b3ccaac3c412cf220e929</td>\n",
       "      <td>0.126956</td>\n",
       "      <td>15968.095330</td>\n",
       "    </tr>\n",
       "    <tr>\n",
       "      <th>1</th>\n",
       "      <td>cd0e9211c709585dacc63a0bc89e54bf</td>\n",
       "      <td>0.149855</td>\n",
       "      <td>15968.095330</td>\n",
       "    </tr>\n",
       "    <tr>\n",
       "      <th>2</th>\n",
       "      <td>0d46a2151788af3f93620d4f598e3f76</td>\n",
       "      <td>0.100758</td>\n",
       "      <td>29266.147440</td>\n",
       "    </tr>\n",
       "    <tr>\n",
       "      <th>3</th>\n",
       "      <td>73df0b25958255f478ddfdf5a7a3e1fb</td>\n",
       "      <td>0.111305</td>\n",
       "      <td>29535.068034</td>\n",
       "    </tr>\n",
       "    <tr>\n",
       "      <th>4</th>\n",
       "      <td>c8f997f57c51f9429d546cdbe7ce93c2</td>\n",
       "      <td>0.095481</td>\n",
       "      <td>26832.189420</td>\n",
       "    </tr>\n",
       "  </tbody>\n",
       "</table>\n",
       "</div>"
      ],
      "text/plain": [
       "                                 id  avg_var_12m       fix_12m\n",
       "0  3acc714fbd9b3ccaac3c412cf220e929     0.126956  15968.095330\n",
       "1  cd0e9211c709585dacc63a0bc89e54bf     0.149855  15968.095330\n",
       "2  0d46a2151788af3f93620d4f598e3f76     0.100758  29266.147440\n",
       "3  73df0b25958255f478ddfdf5a7a3e1fb     0.111305  29535.068034\n",
       "4  c8f997f57c51f9429d546cdbe7ce93c2     0.095481  26832.189420"
      ]
     },
     "execution_count": 117,
     "metadata": {},
     "output_type": "execute_result"
    }
   ],
   "source": [
    "print(data.shape)\n",
    "temp_data.head()"
   ]
  },
  {
   "cell_type": "code",
   "execution_count": 118,
   "metadata": {},
   "outputs": [
    {
     "data": {
      "text/html": [
       "<div>\n",
       "<style scoped>\n",
       "    .dataframe tbody tr th:only-of-type {\n",
       "        vertical-align: middle;\n",
       "    }\n",
       "\n",
       "    .dataframe tbody tr th {\n",
       "        vertical-align: top;\n",
       "    }\n",
       "\n",
       "    .dataframe thead th {\n",
       "        text-align: right;\n",
       "    }\n",
       "</style>\n",
       "<table border=\"1\" class=\"dataframe\">\n",
       "  <thead>\n",
       "    <tr style=\"text-align: right;\">\n",
       "      <th></th>\n",
       "      <th>id</th>\n",
       "      <th>avg_var_12m</th>\n",
       "      <th>fix_12m</th>\n",
       "    </tr>\n",
       "  </thead>\n",
       "  <tbody>\n",
       "    <tr>\n",
       "      <th>0</th>\n",
       "      <td>3acc714fbd9b3ccaac3c412cf220e929</td>\n",
       "      <td>0.126956</td>\n",
       "      <td>15968.095330</td>\n",
       "    </tr>\n",
       "    <tr>\n",
       "      <th>1</th>\n",
       "      <td>cd0e9211c709585dacc63a0bc89e54bf</td>\n",
       "      <td>0.149855</td>\n",
       "      <td>15968.095330</td>\n",
       "    </tr>\n",
       "    <tr>\n",
       "      <th>2</th>\n",
       "      <td>0d46a2151788af3f93620d4f598e3f76</td>\n",
       "      <td>0.100758</td>\n",
       "      <td>29266.147440</td>\n",
       "    </tr>\n",
       "    <tr>\n",
       "      <th>3</th>\n",
       "      <td>73df0b25958255f478ddfdf5a7a3e1fb</td>\n",
       "      <td>0.111305</td>\n",
       "      <td>29535.068034</td>\n",
       "    </tr>\n",
       "    <tr>\n",
       "      <th>4</th>\n",
       "      <td>c8f997f57c51f9429d546cdbe7ce93c2</td>\n",
       "      <td>0.095481</td>\n",
       "      <td>26832.189420</td>\n",
       "    </tr>\n",
       "  </tbody>\n",
       "</table>\n",
       "</div>"
      ],
      "text/plain": [
       "                                 id  avg_var_12m       fix_12m\n",
       "0  3acc714fbd9b3ccaac3c412cf220e929     0.126956  15968.095330\n",
       "1  cd0e9211c709585dacc63a0bc89e54bf     0.149855  15968.095330\n",
       "2  0d46a2151788af3f93620d4f598e3f76     0.100758  29266.147440\n",
       "3  73df0b25958255f478ddfdf5a7a3e1fb     0.111305  29535.068034\n",
       "4  c8f997f57c51f9429d546cdbe7ce93c2     0.095481  26832.189420"
      ]
     },
     "execution_count": 118,
     "metadata": {},
     "output_type": "execute_result"
    }
   ],
   "source": [
    "temp_data.head()"
   ]
  },
  {
   "cell_type": "code",
   "execution_count": 119,
   "metadata": {},
   "outputs": [
    {
     "name": "stdout",
     "output_type": "stream",
     "text": [
      "Profit loss from churning customers:\n",
      "$ 0.0\n",
      "\n",
      "Profit recovered from churning customers with 20% discount:\n",
      "$ 0.0\n"
     ]
    }
   ],
   "source": [
    "# Merge the pricing dataframe with the test dataframe to order\n",
    "# the prices appropriately according to the customer id's\n",
    "#data = pd.merge(data, output, on = 'id')\n",
    "\n",
    "data = pd.merge(data, temp_data, how = 'outer', on = 'id')\n",
    "\n",
    "data['revenue'] = data['avg_var_12m'] * data['cons_12m'] + data['fix_12m']\n",
    "data['profit'] = data['revenue'] * data['margin_net_pow_ele']\n",
    "\n",
    "churned_net_mar = data['margin_net_pow_ele'].iloc[churned_index]\n",
    "\n",
    "# Amount of profit lost from churned customers, divided by 100\n",
    "# to convert from cents to dollars.\n",
    "\n",
    "churned_profit = data['profit'].iloc[churned_index]\n",
    "print(\"Profit loss from churning customers:\")\n",
    "print('$',churned_profit.sum() / 100)\n",
    "print(\"\")\n",
    "\n",
    "# Increase in profit if we offer 20% discount to customers\n",
    "# predicted to churn, divided by 100 to convert from cents\n",
    "# to dollars.\n",
    "\n",
    "disc_churned_profit = churned_profit * 0.8\n",
    "print(\"Profit recovered from churning customers with 20% discount:\")\n",
    "print('$',disc_churned_profit.sum() / 100)"
   ]
  }
 ],
 "metadata": {
  "kernelspec": {
   "display_name": "Python 3",
   "language": "python",
   "name": "python3"
  },
  "language_info": {
   "codemirror_mode": {
    "name": "ipython",
    "version": 3
   },
   "file_extension": ".py",
   "mimetype": "text/x-python",
   "name": "python",
   "nbconvert_exporter": "python",
   "pygments_lexer": "ipython3",
   "version": "3.6.5"
  }
 },
 "nbformat": 4,
 "nbformat_minor": 2
}
