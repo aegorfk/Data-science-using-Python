{
  "nbformat": 4,
  "nbformat_minor": 0,
  "metadata": {
    "colab": {
      "name": "Matching Home Assignment for Candidates.ipynb",
      "version": "0.3.2",
      "provenance": [],
      "collapsed_sections": [],
      "include_colab_link": true
    },
    "language_info": {
      "codemirror_mode": {
        "name": "ipython",
        "version": 3
      },
      "file_extension": ".py",
      "mimetype": "text/x-python",
      "name": "python",
      "nbconvert_exporter": "python",
      "pygments_lexer": "ipython3",
      "version": "3.6.5"
    },
    "kernelspec": {
      "display_name": "Python 3",
      "language": "python",
      "name": "python3"
    }
  },
  "cells": [
    {
      "cell_type": "markdown",
      "metadata": {
        "id": "view-in-github",
        "colab_type": "text"
      },
      "source": [
        "<a href=\"https://colab.research.google.com/github/aegorfk/Data-science-using-Python/blob/master/Working_with_geo_data.ipynb\" target=\"_parent\"><img src=\"https://colab.research.google.com/assets/colab-badge.svg\" alt=\"Open In Colab\"/></a>"
      ]
    },
    {
      "cell_type": "markdown",
      "metadata": {
        "id": "_HLodJe7cBTW",
        "colab_type": "text"
      },
      "source": [
        "# Тестовое задание в команду продуктовой аналитики, Gett. Ляпина Екатерина"
      ]
    },
    {
      "cell_type": "markdown",
      "metadata": {
        "id": "_b7_UeJrcBTb",
        "colab_type": "text"
      },
      "source": [
        "В папке с заданием два датасета - data_orders - содержит выборку данных по заказам пользователей и включает такие колонки как:\n",
        "* order_datetime -  время заказа\n",
        "* origin_longitude - долгота\n",
        "* origin_latitude - широта\n",
        "* m_order_eta - время до прибытия машины\n",
        "* order_gk - номер заказа\n",
        "* order_status_key - статус (4 - отменен клиентом, 9 - отменен системой (reject))\n",
        "* is_driver_assigned_key - был ли назначен водитель\n",
        "* cancellations_time_in_seconds - сколько секунд прошло до отмены\n",
        "\n",
        "data_offers - содержит пары номер заказа - ID оффера, который был предложен водителю по данному заказу.\n"
      ]
    },
    {
      "cell_type": "markdown",
      "metadata": {
        "id": "5nO0dfdkcBTd",
        "colab_type": "text"
      },
      "source": [
        "В момент когда клиент нажимать на кнопку \"Заказать\" в приложении, система матчинга подыскивает наиболее релевантых водителей и предлагаем им заказ. В задании предлагается исследовать некоторые метрики матчинга для заказов, которые не завершились успешно (клиент в итоге не получил машину). "
      ]
    },
    {
      "cell_type": "markdown",
      "metadata": {
        "id": "ttlIzUBAcBTh",
        "colab_type": "text"
      },
      "source": [
        "**0.** Подготовка данных"
      ]
    },
    {
      "cell_type": "code",
      "metadata": {
        "id": "1c5OSYMKcS7K",
        "colab_type": "code",
        "colab": {
          "base_uri": "https://localhost:8080/",
          "height": 247
        },
        "outputId": "39901d25-77a6-4fe9-fdc1-18c1ce5308a4"
      },
      "source": [
        "!pip install pydrive\n",
        "import os\n",
        "from zipfile import ZipFile\n",
        "from shutil import copy\n",
        "from pydrive.auth import GoogleAuth\n",
        "from pydrive.drive import GoogleDrive\n",
        "from google.colab import auth\n",
        "from oauth2client.client import GoogleCredentials\n",
        "\n",
        "#File is here\n",
        "#https://drive.google.com/file/d/1-_Z8HOscXw8ddtW6RGMTwWravA450Sqv/view?usp=sharing\n",
        "fileId = '1-_Z8HOscXw8ddtW6RGMTwWravA450Sqv'"
      ],
      "execution_count": 1,
      "outputs": [
        {
          "output_type": "stream",
          "text": [
            "Requirement already satisfied: pydrive in /usr/local/lib/python3.6/dist-packages (1.3.1)\n",
            "Requirement already satisfied: PyYAML>=3.0 in /usr/local/lib/python3.6/dist-packages (from pydrive) (3.13)\n",
            "Requirement already satisfied: oauth2client>=4.0.0 in /usr/local/lib/python3.6/dist-packages (from pydrive) (4.1.3)\n",
            "Requirement already satisfied: google-api-python-client>=1.2 in /usr/local/lib/python3.6/dist-packages (from pydrive) (1.7.9)\n",
            "Requirement already satisfied: pyasn1-modules>=0.0.5 in /usr/local/lib/python3.6/dist-packages (from oauth2client>=4.0.0->pydrive) (0.2.5)\n",
            "Requirement already satisfied: six>=1.6.1 in /usr/local/lib/python3.6/dist-packages (from oauth2client>=4.0.0->pydrive) (1.12.0)\n",
            "Requirement already satisfied: httplib2>=0.9.1 in /usr/local/lib/python3.6/dist-packages (from oauth2client>=4.0.0->pydrive) (0.11.3)\n",
            "Requirement already satisfied: pyasn1>=0.1.7 in /usr/local/lib/python3.6/dist-packages (from oauth2client>=4.0.0->pydrive) (0.4.5)\n",
            "Requirement already satisfied: rsa>=3.1.4 in /usr/local/lib/python3.6/dist-packages (from oauth2client>=4.0.0->pydrive) (4.0)\n",
            "Requirement already satisfied: google-auth-httplib2>=0.0.3 in /usr/local/lib/python3.6/dist-packages (from google-api-python-client>=1.2->pydrive) (0.0.3)\n",
            "Requirement already satisfied: uritemplate<4dev,>=3.0.0 in /usr/local/lib/python3.6/dist-packages (from google-api-python-client>=1.2->pydrive) (3.0.0)\n",
            "Requirement already satisfied: google-auth>=1.4.1 in /usr/local/lib/python3.6/dist-packages (from google-api-python-client>=1.2->pydrive) (1.4.2)\n",
            "Requirement already satisfied: cachetools>=2.0.0 in /usr/local/lib/python3.6/dist-packages (from google-auth>=1.4.1->google-api-python-client>=1.2->pydrive) (3.1.1)\n"
          ],
          "name": "stdout"
        }
      ]
    },
    {
      "cell_type": "code",
      "metadata": {
        "id": "IrfvPLKABfSh",
        "colab_type": "code",
        "colab": {
          "base_uri": "https://localhost:8080/",
          "height": 212
        },
        "outputId": "b8e2a2ce-9d07-42e2-a4bb-3477360e255d"
      },
      "source": [
        "auth.authenticate_user()\n",
        "gauth = GoogleAuth()\n",
        "gauth.credentials = GoogleCredentials.get_application_default()\n",
        "drive = GoogleDrive(gauth)\n",
        "\n",
        "fileName = fileId + '.zip'\n",
        "downloaded = drive.CreateFile({'id': fileId})\n",
        "downloaded.GetContentFile(fileName)\n",
        "ds = ZipFile(fileName)\n",
        "ds.extractall()\n",
        "os.remove(fileName)\n",
        "print('Extracted zip file ' + fileName)\n",
        "\n",
        "!ls -lah"
      ],
      "execution_count": 2,
      "outputs": [
        {
          "output_type": "stream",
          "text": [
            "Extracted zip file 1-_Z8HOscXw8ddtW6RGMTwWravA450Sqv.zip\n",
            "total 9.3M\n",
            "drwxr-xr-x 1 root root 4.0K Jul  3 11:52  .\n",
            "drwxr-xr-x 1 root root 4.0K Jul  3 08:39  ..\n",
            "-rw-r--r-- 1 root root 2.5K Jul  3 08:49  adc.json\n",
            "drwxr-xr-x 1 root root 4.0K Jul  3 08:49  .config\n",
            "-rw-r--r-- 1 root root 8.7M Jul  3 11:52  data_offers.csv\n",
            "-rw-r--r-- 1 root root 559K Jul  3 11:52  data_orders.csv\n",
            "drwxr-xr-x 2 root root 4.0K Jul  3 08:49  __MACOSX\n",
            "-rw-r--r-- 1 root root  12K Jul  3 11:52 'Matching Home Assignment for Candidates.ipynb'\n",
            "drwxr-xr-x 1 root root 4.0K Jun 18 16:14  sample_data\n"
          ],
          "name": "stdout"
        }
      ]
    },
    {
      "cell_type": "code",
      "metadata": {
        "id": "m3iR9Pm4cBTk",
        "colab_type": "code",
        "colab": {}
      },
      "source": [
        "import pandas as pd\n",
        "data_orders = pd.read_csv('data_orders.csv')\n",
        "data_offers = pd.read_csv('data_offers.csv')\n",
        "\n",
        "data_orders['order_datetime'] =  pd.to_datetime(data_orders['order_datetime']) #format='%Y-%m-%d %H:%M:%S'"
      ],
      "execution_count": 0,
      "outputs": []
    },
    {
      "cell_type": "code",
      "metadata": {
        "id": "4cstuia2cBTu",
        "colab_type": "code",
        "colab": {
          "base_uri": "https://localhost:8080/",
          "height": 206
        },
        "outputId": "662f22cc-e694-4ccc-d3b6-68542ac55178"
      },
      "source": [
        "data_orders.head()"
      ],
      "execution_count": 4,
      "outputs": [
        {
          "output_type": "execute_result",
          "data": {
            "text/html": [
              "<div>\n",
              "<style scoped>\n",
              "    .dataframe tbody tr th:only-of-type {\n",
              "        vertical-align: middle;\n",
              "    }\n",
              "\n",
              "    .dataframe tbody tr th {\n",
              "        vertical-align: top;\n",
              "    }\n",
              "\n",
              "    .dataframe thead th {\n",
              "        text-align: right;\n",
              "    }\n",
              "</style>\n",
              "<table border=\"1\" class=\"dataframe\">\n",
              "  <thead>\n",
              "    <tr style=\"text-align: right;\">\n",
              "      <th></th>\n",
              "      <th>order_datetime</th>\n",
              "      <th>origin_longitude</th>\n",
              "      <th>origin_latitude</th>\n",
              "      <th>m_order_eta</th>\n",
              "      <th>order_gk</th>\n",
              "      <th>order_status_key</th>\n",
              "      <th>is_driver_assigned_key</th>\n",
              "      <th>cancellations_time_in_seconds</th>\n",
              "    </tr>\n",
              "  </thead>\n",
              "  <tbody>\n",
              "    <tr>\n",
              "      <th>0</th>\n",
              "      <td>2019-07-03 18:08:07</td>\n",
              "      <td>-0.978916</td>\n",
              "      <td>51.456173</td>\n",
              "      <td>60.0</td>\n",
              "      <td>3000583041974</td>\n",
              "      <td>4</td>\n",
              "      <td>1</td>\n",
              "      <td>198.0</td>\n",
              "    </tr>\n",
              "    <tr>\n",
              "      <th>1</th>\n",
              "      <td>2019-07-03 20:57:32</td>\n",
              "      <td>-0.950385</td>\n",
              "      <td>51.456843</td>\n",
              "      <td>NaN</td>\n",
              "      <td>3000583116437</td>\n",
              "      <td>4</td>\n",
              "      <td>0</td>\n",
              "      <td>128.0</td>\n",
              "    </tr>\n",
              "    <tr>\n",
              "      <th>2</th>\n",
              "      <td>2019-07-03 12:07:50</td>\n",
              "      <td>-0.969520</td>\n",
              "      <td>51.455544</td>\n",
              "      <td>477.0</td>\n",
              "      <td>3000582891479</td>\n",
              "      <td>4</td>\n",
              "      <td>1</td>\n",
              "      <td>46.0</td>\n",
              "    </tr>\n",
              "    <tr>\n",
              "      <th>3</th>\n",
              "      <td>2019-07-03 13:50:20</td>\n",
              "      <td>-1.054671</td>\n",
              "      <td>51.460544</td>\n",
              "      <td>658.0</td>\n",
              "      <td>3000582941169</td>\n",
              "      <td>4</td>\n",
              "      <td>1</td>\n",
              "      <td>62.0</td>\n",
              "    </tr>\n",
              "    <tr>\n",
              "      <th>4</th>\n",
              "      <td>2019-07-03 21:24:45</td>\n",
              "      <td>-0.967605</td>\n",
              "      <td>51.458236</td>\n",
              "      <td>NaN</td>\n",
              "      <td>3000583140877</td>\n",
              "      <td>9</td>\n",
              "      <td>0</td>\n",
              "      <td>NaN</td>\n",
              "    </tr>\n",
              "  </tbody>\n",
              "</table>\n",
              "</div>"
            ],
            "text/plain": [
              "       order_datetime  ...  cancellations_time_in_seconds\n",
              "0 2019-07-03 18:08:07  ...                          198.0\n",
              "1 2019-07-03 20:57:32  ...                          128.0\n",
              "2 2019-07-03 12:07:50  ...                           46.0\n",
              "3 2019-07-03 13:50:20  ...                           62.0\n",
              "4 2019-07-03 21:24:45  ...                            NaN\n",
              "\n",
              "[5 rows x 8 columns]"
            ]
          },
          "metadata": {
            "tags": []
          },
          "execution_count": 4
        }
      ]
    },
    {
      "cell_type": "code",
      "metadata": {
        "id": "4Qq6l3WRcBT8",
        "colab_type": "code",
        "colab": {
          "base_uri": "https://localhost:8080/",
          "height": 176
        },
        "outputId": "606495ac-5554-42e6-ed7c-cb7fe21002d7"
      },
      "source": [
        "data_orders[\"order_status_key\"] = data_orders['order_status_key'].astype('object')\n",
        "data_orders[\"is_driver_assigned_key\"] = data_orders['is_driver_assigned_key'].astype('object')\n",
        "data_orders.dtypes"
      ],
      "execution_count": 5,
      "outputs": [
        {
          "output_type": "execute_result",
          "data": {
            "text/plain": [
              "order_datetime                   datetime64[ns]\n",
              "origin_longitude                        float64\n",
              "origin_latitude                         float64\n",
              "m_order_eta                             float64\n",
              "order_gk                                  int64\n",
              "order_status_key                         object\n",
              "is_driver_assigned_key                   object\n",
              "cancellations_time_in_seconds           float64\n",
              "dtype: object"
            ]
          },
          "metadata": {
            "tags": []
          },
          "execution_count": 5
        }
      ]
    },
    {
      "cell_type": "code",
      "metadata": {
        "id": "kpfd6wZokueg",
        "colab_type": "code",
        "colab": {
          "base_uri": "https://localhost:8080/",
          "height": 176
        },
        "outputId": "121f8ab2-b877-47f5-8a3e-2ea0f1cdf999"
      },
      "source": [
        "print(data_orders.isnull().sum())"
      ],
      "execution_count": 6,
      "outputs": [
        {
          "output_type": "stream",
          "text": [
            "order_datetime                      0\n",
            "origin_longitude                    0\n",
            "origin_latitude                     0\n",
            "m_order_eta                      7902\n",
            "order_gk                            0\n",
            "order_status_key                    0\n",
            "is_driver_assigned_key              0\n",
            "cancellations_time_in_seconds    3409\n",
            "dtype: int64\n"
          ],
          "name": "stdout"
        }
      ]
    },
    {
      "cell_type": "code",
      "metadata": {
        "id": "_OXC2NMWcBUH",
        "colab_type": "code",
        "colab": {
          "base_uri": "https://localhost:8080/",
          "height": 70
        },
        "outputId": "21e97838-1b7c-4138-c759-fafbd1b92e52"
      },
      "source": [
        "data_orders[\"order_status_key\"].value_counts()"
      ],
      "execution_count": 7,
      "outputs": [
        {
          "output_type": "execute_result",
          "data": {
            "text/plain": [
              "4    7307\n",
              "9    3409\n",
              "Name: order_status_key, dtype: int64"
            ]
          },
          "metadata": {
            "tags": []
          },
          "execution_count": 7
        }
      ]
    },
    {
      "cell_type": "code",
      "metadata": {
        "id": "77oYkkJxcBUR",
        "colab_type": "code",
        "colab": {
          "base_uri": "https://localhost:8080/",
          "height": 206
        },
        "outputId": "82958cbb-1d60-4edc-b9b5-0c7a9a647070"
      },
      "source": [
        "data_offers.head()"
      ],
      "execution_count": 8,
      "outputs": [
        {
          "output_type": "execute_result",
          "data": {
            "text/html": [
              "<div>\n",
              "<style scoped>\n",
              "    .dataframe tbody tr th:only-of-type {\n",
              "        vertical-align: middle;\n",
              "    }\n",
              "\n",
              "    .dataframe tbody tr th {\n",
              "        vertical-align: top;\n",
              "    }\n",
              "\n",
              "    .dataframe thead th {\n",
              "        text-align: right;\n",
              "    }\n",
              "</style>\n",
              "<table border=\"1\" class=\"dataframe\">\n",
              "  <thead>\n",
              "    <tr style=\"text-align: right;\">\n",
              "      <th></th>\n",
              "      <th>order_gk</th>\n",
              "      <th>offer_id</th>\n",
              "    </tr>\n",
              "  </thead>\n",
              "  <tbody>\n",
              "    <tr>\n",
              "      <th>0</th>\n",
              "      <td>3000579625629</td>\n",
              "      <td>300050936206</td>\n",
              "    </tr>\n",
              "    <tr>\n",
              "      <th>1</th>\n",
              "      <td>3000627306450</td>\n",
              "      <td>300052064651</td>\n",
              "    </tr>\n",
              "    <tr>\n",
              "      <th>2</th>\n",
              "      <td>3000632920686</td>\n",
              "      <td>300052408812</td>\n",
              "    </tr>\n",
              "    <tr>\n",
              "      <th>3</th>\n",
              "      <td>3000632771725</td>\n",
              "      <td>300052393030</td>\n",
              "    </tr>\n",
              "    <tr>\n",
              "      <th>4</th>\n",
              "      <td>3000583467642</td>\n",
              "      <td>300051001196</td>\n",
              "    </tr>\n",
              "  </tbody>\n",
              "</table>\n",
              "</div>"
            ],
            "text/plain": [
              "        order_gk      offer_id\n",
              "0  3000579625629  300050936206\n",
              "1  3000627306450  300052064651\n",
              "2  3000632920686  300052408812\n",
              "3  3000632771725  300052393030\n",
              "4  3000583467642  300051001196"
            ]
          },
          "metadata": {
            "tags": []
          },
          "execution_count": 8
        }
      ]
    },
    {
      "cell_type": "code",
      "metadata": {
        "id": "bDypCVKLcBUZ",
        "colab_type": "code",
        "colab": {
          "base_uri": "https://localhost:8080/",
          "height": 70
        },
        "outputId": "53e29027-90c4-4a1a-feac-ca5b2dce33e8"
      },
      "source": [
        "print(data_offers.isnull().sum())"
      ],
      "execution_count": 9,
      "outputs": [
        {
          "output_type": "stream",
          "text": [
            "order_gk    0\n",
            "offer_id    0\n",
            "dtype: int64\n"
          ],
          "name": "stdout"
        }
      ]
    },
    {
      "cell_type": "markdown",
      "metadata": {
        "id": "-e-MKlvWcBUw",
        "colab_type": "text"
      },
      "source": [
        "**1.** Постройте распределение заказов по причинам неуспеха: отмены до и после назначения водителя, режекты"
      ]
    },
    {
      "cell_type": "code",
      "metadata": {
        "id": "Ve7zFDn7cBUy",
        "colab_type": "code",
        "colab": {}
      },
      "source": [
        "data_orders[\"category\"] = data_orders[\"order_status_key\"].astype(str) \\\n",
        "                + data_orders[\"is_driver_assigned_key\"].astype(str)\n",
        "data_orders[\"category\"] = data_orders[\"category\"].astype(int)"
      ],
      "execution_count": 0,
      "outputs": []
    },
    {
      "cell_type": "code",
      "metadata": {
        "id": "GeusVq4McBU3",
        "colab_type": "code",
        "colab": {
          "base_uri": "https://localhost:8080/",
          "height": 283
        },
        "outputId": "9946c770-0791-4157-8633-40fe29edabdf"
      },
      "source": [
        "import seaborn as sns\n",
        "ax = sns.countplot(x=\"category\", data=data_orders)"
      ],
      "execution_count": 11,
      "outputs": [
        {
          "output_type": "display_data",
          "data": {
            "image/png": "[encoded data removed]",
            "text/plain": [
              "<Figure size 432x288 with 1 Axes>"
            ]
          },
          "metadata": {
            "tags": []
          }
        }
      ]
    },
    {
      "cell_type": "code",
      "metadata": {
        "id": "3ZTtNetAcBU7",
        "colab_type": "code",
        "colab": {
          "base_uri": "https://localhost:8080/",
          "height": 281
        },
        "outputId": "c0e41825-fdb8-4e24-eb41-7512bd452018"
      },
      "source": [
        "from statsmodels.graphics.mosaicplot import mosaic\n",
        "import matplotlib.pyplot as plt\n",
        "mosaic(data_orders, ['is_driver_assigned_key', 'order_status_key'], title = 'DataFrame as Source')\n",
        "plt.show()"
      ],
      "execution_count": 12,
      "outputs": [
        {
          "output_type": "display_data",
          "data": {
            "image/png": "[encoded data removed]",
            "text/plain": [
              "<Figure size 432x288 with 3 Axes>"
            ]
          },
          "metadata": {
            "tags": []
          }
        }
      ]
    },
    {
      "cell_type": "markdown",
      "metadata": {
        "id": "ILJSbwyPcBVC",
        "colab_type": "text"
      },
      "source": [
        "Проанализируйте полученный график - в какой категории наибольшое количество заказов?"
      ]
    },
    {
      "cell_type": "markdown",
      "metadata": {
        "id": "w7sCx__xcBVD",
        "colab_type": "text"
      },
      "source": [
        "**Большее количество заказов в категории \"заказ был отменен клиентом, но водитель еще не был назначен\"**"
      ]
    },
    {
      "cell_type": "markdown",
      "metadata": {
        "id": "yuivXQyMcBVE",
        "colab_type": "text"
      },
      "source": [
        "**2.** Постройте график распределения фейлов по часам - наблюдается ли тендеция, что в какие то часы доля той или иной категории аномально высока?\n",
        "В какие часы фейлов больше всего? Чем это можно объяснить?"
      ]
    },
    {
      "cell_type": "markdown",
      "metadata": {
        "id": "vmoEbBYolS9H",
        "colab_type": "text"
      },
      "source": [
        "**Больше всего отмен в 8 утра. Это может быть связано с тем, что люди примерно в это время собираются на работу, заказывают транспорт, а потом находят альтернативы.**\n",
        "\n",
        "**Можно отметить, что в пиковые часы (с 20 до 1 часа) доля заказов, отмененных самим клиентом, но когда водитель не назначен (категория 40) значительно больше категории 41, то есть когда водитель уже успел был назначить. Не сказать, что это прямо аномальная разница, но она довольно значительная.**"
      ]
    },
    {
      "cell_type": "code",
      "metadata": {
        "id": "AOgpBC4dcBVN",
        "colab_type": "code",
        "colab": {
          "base_uri": "https://localhost:8080/",
          "height": 418
        },
        "outputId": "3fd4fc54-90b1-4348-b17d-80b0c53217ae"
      },
      "source": [
        "#General counts\n",
        "plt.figure(figsize = (16, 10))\n",
        "data_orders[\"hour\"] = data_orders[\"order_datetime\"].dt.hour\n",
        "sns.catplot(y = \"hour\", hue = \"category\", kind = \"count\", data = data_orders)"
      ],
      "execution_count": 13,
      "outputs": [
        {
          "output_type": "execute_result",
          "data": {
            "text/plain": [
              "<seaborn.axisgrid.FacetGrid at 0x7fbc7f91a160>"
            ]
          },
          "metadata": {
            "tags": []
          },
          "execution_count": 13
        },
        {
          "output_type": "display_data",
          "data": {
            "text/plain": [
              "<Figure size 1152x720 with 0 Axes>"
            ]
          },
          "metadata": {
            "tags": []
          }
        },
        {
          "output_type": "display_data",
          "data": {
            "image/png": "[encoded data removed]",
            "text/plain": [
              "<Figure size 412x360 with 1 Axes>"
            ]
          },
          "metadata": {
            "tags": []
          }
        }
      ]
    },
    {
      "cell_type": "code",
      "metadata": {
        "id": "ycLc5_EXcBVw",
        "colab_type": "code",
        "colab": {
          "base_uri": "https://localhost:8080/",
          "height": 339
        },
        "outputId": "e30b52b0-d03a-42aa-bfd6-0faae95a4750"
      },
      "source": [
        "data_orders_91 = data_orders.loc[data_orders[\"category\"] == 91]\n",
        "print(\"Orders in a category \" + str(data_orders_91[\"order_status_key\"].value_counts()))\n",
        "data_orders_91.order_datetime.groupby(data_orders_91[\"order_datetime\"].dt.hour).count().plot(kind = \"bar\")\n",
        "# This category is extremelly rare, so it might be a technical one"
      ],
      "execution_count": 14,
      "outputs": [
        {
          "output_type": "stream",
          "text": [
            "Orders in a category 9    3\n",
            "Name: order_status_key, dtype: int64\n"
          ],
          "name": "stdout"
        },
        {
          "output_type": "execute_result",
          "data": {
            "text/plain": [
              "<matplotlib.axes._subplots.AxesSubplot at 0x7fbc7f872d68>"
            ]
          },
          "metadata": {
            "tags": []
          },
          "execution_count": 14
        },
        {
          "output_type": "display_data",
          "data": {
            "image/png": "[encoded data removed]",
            "text/plain": [
              "<Figure size 432x288 with 1 Axes>"
            ]
          },
          "metadata": {
            "tags": []
          }
        }
      ]
    },
    {
      "cell_type": "markdown",
      "metadata": {
        "id": "xKQs9aVZcBV5",
        "colab_type": "text"
      },
      "source": [
        "**3**. Постройте графики среднего времени до отмены (cancellations_time_in_seconds) с водителем и без, по часам. Если есть выбросы в данных - лучше удалить. Можно ли сделать выводы по этому графику?"
      ]
    },
    {
      "cell_type": "markdown",
      "metadata": {
        "id": "Th71oj77leGQ",
        "colab_type": "text"
      },
      "source": [
        "**Отсуствие значимых аномалий, пропорции категорий примерно сохраняются.**"
      ]
    },
    {
      "cell_type": "code",
      "metadata": {
        "id": "xP_1-fvGcBV6",
        "colab_type": "code",
        "colab": {}
      },
      "source": [
        "import numpy as np\n",
        "\n",
        "df = data_orders[np.isfinite(data_orders['cancellations_time_in_seconds'])]\n",
        "\n",
        "Q1 = df.cancellations_time_in_seconds.quantile(0.25)\n",
        "Q3 = df.cancellations_time_in_seconds.quantile(0.75)\n",
        "IQR = Q3 - Q1\n",
        "\n",
        "df = df[(df['cancellations_time_in_seconds'] < (Q1 - 1.5 * IQR))  \\\n",
        "     |  (df['cancellations_time_in_seconds'] > (Q3 + 1.5 * IQR))]"
      ],
      "execution_count": 0,
      "outputs": []
    },
    {
      "cell_type": "code",
      "metadata": {
        "id": "KKn8JS05cBV-",
        "colab_type": "code",
        "colab": {
          "base_uri": "https://localhost:8080/",
          "height": 283
        },
        "outputId": "1c2a0f10-75f7-4c54-fa7c-2df9e3227df8"
      },
      "source": [
        "ax = sns.countplot(x=\"hour\", hue=\"is_driver_assigned_key\", data = df)"
      ],
      "execution_count": 16,
      "outputs": [
        {
          "output_type": "display_data",
          "data": {
            "image/png": "[encoded data removed]",
            "text/plain": [
              "<Figure size 432x288 with 1 Axes>"
            ]
          },
          "metadata": {
            "tags": []
          }
        }
      ]
    },
    {
      "cell_type": "markdown",
      "metadata": {
        "id": "skNKhLowcBWE",
        "colab_type": "text"
      },
      "source": [
        "**4.** Постройте распределение среднего ЕТА по часам. Чем можно объяснить такой вид графика?"
      ]
    },
    {
      "cell_type": "markdown",
      "metadata": {
        "id": "kmlJ7e9Jm-TB",
        "colab_type": "text"
      },
      "source": [
        "**Можно увидеть пики в 8, 17 часов, связанные с маятниковой миграцией, а также характерные (но не такие сильные) пики спроса с 21 до 0 часов - возможно, ночная жизнь. Повышенное ожидание может быть связано с повышенным спросом на транспортные услуги в это время суток.**"
      ]
    },
    {
      "cell_type": "code",
      "metadata": {
        "id": "izvTBvgYcBWG",
        "colab_type": "code",
        "colab": {
          "base_uri": "https://localhost:8080/",
          "height": 283
        },
        "outputId": "e287d326-c26b-4f41-a1ff-3bc194c3a194"
      },
      "source": [
        "eta = df.groupby('hour').mean().reset_index()\n",
        "\n",
        "ax = sns.barplot(x = \"hour\", y = \"m_order_eta\", data = eta)"
      ],
      "execution_count": 17,
      "outputs": [
        {
          "output_type": "display_data",
          "data": {
            "image/png": "[encoded data removed]",
            "text/plain": [
              "<Figure size 432x288 with 1 Axes>"
            ]
          },
          "metadata": {
            "tags": []
          }
        }
      ]
    },
    {
      "cell_type": "markdown",
      "metadata": {
        "id": "YYb8g9J_cBWQ",
        "colab_type": "text"
      },
      "source": [
        "*Место для ответа*"
      ]
    },
    {
      "cell_type": "markdown",
      "metadata": {
        "id": "vb09KzjdcBWQ",
        "colab_type": "text"
      },
      "source": [
        "**5.** Колонка drivers_offered - показывает сколько водителей увидели заказ и могли его принять. Постройте часовую разбивку среднего количества водителей которым был предложен заказ. Что можно сказать по ней про избыток/нехватку водителей в те или иные часы?"
      ]
    },
    {
      "cell_type": "markdown",
      "metadata": {
        "id": "0sdkf7tPcBWU",
        "colab_type": "text"
      },
      "source": [
        "**Нет такой колонки в предоставленных данных, но я создала ее из второго набора данных. Наблюдается малое количество показа водителям в 4-5 часов ночи, что может быть связано с малым количество активных водителей в это время (водители спят). Также есть просадки по показам в 10 утра и 19 вечера. Это может быть связанно например с желанием водителей сделать перерыв после пиковых часов спроса, но может быть из-за того, что водители загруженны еще пиковыми заказами.**"
      ]
    },
    {
      "cell_type": "code",
      "metadata": {
        "id": "1SwgJ4LIeufq",
        "colab_type": "code",
        "colab": {}
      },
      "source": [
        "offers = pd.DataFrame(data_offers[\"order_gk\"].value_counts()).reset_index()\n",
        "offers.columns = [\"order_gk\", \"drivers_offered\"]\n",
        "data_orders = pd.merge(data_orders, offers, how = 'left', on = 'order_gk')\n",
        "data_orders['drivers_offered'] = data_orders['drivers_offered'].fillna(0)"
      ],
      "execution_count": 0,
      "outputs": []
    },
    {
      "cell_type": "code",
      "metadata": {
        "id": "suNrMZFIeyOe",
        "colab_type": "code",
        "colab": {
          "base_uri": "https://localhost:8080/",
          "height": 283
        },
        "outputId": "724de08c-293b-494e-e8da-60216f8695c0"
      },
      "source": [
        "offers = data_orders.groupby('hour').mean().reset_index()\n",
        "ax = sns.barplot(x = \"hour\", y = \"drivers_offered\", data = offers)"
      ],
      "execution_count": 19,
      "outputs": [
        {
          "output_type": "display_data",
          "data": {
            "image/png": "[encoded data removed]",
            "text/plain": [
              "<Figure size 432x288 with 1 Axes>"
            ]
          },
          "metadata": {
            "tags": []
          }
        }
      ]
    },
    {
      "cell_type": "markdown",
      "metadata": {
        "id": "SZp4AMazcBWZ",
        "colab_type": "text"
      },
      "source": [
        "**6*.** Гексаконы.\n",
        "Воспользовавшись пакетами h3 и folium, посчитайте, сколько гексагонов размера 8 (https://uber.github.io/h3/#/documentation/core-library/resolution-table) содержат 80% всех заказов из исходного датасета и визуализируйте гексагон с наибольшим количеством фейлов на карте."
      ]
    },
    {
      "cell_type": "code",
      "metadata": {
        "id": "gab6nDfxcBWa",
        "colab_type": "code",
        "colab": {}
      },
      "source": [
        "#!pip install h3 folium\n",
        "#given a latitude/longitude point, find the index of the containing H3 cell at a particular resolution\n",
        "\n",
        "import os\n",
        "import sys\n",
        "module_path = os.path.abspath(os.path.join('..'))\n",
        "if module_path not in sys.path:\n",
        "    sys.path.append(module_path)   \n",
        "from h3 import h3\n",
        "import folium\n",
        "\n",
        "def visualize_hexagons(hexagons, color=\"red\", folium_map=None):\n",
        "    \"\"\"\n",
        "    hexagons is a list of hexcluster. Each hexcluster is a list of hexagons. \n",
        "    eg. [[hex1, hex2], [hex3, hex4]]\n",
        "    \"\"\"\n",
        "    polylines = []\n",
        "    lat = []\n",
        "    lng = []\n",
        "    for hex in hexagons:\n",
        "        polygons = h3.h3_set_to_multi_polygon([hex], geo_json=False)\n",
        "        # flatten polygons into loops.\n",
        "        outlines = [loop for polygon in polygons for loop in polygon]\n",
        "        polyline = [outline + [outline[0]] for outline in outlines][0]\n",
        "        lat.extend(map(lambda v:v[0],polyline))\n",
        "        lng.extend(map(lambda v:v[1],polyline))\n",
        "        polylines.append(polyline)\n",
        "    \n",
        "    if folium_map is None:\n",
        "        m = folium.Map(location=[sum(lat)/len(lat), sum(lng)/len(lng)], zoom_start=15, tiles='cartodbpositron')\n",
        "    else:\n",
        "        m = folium_map\n",
        "    for polyline in polylines:\n",
        "        my_PolyLine=folium.PolyLine(locations=polyline,weight=8,color=color)\n",
        "        m.add_child(my_PolyLine)\n",
        "    return m\n",
        "    \n",
        "\n",
        "def visualize_polygon(polyline, color):\n",
        "    polyline.append(polyline[0])\n",
        "    lat = [p[0] for p in polyline]\n",
        "    lng = [p[1] for p in polyline]\n",
        "    m = folium.Map(location=[sum(lat)/len(lat), sum(lng)/len(lng)], zoom_start=13, tiles='cartodbpositron')\n",
        "    my_PolyLine=folium.PolyLine(locations=polyline,weight=8,color=color)\n",
        "    m.add_child(my_PolyLine)\n",
        "    return m"
      ],
      "execution_count": 0,
      "outputs": []
    },
    {
      "cell_type": "code",
      "metadata": {
        "id": "cz2j3KCDH91s",
        "colab_type": "code",
        "colab": {
          "base_uri": "https://localhost:8080/",
          "height": 35
        },
        "outputId": "ba6d6a67-ec78-4861-86fa-15a4254544c5"
      },
      "source": [
        "#how many values account to 80%\n",
        "data_orders['hexagons'] = data_orders.apply(lambda x: h3.geo_to_h3(x.origin_longitude, x.origin_latitude, 8), axis=1)\n",
        "hexagons = pd.DataFrame(data_orders['hexagons'].value_counts()).reset_index().values\n",
        "counting_value  = int(round(0.8 * data_orders[\"order_gk\"].shape[0], 0))\n",
        "print(\"Our 80% is \" + str(counting_value) + \" offers.\" )"
      ],
      "execution_count": 21,
      "outputs": [
        {
          "output_type": "stream",
          "text": [
            "Our 80% is 8573 offers.\n"
          ],
          "name": "stdout"
        }
      ]
    },
    {
      "cell_type": "code",
      "metadata": {
        "id": "rbAMw_OsPm8G",
        "colab_type": "code",
        "colab": {
          "base_uri": "https://localhost:8080/",
          "height": 283
        },
        "outputId": "5d245aa1-8a33-4df9-9bf9-59b21a368426"
      },
      "source": [
        "ax = sns.countplot(x = \"hexagons\", data = data_orders)"
      ],
      "execution_count": 22,
      "outputs": [
        {
          "output_type": "display_data",
          "data": {
            "image/png": "[encoded data removed]",
            "text/plain": [
              "<Figure size 432x288 with 1 Axes>"
            ]
          },
          "metadata": {
            "tags": []
          }
        }
      ]
    },
    {
      "cell_type": "code",
      "metadata": {
        "id": "scJvBDxGKkNh",
        "colab_type": "code",
        "colab": {
          "base_uri": "https://localhost:8080/",
          "height": 35
        },
        "outputId": "dcbd9b97-4174-4b39-c030-8a40070ca78c"
      },
      "source": [
        "counting = 0\n",
        "counting_hex = 0\n",
        "names = []\n",
        "for x in range(0, hexagons.shape[0]):\n",
        "  if counting <= counting_value:\n",
        "    counting = counting + hexagons[x][1]\n",
        "    counting_hex = counting_hex + 1\n",
        "    names.append(hexagons[x][0])\n",
        "\n",
        "print(\"Количество гексагонов \" + str(counting_hex))"
      ],
      "execution_count": 27,
      "outputs": [
        {
          "output_type": "stream",
          "text": [
            "Количество гексагонов 36\n"
          ],
          "name": "stdout"
        }
      ]
    },
    {
      "cell_type": "code",
      "metadata": {
        "id": "deDx4cNLNTKK",
        "colab_type": "code",
        "colab": {
          "base_uri": "https://localhost:8080/",
          "height": 911
        },
        "outputId": "b1189b87-5e34-4eef-be09-54111e90d74e"
      },
      "source": [
        "#visualise 80%\n",
        "m = visualize_hexagons(names, color=\"purple\")\n",
        "m"
      ],
      "execution_count": 25,
      "outputs": [
        {
          "output_type": "execute_result",
          "data": {
            "text/html": [
              "<div style=\"width:100%;\"><div style=\"position:relative;width:100%;height:0;padding-bottom:60%;\"><iframe src=\"data:text/html;charset=utf-8;base64,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\" style=\"position:absolute;width:100%;height:100%;left:0;top:0;border:none !important;\" allowfullscreen webkitallowfullscreen mozallowfullscreen></iframe></div></div>"
            ],
            "text/plain": [
              "<folium.folium.Map at 0x7fbc7f680320>"
            ]
          },
          "metadata": {
            "tags": []
          },
          "execution_count": 25
        }
      ]
    },
    {
      "cell_type": "code",
      "metadata": {
        "id": "g6Zqcb_ye25c",
        "colab_type": "code",
        "colab": {
          "base_uri": "https://localhost:8080/",
          "height": 911
        },
        "outputId": "45e48090-b01a-42f6-fa54-8a8833d30b7a"
      },
      "source": [
        "#The biggest one:\n",
        "#hexagons[:,0][0]\n",
        "m = visualize_hexagons(hexagons[:,0][0], color=\"purple\")\n",
        "m"
      ],
      "execution_count": 26,
      "outputs": [
        {
          "output_type": "execute_result",
          "data": {
            "text/html": [
              "<div style=\"width:100%;\"><div style=\"position:relative;width:100%;height:0;padding-bottom:60%;\"><iframe src=\"data:text/html;charset=utf-8;base64,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\" style=\"position:absolute;width:100%;height:100%;left:0;top:0;border:none !important;\" allowfullscreen webkitallowfullscreen mozallowfullscreen></iframe></div></div>"
            ],
            "text/plain": [
              "<folium.folium.Map at 0x7fbc7f77b7b8>"
            ]
          },
          "metadata": {
            "tags": []
          },
          "execution_count": 26
        }
      ]
    },
    {
      "cell_type": "markdown",
      "metadata": {
        "id": "pi5fRxuTcBWr",
        "colab_type": "text"
      },
      "source": [
        "Ответ:\n",
        "- Минимальное количество гексагонов, которое вмещает в себя 80% отмененных заказов - **36** \n",
        "- Количество гексагонов, которые вмещают ровно 80% отмененных заказов:"
      ]
    },
    {
      "cell_type": "code",
      "metadata": {
        "id": "chEtRulWrldz",
        "colab_type": "code",
        "colab": {}
      },
      "source": [
        "#def subsetsum(array, num):\n",
        "#    if sum(array) == num:\n",
        "#        return array\n",
        "#    if len(array) > 1:\n",
        "#        for subset in (array[:-1], array[1:]):\n",
        "#            result = subsetsum(subset, num)\n",
        "#            if result is not None:\n",
        "#                return result\n",
        "#subsetsum(hexagons[:,1], counting_value)"
      ],
      "execution_count": 0,
      "outputs": []
    }
  ]
}