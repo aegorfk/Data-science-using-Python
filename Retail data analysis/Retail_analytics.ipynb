{
 "cells": [
  {
   "cell_type": "code",
   "execution_count": 1,
   "metadata": {},
   "outputs": [
    {
     "name": "stdout",
     "output_type": "stream",
     "text": [
      "Pandas version 0.23.2\n",
      "Seaborn version 0.9.0\n",
      "Matplotlib version 2.2.2\n",
      "Numpy version 1.14.5\n",
      "Apriori version 1.1.1\n",
      "Lightfm version 1.15\n"
     ]
    },
    {
     "name": "stderr",
     "output_type": "stream",
     "text": [
      "/anaconda3/envs/MaskRCNN/lib/python3.6/site-packages/lightfm/_lightfm_fast.py:9: UserWarning: LightFM was compiled without OpenMP support. Only a single thread will be used.\n",
      "  warnings.warn('LightFM was compiled without OpenMP support. '\n"
     ]
    }
   ],
   "source": [
    "%matplotlib inline\n",
    "import pandas as pd\n",
    "import seaborn as sns\n",
    "import datetime as dt\n",
    "from datetime import datetime\n",
    "import matplotlib\n",
    "import matplotlib.pyplot as plt\n",
    "from sklearn.cluster import KMeans\n",
    "import scipy.sparse as sparse\n",
    "import numpy as np\n",
    "import apyori\n",
    "from apyori import apriori\n",
    "import lightfm\n",
    "from lightfm import LightFM\n",
    "from lightfm.evaluation import reciprocal_rank, auc_score, precision_at_k\n",
    "#!pip install apyori\n",
    "#!pip install lightfm\n",
    "#!pip install algorithms\n",
    "import warnings\n",
    "warnings.filterwarnings('ignore')\n",
    "\n",
    "print(\"Pandas version \" + pd.__version__)\n",
    "print(\"Seaborn version \" + sns.__version__)\n",
    "print(\"Matplotlib version \" + matplotlib.__version__)\n",
    "print(\"Numpy version \" + np.__version__)\n",
    "print(\"Apriori version \" + apyori.__version__)\n",
    "print(\"Lightfm version \" + lightfm.__version__)"
   ]
  },
  {
   "cell_type": "code",
   "execution_count": 2,
   "metadata": {},
   "outputs": [],
   "source": [
    "data1 = pd.read_csv(\"test dataset.csv\", sep = \";\")\n",
    "data = pd.read_csv(\"dataset for test new.csv\", sep = \";\")\n",
    "\n",
    "for_prediction = data[data[\"ar_id\"].isnull()]\n",
    "data = data[~data[\"ar_id\"].isnull()]"
   ]
  },
  {
   "cell_type": "code",
   "execution_count": 3,
   "metadata": {},
   "outputs": [
    {
     "data": {
      "text/plain": [
       "(48273, 6)"
      ]
     },
     "execution_count": 3,
     "metadata": {},
     "output_type": "execute_result"
    }
   ],
   "source": [
    "data.shape"
   ]
  },
  {
   "cell_type": "markdown",
   "metadata": {},
   "source": [
    "We have an information about clients' purchases till 31.07.2008.\n",
    "Our variables are:\n",
    "1. ***dt*** - time of the purchase\n",
    "\n",
    "2. ***tr_id*** -  unique number of purchase\n",
    "\n",
    "3. ***cl_id*** - unique number of client\n",
    "\n",
    "4. ***ar_id*** - unique number of item\n",
    "\n",
    "5. ***qty*** - quality of the items bought\n",
    "\n",
    "6. ***s*** - purchase price for this item"
   ]
  },
  {
   "cell_type": "code",
   "execution_count": 4,
   "metadata": {},
   "outputs": [
    {
     "data": {
      "text/html": [
       "<div>\n",
       "<style scoped>\n",
       "    .dataframe tbody tr th:only-of-type {\n",
       "        vertical-align: middle;\n",
       "    }\n",
       "\n",
       "    .dataframe tbody tr th {\n",
       "        vertical-align: top;\n",
       "    }\n",
       "\n",
       "    .dataframe thead th {\n",
       "        text-align: right;\n",
       "    }\n",
       "</style>\n",
       "<table border=\"1\" class=\"dataframe\">\n",
       "  <thead>\n",
       "    <tr style=\"text-align: right;\">\n",
       "      <th></th>\n",
       "      <th>dt</th>\n",
       "      <th>tr_id</th>\n",
       "      <th>cl_id</th>\n",
       "      <th>ar_id</th>\n",
       "      <th>qty</th>\n",
       "      <th>s</th>\n",
       "    </tr>\n",
       "  </thead>\n",
       "  <tbody>\n",
       "    <tr>\n",
       "      <th>0</th>\n",
       "      <td>2007-05-03 21:43:33</td>\n",
       "      <td>954</td>\n",
       "      <td>1</td>\n",
       "      <td>2874.0</td>\n",
       "      <td>1.0</td>\n",
       "      <td>8150.0</td>\n",
       "    </tr>\n",
       "    <tr>\n",
       "      <th>1</th>\n",
       "      <td>2007-11-20 20:46:41</td>\n",
       "      <td>13796</td>\n",
       "      <td>1</td>\n",
       "      <td>3586.0</td>\n",
       "      <td>1.0</td>\n",
       "      <td>3930.0</td>\n",
       "    </tr>\n",
       "    <tr>\n",
       "      <th>2</th>\n",
       "      <td>2007-12-08 16:28:59</td>\n",
       "      <td>14431</td>\n",
       "      <td>1</td>\n",
       "      <td>4942.0</td>\n",
       "      <td>1.0</td>\n",
       "      <td>2860.0</td>\n",
       "    </tr>\n",
       "    <tr>\n",
       "      <th>3</th>\n",
       "      <td>2007-05-03 21:15:59</td>\n",
       "      <td>951</td>\n",
       "      <td>2</td>\n",
       "      <td>2812.0</td>\n",
       "      <td>1.0</td>\n",
       "      <td>4895.0</td>\n",
       "    </tr>\n",
       "    <tr>\n",
       "      <th>4</th>\n",
       "      <td>2007-05-20 16:46:45</td>\n",
       "      <td>3352</td>\n",
       "      <td>2</td>\n",
       "      <td>5025.0</td>\n",
       "      <td>1.0</td>\n",
       "      <td>840.0</td>\n",
       "    </tr>\n",
       "  </tbody>\n",
       "</table>\n",
       "</div>"
      ],
      "text/plain": [
       "                    dt  tr_id  cl_id   ar_id  qty       s\n",
       "0  2007-05-03 21:43:33    954      1  2874.0  1.0  8150.0\n",
       "1  2007-11-20 20:46:41  13796      1  3586.0  1.0  3930.0\n",
       "2  2007-12-08 16:28:59  14431      1  4942.0  1.0  2860.0\n",
       "3  2007-05-03 21:15:59    951      2  2812.0  1.0  4895.0\n",
       "4  2007-05-20 16:46:45   3352      2  5025.0  1.0   840.0"
      ]
     },
     "execution_count": 4,
     "metadata": {},
     "output_type": "execute_result"
    }
   ],
   "source": [
    "data.head()"
   ]
  },
  {
   "cell_type": "code",
   "execution_count": 5,
   "metadata": {},
   "outputs": [
    {
     "data": {
      "text/plain": [
       "dt        object\n",
       "tr_id      int64\n",
       "cl_id      int64\n",
       "ar_id    float64\n",
       "qty      float64\n",
       "s        float64\n",
       "dtype: object"
      ]
     },
     "execution_count": 5,
     "metadata": {},
     "output_type": "execute_result"
    }
   ],
   "source": [
    "data.dtypes"
   ]
  },
  {
   "cell_type": "code",
   "execution_count": 6,
   "metadata": {},
   "outputs": [],
   "source": [
    "data[\"dt\"] = pd.to_datetime(data[\"dt\"])\n",
    "data['qty'] = data['qty'].astype(int)"
   ]
  },
  {
   "cell_type": "code",
   "execution_count": 7,
   "metadata": {},
   "outputs": [
    {
     "name": "stdout",
     "output_type": "stream",
     "text": [
      "(48273, 6)\n",
      "dt       0\n",
      "tr_id    0\n",
      "cl_id    0\n",
      "ar_id    0\n",
      "qty      0\n",
      "s        0\n",
      "dtype: int64\n"
     ]
    }
   ],
   "source": [
    "print(data.shape)\n",
    "print(data.isnull().sum())"
   ]
  },
  {
   "cell_type": "code",
   "execution_count": 8,
   "metadata": {},
   "outputs": [],
   "source": [
    "#check the duplicates\n",
    "#data[data.duplicated(['tr_id', 'cl_id', 'ar_id', 'qty', 's'], keep = False)]\n",
    "\n",
    "# Gatting rid of duplicates\n",
    "data = data.drop_duplicates(subset = None, keep = 'first', inplace = False)"
   ]
  },
  {
   "cell_type": "code",
   "execution_count": 9,
   "metadata": {},
   "outputs": [
    {
     "data": {
      "text/plain": [
       "(47146, 6)"
      ]
     },
     "execution_count": 9,
     "metadata": {},
     "output_type": "execute_result"
    }
   ],
   "source": [
    "data.shape"
   ]
  },
  {
   "cell_type": "code",
   "execution_count": 10,
   "metadata": {},
   "outputs": [],
   "source": [
    "# I have noticed that some transaction ids have several client ids. \n",
    "# So I thought it might be bacause the data came from retail chain and \n",
    "# each branch has it's ows transaction history. Thus I decided to create\n",
    "# a global id amongs the whole system to make it unique.\n",
    "#data = data.sort_values(by = ['tr_id'])\n",
    "#data['global_tr_id'] = data['tr_id']\n",
    "\n",
    "#last = max(data[\"tr_id\"])\n",
    "#for i in range(1, len(data)):\n",
    "#    data.iloc[i]['global_tr_id'] = data.iloc[i]['tr_id']\n",
    "#    \n",
    "#    if data.iloc[i]['tr_id'] == data.iloc[i - 1]['tr_id'] and (data.iloc[i]['dt'] != data.iloc[i - 1]['dt'] or data.iloc[i]['cl_id'] != data.iloc[i - 1]['cl_id']):\n",
    "#        data.iloc[i]['global_tr_id'] = last + 1\n",
    "#        last = last + 1\n",
    "#    else:\n",
    "#        data.iloc[i]['global_tr_id'] = data.iloc[i - 1]['global_tr_id']\n",
    "#    print(data.iloc[i])"
   ]
  },
  {
   "cell_type": "markdown",
   "metadata": {},
   "source": [
    "# Descriptive Statistics"
   ]
  },
  {
   "cell_type": "code",
   "execution_count": 11,
   "metadata": {},
   "outputs": [
    {
     "data": {
      "text/html": [
       "<div>\n",
       "<style scoped>\n",
       "    .dataframe tbody tr th:only-of-type {\n",
       "        vertical-align: middle;\n",
       "    }\n",
       "\n",
       "    .dataframe tbody tr th {\n",
       "        vertical-align: top;\n",
       "    }\n",
       "\n",
       "    .dataframe thead th {\n",
       "        text-align: right;\n",
       "    }\n",
       "</style>\n",
       "<table border=\"1\" class=\"dataframe\">\n",
       "  <thead>\n",
       "    <tr style=\"text-align: right;\">\n",
       "      <th></th>\n",
       "      <th>qty</th>\n",
       "      <th>s</th>\n",
       "    </tr>\n",
       "  </thead>\n",
       "  <tbody>\n",
       "    <tr>\n",
       "      <th>count</th>\n",
       "      <td>47146.0</td>\n",
       "      <td>47146.000000</td>\n",
       "    </tr>\n",
       "    <tr>\n",
       "      <th>mean</th>\n",
       "      <td>1.0</td>\n",
       "      <td>10455.257645</td>\n",
       "    </tr>\n",
       "    <tr>\n",
       "      <th>std</th>\n",
       "      <td>0.0</td>\n",
       "      <td>12701.269894</td>\n",
       "    </tr>\n",
       "    <tr>\n",
       "      <th>min</th>\n",
       "      <td>1.0</td>\n",
       "      <td>504.000000</td>\n",
       "    </tr>\n",
       "    <tr>\n",
       "      <th>25%</th>\n",
       "      <td>1.0</td>\n",
       "      <td>3810.000000</td>\n",
       "    </tr>\n",
       "    <tr>\n",
       "      <th>50%</th>\n",
       "      <td>1.0</td>\n",
       "      <td>6910.000000</td>\n",
       "    </tr>\n",
       "    <tr>\n",
       "      <th>75%</th>\n",
       "      <td>1.0</td>\n",
       "      <td>12750.000000</td>\n",
       "    </tr>\n",
       "    <tr>\n",
       "      <th>max</th>\n",
       "      <td>1.0</td>\n",
       "      <td>511500.000000</td>\n",
       "    </tr>\n",
       "  </tbody>\n",
       "</table>\n",
       "</div>"
      ],
      "text/plain": [
       "           qty              s\n",
       "count  47146.0   47146.000000\n",
       "mean       1.0   10455.257645\n",
       "std        0.0   12701.269894\n",
       "min        1.0     504.000000\n",
       "25%        1.0    3810.000000\n",
       "50%        1.0    6910.000000\n",
       "75%        1.0   12750.000000\n",
       "max        1.0  511500.000000"
      ]
     },
     "execution_count": 11,
     "metadata": {},
     "output_type": "execute_result"
    }
   ],
   "source": [
    "data[['qty', 's']].describe()"
   ]
  },
  {
   "cell_type": "code",
   "execution_count": 12,
   "metadata": {},
   "outputs": [
    {
     "data": {
      "text/plain": [
       "dt       2007-03-12 18:50:49\n",
       "tr_id                      1\n",
       "cl_id                      1\n",
       "ar_id                      1\n",
       "qty                        1\n",
       "s                        504\n",
       "dtype: object"
      ]
     },
     "execution_count": 12,
     "metadata": {},
     "output_type": "execute_result"
    }
   ],
   "source": [
    "#Checking data for negative values\n",
    "data.min()"
   ]
  },
  {
   "cell_type": "code",
   "execution_count": 13,
   "metadata": {},
   "outputs": [
    {
     "data": {
      "text/plain": [
       "10455.25764455097"
      ]
     },
     "execution_count": 13,
     "metadata": {},
     "output_type": "execute_result"
    }
   ],
   "source": [
    "#What is the average purchase price?\n",
    "data['s'].mean()"
   ]
  },
  {
   "cell_type": "code",
   "execution_count": 14,
   "metadata": {},
   "outputs": [
    {
     "data": {
      "image/png": "[encoded data removed]",
      "text/plain": [
       "<Figure size 432x288 with 1 Axes>"
      ]
     },
     "metadata": {},
     "output_type": "display_data"
    }
   ],
   "source": [
    "ax = sns.distplot(data[\"s\"].astype(int))"
   ]
  },
  {
   "cell_type": "code",
   "execution_count": 15,
   "metadata": {},
   "outputs": [],
   "source": [
    "data['date'] = data['dt'].dt.date\n",
    "data2 = data[['s', 'date']].groupby(\"date\").sum().sort_values(\"date\", ascending = True)\n",
    "data2.reset_index(drop = False, inplace = True)"
   ]
  },
  {
   "cell_type": "code",
   "execution_count": 16,
   "metadata": {},
   "outputs": [
    {
     "data": {
      "image/png": "[encoded data removed]",
      "text/plain": [
       "<Figure size 432x288 with 1 Axes>"
      ]
     },
     "metadata": {},
     "output_type": "display_data"
    }
   ],
   "source": [
    "plt.plot(data2[\"date\"], data2['s'])\n",
    "plt.title('Sales amount')\n",
    "plt.ylabel('Sales sum')\n",
    "plt.xticks(rotation = 45)\n",
    "plt.show()"
   ]
  },
  {
   "cell_type": "code",
   "execution_count": 17,
   "metadata": {},
   "outputs": [],
   "source": [
    "data2 = data[['s', 'date']].groupby(\"date\").count().sort_values(\"date\", ascending = True)\n",
    "data2.reset_index(drop = False, inplace = True)"
   ]
  },
  {
   "cell_type": "code",
   "execution_count": 18,
   "metadata": {},
   "outputs": [
    {
     "data": {
      "image/png": "[encoded data removed]",
      "text/plain": [
       "<Figure size 432x288 with 1 Axes>"
      ]
     },
     "metadata": {},
     "output_type": "display_data"
    }
   ],
   "source": [
    "plt.plot(data2[\"date\"], data2['s'])\n",
    "plt.title('Sales volume')\n",
    "plt.ylabel('Sales')\n",
    "plt.xticks(rotation = 45)\n",
    "plt.show()"
   ]
  },
  {
   "cell_type": "code",
   "execution_count": 19,
   "metadata": {},
   "outputs": [
    {
     "data": {
      "text/plain": [
       "Text(0.5,1,'Purshases frequency by hour')"
      ]
     },
     "execution_count": 19,
     "metadata": {},
     "output_type": "execute_result"
    },
    {
     "data": {
      "image/png": "[encoded data removed]",
      "text/plain": [
       "<Figure size 432x288 with 1 Axes>"
      ]
     },
     "metadata": {},
     "output_type": "display_data"
    }
   ],
   "source": [
    "plt.hist(data['dt'].dt.hour.values, bins=24)\n",
    "plt.xlabel('Hour')\n",
    "plt.ylabel('Count')\n",
    "plt.title('Purshases frequency by hour')\n",
    "# I guess it works from 10am to 11pm"
   ]
  },
  {
   "cell_type": "code",
   "execution_count": 20,
   "metadata": {},
   "outputs": [
    {
     "data": {
      "text/html": [
       "<div>\n",
       "<style scoped>\n",
       "    .dataframe tbody tr th:only-of-type {\n",
       "        vertical-align: middle;\n",
       "    }\n",
       "\n",
       "    .dataframe tbody tr th {\n",
       "        vertical-align: top;\n",
       "    }\n",
       "\n",
       "    .dataframe thead th {\n",
       "        text-align: right;\n",
       "    }\n",
       "</style>\n",
       "<table border=\"1\" class=\"dataframe\">\n",
       "  <thead>\n",
       "    <tr style=\"text-align: right;\">\n",
       "      <th></th>\n",
       "      <th>qty</th>\n",
       "      <th>s</th>\n",
       "    </tr>\n",
       "    <tr>\n",
       "      <th>ar_id</th>\n",
       "      <th></th>\n",
       "      <th></th>\n",
       "    </tr>\n",
       "  </thead>\n",
       "  <tbody>\n",
       "    <tr>\n",
       "      <th>3060.0</th>\n",
       "      <td>156</td>\n",
       "      <td>7114347.53</td>\n",
       "    </tr>\n",
       "    <tr>\n",
       "      <th>4757.0</th>\n",
       "      <td>281</td>\n",
       "      <td>6684277.87</td>\n",
       "    </tr>\n",
       "    <tr>\n",
       "      <th>4944.0</th>\n",
       "      <td>725</td>\n",
       "      <td>5092324.27</td>\n",
       "    </tr>\n",
       "    <tr>\n",
       "      <th>3487.0</th>\n",
       "      <td>435</td>\n",
       "      <td>4566229.85</td>\n",
       "    </tr>\n",
       "    <tr>\n",
       "      <th>2430.0</th>\n",
       "      <td>94</td>\n",
       "      <td>3805189.37</td>\n",
       "    </tr>\n",
       "  </tbody>\n",
       "</table>\n",
       "</div>"
      ],
      "text/plain": [
       "        qty           s\n",
       "ar_id                  \n",
       "3060.0  156  7114347.53\n",
       "4757.0  281  6684277.87\n",
       "4944.0  725  5092324.27\n",
       "3487.0  435  4566229.85\n",
       "2430.0   94  3805189.37"
      ]
     },
     "execution_count": 20,
     "metadata": {},
     "output_type": "execute_result"
    }
   ],
   "source": [
    "# Show most profitable items across the time\n",
    "profitability = data[['ar_id', 'qty', 's']].groupby(\"ar_id\").sum().sort_values(\"s\", ascending = False)\n",
    "profitability.head()"
   ]
  },
  {
   "cell_type": "code",
   "execution_count": 21,
   "metadata": {},
   "outputs": [
    {
     "data": {
      "text/html": [
       "<div>\n",
       "<style scoped>\n",
       "    .dataframe tbody tr th:only-of-type {\n",
       "        vertical-align: middle;\n",
       "    }\n",
       "\n",
       "    .dataframe tbody tr th {\n",
       "        vertical-align: top;\n",
       "    }\n",
       "\n",
       "    .dataframe thead th {\n",
       "        text-align: right;\n",
       "    }\n",
       "</style>\n",
       "<table border=\"1\" class=\"dataframe\">\n",
       "  <thead>\n",
       "    <tr style=\"text-align: right;\">\n",
       "      <th></th>\n",
       "      <th>qty</th>\n",
       "      <th>s</th>\n",
       "    </tr>\n",
       "    <tr>\n",
       "      <th>ar_id</th>\n",
       "      <th></th>\n",
       "      <th></th>\n",
       "    </tr>\n",
       "  </thead>\n",
       "  <tbody>\n",
       "    <tr>\n",
       "      <th>4944.0</th>\n",
       "      <td>725</td>\n",
       "      <td>5092324.27</td>\n",
       "    </tr>\n",
       "    <tr>\n",
       "      <th>4911.0</th>\n",
       "      <td>580</td>\n",
       "      <td>1823693.31</td>\n",
       "    </tr>\n",
       "    <tr>\n",
       "      <th>3487.0</th>\n",
       "      <td>435</td>\n",
       "      <td>4566229.85</td>\n",
       "    </tr>\n",
       "    <tr>\n",
       "      <th>434.0</th>\n",
       "      <td>430</td>\n",
       "      <td>1747247.86</td>\n",
       "    </tr>\n",
       "    <tr>\n",
       "      <th>2635.0</th>\n",
       "      <td>425</td>\n",
       "      <td>1211674.74</td>\n",
       "    </tr>\n",
       "  </tbody>\n",
       "</table>\n",
       "</div>"
      ],
      "text/plain": [
       "        qty           s\n",
       "ar_id                  \n",
       "4944.0  725  5092324.27\n",
       "4911.0  580  1823693.31\n",
       "3487.0  435  4566229.85\n",
       "434.0   430  1747247.86\n",
       "2635.0  425  1211674.74"
      ]
     },
     "execution_count": 21,
     "metadata": {},
     "output_type": "execute_result"
    }
   ],
   "source": [
    "# Show most popular items across the time\n",
    "popularity = data[['ar_id', 'qty', 's']].groupby(\"ar_id\").sum().sort_values(\"qty\", ascending = False)\n",
    "popularity.head()"
   ]
  },
  {
   "cell_type": "code",
   "execution_count": 22,
   "metadata": {},
   "outputs": [
    {
     "data": {
      "text/html": [
       "<div>\n",
       "<style scoped>\n",
       "    .dataframe tbody tr th:only-of-type {\n",
       "        vertical-align: middle;\n",
       "    }\n",
       "\n",
       "    .dataframe tbody tr th {\n",
       "        vertical-align: top;\n",
       "    }\n",
       "\n",
       "    .dataframe thead th {\n",
       "        text-align: right;\n",
       "    }\n",
       "</style>\n",
       "<table border=\"1\" class=\"dataframe\">\n",
       "  <thead>\n",
       "    <tr style=\"text-align: right;\">\n",
       "      <th></th>\n",
       "      <th>s</th>\n",
       "    </tr>\n",
       "    <tr>\n",
       "      <th>dt</th>\n",
       "      <th></th>\n",
       "    </tr>\n",
       "  </thead>\n",
       "  <tbody>\n",
       "    <tr>\n",
       "      <th>2007-05-03 21:43:33</th>\n",
       "      <td>8150.0</td>\n",
       "    </tr>\n",
       "    <tr>\n",
       "      <th>2007-11-20 20:46:41</th>\n",
       "      <td>3930.0</td>\n",
       "    </tr>\n",
       "    <tr>\n",
       "      <th>2007-12-08 16:28:59</th>\n",
       "      <td>2860.0</td>\n",
       "    </tr>\n",
       "    <tr>\n",
       "      <th>2007-05-03 21:15:59</th>\n",
       "      <td>4895.0</td>\n",
       "    </tr>\n",
       "    <tr>\n",
       "      <th>2007-05-20 16:46:45</th>\n",
       "      <td>840.0</td>\n",
       "    </tr>\n",
       "  </tbody>\n",
       "</table>\n",
       "</div>"
      ],
      "text/plain": [
       "                          s\n",
       "dt                         \n",
       "2007-05-03 21:43:33  8150.0\n",
       "2007-11-20 20:46:41  3930.0\n",
       "2007-12-08 16:28:59  2860.0\n",
       "2007-05-03 21:15:59  4895.0\n",
       "2007-05-20 16:46:45   840.0"
      ]
     },
     "execution_count": 22,
     "metadata": {},
     "output_type": "execute_result"
    }
   ],
   "source": [
    "#data.reset_index(drop = True, inplace = True)\n",
    "time = data[['dt', 's']]\n",
    "time.set_index('dt', inplace = True)\n",
    "time.head()"
   ]
  },
  {
   "cell_type": "code",
   "execution_count": 23,
   "metadata": {},
   "outputs": [
    {
     "data": {
      "text/html": [
       "<div>\n",
       "<style scoped>\n",
       "    .dataframe tbody tr th:only-of-type {\n",
       "        vertical-align: middle;\n",
       "    }\n",
       "\n",
       "    .dataframe tbody tr th {\n",
       "        vertical-align: top;\n",
       "    }\n",
       "\n",
       "    .dataframe thead th {\n",
       "        text-align: right;\n",
       "    }\n",
       "</style>\n",
       "<table border=\"1\" class=\"dataframe\">\n",
       "  <thead>\n",
       "    <tr style=\"text-align: right;\">\n",
       "      <th></th>\n",
       "      <th>s</th>\n",
       "    </tr>\n",
       "    <tr>\n",
       "      <th>dt</th>\n",
       "      <th></th>\n",
       "    </tr>\n",
       "  </thead>\n",
       "  <tbody>\n",
       "    <tr>\n",
       "      <th>2007-03-31</th>\n",
       "      <td>101833.00</td>\n",
       "    </tr>\n",
       "    <tr>\n",
       "      <th>2007-04-30</th>\n",
       "      <td>5743184.76</td>\n",
       "    </tr>\n",
       "    <tr>\n",
       "      <th>2007-05-31</th>\n",
       "      <td>50490424.16</td>\n",
       "    </tr>\n",
       "    <tr>\n",
       "      <th>2007-06-30</th>\n",
       "      <td>10875458.70</td>\n",
       "    </tr>\n",
       "    <tr>\n",
       "      <th>2007-07-31</th>\n",
       "      <td>11919265.63</td>\n",
       "    </tr>\n",
       "  </tbody>\n",
       "</table>\n",
       "</div>"
      ],
      "text/plain": [
       "                      s\n",
       "dt                     \n",
       "2007-03-31    101833.00\n",
       "2007-04-30   5743184.76\n",
       "2007-05-31  50490424.16\n",
       "2007-06-30  10875458.70\n",
       "2007-07-31  11919265.63"
      ]
     },
     "execution_count": 23,
     "metadata": {},
     "output_type": "execute_result"
    }
   ],
   "source": [
    "# See the example of report\n",
    "time.resample('M').sum().head(5)"
   ]
  },
  {
   "cell_type": "markdown",
   "metadata": {},
   "source": [
    "## ABC analysis\n",
    "ABC analysis is an inventory categorization method which consists in dividing items into three categories (A, B, C): \n",
    "* A being the most valuable items,\n",
    "* C being the least valuable ones.\n",
    "\n",
    "20% of items accounts for 80% of firms expenditure\n",
    "### What to do with this groups:\n",
    "<table>\n",
    "<tr><td>** Class **</td><td>** Percentage of items **</td><td>** Percentage value of annual sales **</td><td>** Action **</td></tr>\n",
    "<tr><td>A</td><td>About 20%</td><td>About 80%</td><td>Close day to day control</td></tr>\n",
    "<tr><td>B</td><td>About 30%</td><td>About 15%</td><td>Regular review</td></tr>\n",
    "<tr><td>C</td><td>About 50%</td><td>About 5%</td><td>Infrequent review</td></tr>\n",
    "</table>"
   ]
  },
  {
   "cell_type": "code",
   "execution_count": 24,
   "metadata": {},
   "outputs": [],
   "source": [
    "abc = data.groupby(['ar_id'])['qty', 's'].sum()\n",
    "abc.reset_index(drop = False, inplace = True)\n",
    "#abc = abc.drop_duplicates(subset = None, keep = 'first', inplace = False)"
   ]
  },
  {
   "cell_type": "code",
   "execution_count": 25,
   "metadata": {},
   "outputs": [],
   "source": [
    "abc['share_sales'] = abc['s'] / abc['s'].sum() * 100\n",
    "abc['share_items'] = abc['qty'] / abc['qty'].sum() * 100"
   ]
  },
  {
   "cell_type": "code",
   "execution_count": 26,
   "metadata": {},
   "outputs": [],
   "source": [
    "# Looking at our top customers\n",
    "abc = abc.sort_values('share_sales', ascending = False)\n",
    "abc['cum_sales'] = abc['share_sales'].cumsum()\n",
    "\n",
    "abc = abc.sort_values('share_items', ascending = False)\n",
    "abc['cum_items'] = abc['share_items'].cumsum()"
   ]
  },
  {
   "cell_type": "code",
   "execution_count": 27,
   "metadata": {},
   "outputs": [
    {
     "data": {
      "text/html": [
       "<div>\n",
       "<style scoped>\n",
       "    .dataframe tbody tr th:only-of-type {\n",
       "        vertical-align: middle;\n",
       "    }\n",
       "\n",
       "    .dataframe tbody tr th {\n",
       "        vertical-align: top;\n",
       "    }\n",
       "\n",
       "    .dataframe thead th {\n",
       "        text-align: right;\n",
       "    }\n",
       "</style>\n",
       "<table border=\"1\" class=\"dataframe\">\n",
       "  <thead>\n",
       "    <tr style=\"text-align: right;\">\n",
       "      <th></th>\n",
       "      <th>ar_id</th>\n",
       "      <th>qty</th>\n",
       "      <th>s</th>\n",
       "      <th>share_sales</th>\n",
       "      <th>share_items</th>\n",
       "      <th>cum_sales</th>\n",
       "      <th>cum_items</th>\n",
       "    </tr>\n",
       "  </thead>\n",
       "  <tbody>\n",
       "    <tr>\n",
       "      <th>4744</th>\n",
       "      <td>4944.0</td>\n",
       "      <td>725</td>\n",
       "      <td>5092324.27</td>\n",
       "      <td>1.033086</td>\n",
       "      <td>1.537776</td>\n",
       "      <td>3.832430</td>\n",
       "      <td>1.537776</td>\n",
       "    </tr>\n",
       "    <tr>\n",
       "      <th>4714</th>\n",
       "      <td>4911.0</td>\n",
       "      <td>580</td>\n",
       "      <td>1823693.31</td>\n",
       "      <td>0.369975</td>\n",
       "      <td>1.230221</td>\n",
       "      <td>13.936921</td>\n",
       "      <td>2.767997</td>\n",
       "    </tr>\n",
       "    <tr>\n",
       "      <th>3366</th>\n",
       "      <td>3487.0</td>\n",
       "      <td>435</td>\n",
       "      <td>4566229.85</td>\n",
       "      <td>0.926357</td>\n",
       "      <td>0.922666</td>\n",
       "      <td>4.758786</td>\n",
       "      <td>3.690663</td>\n",
       "    </tr>\n",
       "    <tr>\n",
       "      <th>417</th>\n",
       "      <td>434.0</td>\n",
       "      <td>430</td>\n",
       "      <td>1747247.86</td>\n",
       "      <td>0.354466</td>\n",
       "      <td>0.912060</td>\n",
       "      <td>14.291388</td>\n",
       "      <td>4.602723</td>\n",
       "    </tr>\n",
       "    <tr>\n",
       "      <th>2542</th>\n",
       "      <td>2635.0</td>\n",
       "      <td>425</td>\n",
       "      <td>1211674.74</td>\n",
       "      <td>0.245814</td>\n",
       "      <td>0.901455</td>\n",
       "      <td>24.168217</td>\n",
       "      <td>5.504179</td>\n",
       "    </tr>\n",
       "  </tbody>\n",
       "</table>\n",
       "</div>"
      ],
      "text/plain": [
       "       ar_id  qty           s  share_sales  share_items  cum_sales  cum_items\n",
       "4744  4944.0  725  5092324.27     1.033086     1.537776   3.832430   1.537776\n",
       "4714  4911.0  580  1823693.31     0.369975     1.230221  13.936921   2.767997\n",
       "3366  3487.0  435  4566229.85     0.926357     0.922666   4.758786   3.690663\n",
       "417    434.0  430  1747247.86     0.354466     0.912060  14.291388   4.602723\n",
       "2542  2635.0  425  1211674.74     0.245814     0.901455  24.168217   5.504179"
      ]
     },
     "execution_count": 27,
     "metadata": {},
     "output_type": "execute_result"
    }
   ],
   "source": [
    "abc.head()"
   ]
  },
  {
   "cell_type": "code",
   "execution_count": 28,
   "metadata": {},
   "outputs": [
    {
     "data": {
      "text/plain": [
       "(5293, 7)"
      ]
     },
     "execution_count": 28,
     "metadata": {},
     "output_type": "execute_result"
    }
   ],
   "source": [
    "abc.shape"
   ]
  },
  {
   "cell_type": "code",
   "execution_count": 29,
   "metadata": {},
   "outputs": [
    {
     "data": {
      "image/png": "[encoded data removed]",
      "text/plain": [
       "<Figure size 432x288 with 1 Axes>"
      ]
     },
     "metadata": {},
     "output_type": "display_data"
    }
   ],
   "source": [
    "sns.set()\n",
    "ax = sns.scatterplot(x = \"cum_sales\", y = \"cum_items\", data = abc)\n",
    "#plt.savefig('Cumulative_plot.png')\n",
    "plt.show()"
   ]
  },
  {
   "cell_type": "code",
   "execution_count": 30,
   "metadata": {},
   "outputs": [
    {
     "data": {
      "image/png": "[encoded data removed]",
      "text/plain": [
       "<Figure size 432x288 with 1 Axes>"
      ]
     },
     "metadata": {},
     "output_type": "display_data"
    }
   ],
   "source": [
    "sns.set()\n",
    "ax = sns.scatterplot(x = \"qty\", y = \"s\", data = abc)\n",
    "#plt.savefig('Sales.png')\n",
    "plt.show()"
   ]
  },
  {
   "cell_type": "markdown",
   "metadata": {},
   "source": [
    "Since it is not clear that ABC (3 groups) will fit perfectly to our cluster, we will try to cluster data automatically fisrt, using k-means."
   ]
  },
  {
   "cell_type": "code",
   "execution_count": 31,
   "metadata": {},
   "outputs": [],
   "source": [
    "Sum_of_squared_distances = []\n",
    "K = range(1, 20)\n",
    "for k in K:\n",
    "    km = KMeans(n_clusters = k)\n",
    "    km = km.fit(abc[[\"qty\", \"s\"]])\n",
    "    Sum_of_squared_distances.append(km.inertia_)"
   ]
  },
  {
   "cell_type": "code",
   "execution_count": 32,
   "metadata": {},
   "outputs": [
    {
     "data": {
      "image/png": "[encoded data removed]",
      "text/plain": [
       "<Figure size 432x288 with 1 Axes>"
      ]
     },
     "metadata": {},
     "output_type": "display_data"
    }
   ],
   "source": [
    "plt.plot(K, Sum_of_squared_distances, 'bx-')\n",
    "plt.xlabel('k')\n",
    "plt.ylabel('Sum_of_squared_distances')\n",
    "plt.title('Elbow Method For Optimal k')\n",
    "plt.show()"
   ]
  },
  {
   "cell_type": "code",
   "execution_count": 33,
   "metadata": {},
   "outputs": [
    {
     "data": {
      "text/html": [
       "<div>\n",
       "<style scoped>\n",
       "    .dataframe tbody tr th:only-of-type {\n",
       "        vertical-align: middle;\n",
       "    }\n",
       "\n",
       "    .dataframe tbody tr th {\n",
       "        vertical-align: top;\n",
       "    }\n",
       "\n",
       "    .dataframe thead th {\n",
       "        text-align: right;\n",
       "    }\n",
       "</style>\n",
       "<table border=\"1\" class=\"dataframe\">\n",
       "  <thead>\n",
       "    <tr style=\"text-align: right;\">\n",
       "      <th></th>\n",
       "      <th>ar_id</th>\n",
       "      <th>qty</th>\n",
       "      <th>s</th>\n",
       "      <th>share_sales</th>\n",
       "      <th>share_items</th>\n",
       "      <th>cum_sales</th>\n",
       "      <th>cum_items</th>\n",
       "      <th>cluster</th>\n",
       "    </tr>\n",
       "  </thead>\n",
       "  <tbody>\n",
       "    <tr>\n",
       "      <th>4744</th>\n",
       "      <td>4944.0</td>\n",
       "      <td>725</td>\n",
       "      <td>5092324.27</td>\n",
       "      <td>1.033086</td>\n",
       "      <td>1.537776</td>\n",
       "      <td>3.832430</td>\n",
       "      <td>1.537776</td>\n",
       "      <td>2</td>\n",
       "    </tr>\n",
       "    <tr>\n",
       "      <th>4714</th>\n",
       "      <td>4911.0</td>\n",
       "      <td>580</td>\n",
       "      <td>1823693.31</td>\n",
       "      <td>0.369975</td>\n",
       "      <td>1.230221</td>\n",
       "      <td>13.936921</td>\n",
       "      <td>2.767997</td>\n",
       "      <td>4</td>\n",
       "    </tr>\n",
       "    <tr>\n",
       "      <th>3366</th>\n",
       "      <td>3487.0</td>\n",
       "      <td>435</td>\n",
       "      <td>4566229.85</td>\n",
       "      <td>0.926357</td>\n",
       "      <td>0.922666</td>\n",
       "      <td>4.758786</td>\n",
       "      <td>3.690663</td>\n",
       "      <td>2</td>\n",
       "    </tr>\n",
       "    <tr>\n",
       "      <th>417</th>\n",
       "      <td>434.0</td>\n",
       "      <td>430</td>\n",
       "      <td>1747247.86</td>\n",
       "      <td>0.354466</td>\n",
       "      <td>0.912060</td>\n",
       "      <td>14.291388</td>\n",
       "      <td>4.602723</td>\n",
       "      <td>4</td>\n",
       "    </tr>\n",
       "    <tr>\n",
       "      <th>2542</th>\n",
       "      <td>2635.0</td>\n",
       "      <td>425</td>\n",
       "      <td>1211674.74</td>\n",
       "      <td>0.245814</td>\n",
       "      <td>0.901455</td>\n",
       "      <td>24.168217</td>\n",
       "      <td>5.504179</td>\n",
       "      <td>1</td>\n",
       "    </tr>\n",
       "  </tbody>\n",
       "</table>\n",
       "</div>"
      ],
      "text/plain": [
       "       ar_id  qty           s  share_sales  share_items  cum_sales  cum_items  \\\n",
       "4744  4944.0  725  5092324.27     1.033086     1.537776   3.832430   1.537776   \n",
       "4714  4911.0  580  1823693.31     0.369975     1.230221  13.936921   2.767997   \n",
       "3366  3487.0  435  4566229.85     0.926357     0.922666   4.758786   3.690663   \n",
       "417    434.0  430  1747247.86     0.354466     0.912060  14.291388   4.602723   \n",
       "2542  2635.0  425  1211674.74     0.245814     0.901455  24.168217   5.504179   \n",
       "\n",
       "      cluster  \n",
       "4744        2  \n",
       "4714        4  \n",
       "3366        2  \n",
       "417         4  \n",
       "2542        1  "
      ]
     },
     "execution_count": 33,
     "metadata": {},
     "output_type": "execute_result"
    }
   ],
   "source": [
    "#In the plot above the elbow is at k = 5 indicating the optimal k for this dataset is 5\n",
    "kmeans = KMeans(n_clusters = 5, random_state=0).fit(abc[[\"qty\", \"s\"]])\n",
    "\n",
    "predict = kmeans.predict(abc[[\"qty\", \"s\"]])\n",
    "abc['cluster'] = predict\n",
    "abc.head()"
   ]
  },
  {
   "cell_type": "code",
   "execution_count": 34,
   "metadata": {},
   "outputs": [
    {
     "data": {
      "image/png": "[encoded data removed]",
      "text/plain": [
       "<Figure size 432x288 with 1 Axes>"
      ]
     },
     "metadata": {},
     "output_type": "display_data"
    }
   ],
   "source": [
    "plt.figure('5 Cluster K-Means')\n",
    "plt.scatter(abc['qty'], abc[\"s\"], c = kmeans.labels_)\n",
    "plt.xlabel('Quality')\n",
    "plt.ylabel('Sales')\n",
    "plt.title('5 Cluster K-Means')\n",
    "#plt.savefig('k-means_sales.png')\n",
    "plt.show()"
   ]
  },
  {
   "cell_type": "code",
   "execution_count": 35,
   "metadata": {},
   "outputs": [
    {
     "data": {
      "image/png": "[encoded data removed]",
      "text/plain": [
       "<Figure size 432x288 with 1 Axes>"
      ]
     },
     "metadata": {},
     "output_type": "display_data"
    }
   ],
   "source": [
    "plt.figure('5 Cluster K-Means')\n",
    "plt.scatter(abc['cum_items'], abc[\"cum_sales\"], c = kmeans.labels_)\n",
    "plt.xlabel('Cumulative quality')\n",
    "plt.ylabel('Cumulative sales')\n",
    "plt.title('5 Cluster K-Means')\n",
    "#plt.savefig('k-means_cumulative.png')\n",
    "plt.show()"
   ]
  },
  {
   "cell_type": "markdown",
   "metadata": {},
   "source": [
    "## RFM analysis\n",
    "A customer segmentation technique that uses past purchase behavior to segment customers.\n",
    "1. Recency (R) - Time since last purchase \n",
    "2. Frequency (F) - Total number of purchases \n",
    "3. Monetary value (M) - Total monetary value \n",
    "\n",
    "\n",
    "Benefits of RFM analysis\n",
    "\n",
    "* Increased customer retention\n",
    "* Increased response rate\n",
    "* Increased conversion rate\n",
    "* Increased revenue"
   ]
  },
  {
   "cell_type": "code",
   "execution_count": 36,
   "metadata": {},
   "outputs": [],
   "source": [
    "rfm = data.groupby(['tr_id'])['qty', 's'].sum()\n",
    "rfm.reset_index(drop = False, inplace = True)\n",
    "rfm = pd.merge(rfm, data[['cl_id', 'dt', 'tr_id']], how = 'inner', on = 'tr_id')\n",
    "rfm = rfm.drop_duplicates(subset = None, keep = 'first', inplace = False)"
   ]
  },
  {
   "cell_type": "code",
   "execution_count": 37,
   "metadata": {},
   "outputs": [
    {
     "data": {
      "text/html": [
       "<div>\n",
       "<style scoped>\n",
       "    .dataframe tbody tr th:only-of-type {\n",
       "        vertical-align: middle;\n",
       "    }\n",
       "\n",
       "    .dataframe tbody tr th {\n",
       "        vertical-align: top;\n",
       "    }\n",
       "\n",
       "    .dataframe thead th {\n",
       "        text-align: right;\n",
       "    }\n",
       "</style>\n",
       "<table border=\"1\" class=\"dataframe\">\n",
       "  <thead>\n",
       "    <tr style=\"text-align: right;\">\n",
       "      <th></th>\n",
       "      <th>tr_id</th>\n",
       "      <th>qty</th>\n",
       "      <th>s</th>\n",
       "      <th>cl_id</th>\n",
       "      <th>dt</th>\n",
       "    </tr>\n",
       "  </thead>\n",
       "  <tbody>\n",
       "    <tr>\n",
       "      <th>0</th>\n",
       "      <td>1</td>\n",
       "      <td>2</td>\n",
       "      <td>21365.0</td>\n",
       "      <td>4526</td>\n",
       "      <td>2007-03-12 18:50:49</td>\n",
       "    </tr>\n",
       "    <tr>\n",
       "      <th>2</th>\n",
       "      <td>2</td>\n",
       "      <td>2</td>\n",
       "      <td>16423.0</td>\n",
       "      <td>4526</td>\n",
       "      <td>2007-03-12 18:52:29</td>\n",
       "    </tr>\n",
       "    <tr>\n",
       "      <th>4</th>\n",
       "      <td>3</td>\n",
       "      <td>2</td>\n",
       "      <td>10915.0</td>\n",
       "      <td>4526</td>\n",
       "      <td>2007-03-12 18:54:39</td>\n",
       "    </tr>\n",
       "    <tr>\n",
       "      <th>6</th>\n",
       "      <td>4</td>\n",
       "      <td>1</td>\n",
       "      <td>4495.0</td>\n",
       "      <td>4526</td>\n",
       "      <td>2007-03-12 18:56:35</td>\n",
       "    </tr>\n",
       "    <tr>\n",
       "      <th>7</th>\n",
       "      <td>5</td>\n",
       "      <td>1</td>\n",
       "      <td>15050.0</td>\n",
       "      <td>2637</td>\n",
       "      <td>2007-03-18 17:26:00</td>\n",
       "    </tr>\n",
       "  </tbody>\n",
       "</table>\n",
       "</div>"
      ],
      "text/plain": [
       "   tr_id  qty        s  cl_id                  dt\n",
       "0      1    2  21365.0   4526 2007-03-12 18:50:49\n",
       "2      2    2  16423.0   4526 2007-03-12 18:52:29\n",
       "4      3    2  10915.0   4526 2007-03-12 18:54:39\n",
       "6      4    1   4495.0   4526 2007-03-12 18:56:35\n",
       "7      5    1  15050.0   2637 2007-03-18 17:26:00"
      ]
     },
     "execution_count": 37,
     "metadata": {},
     "output_type": "execute_result"
    }
   ],
   "source": [
    "rfm.head()"
   ]
  },
  {
   "cell_type": "code",
   "execution_count": 38,
   "metadata": {},
   "outputs": [
    {
     "data": {
      "text/html": [
       "<div>\n",
       "<style scoped>\n",
       "    .dataframe tbody tr th:only-of-type {\n",
       "        vertical-align: middle;\n",
       "    }\n",
       "\n",
       "    .dataframe tbody tr th {\n",
       "        vertical-align: top;\n",
       "    }\n",
       "\n",
       "    .dataframe thead th {\n",
       "        text-align: right;\n",
       "    }\n",
       "</style>\n",
       "<table border=\"1\" class=\"dataframe\">\n",
       "  <thead>\n",
       "    <tr style=\"text-align: right;\">\n",
       "      <th></th>\n",
       "      <th>recency</th>\n",
       "      <th>frequency</th>\n",
       "      <th>monetary_value</th>\n",
       "    </tr>\n",
       "    <tr>\n",
       "      <th>cl_id</th>\n",
       "      <th></th>\n",
       "      <th></th>\n",
       "      <th></th>\n",
       "    </tr>\n",
       "  </thead>\n",
       "  <tbody>\n",
       "    <tr>\n",
       "      <th>1</th>\n",
       "      <td>236</td>\n",
       "      <td>3</td>\n",
       "      <td>14940.0</td>\n",
       "    </tr>\n",
       "    <tr>\n",
       "      <th>2</th>\n",
       "      <td>76</td>\n",
       "      <td>4</td>\n",
       "      <td>88540.0</td>\n",
       "    </tr>\n",
       "    <tr>\n",
       "      <th>3</th>\n",
       "      <td>455</td>\n",
       "      <td>1</td>\n",
       "      <td>7100.0</td>\n",
       "    </tr>\n",
       "    <tr>\n",
       "      <th>4</th>\n",
       "      <td>8</td>\n",
       "      <td>26</td>\n",
       "      <td>351196.5</td>\n",
       "    </tr>\n",
       "    <tr>\n",
       "      <th>5</th>\n",
       "      <td>453</td>\n",
       "      <td>1</td>\n",
       "      <td>3035.0</td>\n",
       "    </tr>\n",
       "  </tbody>\n",
       "</table>\n",
       "</div>"
      ],
      "text/plain": [
       "       recency  frequency  monetary_value\n",
       "cl_id                                    \n",
       "1          236          3         14940.0\n",
       "2           76          4         88540.0\n",
       "3          455          1          7100.0\n",
       "4            8         26        351196.5\n",
       "5          453          1          3035.0"
      ]
     },
     "execution_count": 38,
     "metadata": {},
     "output_type": "execute_result"
    }
   ],
   "source": [
    "NOW = dt.datetime(2008, 8, 1) # the last day in our data\n",
    "\n",
    "rfm = rfm.groupby('cl_id').agg({'dt': lambda x: (NOW - x.max()).days, # Recency\n",
    "                                        'tr_id': lambda x: len(x),         # Frequency\n",
    "                                        's': lambda x: x.sum()})           # Monetary Value\n",
    "\n",
    "rfm['dt'] = rfm['dt'].astype(int)\n",
    "rfm.rename(columns = {'dt': 'recency', \n",
    "                    'tr_id': 'frequency', \n",
    "                    's': 'monetary_value'}, inplace=True)\n",
    "\n",
    "# Example: customer 1 has frequency: 3, monetary value: $14940 and recency: 235 days\n",
    "rfm.head()"
   ]
  },
  {
   "cell_type": "markdown",
   "metadata": {},
   "source": [
    "### Determining RFM Quartiles"
   ]
  },
  {
   "cell_type": "code",
   "execution_count": 39,
   "metadata": {},
   "outputs": [
    {
     "data": {
      "text/plain": [
       "{'recency': {0.25: 83.0, 0.5: 185.0, 0.75: 334.0},\n",
       " 'frequency': {0.25: 1.0, 0.5: 1.0, 0.75: 2.0},\n",
       " 'monetary_value': {0.25: 7490.0, 0.5: 17545.0, 0.75: 41490.0}}"
      ]
     },
     "execution_count": 39,
     "metadata": {},
     "output_type": "execute_result"
    }
   ],
   "source": [
    "quantiles = rfm.quantile(q = [0.25,0.5,0.75]).to_dict()\n",
    "quantiles"
   ]
  },
  {
   "cell_type": "code",
   "execution_count": 40,
   "metadata": {},
   "outputs": [],
   "source": [
    "# Arguments (x = value, p = recency, monetary_value, frequency, k = quartiles dict)\n",
    "# Creating the RFM segmentation table\n",
    "def RClass(x,p,d):\n",
    "    if x <= d[p][0.25]:\n",
    "        return 1\n",
    "    elif x <= d[p][0.50]:\n",
    "        return 2\n",
    "    elif x <= d[p][0.75]: \n",
    "        return 3\n",
    "    else:\n",
    "        return 4\n",
    "    \n",
    "# Arguments (x = value, p = recency, monetary_value, frequency, k = quartiles dict)\n",
    "def FMClass(x,p,d):\n",
    "    if x <= d[p][0.25]:\n",
    "        return 4\n",
    "    elif x <= d[p][0.50]:\n",
    "        return 3\n",
    "    elif x <= d[p][0.75]: \n",
    "        return 2\n",
    "    else:\n",
    "        return 1"
   ]
  },
  {
   "cell_type": "code",
   "execution_count": 41,
   "metadata": {},
   "outputs": [
    {
     "data": {
      "text/html": [
       "<div>\n",
       "<style scoped>\n",
       "    .dataframe tbody tr th:only-of-type {\n",
       "        vertical-align: middle;\n",
       "    }\n",
       "\n",
       "    .dataframe tbody tr th {\n",
       "        vertical-align: top;\n",
       "    }\n",
       "\n",
       "    .dataframe thead th {\n",
       "        text-align: right;\n",
       "    }\n",
       "</style>\n",
       "<table border=\"1\" class=\"dataframe\">\n",
       "  <thead>\n",
       "    <tr style=\"text-align: right;\">\n",
       "      <th></th>\n",
       "      <th>recency</th>\n",
       "      <th>frequency</th>\n",
       "      <th>monetary_value</th>\n",
       "      <th>R_Quartile</th>\n",
       "      <th>F_Quartile</th>\n",
       "      <th>M_Quartile</th>\n",
       "      <th>RFMClass</th>\n",
       "    </tr>\n",
       "    <tr>\n",
       "      <th>cl_id</th>\n",
       "      <th></th>\n",
       "      <th></th>\n",
       "      <th></th>\n",
       "      <th></th>\n",
       "      <th></th>\n",
       "      <th></th>\n",
       "      <th></th>\n",
       "    </tr>\n",
       "  </thead>\n",
       "  <tbody>\n",
       "    <tr>\n",
       "      <th>1</th>\n",
       "      <td>236</td>\n",
       "      <td>3</td>\n",
       "      <td>14940.0</td>\n",
       "      <td>3</td>\n",
       "      <td>1</td>\n",
       "      <td>3</td>\n",
       "      <td>313</td>\n",
       "    </tr>\n",
       "    <tr>\n",
       "      <th>2</th>\n",
       "      <td>76</td>\n",
       "      <td>4</td>\n",
       "      <td>88540.0</td>\n",
       "      <td>1</td>\n",
       "      <td>1</td>\n",
       "      <td>1</td>\n",
       "      <td>111</td>\n",
       "    </tr>\n",
       "    <tr>\n",
       "      <th>3</th>\n",
       "      <td>455</td>\n",
       "      <td>1</td>\n",
       "      <td>7100.0</td>\n",
       "      <td>4</td>\n",
       "      <td>4</td>\n",
       "      <td>4</td>\n",
       "      <td>444</td>\n",
       "    </tr>\n",
       "    <tr>\n",
       "      <th>4</th>\n",
       "      <td>8</td>\n",
       "      <td>26</td>\n",
       "      <td>351196.5</td>\n",
       "      <td>1</td>\n",
       "      <td>1</td>\n",
       "      <td>1</td>\n",
       "      <td>111</td>\n",
       "    </tr>\n",
       "    <tr>\n",
       "      <th>5</th>\n",
       "      <td>453</td>\n",
       "      <td>1</td>\n",
       "      <td>3035.0</td>\n",
       "      <td>4</td>\n",
       "      <td>4</td>\n",
       "      <td>4</td>\n",
       "      <td>444</td>\n",
       "    </tr>\n",
       "  </tbody>\n",
       "</table>\n",
       "</div>"
      ],
      "text/plain": [
       "       recency  frequency  monetary_value  R_Quartile  F_Quartile  M_Quartile  \\\n",
       "cl_id                                                                           \n",
       "1          236          3         14940.0           3           1           3   \n",
       "2           76          4         88540.0           1           1           1   \n",
       "3          455          1          7100.0           4           4           4   \n",
       "4            8         26        351196.5           1           1           1   \n",
       "5          453          1          3035.0           4           4           4   \n",
       "\n",
       "      RFMClass  \n",
       "cl_id           \n",
       "1          313  \n",
       "2          111  \n",
       "3          444  \n",
       "4          111  \n",
       "5          444  "
      ]
     },
     "execution_count": 41,
     "metadata": {},
     "output_type": "execute_result"
    }
   ],
   "source": [
    "rfm['R_Quartile'] = rfm['recency'].apply(RClass, args = ('recency', quantiles,))\n",
    "rfm['F_Quartile'] = rfm['frequency'].apply(FMClass, args = ('frequency', quantiles,))\n",
    "rfm['M_Quartile'] = rfm['monetary_value'].apply(FMClass, args = ('monetary_value', quantiles,))\n",
    "\n",
    "rfm['RFMClass'] = rfm.R_Quartile.map(str) + rfm.F_Quartile.map(str) + rfm.M_Quartile.map(str)\n",
    "#frm.to_csv('rfm-table.csv', sep=',')\n",
    "rfm.head()"
   ]
  },
  {
   "cell_type": "code",
   "execution_count": 42,
   "metadata": {},
   "outputs": [
    {
     "data": {
      "text/html": [
       "<div>\n",
       "<style scoped>\n",
       "    .dataframe tbody tr th:only-of-type {\n",
       "        vertical-align: middle;\n",
       "    }\n",
       "\n",
       "    .dataframe tbody tr th {\n",
       "        vertical-align: top;\n",
       "    }\n",
       "\n",
       "    .dataframe thead th {\n",
       "        text-align: right;\n",
       "    }\n",
       "</style>\n",
       "<table border=\"1\" class=\"dataframe\">\n",
       "  <thead>\n",
       "    <tr style=\"text-align: right;\">\n",
       "      <th></th>\n",
       "      <th>recency</th>\n",
       "      <th>frequency</th>\n",
       "      <th>monetary_value</th>\n",
       "      <th>R_Quartile</th>\n",
       "      <th>F_Quartile</th>\n",
       "      <th>M_Quartile</th>\n",
       "      <th>RFMClass</th>\n",
       "    </tr>\n",
       "    <tr>\n",
       "      <th>cl_id</th>\n",
       "      <th></th>\n",
       "      <th></th>\n",
       "      <th></th>\n",
       "      <th></th>\n",
       "      <th></th>\n",
       "      <th></th>\n",
       "      <th></th>\n",
       "    </tr>\n",
       "  </thead>\n",
       "  <tbody>\n",
       "    <tr>\n",
       "      <th>1572</th>\n",
       "      <td>0</td>\n",
       "      <td>126</td>\n",
       "      <td>6300874.84</td>\n",
       "      <td>1</td>\n",
       "      <td>1</td>\n",
       "      <td>1</td>\n",
       "      <td>111</td>\n",
       "    </tr>\n",
       "    <tr>\n",
       "      <th>2177</th>\n",
       "      <td>12</td>\n",
       "      <td>44</td>\n",
       "      <td>3716194.39</td>\n",
       "      <td>1</td>\n",
       "      <td>1</td>\n",
       "      <td>1</td>\n",
       "      <td>111</td>\n",
       "    </tr>\n",
       "    <tr>\n",
       "      <th>4997</th>\n",
       "      <td>66</td>\n",
       "      <td>35</td>\n",
       "      <td>3012222.70</td>\n",
       "      <td>1</td>\n",
       "      <td>1</td>\n",
       "      <td>1</td>\n",
       "      <td>111</td>\n",
       "    </tr>\n",
       "    <tr>\n",
       "      <th>3738</th>\n",
       "      <td>0</td>\n",
       "      <td>128</td>\n",
       "      <td>2694385.00</td>\n",
       "      <td>1</td>\n",
       "      <td>1</td>\n",
       "      <td>1</td>\n",
       "      <td>111</td>\n",
       "    </tr>\n",
       "    <tr>\n",
       "      <th>3799</th>\n",
       "      <td>7</td>\n",
       "      <td>95</td>\n",
       "      <td>2493029.97</td>\n",
       "      <td>1</td>\n",
       "      <td>1</td>\n",
       "      <td>1</td>\n",
       "      <td>111</td>\n",
       "    </tr>\n",
       "  </tbody>\n",
       "</table>\n",
       "</div>"
      ],
      "text/plain": [
       "       recency  frequency  monetary_value  R_Quartile  F_Quartile  M_Quartile  \\\n",
       "cl_id                                                                           \n",
       "1572         0        126      6300874.84           1           1           1   \n",
       "2177        12         44      3716194.39           1           1           1   \n",
       "4997        66         35      3012222.70           1           1           1   \n",
       "3738         0        128      2694385.00           1           1           1   \n",
       "3799         7         95      2493029.97           1           1           1   \n",
       "\n",
       "      RFMClass  \n",
       "cl_id           \n",
       "1572       111  \n",
       "2177       111  \n",
       "4997       111  \n",
       "3738       111  \n",
       "3799       111  "
      ]
     },
     "execution_count": 42,
     "metadata": {},
     "output_type": "execute_result"
    }
   ],
   "source": [
    "#Who are the top 5 best customers? by RFM Class (111), high spenders who buy recently and frequently?\n",
    "rfm[rfm['RFMClass'] == '111'].sort_values('monetary_value', ascending = False).head(5)"
   ]
  },
  {
   "cell_type": "markdown",
   "metadata": {},
   "source": [
    "### What to do with this segments:\n",
    "<table>\n",
    "<tr><td>** Segment **</td><td>** RFM **</td><td>** Description **</td><td>** Marketing **</td></tr>\n",
    "<tr><td>Best Customers</td><td>111</td><td>Customers who bought most recently, most often and spend the most.</td><td>No price incentives, New products and loyalty programs</td></tr>\n",
    "<tr><td>Loyal Customers</td><td>X1X</td><td>Customers who bought most recently</td><td>Use R and M to further segment.</td></tr>\n",
    "<tr><td>Big Spenders</td><td>XX1</td><td>Customers who spend the most</td><td>Market your most expensive products.</td></tr>\n",
    "<tr><td>Almost Lost</td><td>311</td><td>Haven't purchased for some time, but purchased frequently and spend the most.</td><td>Agressive price incentives</td></tr>\n",
    "<tr><td>Lost Customers</td><td>411</td><td>Haven't purchased for some time, but purchased frequently and spend the most.</td><td>Agressive price incentives.</td></tr>\n",
    "<tr><td>Lost Cheap Customers</td><td>444</td><td>Last purchase long ago, purchased few and spend little.</td><td>Don't spend too much trying to re-acquire.</td></tr>\n",
    "<tr><td>...</td><td>...</td><td>...</td><td>...</td></tr>\n",
    "</table>"
   ]
  },
  {
   "cell_type": "code",
   "execution_count": 43,
   "metadata": {},
   "outputs": [
    {
     "data": {
      "image/png": "[encoded data removed]",
      "text/plain": [
       "<Figure size 1080x576 with 1 Axes>"
      ]
     },
     "metadata": {},
     "output_type": "display_data"
    }
   ],
   "source": [
    "plt.figure(figsize=(15, 8))\n",
    "sns.set()\n",
    "ax = sns.countplot(x = \"RFMClass\", data = rfm)\n",
    "ax = ax.set_xticklabels(ax.get_xticklabels(), rotation = 45)"
   ]
  },
  {
   "cell_type": "markdown",
   "metadata": {},
   "source": [
    "## Association Rule Mining via Apriori Algorithm"
   ]
  },
  {
   "cell_type": "code",
   "execution_count": 44,
   "metadata": {},
   "outputs": [
    {
     "data": {
      "image/png": "[encoded data removed]",
      "text/plain": [
       "<Figure size 1080x576 with 1 Axes>"
      ]
     },
     "metadata": {},
     "output_type": "display_data"
    }
   ],
   "source": [
    "# Let's look at our distribution of \n",
    "plt.figure(figsize=(15, 8))\n",
    "sns.set()\n",
    "ax = sns.countplot(x = \"frequency\", data = rfm)\n",
    "ax = ax.set_xticklabels(ax.get_xticklabels(), rotation = 45)"
   ]
  },
  {
   "cell_type": "code",
   "execution_count": 45,
   "metadata": {},
   "outputs": [
    {
     "name": "stdout",
     "output_type": "stream",
     "text": [
      "<class 'pandas.core.series.Series'>\n"
     ]
    }
   ],
   "source": [
    "a = data['ar_id'].value_counts()\n",
    "print(type(a))"
   ]
  },
  {
   "cell_type": "code",
   "execution_count": 46,
   "metadata": {},
   "outputs": [
    {
     "data": {
      "text/plain": [
       "4944.0    725\n",
       "4911.0    580\n",
       "3487.0    435\n",
       "434.0     430\n",
       "2635.0    425\n",
       "5064.0    423\n",
       "5019.0    399\n",
       "4942.0    373\n",
       "2715.0    303\n",
       "5049.0    299\n",
       "471.0     296\n",
       "5125.0    292\n",
       "4757.0    281\n",
       "2812.0    263\n",
       "2892.0    250\n",
       "5084.0    244\n",
       "359.0     235\n",
       "2839.0    223\n",
       "443.0     217\n",
       "2366.0    207\n",
       "2699.0    207\n",
       "4945.0    197\n",
       "308.0     168\n",
       "4801.0    166\n",
       "5076.0    157\n",
       "4918.0    156\n",
       "3060.0    156\n",
       "5305.0    155\n",
       "2519.0    153\n",
       "4803.0    147\n",
       "         ... \n",
       "3562.0      1\n",
       "5405.0      1\n",
       "1016.0      1\n",
       "2972.0      1\n",
       "4012.0      1\n",
       "4424.0      1\n",
       "4348.0      1\n",
       "1853.0      1\n",
       "3212.0      1\n",
       "4790.0      1\n",
       "2963.0      1\n",
       "1511.0      1\n",
       "4259.0      1\n",
       "5421.0      1\n",
       "2174.0      1\n",
       "738.0       1\n",
       "572.0       1\n",
       "3526.0      1\n",
       "1857.0      1\n",
       "5354.0      1\n",
       "5372.0      1\n",
       "5253.0      1\n",
       "2990.0      1\n",
       "1499.0      1\n",
       "2915.0      1\n",
       "2749.0      1\n",
       "1345.0      1\n",
       "4666.0      1\n",
       "1196.0      1\n",
       "3765.0      1\n",
       "Name: ar_id, Length: 5293, dtype: int64"
      ]
     },
     "execution_count": 46,
     "metadata": {},
     "output_type": "execute_result"
    }
   ],
   "source": [
    "a"
   ]
  },
  {
   "cell_type": "code",
   "execution_count": 47,
   "metadata": {},
   "outputs": [
    {
     "data": {
      "text/plain": [
       "27"
      ]
     },
     "execution_count": 47,
     "metadata": {},
     "output_type": "execute_result"
    }
   ],
   "source": [
    "apriori = data.groupby('tr_id')['ar_id'].apply(lambda g: g.values.tolist()).to_dict()\n",
    "apriori = list(apriori.values())\n",
    "\n",
    "# Maximum items in a basket\n",
    "max(len(elem) for elem in apriori)"
   ]
  },
  {
   "cell_type": "code",
   "execution_count": 48,
   "metadata": {},
   "outputs": [],
   "source": [
    "transactions = []\n",
    "for i in range(0, len(apriori)):\n",
    "    n = list(apriori[i])\n",
    "    for x in range(27):\n",
    "        n = np.append(n, 'nan')\n",
    "    transactions.append(n.tolist())"
   ]
  },
  {
   "cell_type": "markdown",
   "metadata": {},
   "source": [
    "But usually you want all three to be high.\n",
    "* high support: should apply to a large amount of cases\n",
    "* high confidence: should be correct often\n",
    "* high lift: indicates it is not just a coincidence"
   ]
  },
  {
   "cell_type": "code",
   "execution_count": 49,
   "metadata": {},
   "outputs": [
    {
     "data": {
      "text/plain": [
       "[RelationRecord(items=frozenset({'2812.0', '2635.0'}), support=0.0010992759940866533, ordered_statistics=[OrderedStatistic(items_base=frozenset({'2635.0'}), items_add=frozenset({'2812.0'}), confidence=0.07455012853470437, lift=8.160609713170274), OrderedStatistic(items_base=frozenset({'2812.0'}), items_add=frozenset({'2635.0'}), confidence=0.1203319502074689, lift=8.160609713170276)]),\n",
       " RelationRecord(items=frozenset({'443.0', '434.0'}), support=0.001288806337894697, ordered_statistics=[OrderedStatistic(items_base=frozenset({'434.0'}), items_add=frozenset({'443.0'}), confidence=0.10725552050473186, lift=17.684424290220818), OrderedStatistic(items_base=frozenset({'443.0'}), items_add=frozenset({'434.0'}), confidence=0.2125, lift=17.684424290220818)]),\n",
       " RelationRecord(items=frozenset({'434.0', '471.0'}), support=0.0015541488192259581, ordered_statistics=[OrderedStatistic(items_base=frozenset({'434.0'}), items_add=frozenset({'471.0'}), confidence=0.12933753943217666, lift=14.336359780505264), OrderedStatistic(items_base=frozenset({'471.0'}), items_add=frozenset({'434.0'}), confidence=0.17226890756302524, lift=14.336359780505264)]),\n",
       " RelationRecord(items=frozenset({'4911.0', '4519.0'}), support=0.001137182062848262, ordered_statistics=[OrderedStatistic(items_base=frozenset({'4519.0'}), items_add=frozenset({'4911.0'}), confidence=0.28301886792452835, lift=14.525915865208136), OrderedStatistic(items_base=frozenset({'4911.0'}), items_add=frozenset({'4519.0'}), confidence=0.05836575875486381, lift=14.525915865208134)]),\n",
       " RelationRecord(items=frozenset({'4911.0', '5049.0'}), support=0.0011750881316098707, ordered_statistics=[OrderedStatistic(items_base=frozenset({'4911.0'}), items_add=frozenset({'5049.0'}), confidence=0.0603112840466926, lift=5.764753566796368), OrderedStatistic(items_base=frozenset({'5049.0'}), items_add=frozenset({'4911.0'}), confidence=0.11231884057971013, lift=5.764753566796367)]),\n",
       " RelationRecord(items=frozenset({'nan', '2812.0', '2635.0'}), support=0.0010992759940866533, ordered_statistics=[OrderedStatistic(items_base=frozenset({'nan', '2635.0'}), items_add=frozenset({'2812.0'}), confidence=0.07455012853470437, lift=8.160609713170274), OrderedStatistic(items_base=frozenset({'nan', '2812.0'}), items_add=frozenset({'2635.0'}), confidence=0.1203319502074689, lift=8.160609713170276)]),\n",
       " RelationRecord(items=frozenset({'nan', '443.0', '434.0'}), support=0.001288806337894697, ordered_statistics=[OrderedStatistic(items_base=frozenset({'nan', '434.0'}), items_add=frozenset({'443.0'}), confidence=0.10725552050473186, lift=17.684424290220818), OrderedStatistic(items_base=frozenset({'nan', '443.0'}), items_add=frozenset({'434.0'}), confidence=0.2125, lift=17.684424290220818)]),\n",
       " RelationRecord(items=frozenset({'nan', '434.0', '471.0'}), support=0.0015541488192259581, ordered_statistics=[OrderedStatistic(items_base=frozenset({'nan', '434.0'}), items_add=frozenset({'471.0'}), confidence=0.12933753943217666, lift=14.336359780505264), OrderedStatistic(items_base=frozenset({'nan', '471.0'}), items_add=frozenset({'434.0'}), confidence=0.17226890756302524, lift=14.336359780505264)]),\n",
       " RelationRecord(items=frozenset({'4911.0', '4519.0', 'nan'}), support=0.001137182062848262, ordered_statistics=[OrderedStatistic(items_base=frozenset({'nan', '4519.0'}), items_add=frozenset({'4911.0'}), confidence=0.28301886792452835, lift=14.525915865208136), OrderedStatistic(items_base=frozenset({'4911.0', 'nan'}), items_add=frozenset({'4519.0'}), confidence=0.05836575875486381, lift=14.525915865208134)]),\n",
       " RelationRecord(items=frozenset({'4911.0', '5049.0', 'nan'}), support=0.0011750881316098707, ordered_statistics=[OrderedStatistic(items_base=frozenset({'4911.0', 'nan'}), items_add=frozenset({'5049.0'}), confidence=0.0603112840466926, lift=5.764753566796368), OrderedStatistic(items_base=frozenset({'nan', '5049.0'}), items_add=frozenset({'4911.0'}), confidence=0.11231884057971013, lift=5.764753566796367)])]"
      ]
     },
     "execution_count": 49,
     "metadata": {},
     "output_type": "execute_result"
    }
   ],
   "source": [
    "# training Apriori on the dataset\n",
    "from apyori import apriori\n",
    "rules = apriori(transactions, min_support = 0.001, min_confidence = 0.01, min_lift = 3, min_length = 2)\n",
    "\n",
    "# Visualising the results\n",
    "list(rules)"
   ]
  },
  {
   "cell_type": "markdown",
   "metadata": {},
   "source": [
    "With relatively big dataset and loyal rules, there are not enought interconnections in our data to create reasonable amount of product suggestions - just 5."
   ]
  },
  {
   "cell_type": "markdown",
   "metadata": {},
   "source": [
    "## Recommendations"
   ]
  },
  {
   "cell_type": "code",
   "execution_count": 50,
   "metadata": {},
   "outputs": [
    {
     "data": {
      "text/html": [
       "<div>\n",
       "<style scoped>\n",
       "    .dataframe tbody tr th:only-of-type {\n",
       "        vertical-align: middle;\n",
       "    }\n",
       "\n",
       "    .dataframe tbody tr th {\n",
       "        vertical-align: top;\n",
       "    }\n",
       "\n",
       "    .dataframe thead th {\n",
       "        text-align: right;\n",
       "    }\n",
       "</style>\n",
       "<table border=\"1\" class=\"dataframe\">\n",
       "  <thead>\n",
       "    <tr style=\"text-align: right;\">\n",
       "      <th></th>\n",
       "      <th>item</th>\n",
       "      <th>user</th>\n",
       "      <th>weight</th>\n",
       "    </tr>\n",
       "  </thead>\n",
       "  <tbody>\n",
       "    <tr>\n",
       "      <th>0</th>\n",
       "      <td>2874.0</td>\n",
       "      <td>1</td>\n",
       "      <td>1</td>\n",
       "    </tr>\n",
       "    <tr>\n",
       "      <th>1</th>\n",
       "      <td>3586.0</td>\n",
       "      <td>1</td>\n",
       "      <td>1</td>\n",
       "    </tr>\n",
       "    <tr>\n",
       "      <th>2</th>\n",
       "      <td>4942.0</td>\n",
       "      <td>1</td>\n",
       "      <td>1</td>\n",
       "    </tr>\n",
       "    <tr>\n",
       "      <th>3</th>\n",
       "      <td>2812.0</td>\n",
       "      <td>2</td>\n",
       "      <td>1</td>\n",
       "    </tr>\n",
       "    <tr>\n",
       "      <th>4</th>\n",
       "      <td>5025.0</td>\n",
       "      <td>2</td>\n",
       "      <td>1</td>\n",
       "    </tr>\n",
       "  </tbody>\n",
       "</table>\n",
       "</div>"
      ],
      "text/plain": [
       "     item  user  weight\n",
       "0  2874.0     1       1\n",
       "1  3586.0     1       1\n",
       "2  4942.0     1       1\n",
       "3  2812.0     2       1\n",
       "4  5025.0     2       1"
      ]
     },
     "execution_count": 50,
     "metadata": {},
     "output_type": "execute_result"
    }
   ],
   "source": [
    "all_user_items = data[['ar_id', 'cl_id']]\n",
    "all_user_items.columns = ['item','user']\n",
    "all_user_items['weight'] = 1\n",
    "all_user_items.head()"
   ]
  },
  {
   "cell_type": "code",
   "execution_count": 51,
   "metadata": {},
   "outputs": [],
   "source": [
    "from sklearn.feature_extraction.text import TfidfVectorizer\n",
    "#tf = TfidfVectorizer(min_df=0)\n",
    "vec = TfidfVectorizer()\n",
    "\n",
    "beerlist_tfidf = vec.fit_transform(all_user_items['item'].astype(str)).toarray()\n",
    "#beer_tfidf = vec.transform(['heinekin lager']).toarray()\n",
    "#tfidf_matrix = tf.fit_transform(all_user_items['item'])\n"
   ]
  },
  {
   "cell_type": "code",
   "execution_count": 52,
   "metadata": {},
   "outputs": [
    {
     "data": {
      "text/plain": [
       "array([[0., 0., 0., ..., 0., 0., 0.],\n",
       "       [0., 0., 0., ..., 0., 0., 0.],\n",
       "       [0., 0., 0., ..., 0., 0., 0.],\n",
       "       ...,\n",
       "       [0., 0., 0., ..., 0., 0., 0.],\n",
       "       [0., 0., 0., ..., 0., 0., 0.],\n",
       "       [0., 0., 0., ..., 0., 0., 0.]])"
      ]
     },
     "execution_count": 52,
     "metadata": {},
     "output_type": "execute_result"
    }
   ],
   "source": [
    "beerlist_tfidf"
   ]
  },
  {
   "cell_type": "code",
   "execution_count": 53,
   "metadata": {},
   "outputs": [],
   "source": [
    "last_item_id = all_user_items[\"item\"].max()\n",
    "last_user_id = all_user_items[\"user\"].max()"
   ]
  },
  {
   "cell_type": "code",
   "execution_count": 54,
   "metadata": {},
   "outputs": [],
   "source": [
    "from scipy.sparse import csr_matrix\n",
    "\n",
    "user_with_item = all_user_items[[\"user\", \"item\"]].as_matrix()\n",
    "user_item_matrix = csr_matrix((all_user_items[\"weight\"].tolist(), ([both[0] for both in user_with_item],\n",
    "            [both[1] for both in user_with_item],)), shape = (last_user_id + 1, last_item_id + 1), dtype = np.float32)"
   ]
  },
  {
   "cell_type": "code",
   "execution_count": 55,
   "metadata": {},
   "outputs": [],
   "source": [
    "np.random.seed(0)\n",
    "test_indices = np.random.choice(range(user_item_matrix.nnz), replace = False, size = int(user_item_matrix.nnz * 0.2)).tolist()"
   ]
  },
  {
   "cell_type": "code",
   "execution_count": 56,
   "metadata": {},
   "outputs": [],
   "source": [
    "train = user_item_matrix.copy()\n",
    "train.data[test_indices] = 0\n",
    "train.eliminate_zeros()\n",
    "\n",
    "test = user_item_matrix.copy()\n",
    "test.data[:] = 0\n",
    "test.data[test_indices] = user_item_matrix.data[test_indices]\n",
    "test.eliminate_zeros()"
   ]
  },
  {
   "cell_type": "code",
   "execution_count": 57,
   "metadata": {},
   "outputs": [
    {
     "data": {
      "text/plain": [
       "<11051x5524 sparse matrix of type '<class 'numpy.float32'>'\n",
       "\twith 33096 stored elements in Compressed Sparse Row format>"
      ]
     },
     "execution_count": 57,
     "metadata": {},
     "output_type": "execute_result"
    }
   ],
   "source": [
    "train"
   ]
  },
  {
   "cell_type": "raw",
   "metadata": {},
   "source": [
    "test"
   ]
  },
  {
   "cell_type": "code",
   "execution_count": 58,
   "metadata": {},
   "outputs": [],
   "source": [
    "alpha = 1e-05\n",
    "epochs = 15\n",
    "num_components = 32\n",
    "\n",
    "warp_model = LightFM(no_components=num_components,\n",
    "                    loss='warp',\n",
    "                    learning_schedule='adagrad',\n",
    "                    max_sampled=100,\n",
    "                    user_alpha=alpha,\n",
    "                    item_alpha=alpha)\n",
    "\n",
    "bpr_model = LightFM(no_components=num_components,\n",
    "                    loss='bpr',\n",
    "                    learning_schedule='adagrad',\n",
    "                    user_alpha=alpha,\n",
    "                    item_alpha=alpha)\n",
    "\n",
    "logistic_model = LightFM(no_components=30,\n",
    "                        loss='logistic', \n",
    "                        learning_schedule='adadelta',\n",
    "                        user_alpha=alpha, item_alpha=alpha)\n",
    "\n",
    "warp_auc = []\n",
    "warp_test_auc = []\n",
    "bpr_auc = []\n",
    "bpr_test_auc = []\n",
    "logistic_auc = []\n",
    "logistic_test_auc = []\n",
    "\n",
    "for epoch in range(epochs):\n",
    "    warp_model.fit_partial(train, epochs = 1)\n",
    "    warp_auc.append(auc_score(warp_model, train,).mean())\n",
    "    warp_test_auc.append(auc_score(warp_model, test).mean())\n",
    "    \n",
    "for epoch in range(epochs):\n",
    "    bpr_model.fit_partial(train, epochs = 1)\n",
    "    bpr_auc.append(auc_score(bpr_model, train).mean())\n",
    "    bpr_test_auc.append(auc_score(bpr_model, test).mean())\n",
    "\n",
    "for epoch in range(epochs):\n",
    "    logistic_model.fit_partial(train, epochs = 1)\n",
    "    logistic_auc.append(auc_score(logistic_model, train).mean())\n",
    "    logistic_test_auc.append(auc_score(logistic_model, test).mean())"
   ]
  },
  {
   "cell_type": "code",
   "execution_count": 59,
   "metadata": {},
   "outputs": [
    {
     "data": {
      "image/png": "[encoded data removed]",
      "text/plain": [
       "<Figure size 432x288 with 1 Axes>"
      ]
     },
     "metadata": {},
     "output_type": "display_data"
    }
   ],
   "source": [
    "x = np.arange(epochs)\n",
    "plt.plot(x, np.array(warp_auc))\n",
    "plt.plot(x, np.array(bpr_auc))\n",
    "plt.plot(x, np.array(logistic_auc))\n",
    "plt.plot(x, np.array(warp_test_auc))\n",
    "plt.plot(x, np.array(bpr_test_auc))\n",
    "plt.plot(x, np.array(logistic_test_auc))\n",
    "plt.legend(['WARP AUC (train)', 'BPR AUC (train)', 'Logistic AUC (train)', 'WARP AUC (test)', 'BPR AUC (test)', 'Logistic AUC (test)'], loc = 'upper left')\n",
    "plt.show()"
   ]
  },
  {
   "cell_type": "code",
   "execution_count": 60,
   "metadata": {},
   "outputs": [],
   "source": [
    "alpha = 1e-3\n",
    "epochs = 15\n",
    "\n",
    "adagrad_model = LightFM(no_components=30,\n",
    "                        loss='warp-kos', \n",
    "                        learning_schedule='adagrad',\n",
    "                        user_alpha=alpha, item_alpha=alpha)\n",
    "\n",
    "adadelta_model = LightFM(no_components=30,\n",
    "                        loss='warp-kos', \n",
    "                        learning_schedule='adadelta',\n",
    "                        user_alpha=alpha, item_alpha=alpha)\n",
    "\n",
    "adagrad_auc = []\n",
    "adagrad_test_auc = []\n",
    "adadelta_auc = []\n",
    "adadelta_test_auc = []\n",
    "\n",
    "for epoch in range(epochs):\n",
    "    adagrad_model.fit_partial(train, epochs=1)\n",
    "    adagrad_auc.append(auc_score(adagrad_model, train).mean())\n",
    "    adagrad_test_auc.append(auc_score(adagrad_model, test).mean())\n",
    "\n",
    "for epoch in range(epochs):\n",
    "    adadelta_model.fit_partial(train, epochs=1)\n",
    "    adadelta_auc.append(auc_score(adadelta_model, train).mean())\n",
    "    adadelta_test_auc.append(auc_score(adadelta_model, test).mean())"
   ]
  },
  {
   "cell_type": "code",
   "execution_count": 61,
   "metadata": {},
   "outputs": [
    {
     "data": {
      "image/png": "[encoded data removed]",
      "text/plain": [
       "<Figure size 432x288 with 1 Axes>"
      ]
     },
     "metadata": {},
     "output_type": "display_data"
    }
   ],
   "source": [
    "x = np.arange(epochs)\n",
    "plt.plot(x, np.array(adagrad_auc))\n",
    "plt.plot(x, np.array(adadelta_auc))\n",
    "plt.plot(x, np.array(adagrad_test_auc))\n",
    "plt.plot(x, np.array(adadelta_test_auc))\n",
    "plt.legend(['adagrad (train)', 'adadelta (train)', 'adagrad (test)', 'adadelta (test)'], loc = 'upper left')\n",
    "plt.show()"
   ]
  },
  {
   "cell_type": "code",
   "execution_count": 62,
   "metadata": {},
   "outputs": [
    {
     "name": "stdout",
     "output_type": "stream",
     "text": [
      "Train WARP AUC: 0.96\n",
      "Test WARP AUC: 0.82\n",
      "   \n",
      "Train BPR AUC: 0.60\n",
      "Test BPR AUC: 0.55\n",
      "   \n",
      "Train logistic AUC: 0.89\n",
      "Test logistic AUC: 0.84\n",
      "   \n",
      "Train WARP + adagrad AUC: 0.92\n",
      "Test WARP + adagrad AUC: 0.83\n",
      "   \n",
      "Train WARP + adadelta AUC: 0.89\n",
      "Test WARP + adadelta AUC: 0.83\n"
     ]
    }
   ],
   "source": [
    "print(\"Train WARP AUC: %.2f\" % pd.Series(warp_auc).mean())\n",
    "print(\"Test WARP AUC: %.2f\" % pd.Series(warp_test_auc).mean())\n",
    "print('   ')\n",
    "print(\"Train BPR AUC: %.2f\" % pd.Series(bpr_auc).mean())\n",
    "print(\"Test BPR AUC: %.2f\" % pd.Series(bpr_test_auc).mean())\n",
    "print('   ')\n",
    "print(\"Train logistic AUC: %.2f\" % pd.Series(logistic_auc).mean())\n",
    "print(\"Test logistic AUC: %.2f\" % pd.Series(logistic_test_auc).mean())\n",
    "print('   ')\n",
    "print(\"Train WARP + adagrad AUC: %.2f\" % pd.Series(adagrad_auc).mean())\n",
    "print(\"Test WARP + adagrad AUC: %.2f\" % pd.Series(adagrad_test_auc).mean())\n",
    "print('   ')\n",
    "print(\"Train WARP + adadelta AUC: %.2f\" % pd.Series(adadelta_auc).mean())\n",
    "print(\"Test WARP + adadelta AUC: %.2f\" % pd.Series(adadelta_test_auc).mean())"
   ]
  },
  {
   "cell_type": "code",
   "execution_count": 63,
   "metadata": {},
   "outputs": [
    {
     "data": {
      "text/plain": [
       "<lightfm.lightfm.LightFM at 0x1220faf60>"
      ]
     },
     "execution_count": 63,
     "metadata": {},
     "output_type": "execute_result"
    }
   ],
   "source": [
    "# Creating a final model\n",
    "# This one was chosen as it was the most stable and thus reliable model\n",
    "final = LightFM(no_components = 30,\n",
    "                        loss = 'logistic', \n",
    "                        learning_schedule = 'adadelta')\n",
    "final.fit(train, epochs = 3)"
   ]
  },
  {
   "cell_type": "code",
   "execution_count": 64,
   "metadata": {},
   "outputs": [],
   "source": [
    "def recommend_match(model, data, user_ids):\n",
    "    n_user, n_matches = data.shape\n",
    "    first = []\n",
    "    second = []\n",
    "    for user_id in user_ids:\n",
    "      #  print('recommendation for user : %s' % str(user_id + 1))\n",
    "        scores = model.predict(user_id, np.arange(n_matches))\n",
    "        topScores = np.argsort(-scores)[:2]\n",
    "\n",
    "       # for x in topScores[:2]:\n",
    "       #     print(\"    %s\"%x)\n",
    "        first.append(topScores[:1][0])\n",
    "        second.append(topScores[:2][1])\n",
    "    return(topScores[:2], first, second)"
   ]
  },
  {
   "cell_type": "code",
   "execution_count": 65,
   "metadata": {},
   "outputs": [],
   "source": [
    "ls = list(all_user_items['user'].unique())\n",
    "a, first, second = recommend_match(final, train, ls)"
   ]
  },
  {
   "cell_type": "code",
   "execution_count": 66,
   "metadata": {},
   "outputs": [],
   "source": [
    "recommendations = pd.DataFrame(\n",
    "    {'first_recommendation': first,\n",
    "     'second_recommendation': second,\n",
    "     'cl_id': list(range(1, 10990))\n",
    "    })\n",
    "recommendations.to_csv(\"recommendations\", sep = ';')"
   ]
  },
  {
   "cell_type": "code",
   "execution_count": 67,
   "metadata": {},
   "outputs": [
    {
     "data": {
      "text/plain": [
       "4911    10328\n",
       "4944      658\n",
       "2635        3\n",
       "Name: first_recommendation, dtype: int64"
      ]
     },
     "execution_count": 67,
     "metadata": {},
     "output_type": "execute_result"
    }
   ],
   "source": [
    "recommendations['first_recommendation'].value_counts()"
   ]
  },
  {
   "cell_type": "markdown",
   "metadata": {},
   "source": [
    "Let's compare out recommendation with the fact. Main metric: accuracy. \n",
    "\n",
    "Ваш прогноз будет сопоставлен с фактом. Основной метрикой будет количество товаров, которые присутствовали в прогнозе и были куплены в действительности за контрольный период.\n",
    "offline тестирование модели на исторических данных с помощью ретро-тестов,\n"
   ]
  },
  {
   "cell_type": "code",
   "execution_count": 68,
   "metadata": {},
   "outputs": [],
   "source": [
    "for_prediction['fact'] = 0\n",
    "for index, row in for_prediction.iterrows():\n",
    "    las = data1[(data1['dt'] == row['dt']) & (data1['tr_id'] == row['tr_id']) & (data1['cl_id'] == row['cl_id']) & (data1['qty'] == row['qty']) & (data1['s'] == row['s'])]\n",
    "    las = las.drop_duplicates(subset = None, keep = 'first', inplace = False)\n",
    "    for_prediction.fact[index] = las[\"ar_id\"]"
   ]
  },
  {
   "cell_type": "code",
   "execution_count": 69,
   "metadata": {},
   "outputs": [
    {
     "data": {
      "text/html": [
       "<div>\n",
       "<style scoped>\n",
       "    .dataframe tbody tr th:only-of-type {\n",
       "        vertical-align: middle;\n",
       "    }\n",
       "\n",
       "    .dataframe tbody tr th {\n",
       "        vertical-align: top;\n",
       "    }\n",
       "\n",
       "    .dataframe thead th {\n",
       "        text-align: right;\n",
       "    }\n",
       "</style>\n",
       "<table border=\"1\" class=\"dataframe\">\n",
       "  <thead>\n",
       "    <tr style=\"text-align: right;\">\n",
       "      <th></th>\n",
       "      <th>dt</th>\n",
       "      <th>tr_id</th>\n",
       "      <th>cl_id</th>\n",
       "      <th>ar_id</th>\n",
       "      <th>qty</th>\n",
       "      <th>s</th>\n",
       "      <th>fact</th>\n",
       "    </tr>\n",
       "  </thead>\n",
       "  <tbody>\n",
       "    <tr>\n",
       "      <th>5581</th>\n",
       "      <td>2007-11-15 17:45:23</td>\n",
       "      <td>13583</td>\n",
       "      <td>1034</td>\n",
       "      <td>NaN</td>\n",
       "      <td>1.0</td>\n",
       "      <td>4295.0</td>\n",
       "      <td>538</td>\n",
       "    </tr>\n",
       "    <tr>\n",
       "      <th>11872</th>\n",
       "      <td>2007-11-18 18:45:04</td>\n",
       "      <td>13682</td>\n",
       "      <td>1966</td>\n",
       "      <td>NaN</td>\n",
       "      <td>1.0</td>\n",
       "      <td>4295.0</td>\n",
       "      <td>538</td>\n",
       "    </tr>\n",
       "    <tr>\n",
       "      <th>14620</th>\n",
       "      <td>2008-04-19 19:29:38</td>\n",
       "      <td>20331</td>\n",
       "      <td>2336</td>\n",
       "      <td>NaN</td>\n",
       "      <td>1.0</td>\n",
       "      <td>3995.0</td>\n",
       "      <td>3629</td>\n",
       "    </tr>\n",
       "    <tr>\n",
       "      <th>15654</th>\n",
       "      <td>2007-06-07 17:46:17</td>\n",
       "      <td>3797</td>\n",
       "      <td>2464</td>\n",
       "      <td>NaN</td>\n",
       "      <td>1.0</td>\n",
       "      <td>1870.0</td>\n",
       "      <td>541</td>\n",
       "    </tr>\n",
       "    <tr>\n",
       "      <th>15655</th>\n",
       "      <td>2007-06-07 17:46:17</td>\n",
       "      <td>3797</td>\n",
       "      <td>2464</td>\n",
       "      <td>NaN</td>\n",
       "      <td>1.0</td>\n",
       "      <td>1785.0</td>\n",
       "      <td>541</td>\n",
       "    </tr>\n",
       "    <tr>\n",
       "      <th>16900</th>\n",
       "      <td>2007-07-11 13:40:17</td>\n",
       "      <td>4633</td>\n",
       "      <td>2605</td>\n",
       "      <td>NaN</td>\n",
       "      <td>1.0</td>\n",
       "      <td>2810.0</td>\n",
       "      <td>539</td>\n",
       "    </tr>\n",
       "    <tr>\n",
       "      <th>16919</th>\n",
       "      <td>2008-03-30 19:30:42</td>\n",
       "      <td>19423</td>\n",
       "      <td>2605</td>\n",
       "      <td>NaN</td>\n",
       "      <td>1.0</td>\n",
       "      <td>8740.0</td>\n",
       "      <td>523</td>\n",
       "    </tr>\n",
       "    <tr>\n",
       "      <th>17316</th>\n",
       "      <td>2007-12-01 15:56:33</td>\n",
       "      <td>14176</td>\n",
       "      <td>2666</td>\n",
       "      <td>NaN</td>\n",
       "      <td>1.0</td>\n",
       "      <td>2780.0</td>\n",
       "      <td>514</td>\n",
       "    </tr>\n",
       "    <tr>\n",
       "      <th>17843</th>\n",
       "      <td>2007-08-16 20:03:36</td>\n",
       "      <td>6871</td>\n",
       "      <td>2725</td>\n",
       "      <td>NaN</td>\n",
       "      <td>1.0</td>\n",
       "      <td>3145.0</td>\n",
       "      <td>523</td>\n",
       "    </tr>\n",
       "    <tr>\n",
       "      <th>17846</th>\n",
       "      <td>2007-08-16 20:04:46</td>\n",
       "      <td>6872</td>\n",
       "      <td>2725</td>\n",
       "      <td>NaN</td>\n",
       "      <td>1.0</td>\n",
       "      <td>3145.0</td>\n",
       "      <td>523</td>\n",
       "    </tr>\n",
       "    <tr>\n",
       "      <th>17892</th>\n",
       "      <td>2007-10-27 15:49:24</td>\n",
       "      <td>12872</td>\n",
       "      <td>2725</td>\n",
       "      <td>NaN</td>\n",
       "      <td>1.0</td>\n",
       "      <td>3230.0</td>\n",
       "      <td>544</td>\n",
       "    </tr>\n",
       "    <tr>\n",
       "      <th>17896</th>\n",
       "      <td>2007-10-27 15:49:24</td>\n",
       "      <td>12872</td>\n",
       "      <td>2725</td>\n",
       "      <td>NaN</td>\n",
       "      <td>1.0</td>\n",
       "      <td>3230.0</td>\n",
       "      <td>544</td>\n",
       "    </tr>\n",
       "    <tr>\n",
       "      <th>18023</th>\n",
       "      <td>2007-06-28 22:15:39</td>\n",
       "      <td>4249</td>\n",
       "      <td>2740</td>\n",
       "      <td>NaN</td>\n",
       "      <td>1.0</td>\n",
       "      <td>3145.0</td>\n",
       "      <td>523</td>\n",
       "    </tr>\n",
       "    <tr>\n",
       "      <th>18034</th>\n",
       "      <td>2007-06-30 19:47:33</td>\n",
       "      <td>4302</td>\n",
       "      <td>2740</td>\n",
       "      <td>NaN</td>\n",
       "      <td>1.0</td>\n",
       "      <td>3145.0</td>\n",
       "      <td>523</td>\n",
       "    </tr>\n",
       "    <tr>\n",
       "      <th>18541</th>\n",
       "      <td>2007-08-11 14:32:13</td>\n",
       "      <td>6153</td>\n",
       "      <td>2788</td>\n",
       "      <td>NaN</td>\n",
       "      <td>1.0</td>\n",
       "      <td>2090.0</td>\n",
       "      <td>529</td>\n",
       "    </tr>\n",
       "    <tr>\n",
       "      <th>19013</th>\n",
       "      <td>2007-09-30 15:35:08</td>\n",
       "      <td>11005</td>\n",
       "      <td>2888</td>\n",
       "      <td>NaN</td>\n",
       "      <td>1.0</td>\n",
       "      <td>750.0</td>\n",
       "      <td>543</td>\n",
       "    </tr>\n",
       "    <tr>\n",
       "      <th>20150</th>\n",
       "      <td>2007-08-10 15:38:20</td>\n",
       "      <td>6025</td>\n",
       "      <td>3252</td>\n",
       "      <td>NaN</td>\n",
       "      <td>1.0</td>\n",
       "      <td>3215.0</td>\n",
       "      <td>530</td>\n",
       "    </tr>\n",
       "    <tr>\n",
       "      <th>20451</th>\n",
       "      <td>2007-08-12 18:01:57</td>\n",
       "      <td>6405</td>\n",
       "      <td>3335</td>\n",
       "      <td>NaN</td>\n",
       "      <td>1.0</td>\n",
       "      <td>1255.0</td>\n",
       "      <td>543</td>\n",
       "    </tr>\n",
       "    <tr>\n",
       "      <th>20774</th>\n",
       "      <td>2008-04-27 19:49:16</td>\n",
       "      <td>21253</td>\n",
       "      <td>3397</td>\n",
       "      <td>NaN</td>\n",
       "      <td>1.0</td>\n",
       "      <td>3495.0</td>\n",
       "      <td>516</td>\n",
       "    </tr>\n",
       "    <tr>\n",
       "      <th>21689</th>\n",
       "      <td>2007-11-06 18:36:13</td>\n",
       "      <td>13321</td>\n",
       "      <td>3547</td>\n",
       "      <td>NaN</td>\n",
       "      <td>1.0</td>\n",
       "      <td>2485.0</td>\n",
       "      <td>523</td>\n",
       "    </tr>\n",
       "    <tr>\n",
       "      <th>21691</th>\n",
       "      <td>2007-11-06 18:36:13</td>\n",
       "      <td>13321</td>\n",
       "      <td>3547</td>\n",
       "      <td>NaN</td>\n",
       "      <td>1.0</td>\n",
       "      <td>2665.0</td>\n",
       "      <td>523</td>\n",
       "    </tr>\n",
       "    <tr>\n",
       "      <th>22229</th>\n",
       "      <td>2008-06-28 19:34:18</td>\n",
       "      <td>24524</td>\n",
       "      <td>3633</td>\n",
       "      <td>NaN</td>\n",
       "      <td>1.0</td>\n",
       "      <td>4080.0</td>\n",
       "      <td>523</td>\n",
       "    </tr>\n",
       "    <tr>\n",
       "      <th>25236</th>\n",
       "      <td>2008-03-09 19:49:04</td>\n",
       "      <td>18634</td>\n",
       "      <td>4121</td>\n",
       "      <td>NaN</td>\n",
       "      <td>1.0</td>\n",
       "      <td>1496.0</td>\n",
       "      <td>513</td>\n",
       "    </tr>\n",
       "    <tr>\n",
       "      <th>27371</th>\n",
       "      <td>2007-09-09 19:16:37</td>\n",
       "      <td>8540</td>\n",
       "      <td>4636</td>\n",
       "      <td>NaN</td>\n",
       "      <td>1.0</td>\n",
       "      <td>2495.0</td>\n",
       "      <td>530</td>\n",
       "    </tr>\n",
       "    <tr>\n",
       "      <th>36163</th>\n",
       "      <td>2007-12-10 16:47:22</td>\n",
       "      <td>14528</td>\n",
       "      <td>6898</td>\n",
       "      <td>NaN</td>\n",
       "      <td>1.0</td>\n",
       "      <td>5860.0</td>\n",
       "      <td>538</td>\n",
       "    </tr>\n",
       "    <tr>\n",
       "      <th>37520</th>\n",
       "      <td>2007-10-18 17:24:40</td>\n",
       "      <td>12321</td>\n",
       "      <td>7168</td>\n",
       "      <td>NaN</td>\n",
       "      <td>1.0</td>\n",
       "      <td>897.5</td>\n",
       "      <td>534</td>\n",
       "    </tr>\n",
       "    <tr>\n",
       "      <th>39060</th>\n",
       "      <td>2008-02-25 16:11:31</td>\n",
       "      <td>17992</td>\n",
       "      <td>7611</td>\n",
       "      <td>NaN</td>\n",
       "      <td>1.0</td>\n",
       "      <td>3280.0</td>\n",
       "      <td>543</td>\n",
       "    </tr>\n",
       "    <tr>\n",
       "      <th>44856</th>\n",
       "      <td>2008-06-02 18:42:49</td>\n",
       "      <td>23182</td>\n",
       "      <td>9754</td>\n",
       "      <td>NaN</td>\n",
       "      <td>1.0</td>\n",
       "      <td>3480.0</td>\n",
       "      <td>513</td>\n",
       "    </tr>\n",
       "    <tr>\n",
       "      <th>45534</th>\n",
       "      <td>2008-05-21 12:54:31</td>\n",
       "      <td>22479</td>\n",
       "      <td>9958</td>\n",
       "      <td>NaN</td>\n",
       "      <td>1.0</td>\n",
       "      <td>1315.0</td>\n",
       "      <td>529</td>\n",
       "    </tr>\n",
       "    <tr>\n",
       "      <th>45822</th>\n",
       "      <td>2008-06-21 19:06:41</td>\n",
       "      <td>24148</td>\n",
       "      <td>10070</td>\n",
       "      <td>NaN</td>\n",
       "      <td>1.0</td>\n",
       "      <td>4080.0</td>\n",
       "      <td>523</td>\n",
       "    </tr>\n",
       "  </tbody>\n",
       "</table>\n",
       "</div>"
      ],
      "text/plain": [
       "                        dt  tr_id  cl_id  ar_id  qty       s  fact\n",
       "5581   2007-11-15 17:45:23  13583   1034    NaN  1.0  4295.0   538\n",
       "11872  2007-11-18 18:45:04  13682   1966    NaN  1.0  4295.0   538\n",
       "14620  2008-04-19 19:29:38  20331   2336    NaN  1.0  3995.0  3629\n",
       "15654  2007-06-07 17:46:17   3797   2464    NaN  1.0  1870.0   541\n",
       "15655  2007-06-07 17:46:17   3797   2464    NaN  1.0  1785.0   541\n",
       "16900  2007-07-11 13:40:17   4633   2605    NaN  1.0  2810.0   539\n",
       "16919  2008-03-30 19:30:42  19423   2605    NaN  1.0  8740.0   523\n",
       "17316  2007-12-01 15:56:33  14176   2666    NaN  1.0  2780.0   514\n",
       "17843  2007-08-16 20:03:36   6871   2725    NaN  1.0  3145.0   523\n",
       "17846  2007-08-16 20:04:46   6872   2725    NaN  1.0  3145.0   523\n",
       "17892  2007-10-27 15:49:24  12872   2725    NaN  1.0  3230.0   544\n",
       "17896  2007-10-27 15:49:24  12872   2725    NaN  1.0  3230.0   544\n",
       "18023  2007-06-28 22:15:39   4249   2740    NaN  1.0  3145.0   523\n",
       "18034  2007-06-30 19:47:33   4302   2740    NaN  1.0  3145.0   523\n",
       "18541  2007-08-11 14:32:13   6153   2788    NaN  1.0  2090.0   529\n",
       "19013  2007-09-30 15:35:08  11005   2888    NaN  1.0   750.0   543\n",
       "20150  2007-08-10 15:38:20   6025   3252    NaN  1.0  3215.0   530\n",
       "20451  2007-08-12 18:01:57   6405   3335    NaN  1.0  1255.0   543\n",
       "20774  2008-04-27 19:49:16  21253   3397    NaN  1.0  3495.0   516\n",
       "21689  2007-11-06 18:36:13  13321   3547    NaN  1.0  2485.0   523\n",
       "21691  2007-11-06 18:36:13  13321   3547    NaN  1.0  2665.0   523\n",
       "22229  2008-06-28 19:34:18  24524   3633    NaN  1.0  4080.0   523\n",
       "25236  2008-03-09 19:49:04  18634   4121    NaN  1.0  1496.0   513\n",
       "27371  2007-09-09 19:16:37   8540   4636    NaN  1.0  2495.0   530\n",
       "36163  2007-12-10 16:47:22  14528   6898    NaN  1.0  5860.0   538\n",
       "37520  2007-10-18 17:24:40  12321   7168    NaN  1.0   897.5   534\n",
       "39060  2008-02-25 16:11:31  17992   7611    NaN  1.0  3280.0   543\n",
       "44856  2008-06-02 18:42:49  23182   9754    NaN  1.0  3480.0   513\n",
       "45534  2008-05-21 12:54:31  22479   9958    NaN  1.0  1315.0   529\n",
       "45822  2008-06-21 19:06:41  24148  10070    NaN  1.0  4080.0   523"
      ]
     },
     "execution_count": 69,
     "metadata": {},
     "output_type": "execute_result"
    }
   ],
   "source": [
    "for_prediction"
   ]
  },
  {
   "cell_type": "code",
   "execution_count": 70,
   "metadata": {},
   "outputs": [],
   "source": [
    "ls = list(for_prediction[\"cl_id\"])\n",
    "a, first, second = recommend_match(final, train, ls)"
   ]
  },
  {
   "cell_type": "code",
   "execution_count": 71,
   "metadata": {},
   "outputs": [],
   "source": [
    "for_prediction = pd.merge(for_prediction, recommendations[['cl_id', 'first_recommendation', 'second_recommendation']], how = 'inner', on = 'cl_id')\n"
   ]
  },
  {
   "cell_type": "code",
   "execution_count": 72,
   "metadata": {},
   "outputs": [
    {
     "data": {
      "text/html": [
       "<div>\n",
       "<style scoped>\n",
       "    .dataframe tbody tr th:only-of-type {\n",
       "        vertical-align: middle;\n",
       "    }\n",
       "\n",
       "    .dataframe tbody tr th {\n",
       "        vertical-align: top;\n",
       "    }\n",
       "\n",
       "    .dataframe thead th {\n",
       "        text-align: right;\n",
       "    }\n",
       "</style>\n",
       "<table border=\"1\" class=\"dataframe\">\n",
       "  <thead>\n",
       "    <tr style=\"text-align: right;\">\n",
       "      <th></th>\n",
       "      <th>dt</th>\n",
       "      <th>tr_id</th>\n",
       "      <th>cl_id</th>\n",
       "      <th>ar_id</th>\n",
       "      <th>qty</th>\n",
       "      <th>s</th>\n",
       "      <th>fact</th>\n",
       "      <th>first_recommendation</th>\n",
       "      <th>second_recommendation</th>\n",
       "    </tr>\n",
       "  </thead>\n",
       "  <tbody>\n",
       "    <tr>\n",
       "      <th>0</th>\n",
       "      <td>2007-11-15 17:45:23</td>\n",
       "      <td>13583</td>\n",
       "      <td>1034</td>\n",
       "      <td>NaN</td>\n",
       "      <td>1.0</td>\n",
       "      <td>4295.0</td>\n",
       "      <td>538</td>\n",
       "      <td>4944</td>\n",
       "      <td>4911</td>\n",
       "    </tr>\n",
       "    <tr>\n",
       "      <th>1</th>\n",
       "      <td>2007-11-18 18:45:04</td>\n",
       "      <td>13682</td>\n",
       "      <td>1966</td>\n",
       "      <td>NaN</td>\n",
       "      <td>1.0</td>\n",
       "      <td>4295.0</td>\n",
       "      <td>538</td>\n",
       "      <td>4944</td>\n",
       "      <td>4911</td>\n",
       "    </tr>\n",
       "    <tr>\n",
       "      <th>2</th>\n",
       "      <td>2008-04-19 19:29:38</td>\n",
       "      <td>20331</td>\n",
       "      <td>2336</td>\n",
       "      <td>NaN</td>\n",
       "      <td>1.0</td>\n",
       "      <td>3995.0</td>\n",
       "      <td>3629</td>\n",
       "      <td>4944</td>\n",
       "      <td>4911</td>\n",
       "    </tr>\n",
       "    <tr>\n",
       "      <th>3</th>\n",
       "      <td>2007-06-07 17:46:17</td>\n",
       "      <td>3797</td>\n",
       "      <td>2464</td>\n",
       "      <td>NaN</td>\n",
       "      <td>1.0</td>\n",
       "      <td>1870.0</td>\n",
       "      <td>541</td>\n",
       "      <td>4944</td>\n",
       "      <td>4911</td>\n",
       "    </tr>\n",
       "    <tr>\n",
       "      <th>4</th>\n",
       "      <td>2007-06-07 17:46:17</td>\n",
       "      <td>3797</td>\n",
       "      <td>2464</td>\n",
       "      <td>NaN</td>\n",
       "      <td>1.0</td>\n",
       "      <td>1785.0</td>\n",
       "      <td>541</td>\n",
       "      <td>4944</td>\n",
       "      <td>4911</td>\n",
       "    </tr>\n",
       "  </tbody>\n",
       "</table>\n",
       "</div>"
      ],
      "text/plain": [
       "                    dt  tr_id  cl_id  ar_id  qty       s  fact  \\\n",
       "0  2007-11-15 17:45:23  13583   1034    NaN  1.0  4295.0   538   \n",
       "1  2007-11-18 18:45:04  13682   1966    NaN  1.0  4295.0   538   \n",
       "2  2008-04-19 19:29:38  20331   2336    NaN  1.0  3995.0  3629   \n",
       "3  2007-06-07 17:46:17   3797   2464    NaN  1.0  1870.0   541   \n",
       "4  2007-06-07 17:46:17   3797   2464    NaN  1.0  1785.0   541   \n",
       "\n",
       "   first_recommendation  second_recommendation  \n",
       "0                  4944                   4911  \n",
       "1                  4944                   4911  \n",
       "2                  4944                   4911  \n",
       "3                  4944                   4911  \n",
       "4                  4944                   4911  "
      ]
     },
     "execution_count": 72,
     "metadata": {},
     "output_type": "execute_result"
    }
   ],
   "source": [
    "for_prediction.head()"
   ]
  },
  {
   "cell_type": "code",
   "execution_count": 73,
   "metadata": {},
   "outputs": [
    {
     "data": {
      "text/plain": [
       "523     9\n",
       "543     3\n",
       "538     3\n",
       "541     2\n",
       "530     2\n",
       "529     2\n",
       "513     2\n",
       "544     2\n",
       "539     1\n",
       "534     1\n",
       "3629    1\n",
       "516     1\n",
       "514     1\n",
       "Name: fact, dtype: int64"
      ]
     },
     "execution_count": 73,
     "metadata": {},
     "output_type": "execute_result"
    }
   ],
   "source": [
    "for_prediction['fact'].value_counts()"
   ]
  }
 ],
 "metadata": {
  "kernelspec": {
   "display_name": "Python 3",
   "language": "python",
   "name": "python3"
  },
  "language_info": {
   "codemirror_mode": {
    "name": "ipython",
    "version": 3
   },
   "file_extension": ".py",
   "mimetype": "text/x-python",
   "name": "python",
   "nbconvert_exporter": "python",
   "pygments_lexer": "ipython3",
   "version": "3.6.5"
  }
 },
 "nbformat": 4,
 "nbformat_minor": 2
}
