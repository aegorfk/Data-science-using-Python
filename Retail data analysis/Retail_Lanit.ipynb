{
 "cells": [
  {
   "cell_type": "code",
   "execution_count": 1,
   "metadata": {},
   "outputs": [
    {
     "name": "stdout",
     "output_type": "stream",
     "text": [
      "Pandas version 0.23.2\n",
      "Seaborn version 0.9.0\n",
      "Matplotlib version 2.2.2\n",
      "Numpy version 1.14.5\n",
      "Apriori version 1.1.1\n",
      "Lightfm version 1.15\n"
     ]
    },
    {
     "name": "stderr",
     "output_type": "stream",
     "text": [
      "/anaconda3/envs/MaskRCNN/lib/python3.6/site-packages/lightfm/_lightfm_fast.py:9: UserWarning: LightFM was compiled without OpenMP support. Only a single thread will be used.\n",
      "  warnings.warn('LightFM was compiled without OpenMP support. '\n"
     ]
    }
   ],
   "source": [
    "%matplotlib inline\n",
    "import pandas as pd\n",
    "import seaborn as sns\n",
    "import datetime as dt\n",
    "from datetime import datetime\n",
    "import matplotlib\n",
    "import matplotlib.pyplot as plt\n",
    "from sklearn.cluster import KMeans\n",
    "import scipy.sparse as sparse\n",
    "import numpy as np\n",
    "import apyori\n",
    "from apyori import apriori\n",
    "import lightfm\n",
    "from lightfm import LightFM\n",
    "from lightfm.evaluation import reciprocal_rank, auc_score, precision_at_k\n",
    "#!pip install apyori\n",
    "#!pip install lightfm\n",
    "#!pip install algorithms\n",
    "import warnings\n",
    "warnings.filterwarnings('ignore')\n",
    "\n",
    "print(\"Pandas version \" + pd.__version__)\n",
    "print(\"Seaborn version \" + sns.__version__)\n",
    "print(\"Matplotlib version \" + matplotlib.__version__)\n",
    "print(\"Numpy version \" + np.__version__)\n",
    "print(\"Apriori version \" + apyori.__version__)\n",
    "print(\"Lightfm version \" + lightfm.__version__)"
   ]
  },
  {
   "cell_type": "code",
   "execution_count": 2,
   "metadata": {},
   "outputs": [],
   "source": [
    "data = pd.read_csv(\"test dataset.csv\", sep = \";\")"
   ]
  },
  {
   "cell_type": "markdown",
   "metadata": {},
   "source": [
    "We have an information about clients' purchases till 31.07.2008.\n",
    "Our variables are:\n",
    "1. ***dt*** - time of the purchase\n",
    "\n",
    "2. ***tr_id*** -  unique number of purchase\n",
    "\n",
    "3. ***cl_id*** - unique number of client\n",
    "\n",
    "4. ***ar_id*** - unique number of item\n",
    "\n",
    "5. ***qty*** - quality of the items bought\n",
    "\n",
    "6. ***s*** - purchase price for this item"
   ]
  },
  {
   "cell_type": "code",
   "execution_count": 3,
   "metadata": {},
   "outputs": [
    {
     "data": {
      "text/html": [
       "<div>\n",
       "<style scoped>\n",
       "    .dataframe tbody tr th:only-of-type {\n",
       "        vertical-align: middle;\n",
       "    }\n",
       "\n",
       "    .dataframe tbody tr th {\n",
       "        vertical-align: top;\n",
       "    }\n",
       "\n",
       "    .dataframe thead th {\n",
       "        text-align: right;\n",
       "    }\n",
       "</style>\n",
       "<table border=\"1\" class=\"dataframe\">\n",
       "  <thead>\n",
       "    <tr style=\"text-align: right;\">\n",
       "      <th></th>\n",
       "      <th>dt</th>\n",
       "      <th>tr_id</th>\n",
       "      <th>cl_id</th>\n",
       "      <th>ar_id</th>\n",
       "      <th>qty</th>\n",
       "      <th>s</th>\n",
       "    </tr>\n",
       "  </thead>\n",
       "  <tbody>\n",
       "    <tr>\n",
       "      <th>0</th>\n",
       "      <td>2007-05-03 21:43:33</td>\n",
       "      <td>954</td>\n",
       "      <td>1</td>\n",
       "      <td>2873</td>\n",
       "      <td>1.0</td>\n",
       "      <td>8150.0</td>\n",
       "    </tr>\n",
       "    <tr>\n",
       "      <th>1</th>\n",
       "      <td>2007-11-20 20:46:41</td>\n",
       "      <td>13796</td>\n",
       "      <td>1</td>\n",
       "      <td>3585</td>\n",
       "      <td>1.0</td>\n",
       "      <td>3930.0</td>\n",
       "    </tr>\n",
       "    <tr>\n",
       "      <th>2</th>\n",
       "      <td>2007-12-08 16:28:59</td>\n",
       "      <td>14431</td>\n",
       "      <td>1</td>\n",
       "      <td>4940</td>\n",
       "      <td>1.0</td>\n",
       "      <td>2860.0</td>\n",
       "    </tr>\n",
       "    <tr>\n",
       "      <th>3</th>\n",
       "      <td>2007-05-03 21:15:59</td>\n",
       "      <td>951</td>\n",
       "      <td>2</td>\n",
       "      <td>2811</td>\n",
       "      <td>1.0</td>\n",
       "      <td>4895.0</td>\n",
       "    </tr>\n",
       "    <tr>\n",
       "      <th>4</th>\n",
       "      <td>2007-05-20 16:46:45</td>\n",
       "      <td>3352</td>\n",
       "      <td>2</td>\n",
       "      <td>5023</td>\n",
       "      <td>1.0</td>\n",
       "      <td>840.0</td>\n",
       "    </tr>\n",
       "  </tbody>\n",
       "</table>\n",
       "</div>"
      ],
      "text/plain": [
       "                    dt  tr_id  cl_id  ar_id  qty       s\n",
       "0  2007-05-03 21:43:33    954      1   2873  1.0  8150.0\n",
       "1  2007-11-20 20:46:41  13796      1   3585  1.0  3930.0\n",
       "2  2007-12-08 16:28:59  14431      1   4940  1.0  2860.0\n",
       "3  2007-05-03 21:15:59    951      2   2811  1.0  4895.0\n",
       "4  2007-05-20 16:46:45   3352      2   5023  1.0   840.0"
      ]
     },
     "execution_count": 3,
     "metadata": {},
     "output_type": "execute_result"
    }
   ],
   "source": [
    "# Fromat of the initial data\n",
    "data.head()"
   ]
  },
  {
   "cell_type": "code",
   "execution_count": 4,
   "metadata": {},
   "outputs": [
    {
     "data": {
      "text/plain": [
       "dt        object\n",
       "tr_id      int64\n",
       "cl_id      int64\n",
       "ar_id      int64\n",
       "qty      float64\n",
       "s        float64\n",
       "dtype: object"
      ]
     },
     "execution_count": 4,
     "metadata": {},
     "output_type": "execute_result"
    }
   ],
   "source": [
    "data.dtypes"
   ]
  },
  {
   "cell_type": "code",
   "execution_count": 5,
   "metadata": {},
   "outputs": [],
   "source": [
    "data[\"dt\"] = pd.to_datetime(data[\"dt\"])\n",
    "data['qty'] = data['qty'].astype(int)"
   ]
  },
  {
   "cell_type": "code",
   "execution_count": 6,
   "metadata": {},
   "outputs": [
    {
     "name": "stdout",
     "output_type": "stream",
     "text": [
      "(48303, 6)\n",
      "dt       0\n",
      "tr_id    0\n",
      "cl_id    0\n",
      "ar_id    0\n",
      "qty      0\n",
      "s        0\n",
      "dtype: int64\n"
     ]
    }
   ],
   "source": [
    "print(data.shape)\n",
    "print(data.isnull().sum())"
   ]
  },
  {
   "cell_type": "code",
   "execution_count": 7,
   "metadata": {},
   "outputs": [],
   "source": [
    "#check the duplicates\n",
    "#data[data.duplicated(['tr_id', 'cl_id', 'ar_id', 'qty', 's'], keep=False)]\n",
    "\n",
    "# Gatting rid of duplicates\n",
    "data = data.drop_duplicates(subset = None, keep = 'first', inplace = False)"
   ]
  },
  {
   "cell_type": "code",
   "execution_count": 8,
   "metadata": {},
   "outputs": [
    {
     "data": {
      "text/plain": [
       "(47174, 6)"
      ]
     },
     "execution_count": 8,
     "metadata": {},
     "output_type": "execute_result"
    }
   ],
   "source": [
    "data.shape"
   ]
  },
  {
   "cell_type": "code",
   "execution_count": 9,
   "metadata": {},
   "outputs": [],
   "source": [
    "# I have noticed that some transaction ids have several client ids. \n",
    "# So I thought it might be bacause the data came from retail chain and \n",
    "# each branch has it's ows transaction history. Thus I decided to create\n",
    "# a global id amongs the whole system to make it unique.\n",
    "#data = data.sort_values(by = ['tr_id'])\n",
    "#data['global_tr_id'] = data['tr_id']\n",
    "\n",
    "#last = max(data[\"tr_id\"])\n",
    "#for i in range(1, len(data)):\n",
    "#    data.iloc[i]['global_tr_id'] = data.iloc[i]['tr_id']\n",
    "#    \n",
    "#    if data.iloc[i]['tr_id'] == data.iloc[i - 1]['tr_id'] and (data.iloc[i]['dt'] != data.iloc[i - 1]['dt'] or data.iloc[i]['cl_id'] != data.iloc[i - 1]['cl_id']):\n",
    "#        data.iloc[i]['global_tr_id'] = last + 1\n",
    "#        last = last + 1\n",
    "#    else:\n",
    "#        data.iloc[i]['global_tr_id'] = data.iloc[i - 1]['global_tr_id']\n",
    "#    print(data.iloc[i])"
   ]
  },
  {
   "cell_type": "markdown",
   "metadata": {},
   "source": [
    "# Descriptive Statistics"
   ]
  },
  {
   "cell_type": "code",
   "execution_count": 10,
   "metadata": {},
   "outputs": [
    {
     "data": {
      "text/html": [
       "<div>\n",
       "<style scoped>\n",
       "    .dataframe tbody tr th:only-of-type {\n",
       "        vertical-align: middle;\n",
       "    }\n",
       "\n",
       "    .dataframe tbody tr th {\n",
       "        vertical-align: top;\n",
       "    }\n",
       "\n",
       "    .dataframe thead th {\n",
       "        text-align: right;\n",
       "    }\n",
       "</style>\n",
       "<table border=\"1\" class=\"dataframe\">\n",
       "  <thead>\n",
       "    <tr style=\"text-align: right;\">\n",
       "      <th></th>\n",
       "      <th>qty</th>\n",
       "      <th>s</th>\n",
       "    </tr>\n",
       "  </thead>\n",
       "  <tbody>\n",
       "    <tr>\n",
       "      <th>count</th>\n",
       "      <td>47174.0</td>\n",
       "      <td>47174.000000</td>\n",
       "    </tr>\n",
       "    <tr>\n",
       "      <th>mean</th>\n",
       "      <td>1.0</td>\n",
       "      <td>10450.925519</td>\n",
       "    </tr>\n",
       "    <tr>\n",
       "      <th>std</th>\n",
       "      <td>0.0</td>\n",
       "      <td>12698.798849</td>\n",
       "    </tr>\n",
       "    <tr>\n",
       "      <th>min</th>\n",
       "      <td>1.0</td>\n",
       "      <td>504.000000</td>\n",
       "    </tr>\n",
       "    <tr>\n",
       "      <th>25%</th>\n",
       "      <td>1.0</td>\n",
       "      <td>3805.000000</td>\n",
       "    </tr>\n",
       "    <tr>\n",
       "      <th>50%</th>\n",
       "      <td>1.0</td>\n",
       "      <td>6900.000000</td>\n",
       "    </tr>\n",
       "    <tr>\n",
       "      <th>75%</th>\n",
       "      <td>1.0</td>\n",
       "      <td>12747.492500</td>\n",
       "    </tr>\n",
       "    <tr>\n",
       "      <th>max</th>\n",
       "      <td>1.0</td>\n",
       "      <td>511500.000000</td>\n",
       "    </tr>\n",
       "  </tbody>\n",
       "</table>\n",
       "</div>"
      ],
      "text/plain": [
       "           qty              s\n",
       "count  47174.0   47174.000000\n",
       "mean       1.0   10450.925519\n",
       "std        0.0   12698.798849\n",
       "min        1.0     504.000000\n",
       "25%        1.0    3805.000000\n",
       "50%        1.0    6900.000000\n",
       "75%        1.0   12747.492500\n",
       "max        1.0  511500.000000"
      ]
     },
     "execution_count": 10,
     "metadata": {},
     "output_type": "execute_result"
    }
   ],
   "source": [
    "data[['qty', 's']].describe()"
   ]
  },
  {
   "cell_type": "code",
   "execution_count": 11,
   "metadata": {},
   "outputs": [
    {
     "data": {
      "text/plain": [
       "dt       2007-03-12 18:50:49\n",
       "tr_id                      1\n",
       "cl_id                      1\n",
       "ar_id                      1\n",
       "qty                        1\n",
       "s                        504\n",
       "dtype: object"
      ]
     },
     "execution_count": 11,
     "metadata": {},
     "output_type": "execute_result"
    }
   ],
   "source": [
    "#Checking data for negative values\n",
    "data.min()"
   ]
  },
  {
   "cell_type": "code",
   "execution_count": 12,
   "metadata": {},
   "outputs": [
    {
     "data": {
      "text/plain": [
       "10450.925518505957"
      ]
     },
     "execution_count": 12,
     "metadata": {},
     "output_type": "execute_result"
    }
   ],
   "source": [
    "#What is the average purchase price?\n",
    "data['s'].mean()"
   ]
  },
  {
   "cell_type": "code",
   "execution_count": 13,
   "metadata": {},
   "outputs": [
    {
     "data": {
      "image/png": "[encoded data removed]",
      "text/plain": [
       "<Figure size 432x288 with 1 Axes>"
      ]
     },
     "metadata": {},
     "output_type": "display_data"
    }
   ],
   "source": [
    "ax = sns.distplot(data[\"s\"].astype(int))"
   ]
  },
  {
   "cell_type": "code",
   "execution_count": 14,
   "metadata": {},
   "outputs": [],
   "source": [
    "data['date'] = data['dt'].dt.date\n",
    "data2 = data[['s', 'date']].groupby(\"date\").sum().sort_values(\"date\", ascending = True)\n",
    "data2.reset_index(drop = False, inplace = True)"
   ]
  },
  {
   "cell_type": "code",
   "execution_count": 15,
   "metadata": {},
   "outputs": [
    {
     "data": {
      "image/png": "[encoded data removed]",
      "text/plain": [
       "<Figure size 432x288 with 1 Axes>"
      ]
     },
     "metadata": {},
     "output_type": "display_data"
    }
   ],
   "source": [
    "plt.plot(data2[\"date\"], data2['s'])\n",
    "plt.title('Sales amount')\n",
    "plt.ylabel('Sales sum')\n",
    "plt.xticks(rotation = 45)\n",
    "plt.show()"
   ]
  },
  {
   "cell_type": "code",
   "execution_count": 16,
   "metadata": {},
   "outputs": [],
   "source": [
    "data2 = data[['s', 'date']].groupby(\"date\").count().sort_values(\"date\", ascending = True)\n",
    "data2.reset_index(drop = False, inplace = True)"
   ]
  },
  {
   "cell_type": "code",
   "execution_count": 17,
   "metadata": {},
   "outputs": [
    {
     "data": {
      "image/png": "[encoded data removed]",
      "text/plain": [
       "<Figure size 432x288 with 1 Axes>"
      ]
     },
     "metadata": {},
     "output_type": "display_data"
    }
   ],
   "source": [
    "plt.plot(data2[\"date\"], data2['s'])\n",
    "plt.title('Sales volume')\n",
    "plt.ylabel('Sales')\n",
    "plt.xticks(rotation = 45)\n",
    "plt.show()"
   ]
  },
  {
   "cell_type": "code",
   "execution_count": 18,
   "metadata": {},
   "outputs": [
    {
     "data": {
      "text/plain": [
       "Text(0.5,1,'Purshases frequency by hour')"
      ]
     },
     "execution_count": 18,
     "metadata": {},
     "output_type": "execute_result"
    },
    {
     "data": {
      "image/png": "[encoded data removed]",
      "text/plain": [
       "<Figure size 432x288 with 1 Axes>"
      ]
     },
     "metadata": {},
     "output_type": "display_data"
    }
   ],
   "source": [
    "plt.hist(data['dt'].dt.hour.values, bins=24)\n",
    "plt.xlabel('Hour')\n",
    "plt.ylabel('Count')\n",
    "plt.title('Purshases frequency by hour')\n",
    "# I guess it works from 10am to 11pm"
   ]
  },
  {
   "cell_type": "code",
   "execution_count": 19,
   "metadata": {},
   "outputs": [
    {
     "data": {
      "text/html": [
       "<div>\n",
       "<style scoped>\n",
       "    .dataframe tbody tr th:only-of-type {\n",
       "        vertical-align: middle;\n",
       "    }\n",
       "\n",
       "    .dataframe tbody tr th {\n",
       "        vertical-align: top;\n",
       "    }\n",
       "\n",
       "    .dataframe thead th {\n",
       "        text-align: right;\n",
       "    }\n",
       "</style>\n",
       "<table border=\"1\" class=\"dataframe\">\n",
       "  <thead>\n",
       "    <tr style=\"text-align: right;\">\n",
       "      <th></th>\n",
       "      <th>qty</th>\n",
       "      <th>s</th>\n",
       "    </tr>\n",
       "    <tr>\n",
       "      <th>ar_id</th>\n",
       "      <th></th>\n",
       "      <th></th>\n",
       "    </tr>\n",
       "  </thead>\n",
       "  <tbody>\n",
       "    <tr>\n",
       "      <th>3059</th>\n",
       "      <td>156</td>\n",
       "      <td>7114347.53</td>\n",
       "    </tr>\n",
       "    <tr>\n",
       "      <th>4755</th>\n",
       "      <td>281</td>\n",
       "      <td>6684277.87</td>\n",
       "    </tr>\n",
       "    <tr>\n",
       "      <th>4942</th>\n",
       "      <td>725</td>\n",
       "      <td>5092324.27</td>\n",
       "    </tr>\n",
       "    <tr>\n",
       "      <th>3486</th>\n",
       "      <td>435</td>\n",
       "      <td>4566229.85</td>\n",
       "    </tr>\n",
       "    <tr>\n",
       "      <th>2430</th>\n",
       "      <td>94</td>\n",
       "      <td>3805189.37</td>\n",
       "    </tr>\n",
       "  </tbody>\n",
       "</table>\n",
       "</div>"
      ],
      "text/plain": [
       "       qty           s\n",
       "ar_id                 \n",
       "3059   156  7114347.53\n",
       "4755   281  6684277.87\n",
       "4942   725  5092324.27\n",
       "3486   435  4566229.85\n",
       "2430    94  3805189.37"
      ]
     },
     "execution_count": 19,
     "metadata": {},
     "output_type": "execute_result"
    }
   ],
   "source": [
    "# Show most profitable items across the time\n",
    "profitability = data[['ar_id', 'qty', 's']].groupby(\"ar_id\").sum().sort_values(\"s\", ascending = False)\n",
    "profitability.head()"
   ]
  },
  {
   "cell_type": "code",
   "execution_count": 20,
   "metadata": {},
   "outputs": [
    {
     "data": {
      "text/html": [
       "<div>\n",
       "<style scoped>\n",
       "    .dataframe tbody tr th:only-of-type {\n",
       "        vertical-align: middle;\n",
       "    }\n",
       "\n",
       "    .dataframe tbody tr th {\n",
       "        vertical-align: top;\n",
       "    }\n",
       "\n",
       "    .dataframe thead th {\n",
       "        text-align: right;\n",
       "    }\n",
       "</style>\n",
       "<table border=\"1\" class=\"dataframe\">\n",
       "  <thead>\n",
       "    <tr style=\"text-align: right;\">\n",
       "      <th></th>\n",
       "      <th>qty</th>\n",
       "      <th>s</th>\n",
       "    </tr>\n",
       "    <tr>\n",
       "      <th>ar_id</th>\n",
       "      <th></th>\n",
       "      <th></th>\n",
       "    </tr>\n",
       "  </thead>\n",
       "  <tbody>\n",
       "    <tr>\n",
       "      <th>4942</th>\n",
       "      <td>725</td>\n",
       "      <td>5092324.27</td>\n",
       "    </tr>\n",
       "    <tr>\n",
       "      <th>4909</th>\n",
       "      <td>580</td>\n",
       "      <td>1823693.31</td>\n",
       "    </tr>\n",
       "    <tr>\n",
       "      <th>3486</th>\n",
       "      <td>435</td>\n",
       "      <td>4566229.85</td>\n",
       "    </tr>\n",
       "    <tr>\n",
       "      <th>434</th>\n",
       "      <td>430</td>\n",
       "      <td>1747247.86</td>\n",
       "    </tr>\n",
       "    <tr>\n",
       "      <th>2635</th>\n",
       "      <td>425</td>\n",
       "      <td>1211674.74</td>\n",
       "    </tr>\n",
       "  </tbody>\n",
       "</table>\n",
       "</div>"
      ],
      "text/plain": [
       "       qty           s\n",
       "ar_id                 \n",
       "4942   725  5092324.27\n",
       "4909   580  1823693.31\n",
       "3486   435  4566229.85\n",
       "434    430  1747247.86\n",
       "2635   425  1211674.74"
      ]
     },
     "execution_count": 20,
     "metadata": {},
     "output_type": "execute_result"
    }
   ],
   "source": [
    "# Show most popular items across the time\n",
    "popularity = data[['ar_id', 'qty', 's']].groupby(\"ar_id\").sum().sort_values(\"qty\", ascending = False)\n",
    "popularity.head()"
   ]
  },
  {
   "cell_type": "code",
   "execution_count": 21,
   "metadata": {},
   "outputs": [
    {
     "data": {
      "text/html": [
       "<div>\n",
       "<style scoped>\n",
       "    .dataframe tbody tr th:only-of-type {\n",
       "        vertical-align: middle;\n",
       "    }\n",
       "\n",
       "    .dataframe tbody tr th {\n",
       "        vertical-align: top;\n",
       "    }\n",
       "\n",
       "    .dataframe thead th {\n",
       "        text-align: right;\n",
       "    }\n",
       "</style>\n",
       "<table border=\"1\" class=\"dataframe\">\n",
       "  <thead>\n",
       "    <tr style=\"text-align: right;\">\n",
       "      <th></th>\n",
       "      <th>s</th>\n",
       "    </tr>\n",
       "    <tr>\n",
       "      <th>dt</th>\n",
       "      <th></th>\n",
       "    </tr>\n",
       "  </thead>\n",
       "  <tbody>\n",
       "    <tr>\n",
       "      <th>2007-05-03 21:43:33</th>\n",
       "      <td>8150.0</td>\n",
       "    </tr>\n",
       "    <tr>\n",
       "      <th>2007-11-20 20:46:41</th>\n",
       "      <td>3930.0</td>\n",
       "    </tr>\n",
       "    <tr>\n",
       "      <th>2007-12-08 16:28:59</th>\n",
       "      <td>2860.0</td>\n",
       "    </tr>\n",
       "    <tr>\n",
       "      <th>2007-05-03 21:15:59</th>\n",
       "      <td>4895.0</td>\n",
       "    </tr>\n",
       "    <tr>\n",
       "      <th>2007-05-20 16:46:45</th>\n",
       "      <td>840.0</td>\n",
       "    </tr>\n",
       "  </tbody>\n",
       "</table>\n",
       "</div>"
      ],
      "text/plain": [
       "                          s\n",
       "dt                         \n",
       "2007-05-03 21:43:33  8150.0\n",
       "2007-11-20 20:46:41  3930.0\n",
       "2007-12-08 16:28:59  2860.0\n",
       "2007-05-03 21:15:59  4895.0\n",
       "2007-05-20 16:46:45   840.0"
      ]
     },
     "execution_count": 21,
     "metadata": {},
     "output_type": "execute_result"
    }
   ],
   "source": [
    "#data.reset_index(drop = True, inplace = True)\n",
    "time = data[['dt', 's']]\n",
    "time.set_index('dt', inplace = True)\n",
    "time.head()"
   ]
  },
  {
   "cell_type": "code",
   "execution_count": 22,
   "metadata": {},
   "outputs": [
    {
     "data": {
      "text/html": [
       "<div>\n",
       "<style scoped>\n",
       "    .dataframe tbody tr th:only-of-type {\n",
       "        vertical-align: middle;\n",
       "    }\n",
       "\n",
       "    .dataframe tbody tr th {\n",
       "        vertical-align: top;\n",
       "    }\n",
       "\n",
       "    .dataframe thead th {\n",
       "        text-align: right;\n",
       "    }\n",
       "</style>\n",
       "<table border=\"1\" class=\"dataframe\">\n",
       "  <thead>\n",
       "    <tr style=\"text-align: right;\">\n",
       "      <th></th>\n",
       "      <th>s</th>\n",
       "    </tr>\n",
       "    <tr>\n",
       "      <th>dt</th>\n",
       "      <th></th>\n",
       "    </tr>\n",
       "  </thead>\n",
       "  <tbody>\n",
       "    <tr>\n",
       "      <th>2007-03-31</th>\n",
       "      <td>101833.00</td>\n",
       "    </tr>\n",
       "    <tr>\n",
       "      <th>2007-04-30</th>\n",
       "      <td>5743184.76</td>\n",
       "    </tr>\n",
       "    <tr>\n",
       "      <th>2007-05-31</th>\n",
       "      <td>50490424.16</td>\n",
       "    </tr>\n",
       "    <tr>\n",
       "      <th>2007-06-30</th>\n",
       "      <td>10885403.70</td>\n",
       "    </tr>\n",
       "    <tr>\n",
       "      <th>2007-07-31</th>\n",
       "      <td>11922075.63</td>\n",
       "    </tr>\n",
       "  </tbody>\n",
       "</table>\n",
       "</div>"
      ],
      "text/plain": [
       "                      s\n",
       "dt                     \n",
       "2007-03-31    101833.00\n",
       "2007-04-30   5743184.76\n",
       "2007-05-31  50490424.16\n",
       "2007-06-30  10885403.70\n",
       "2007-07-31  11922075.63"
      ]
     },
     "execution_count": 22,
     "metadata": {},
     "output_type": "execute_result"
    }
   ],
   "source": [
    "# See the example of report\n",
    "time.resample('M').sum().head(5)"
   ]
  },
  {
   "cell_type": "markdown",
   "metadata": {},
   "source": [
    "## ABC analysis\n",
    "ABC analysis is an inventory categorization method which consists in dividing items into three categories (A, B, C): \n",
    "* A being the most valuable items,\n",
    "* C being the least valuable ones.\n",
    "\n",
    "20% of items accounts for 80% of firms expenditure\n",
    "### What to do with this groups:\n",
    "<table>\n",
    "<tr><td>** Class **</td><td>** Percentage of items **</td><td>** Percentage value of annual sales **</td><td>** Action **</td></tr>\n",
    "<tr><td>A</td><td>About 20%</td><td>About 80%</td><td>Close day to day control</td></tr>\n",
    "<tr><td>B</td><td>About 30%</td><td>About 15%</td><td>Regular review</td></tr>\n",
    "<tr><td>C</td><td>About 50%</td><td>About 5%</td><td>Infrequent review</td></tr>\n",
    "</table>"
   ]
  },
  {
   "cell_type": "code",
   "execution_count": 23,
   "metadata": {},
   "outputs": [],
   "source": [
    "abc = data.groupby(['ar_id'])['qty', 's'].sum()\n",
    "abc.reset_index(drop = False, inplace = True)\n",
    "#abc = abc.drop_duplicates(subset = None, keep = 'first', inplace = False)"
   ]
  },
  {
   "cell_type": "code",
   "execution_count": 24,
   "metadata": {},
   "outputs": [],
   "source": [
    "abc['share_sales'] = abc['s'] / abc['s'].sum() * 100\n",
    "abc['share_items'] = abc['qty'] / abc['qty'].sum() * 100"
   ]
  },
  {
   "cell_type": "code",
   "execution_count": 25,
   "metadata": {},
   "outputs": [],
   "source": [
    "# Looking at our top customers\n",
    "abc = abc.sort_values('share_sales', ascending = False)\n",
    "abc['cum_sales'] = abc['share_sales'].cumsum()\n",
    "\n",
    "abc = abc.sort_values('share_items', ascending = False)\n",
    "abc['cum_items'] = abc['share_items'].cumsum()"
   ]
  },
  {
   "cell_type": "code",
   "execution_count": 26,
   "metadata": {},
   "outputs": [
    {
     "data": {
      "text/html": [
       "<div>\n",
       "<style scoped>\n",
       "    .dataframe tbody tr th:only-of-type {\n",
       "        vertical-align: middle;\n",
       "    }\n",
       "\n",
       "    .dataframe tbody tr th {\n",
       "        vertical-align: top;\n",
       "    }\n",
       "\n",
       "    .dataframe thead th {\n",
       "        text-align: right;\n",
       "    }\n",
       "</style>\n",
       "<table border=\"1\" class=\"dataframe\">\n",
       "  <thead>\n",
       "    <tr style=\"text-align: right;\">\n",
       "      <th></th>\n",
       "      <th>ar_id</th>\n",
       "      <th>qty</th>\n",
       "      <th>s</th>\n",
       "      <th>share_sales</th>\n",
       "      <th>share_items</th>\n",
       "      <th>cum_sales</th>\n",
       "      <th>cum_items</th>\n",
       "    </tr>\n",
       "  </thead>\n",
       "  <tbody>\n",
       "    <tr>\n",
       "      <th>4743</th>\n",
       "      <td>4942</td>\n",
       "      <td>725</td>\n",
       "      <td>5092324.27</td>\n",
       "      <td>1.032901</td>\n",
       "      <td>1.536864</td>\n",
       "      <td>3.831743</td>\n",
       "      <td>1.536864</td>\n",
       "    </tr>\n",
       "    <tr>\n",
       "      <th>4713</th>\n",
       "      <td>4909</td>\n",
       "      <td>580</td>\n",
       "      <td>1823693.31</td>\n",
       "      <td>0.369909</td>\n",
       "      <td>1.229491</td>\n",
       "      <td>13.934423</td>\n",
       "      <td>2.766354</td>\n",
       "    </tr>\n",
       "    <tr>\n",
       "      <th>3366</th>\n",
       "      <td>3486</td>\n",
       "      <td>435</td>\n",
       "      <td>4566229.85</td>\n",
       "      <td>0.926190</td>\n",
       "      <td>0.922118</td>\n",
       "      <td>4.757933</td>\n",
       "      <td>3.688472</td>\n",
       "    </tr>\n",
       "    <tr>\n",
       "      <th>417</th>\n",
       "      <td>434</td>\n",
       "      <td>430</td>\n",
       "      <td>1747247.86</td>\n",
       "      <td>0.354403</td>\n",
       "      <td>0.911519</td>\n",
       "      <td>14.288826</td>\n",
       "      <td>4.599992</td>\n",
       "    </tr>\n",
       "    <tr>\n",
       "      <th>2542</th>\n",
       "      <td>2635</td>\n",
       "      <td>425</td>\n",
       "      <td>1211674.74</td>\n",
       "      <td>0.245770</td>\n",
       "      <td>0.900920</td>\n",
       "      <td>24.163885</td>\n",
       "      <td>5.500912</td>\n",
       "    </tr>\n",
       "  </tbody>\n",
       "</table>\n",
       "</div>"
      ],
      "text/plain": [
       "      ar_id  qty           s  share_sales  share_items  cum_sales  cum_items\n",
       "4743   4942  725  5092324.27     1.032901     1.536864   3.831743   1.536864\n",
       "4713   4909  580  1823693.31     0.369909     1.229491  13.934423   2.766354\n",
       "3366   3486  435  4566229.85     0.926190     0.922118   4.757933   3.688472\n",
       "417     434  430  1747247.86     0.354403     0.911519  14.288826   4.599992\n",
       "2542   2635  425  1211674.74     0.245770     0.900920  24.163885   5.500912"
      ]
     },
     "execution_count": 26,
     "metadata": {},
     "output_type": "execute_result"
    }
   ],
   "source": [
    "abc.head()"
   ]
  },
  {
   "cell_type": "code",
   "execution_count": 27,
   "metadata": {},
   "outputs": [
    {
     "data": {
      "text/plain": [
       "(5292, 7)"
      ]
     },
     "execution_count": 27,
     "metadata": {},
     "output_type": "execute_result"
    }
   ],
   "source": [
    "abc.shape"
   ]
  },
  {
   "cell_type": "code",
   "execution_count": 28,
   "metadata": {},
   "outputs": [
    {
     "data": {
      "image/png": "[encoded data removed]",
      "text/plain": [
       "<Figure size 432x288 with 1 Axes>"
      ]
     },
     "metadata": {},
     "output_type": "display_data"
    }
   ],
   "source": [
    "sns.set()\n",
    "ax = sns.scatterplot(x = \"cum_sales\", y = \"cum_items\", data = abc)\n",
    "#plt.savefig('Cumulative_plot.png')\n",
    "plt.show()"
   ]
  },
  {
   "cell_type": "code",
   "execution_count": 29,
   "metadata": {},
   "outputs": [
    {
     "data": {
      "image/png": "[encoded data removed]",
      "text/plain": [
       "<Figure size 432x288 with 1 Axes>"
      ]
     },
     "metadata": {},
     "output_type": "display_data"
    }
   ],
   "source": [
    "sns.set()\n",
    "ax = sns.scatterplot(x = \"qty\", y = \"s\", data = abc)\n",
    "#plt.savefig('Sales.png')\n",
    "plt.show()"
   ]
  },
  {
   "cell_type": "markdown",
   "metadata": {},
   "source": [
    "Since it is not clear that ABC (3 groups) will fit perfectly to our cluster, we will try to cluster data automatically fisrt, using k-means."
   ]
  },
  {
   "cell_type": "code",
   "execution_count": 30,
   "metadata": {},
   "outputs": [],
   "source": [
    "Sum_of_squared_distances = []\n",
    "K = range(1, 20)\n",
    "for k in K:\n",
    "    km = KMeans(n_clusters = k)\n",
    "    km = km.fit(abc[[\"qty\", \"s\"]])\n",
    "    Sum_of_squared_distances.append(km.inertia_)"
   ]
  },
  {
   "cell_type": "code",
   "execution_count": 31,
   "metadata": {},
   "outputs": [
    {
     "data": {
      "image/png": "[encoded data removed]",
      "text/plain": [
       "<Figure size 432x288 with 1 Axes>"
      ]
     },
     "metadata": {},
     "output_type": "display_data"
    }
   ],
   "source": [
    "plt.plot(K, Sum_of_squared_distances, 'bx-')\n",
    "plt.xlabel('k')\n",
    "plt.ylabel('Sum_of_squared_distances')\n",
    "plt.title('Elbow Method For Optimal k')\n",
    "plt.show()"
   ]
  },
  {
   "cell_type": "code",
   "execution_count": 32,
   "metadata": {},
   "outputs": [
    {
     "data": {
      "text/html": [
       "<div>\n",
       "<style scoped>\n",
       "    .dataframe tbody tr th:only-of-type {\n",
       "        vertical-align: middle;\n",
       "    }\n",
       "\n",
       "    .dataframe tbody tr th {\n",
       "        vertical-align: top;\n",
       "    }\n",
       "\n",
       "    .dataframe thead th {\n",
       "        text-align: right;\n",
       "    }\n",
       "</style>\n",
       "<table border=\"1\" class=\"dataframe\">\n",
       "  <thead>\n",
       "    <tr style=\"text-align: right;\">\n",
       "      <th></th>\n",
       "      <th>ar_id</th>\n",
       "      <th>qty</th>\n",
       "      <th>s</th>\n",
       "      <th>share_sales</th>\n",
       "      <th>share_items</th>\n",
       "      <th>cum_sales</th>\n",
       "      <th>cum_items</th>\n",
       "      <th>cluster</th>\n",
       "    </tr>\n",
       "  </thead>\n",
       "  <tbody>\n",
       "    <tr>\n",
       "      <th>4743</th>\n",
       "      <td>4942</td>\n",
       "      <td>725</td>\n",
       "      <td>5092324.27</td>\n",
       "      <td>1.032901</td>\n",
       "      <td>1.536864</td>\n",
       "      <td>3.831743</td>\n",
       "      <td>1.536864</td>\n",
       "      <td>2</td>\n",
       "    </tr>\n",
       "    <tr>\n",
       "      <th>4713</th>\n",
       "      <td>4909</td>\n",
       "      <td>580</td>\n",
       "      <td>1823693.31</td>\n",
       "      <td>0.369909</td>\n",
       "      <td>1.229491</td>\n",
       "      <td>13.934423</td>\n",
       "      <td>2.766354</td>\n",
       "      <td>4</td>\n",
       "    </tr>\n",
       "    <tr>\n",
       "      <th>3366</th>\n",
       "      <td>3486</td>\n",
       "      <td>435</td>\n",
       "      <td>4566229.85</td>\n",
       "      <td>0.926190</td>\n",
       "      <td>0.922118</td>\n",
       "      <td>4.757933</td>\n",
       "      <td>3.688472</td>\n",
       "      <td>2</td>\n",
       "    </tr>\n",
       "    <tr>\n",
       "      <th>417</th>\n",
       "      <td>434</td>\n",
       "      <td>430</td>\n",
       "      <td>1747247.86</td>\n",
       "      <td>0.354403</td>\n",
       "      <td>0.911519</td>\n",
       "      <td>14.288826</td>\n",
       "      <td>4.599992</td>\n",
       "      <td>4</td>\n",
       "    </tr>\n",
       "    <tr>\n",
       "      <th>2542</th>\n",
       "      <td>2635</td>\n",
       "      <td>425</td>\n",
       "      <td>1211674.74</td>\n",
       "      <td>0.245770</td>\n",
       "      <td>0.900920</td>\n",
       "      <td>24.163885</td>\n",
       "      <td>5.500912</td>\n",
       "      <td>1</td>\n",
       "    </tr>\n",
       "  </tbody>\n",
       "</table>\n",
       "</div>"
      ],
      "text/plain": [
       "      ar_id  qty           s  share_sales  share_items  cum_sales  cum_items  \\\n",
       "4743   4942  725  5092324.27     1.032901     1.536864   3.831743   1.536864   \n",
       "4713   4909  580  1823693.31     0.369909     1.229491  13.934423   2.766354   \n",
       "3366   3486  435  4566229.85     0.926190     0.922118   4.757933   3.688472   \n",
       "417     434  430  1747247.86     0.354403     0.911519  14.288826   4.599992   \n",
       "2542   2635  425  1211674.74     0.245770     0.900920  24.163885   5.500912   \n",
       "\n",
       "      cluster  \n",
       "4743        2  \n",
       "4713        4  \n",
       "3366        2  \n",
       "417         4  \n",
       "2542        1  "
      ]
     },
     "execution_count": 32,
     "metadata": {},
     "output_type": "execute_result"
    }
   ],
   "source": [
    "#In the plot above the elbow is at k = 5 indicating the optimal k for this dataset is 5\n",
    "kmeans = KMeans(n_clusters = 5, random_state=0).fit(abc[[\"qty\", \"s\"]])\n",
    "\n",
    "predict = kmeans.predict(abc[[\"qty\", \"s\"]])\n",
    "abc['cluster'] = predict\n",
    "abc.head()"
   ]
  },
  {
   "cell_type": "code",
   "execution_count": 33,
   "metadata": {},
   "outputs": [
    {
     "data": {
      "image/png": "[encoded data removed]",
      "text/plain": [
       "<Figure size 432x288 with 1 Axes>"
      ]
     },
     "metadata": {},
     "output_type": "display_data"
    }
   ],
   "source": [
    "plt.figure('5 Cluster K-Means')\n",
    "plt.scatter(abc['qty'], abc[\"s\"], c = kmeans.labels_)\n",
    "plt.xlabel('Quality')\n",
    "plt.ylabel('Sales')\n",
    "plt.title('5 Cluster K-Means')\n",
    "#plt.savefig('k-means_sales.png')\n",
    "plt.show()"
   ]
  },
  {
   "cell_type": "code",
   "execution_count": 34,
   "metadata": {},
   "outputs": [
    {
     "data": {
      "image/png": "[encoded data removed]",
      "text/plain": [
       "<Figure size 432x288 with 1 Axes>"
      ]
     },
     "metadata": {},
     "output_type": "display_data"
    }
   ],
   "source": [
    "plt.figure('5 Cluster K-Means')\n",
    "plt.scatter(abc['cum_items'], abc[\"cum_sales\"], c = kmeans.labels_)\n",
    "plt.xlabel('Cumulative quality')\n",
    "plt.ylabel('Cumulative sales')\n",
    "plt.title('5 Cluster K-Means')\n",
    "#plt.savefig('k-means_cumulative.png')\n",
    "plt.show()"
   ]
  },
  {
   "cell_type": "markdown",
   "metadata": {},
   "source": [
    "## RFM analysis\n",
    "A customer segmentation technique that uses past purchase behavior to segment customers.\n",
    "1. Recency (R) - Time since last purchase \n",
    "2. Frequency (F) - Total number of purchases \n",
    "3. Monetary value (M) - Total monetary value \n",
    "\n",
    "\n",
    "Benefits of RFM analysis\n",
    "\n",
    "* Increased customer retention\n",
    "* Increased response rate\n",
    "* Increased conversion rate\n",
    "* Increased revenue"
   ]
  },
  {
   "cell_type": "code",
   "execution_count": 35,
   "metadata": {},
   "outputs": [],
   "source": [
    "rfm = data.groupby(['tr_id'])['qty', 's'].sum()\n",
    "rfm.reset_index(drop = False, inplace = True)\n",
    "rfm = pd.merge(rfm, data[['cl_id', 'dt', 'tr_id']], how = 'inner', on = 'tr_id')\n",
    "rfm = rfm.drop_duplicates(subset = None, keep = 'first', inplace = False)"
   ]
  },
  {
   "cell_type": "code",
   "execution_count": 36,
   "metadata": {},
   "outputs": [
    {
     "data": {
      "text/html": [
       "<div>\n",
       "<style scoped>\n",
       "    .dataframe tbody tr th:only-of-type {\n",
       "        vertical-align: middle;\n",
       "    }\n",
       "\n",
       "    .dataframe tbody tr th {\n",
       "        vertical-align: top;\n",
       "    }\n",
       "\n",
       "    .dataframe thead th {\n",
       "        text-align: right;\n",
       "    }\n",
       "</style>\n",
       "<table border=\"1\" class=\"dataframe\">\n",
       "  <thead>\n",
       "    <tr style=\"text-align: right;\">\n",
       "      <th></th>\n",
       "      <th>tr_id</th>\n",
       "      <th>qty</th>\n",
       "      <th>s</th>\n",
       "      <th>cl_id</th>\n",
       "      <th>dt</th>\n",
       "    </tr>\n",
       "  </thead>\n",
       "  <tbody>\n",
       "    <tr>\n",
       "      <th>0</th>\n",
       "      <td>1</td>\n",
       "      <td>2</td>\n",
       "      <td>21365.0</td>\n",
       "      <td>4526</td>\n",
       "      <td>2007-03-12 18:50:49</td>\n",
       "    </tr>\n",
       "    <tr>\n",
       "      <th>2</th>\n",
       "      <td>2</td>\n",
       "      <td>2</td>\n",
       "      <td>16423.0</td>\n",
       "      <td>4526</td>\n",
       "      <td>2007-03-12 18:52:29</td>\n",
       "    </tr>\n",
       "    <tr>\n",
       "      <th>4</th>\n",
       "      <td>3</td>\n",
       "      <td>2</td>\n",
       "      <td>10915.0</td>\n",
       "      <td>4526</td>\n",
       "      <td>2007-03-12 18:54:39</td>\n",
       "    </tr>\n",
       "    <tr>\n",
       "      <th>6</th>\n",
       "      <td>4</td>\n",
       "      <td>1</td>\n",
       "      <td>4495.0</td>\n",
       "      <td>4526</td>\n",
       "      <td>2007-03-12 18:56:35</td>\n",
       "    </tr>\n",
       "    <tr>\n",
       "      <th>7</th>\n",
       "      <td>5</td>\n",
       "      <td>1</td>\n",
       "      <td>15050.0</td>\n",
       "      <td>2637</td>\n",
       "      <td>2007-03-18 17:26:00</td>\n",
       "    </tr>\n",
       "  </tbody>\n",
       "</table>\n",
       "</div>"
      ],
      "text/plain": [
       "   tr_id  qty        s  cl_id                  dt\n",
       "0      1    2  21365.0   4526 2007-03-12 18:50:49\n",
       "2      2    2  16423.0   4526 2007-03-12 18:52:29\n",
       "4      3    2  10915.0   4526 2007-03-12 18:54:39\n",
       "6      4    1   4495.0   4526 2007-03-12 18:56:35\n",
       "7      5    1  15050.0   2637 2007-03-18 17:26:00"
      ]
     },
     "execution_count": 36,
     "metadata": {},
     "output_type": "execute_result"
    }
   ],
   "source": [
    "rfm.head()"
   ]
  },
  {
   "cell_type": "code",
   "execution_count": 37,
   "metadata": {},
   "outputs": [
    {
     "data": {
      "text/html": [
       "<div>\n",
       "<style scoped>\n",
       "    .dataframe tbody tr th:only-of-type {\n",
       "        vertical-align: middle;\n",
       "    }\n",
       "\n",
       "    .dataframe tbody tr th {\n",
       "        vertical-align: top;\n",
       "    }\n",
       "\n",
       "    .dataframe thead th {\n",
       "        text-align: right;\n",
       "    }\n",
       "</style>\n",
       "<table border=\"1\" class=\"dataframe\">\n",
       "  <thead>\n",
       "    <tr style=\"text-align: right;\">\n",
       "      <th></th>\n",
       "      <th>recency</th>\n",
       "      <th>frequency</th>\n",
       "      <th>monetary_value</th>\n",
       "    </tr>\n",
       "    <tr>\n",
       "      <th>cl_id</th>\n",
       "      <th></th>\n",
       "      <th></th>\n",
       "      <th></th>\n",
       "    </tr>\n",
       "  </thead>\n",
       "  <tbody>\n",
       "    <tr>\n",
       "      <th>1</th>\n",
       "      <td>236</td>\n",
       "      <td>3</td>\n",
       "      <td>14940.0</td>\n",
       "    </tr>\n",
       "    <tr>\n",
       "      <th>2</th>\n",
       "      <td>76</td>\n",
       "      <td>4</td>\n",
       "      <td>88540.0</td>\n",
       "    </tr>\n",
       "    <tr>\n",
       "      <th>3</th>\n",
       "      <td>455</td>\n",
       "      <td>1</td>\n",
       "      <td>7100.0</td>\n",
       "    </tr>\n",
       "    <tr>\n",
       "      <th>4</th>\n",
       "      <td>8</td>\n",
       "      <td>26</td>\n",
       "      <td>351196.5</td>\n",
       "    </tr>\n",
       "    <tr>\n",
       "      <th>5</th>\n",
       "      <td>453</td>\n",
       "      <td>1</td>\n",
       "      <td>3035.0</td>\n",
       "    </tr>\n",
       "  </tbody>\n",
       "</table>\n",
       "</div>"
      ],
      "text/plain": [
       "       recency  frequency  monetary_value\n",
       "cl_id                                    \n",
       "1          236          3         14940.0\n",
       "2           76          4         88540.0\n",
       "3          455          1          7100.0\n",
       "4            8         26        351196.5\n",
       "5          453          1          3035.0"
      ]
     },
     "execution_count": 37,
     "metadata": {},
     "output_type": "execute_result"
    }
   ],
   "source": [
    "NOW = dt.datetime(2008, 8, 1) # tha last day in our data\n",
    "\n",
    "rfm = rfm.groupby('cl_id').agg({'dt': lambda x: (NOW - x.max()).days, # Recency\n",
    "                                        'tr_id': lambda x: len(x),         # Frequency\n",
    "                                        's': lambda x: x.sum()})           # Monetary Value\n",
    "\n",
    "rfm['dt'] = rfm['dt'].astype(int)\n",
    "rfm.rename(columns={'dt': 'recency', \n",
    "                         'tr_id': 'frequency', \n",
    "                         's': 'monetary_value'}, inplace=True)\n",
    "# Example: customer 1 has frequency: 3, monetary value: $14940 and recency: 235 days\n",
    "rfm.head()"
   ]
  },
  {
   "cell_type": "markdown",
   "metadata": {},
   "source": [
    "### Determining RFM Quartiles"
   ]
  },
  {
   "cell_type": "code",
   "execution_count": 38,
   "metadata": {},
   "outputs": [
    {
     "data": {
      "text/plain": [
       "{'recency': {0.25: 83.0, 0.5: 185.0, 0.75: 334.0},\n",
       " 'frequency': {0.25: 1.0, 0.5: 1.0, 0.75: 2.0},\n",
       " 'monetary_value': {0.25: 7490.0, 0.5: 17545.0, 0.75: 41490.0}}"
      ]
     },
     "execution_count": 38,
     "metadata": {},
     "output_type": "execute_result"
    }
   ],
   "source": [
    "quantiles = rfm.quantile(q = [0.25,0.5,0.75]).to_dict()\n",
    "quantiles"
   ]
  },
  {
   "cell_type": "code",
   "execution_count": 39,
   "metadata": {},
   "outputs": [],
   "source": [
    "# Arguments (x = value, p = recency, monetary_value, frequency, k = quartiles dict)\n",
    "# Creating the RFM segmentation table\n",
    "def RClass(x,p,d):\n",
    "    if x <= d[p][0.25]:\n",
    "        return 1\n",
    "    elif x <= d[p][0.50]:\n",
    "        return 2\n",
    "    elif x <= d[p][0.75]: \n",
    "        return 3\n",
    "    else:\n",
    "        return 4\n",
    "    \n",
    "# Arguments (x = value, p = recency, monetary_value, frequency, k = quartiles dict)\n",
    "def FMClass(x,p,d):\n",
    "    if x <= d[p][0.25]:\n",
    "        return 4\n",
    "    elif x <= d[p][0.50]:\n",
    "        return 3\n",
    "    elif x <= d[p][0.75]: \n",
    "        return 2\n",
    "    else:\n",
    "        return 1"
   ]
  },
  {
   "cell_type": "code",
   "execution_count": 40,
   "metadata": {},
   "outputs": [
    {
     "data": {
      "text/html": [
       "<div>\n",
       "<style scoped>\n",
       "    .dataframe tbody tr th:only-of-type {\n",
       "        vertical-align: middle;\n",
       "    }\n",
       "\n",
       "    .dataframe tbody tr th {\n",
       "        vertical-align: top;\n",
       "    }\n",
       "\n",
       "    .dataframe thead th {\n",
       "        text-align: right;\n",
       "    }\n",
       "</style>\n",
       "<table border=\"1\" class=\"dataframe\">\n",
       "  <thead>\n",
       "    <tr style=\"text-align: right;\">\n",
       "      <th></th>\n",
       "      <th>recency</th>\n",
       "      <th>frequency</th>\n",
       "      <th>monetary_value</th>\n",
       "      <th>R_Quartile</th>\n",
       "      <th>F_Quartile</th>\n",
       "      <th>M_Quartile</th>\n",
       "      <th>RFMClass</th>\n",
       "    </tr>\n",
       "    <tr>\n",
       "      <th>cl_id</th>\n",
       "      <th></th>\n",
       "      <th></th>\n",
       "      <th></th>\n",
       "      <th></th>\n",
       "      <th></th>\n",
       "      <th></th>\n",
       "      <th></th>\n",
       "    </tr>\n",
       "  </thead>\n",
       "  <tbody>\n",
       "    <tr>\n",
       "      <th>1</th>\n",
       "      <td>236</td>\n",
       "      <td>3</td>\n",
       "      <td>14940.0</td>\n",
       "      <td>3</td>\n",
       "      <td>1</td>\n",
       "      <td>3</td>\n",
       "      <td>313</td>\n",
       "    </tr>\n",
       "    <tr>\n",
       "      <th>2</th>\n",
       "      <td>76</td>\n",
       "      <td>4</td>\n",
       "      <td>88540.0</td>\n",
       "      <td>1</td>\n",
       "      <td>1</td>\n",
       "      <td>1</td>\n",
       "      <td>111</td>\n",
       "    </tr>\n",
       "    <tr>\n",
       "      <th>3</th>\n",
       "      <td>455</td>\n",
       "      <td>1</td>\n",
       "      <td>7100.0</td>\n",
       "      <td>4</td>\n",
       "      <td>4</td>\n",
       "      <td>4</td>\n",
       "      <td>444</td>\n",
       "    </tr>\n",
       "    <tr>\n",
       "      <th>4</th>\n",
       "      <td>8</td>\n",
       "      <td>26</td>\n",
       "      <td>351196.5</td>\n",
       "      <td>1</td>\n",
       "      <td>1</td>\n",
       "      <td>1</td>\n",
       "      <td>111</td>\n",
       "    </tr>\n",
       "    <tr>\n",
       "      <th>5</th>\n",
       "      <td>453</td>\n",
       "      <td>1</td>\n",
       "      <td>3035.0</td>\n",
       "      <td>4</td>\n",
       "      <td>4</td>\n",
       "      <td>4</td>\n",
       "      <td>444</td>\n",
       "    </tr>\n",
       "  </tbody>\n",
       "</table>\n",
       "</div>"
      ],
      "text/plain": [
       "       recency  frequency  monetary_value  R_Quartile  F_Quartile  M_Quartile  \\\n",
       "cl_id                                                                           \n",
       "1          236          3         14940.0           3           1           3   \n",
       "2           76          4         88540.0           1           1           1   \n",
       "3          455          1          7100.0           4           4           4   \n",
       "4            8         26        351196.5           1           1           1   \n",
       "5          453          1          3035.0           4           4           4   \n",
       "\n",
       "      RFMClass  \n",
       "cl_id           \n",
       "1          313  \n",
       "2          111  \n",
       "3          444  \n",
       "4          111  \n",
       "5          444  "
      ]
     },
     "execution_count": 40,
     "metadata": {},
     "output_type": "execute_result"
    }
   ],
   "source": [
    "rfm['R_Quartile'] = rfm['recency'].apply(RClass, args = ('recency', quantiles,))\n",
    "rfm['F_Quartile'] = rfm['frequency'].apply(FMClass, args = ('frequency', quantiles,))\n",
    "rfm['M_Quartile'] = rfm['monetary_value'].apply(FMClass, args = ('monetary_value', quantiles,))\n",
    "\n",
    "rfm['RFMClass'] = rfm.R_Quartile.map(str) + rfm.F_Quartile.map(str) + rfm.M_Quartile.map(str)\n",
    "#frm.to_csv('rfm-table.csv', sep=',')\n",
    "rfm.head()"
   ]
  },
  {
   "cell_type": "code",
   "execution_count": 41,
   "metadata": {},
   "outputs": [
    {
     "data": {
      "text/html": [
       "<div>\n",
       "<style scoped>\n",
       "    .dataframe tbody tr th:only-of-type {\n",
       "        vertical-align: middle;\n",
       "    }\n",
       "\n",
       "    .dataframe tbody tr th {\n",
       "        vertical-align: top;\n",
       "    }\n",
       "\n",
       "    .dataframe thead th {\n",
       "        text-align: right;\n",
       "    }\n",
       "</style>\n",
       "<table border=\"1\" class=\"dataframe\">\n",
       "  <thead>\n",
       "    <tr style=\"text-align: right;\">\n",
       "      <th></th>\n",
       "      <th>recency</th>\n",
       "      <th>frequency</th>\n",
       "      <th>monetary_value</th>\n",
       "      <th>R_Quartile</th>\n",
       "      <th>F_Quartile</th>\n",
       "      <th>M_Quartile</th>\n",
       "      <th>RFMClass</th>\n",
       "    </tr>\n",
       "    <tr>\n",
       "      <th>cl_id</th>\n",
       "      <th></th>\n",
       "      <th></th>\n",
       "      <th></th>\n",
       "      <th></th>\n",
       "      <th></th>\n",
       "      <th></th>\n",
       "      <th></th>\n",
       "    </tr>\n",
       "  </thead>\n",
       "  <tbody>\n",
       "    <tr>\n",
       "      <th>1572</th>\n",
       "      <td>0</td>\n",
       "      <td>126</td>\n",
       "      <td>6300874.84</td>\n",
       "      <td>1</td>\n",
       "      <td>1</td>\n",
       "      <td>1</td>\n",
       "      <td>111</td>\n",
       "    </tr>\n",
       "    <tr>\n",
       "      <th>2177</th>\n",
       "      <td>12</td>\n",
       "      <td>44</td>\n",
       "      <td>3716194.39</td>\n",
       "      <td>1</td>\n",
       "      <td>1</td>\n",
       "      <td>1</td>\n",
       "      <td>111</td>\n",
       "    </tr>\n",
       "    <tr>\n",
       "      <th>4997</th>\n",
       "      <td>66</td>\n",
       "      <td>35</td>\n",
       "      <td>3012222.70</td>\n",
       "      <td>1</td>\n",
       "      <td>1</td>\n",
       "      <td>1</td>\n",
       "      <td>111</td>\n",
       "    </tr>\n",
       "    <tr>\n",
       "      <th>3738</th>\n",
       "      <td>0</td>\n",
       "      <td>128</td>\n",
       "      <td>2694385.00</td>\n",
       "      <td>1</td>\n",
       "      <td>1</td>\n",
       "      <td>1</td>\n",
       "      <td>111</td>\n",
       "    </tr>\n",
       "    <tr>\n",
       "      <th>3799</th>\n",
       "      <td>7</td>\n",
       "      <td>95</td>\n",
       "      <td>2493029.97</td>\n",
       "      <td>1</td>\n",
       "      <td>1</td>\n",
       "      <td>1</td>\n",
       "      <td>111</td>\n",
       "    </tr>\n",
       "  </tbody>\n",
       "</table>\n",
       "</div>"
      ],
      "text/plain": [
       "       recency  frequency  monetary_value  R_Quartile  F_Quartile  M_Quartile  \\\n",
       "cl_id                                                                           \n",
       "1572         0        126      6300874.84           1           1           1   \n",
       "2177        12         44      3716194.39           1           1           1   \n",
       "4997        66         35      3012222.70           1           1           1   \n",
       "3738         0        128      2694385.00           1           1           1   \n",
       "3799         7         95      2493029.97           1           1           1   \n",
       "\n",
       "      RFMClass  \n",
       "cl_id           \n",
       "1572       111  \n",
       "2177       111  \n",
       "4997       111  \n",
       "3738       111  \n",
       "3799       111  "
      ]
     },
     "execution_count": 41,
     "metadata": {},
     "output_type": "execute_result"
    }
   ],
   "source": [
    "#Who are the top 5 best customers? by RFM Class (111), high spenders who buy recently and frequently?\n",
    "rfm[rfm['RFMClass'] == '111'].sort_values('monetary_value', ascending = False).head(5)"
   ]
  },
  {
   "cell_type": "markdown",
   "metadata": {},
   "source": [
    "### What to do with this segments:\n",
    "<table>\n",
    "<tr><td>** Segment **</td><td>** RFM **</td><td>** Description **</td><td>** Marketing **</td></tr>\n",
    "<tr><td>Best Customers</td><td>111</td><td>Customers who bought most recently, most often and spend the most.</td><td>No price incentives, New products and loyalty programs</td></tr>\n",
    "<tr><td>Loyal Customers</td><td>X1X</td><td>Customers who bought most recently</td><td>Use R and M to further segment.</td></tr>\n",
    "<tr><td>Big Spenders</td><td>XX1</td><td>Customers who spend the most</td><td>Market your most expensive products.</td></tr>\n",
    "<tr><td>Almost Lost</td><td>311</td><td>Haven't purchased for some time, but purchased frequently and spend the most.</td><td>Agressive price incentives</td></tr>\n",
    "<tr><td>Lost Customers</td><td>411</td><td>Haven't purchased for some time, but purchased frequently and spend the most.</td><td>Agressive price incentives.</td></tr>\n",
    "<tr><td>Lost Cheap Customers</td><td>444</td><td>Last purchase long ago, purchased few and spend little.</td><td>Don't spend too much trying to re-acquire.</td></tr>\n",
    "<tr><td>...</td><td>...</td><td>...</td><td>...</td></tr>\n",
    "</table>"
   ]
  },
  {
   "cell_type": "code",
   "execution_count": 42,
   "metadata": {},
   "outputs": [
    {
     "data": {
      "image/png": "[encoded data removed]",
      "text/plain": [
       "<Figure size 1080x576 with 1 Axes>"
      ]
     },
     "metadata": {},
     "output_type": "display_data"
    }
   ],
   "source": [
    "plt.figure(figsize=(15, 8))\n",
    "sns.set()\n",
    "ax = sns.countplot(x = \"RFMClass\", data = rfm)\n",
    "ax = ax.set_xticklabels(ax.get_xticklabels(), rotation = 45)"
   ]
  },
  {
   "cell_type": "markdown",
   "metadata": {},
   "source": [
    "## Association Rule Mining via Apriori Algorithm"
   ]
  },
  {
   "cell_type": "code",
   "execution_count": 43,
   "metadata": {},
   "outputs": [
    {
     "data": {
      "image/png": "[encoded data removed]",
      "text/plain": [
       "<Figure size 1080x576 with 1 Axes>"
      ]
     },
     "metadata": {},
     "output_type": "display_data"
    }
   ],
   "source": [
    "# Let's look at our distribution of \n",
    "plt.figure(figsize=(15, 8))\n",
    "sns.set()\n",
    "ax = sns.countplot(x = \"frequency\", data = rfm)\n",
    "ax = ax.set_xticklabels(ax.get_xticklabels(), rotation = 45)"
   ]
  },
  {
   "cell_type": "code",
   "execution_count": 44,
   "metadata": {},
   "outputs": [
    {
     "data": {
      "text/plain": [
       "27"
      ]
     },
     "execution_count": 44,
     "metadata": {},
     "output_type": "execute_result"
    }
   ],
   "source": [
    "apriori = data.groupby('tr_id')['ar_id'].apply(lambda g: g.values.tolist()).to_dict()\n",
    "apriori = list(apriori.values())\n",
    "\n",
    "# Maximum items in a basket\n",
    "max(len(elem) for elem in apriori)"
   ]
  },
  {
   "cell_type": "code",
   "execution_count": 45,
   "metadata": {},
   "outputs": [],
   "source": [
    "transactions = []\n",
    "for i in range(1, len(apriori)):\n",
    "    n = list(apriori[i])\n",
    "    for x in range(27):\n",
    "        n = np.append(n, 'nan')\n",
    "    transactions.append(n.tolist())"
   ]
  },
  {
   "cell_type": "markdown",
   "metadata": {},
   "source": [
    "But usually you want all three to be high.\n",
    "* high support: should apply to a large amount of cases\n",
    "* high confidence: should be correct often\n",
    "* high lift: indicates it is not just a coincidence"
   ]
  },
  {
   "cell_type": "code",
   "execution_count": 46,
   "metadata": {},
   "outputs": [
    {
     "data": {
      "text/plain": [
       "[RelationRecord(items=frozenset({'2635', '2811'}), support=0.0010991510006064281, ordered_statistics=[OrderedStatistic(items_base=frozenset({'2635'}), items_add=frozenset({'2811'}), confidence=0.07455012853470437, lift=8.161537723069046), OrderedStatistic(items_base=frozenset({'2811'}), items_add=frozenset({'2635'}), confidence=0.12033195020746887, lift=8.161537723069046)]),\n",
       " RelationRecord(items=frozenset({'434', '443'}), support=0.001288659793814433, ordered_statistics=[OrderedStatistic(items_base=frozenset({'434'}), items_add=frozenset({'443'}), confidence=0.10725552050473185, lift=17.68643533123028), OrderedStatistic(items_base=frozenset({'443'}), items_add=frozenset({'434'}), confidence=0.2125, lift=17.68643533123028)]),\n",
       " RelationRecord(items=frozenset({'434', '471'}), support=0.0015539721043056397, ordered_statistics=[OrderedStatistic(items_base=frozenset({'434'}), items_add=frozenset({'471'}), confidence=0.12933753943217663, lift=14.337990085624153), OrderedStatistic(items_base=frozenset({'471'}), items_add=frozenset({'434'}), confidence=0.1722689075630252, lift=14.337990085624154)]),\n",
       " RelationRecord(items=frozenset({'4517', '4909'}), support=0.0011370527592480292, ordered_statistics=[OrderedStatistic(items_base=frozenset({'4517'}), items_add=frozenset({'4909'}), confidence=0.28301886792452835, lift=14.527567726304973), OrderedStatistic(items_base=frozenset({'4909'}), items_add=frozenset({'4517'}), confidence=0.058365758754863814, lift=14.527567726304971)]),\n",
       " RelationRecord(items=frozenset({'4909', '5047'}), support=0.00117495451788963, ordered_statistics=[OrderedStatistic(items_base=frozenset({'4909'}), items_add=frozenset({'5047'}), confidence=0.0603112840466926, lift=5.765409124231659), OrderedStatistic(items_base=frozenset({'5047'}), items_add=frozenset({'4909'}), confidence=0.11231884057971014, lift=5.765409124231659)]),\n",
       " RelationRecord(items=frozenset({'2635', 'nan', '2811'}), support=0.0010991510006064281, ordered_statistics=[OrderedStatistic(items_base=frozenset({'2635', 'nan'}), items_add=frozenset({'2811'}), confidence=0.07455012853470437, lift=8.161537723069046), OrderedStatistic(items_base=frozenset({'nan', '2811'}), items_add=frozenset({'2635'}), confidence=0.12033195020746887, lift=8.161537723069046)]),\n",
       " RelationRecord(items=frozenset({'434', 'nan', '443'}), support=0.001288659793814433, ordered_statistics=[OrderedStatistic(items_base=frozenset({'434', 'nan'}), items_add=frozenset({'443'}), confidence=0.10725552050473185, lift=17.68643533123028), OrderedStatistic(items_base=frozenset({'nan', '443'}), items_add=frozenset({'434'}), confidence=0.2125, lift=17.68643533123028)]),\n",
       " RelationRecord(items=frozenset({'434', 'nan', '471'}), support=0.0015539721043056397, ordered_statistics=[OrderedStatistic(items_base=frozenset({'434', 'nan'}), items_add=frozenset({'471'}), confidence=0.12933753943217663, lift=14.337990085624153), OrderedStatistic(items_base=frozenset({'471', 'nan'}), items_add=frozenset({'434'}), confidence=0.1722689075630252, lift=14.337990085624154)]),\n",
       " RelationRecord(items=frozenset({'nan', '4517', '4909'}), support=0.0011370527592480292, ordered_statistics=[OrderedStatistic(items_base=frozenset({'nan', '4517'}), items_add=frozenset({'4909'}), confidence=0.28301886792452835, lift=14.527567726304973), OrderedStatistic(items_base=frozenset({'nan', '4909'}), items_add=frozenset({'4517'}), confidence=0.058365758754863814, lift=14.527567726304971)]),\n",
       " RelationRecord(items=frozenset({'nan', '4909', '5047'}), support=0.00117495451788963, ordered_statistics=[OrderedStatistic(items_base=frozenset({'nan', '4909'}), items_add=frozenset({'5047'}), confidence=0.0603112840466926, lift=5.765409124231659), OrderedStatistic(items_base=frozenset({'nan', '5047'}), items_add=frozenset({'4909'}), confidence=0.11231884057971014, lift=5.765409124231659)])]"
      ]
     },
     "execution_count": 46,
     "metadata": {},
     "output_type": "execute_result"
    }
   ],
   "source": [
    "# training Apriori on the dataset\n",
    "from apyori import apriori\n",
    "rules = apriori(transactions, min_support = 0.001, min_confidence = 0.01, min_lift = 3, min_length = 2)\n",
    "\n",
    "# Visualising the results\n",
    "list(rules)"
   ]
  },
  {
   "cell_type": "markdown",
   "metadata": {},
   "source": [
    "With relatively big dataset and loyal rules, there are not enought interconnections in our data to create reasonable amount of product suggestions - just 5."
   ]
  },
  {
   "cell_type": "markdown",
   "metadata": {},
   "source": [
    "## Recommendations"
   ]
  },
  {
   "cell_type": "code",
   "execution_count": 66,
   "metadata": {},
   "outputs": [
    {
     "data": {
      "text/html": [
       "<div>\n",
       "<style scoped>\n",
       "    .dataframe tbody tr th:only-of-type {\n",
       "        vertical-align: middle;\n",
       "    }\n",
       "\n",
       "    .dataframe tbody tr th {\n",
       "        vertical-align: top;\n",
       "    }\n",
       "\n",
       "    .dataframe thead th {\n",
       "        text-align: right;\n",
       "    }\n",
       "</style>\n",
       "<table border=\"1\" class=\"dataframe\">\n",
       "  <thead>\n",
       "    <tr style=\"text-align: right;\">\n",
       "      <th></th>\n",
       "      <th>item</th>\n",
       "      <th>user</th>\n",
       "      <th>weight</th>\n",
       "    </tr>\n",
       "  </thead>\n",
       "  <tbody>\n",
       "    <tr>\n",
       "      <th>0</th>\n",
       "      <td>2873</td>\n",
       "      <td>1</td>\n",
       "      <td>1</td>\n",
       "    </tr>\n",
       "    <tr>\n",
       "      <th>1</th>\n",
       "      <td>3585</td>\n",
       "      <td>1</td>\n",
       "      <td>1</td>\n",
       "    </tr>\n",
       "    <tr>\n",
       "      <th>2</th>\n",
       "      <td>4940</td>\n",
       "      <td>1</td>\n",
       "      <td>1</td>\n",
       "    </tr>\n",
       "    <tr>\n",
       "      <th>3</th>\n",
       "      <td>2811</td>\n",
       "      <td>2</td>\n",
       "      <td>1</td>\n",
       "    </tr>\n",
       "    <tr>\n",
       "      <th>4</th>\n",
       "      <td>5023</td>\n",
       "      <td>2</td>\n",
       "      <td>1</td>\n",
       "    </tr>\n",
       "  </tbody>\n",
       "</table>\n",
       "</div>"
      ],
      "text/plain": [
       "   item  user  weight\n",
       "0  2873     1       1\n",
       "1  3585     1       1\n",
       "2  4940     1       1\n",
       "3  2811     2       1\n",
       "4  5023     2       1"
      ]
     },
     "execution_count": 66,
     "metadata": {},
     "output_type": "execute_result"
    }
   ],
   "source": [
    "all_user_items = data[['ar_id', 'cl_id']]\n",
    "all_user_items.columns = ['item','user']\n",
    "all_user_items['weight'] = 1\n",
    "all_user_items.head()"
   ]
  },
  {
   "cell_type": "code",
   "execution_count": 67,
   "metadata": {},
   "outputs": [],
   "source": [
    "last_item_id = all_user_items[\"item\"].max()\n",
    "last_user_id = all_user_items[\"user\"].max()"
   ]
  },
  {
   "cell_type": "code",
   "execution_count": 68,
   "metadata": {},
   "outputs": [],
   "source": [
    "from scipy.sparse import csr_matrix\n",
    "\n",
    "user_with_item = all_user_items[[\"user\", \"item\"]].as_matrix()\n",
    "user_item_matrix = csr_matrix(((all_user_items[\"weight\"] == 1).tolist(), ([both[0] for both in user_with_item],\n",
    "            [both[1] for both in user_with_item],)), shape = (last_user_id + 1, last_item_id + 1), dtype = np.float32)"
   ]
  },
  {
   "cell_type": "code",
   "execution_count": 69,
   "metadata": {},
   "outputs": [],
   "source": [
    "np.random.seed(0)\n",
    "test_indices = np.random.choice(\n",
    "    range(user_item_matrix.nnz), replace = False, size = int(user_item_matrix.nnz * 0.2)).tolist()"
   ]
  },
  {
   "cell_type": "code",
   "execution_count": 70,
   "metadata": {},
   "outputs": [],
   "source": [
    "train = user_item_matrix.copy()\n",
    "train.data[test_indices] = 0\n",
    "train.eliminate_zeros()\n",
    "\n",
    "test = user_item_matrix.copy()\n",
    "test.data[:] = 0\n",
    "test.data[test_indices] = user_item_matrix.data[test_indices]\n",
    "test.eliminate_zeros()"
   ]
  },
  {
   "cell_type": "code",
   "execution_count": 73,
   "metadata": {},
   "outputs": [],
   "source": [
    "alpha = 1e-05\n",
    "epochs = 15\n",
    "num_components = 32\n",
    "\n",
    "warp_model = LightFM(no_components=num_components,\n",
    "                    loss='warp',\n",
    "                    learning_schedule='adagrad',\n",
    "                    max_sampled=100,\n",
    "                    user_alpha=alpha,\n",
    "                    item_alpha=alpha)\n",
    "\n",
    "bpr_model = LightFM(no_components=num_components,\n",
    "                    loss='bpr',\n",
    "                    learning_schedule='adagrad',\n",
    "                    user_alpha=alpha,\n",
    "                    item_alpha=alpha)\n",
    "\n",
    "logistic_model = LightFM(no_components=30,\n",
    "                        loss='logistic', \n",
    "                        learning_schedule='adadelta',\n",
    "                        user_alpha=alpha, item_alpha=alpha)\n",
    "\n",
    "warp_auc = []\n",
    "bpr_auc = []\n",
    "logistic_auc = []\n",
    "\n",
    "for epoch in range(epochs):\n",
    "    warp_model.fit_partial(train, epochs=1)\n",
    "    warp_auc.append(auc_score(warp_model, test, train_interactions = train).mean())\n",
    "    \n",
    "for epoch in range(epochs):\n",
    "    bpr_model.fit_partial(train, epochs=1)\n",
    "    bpr_auc.append(auc_score(bpr_model, test, train_interactions = train).mean())\n",
    "\n",
    "for epoch in range(epochs):\n",
    "    logistic_model.fit_partial(train, epochs=1)\n",
    "    logistic_auc.append(auc_score(logistic_model, test).mean())"
   ]
  },
  {
   "cell_type": "code",
   "execution_count": 74,
   "metadata": {},
   "outputs": [
    {
     "data": {
      "image/png": "[encoded data removed]",
      "text/plain": [
       "<Figure size 432x288 with 1 Axes>"
      ]
     },
     "metadata": {},
     "output_type": "display_data"
    }
   ],
   "source": [
    "x = np.arange(epochs)\n",
    "plt.plot(x, np.array(warp_auc))\n",
    "plt.plot(x, np.array(bpr_auc))\n",
    "plt.plot(x, np.array(logistic_auc))\n",
    "plt.legend(['WARP AUC (test)', 'BPR AUC (test)', 'Logistic (test)'], loc = 'upper right')\n",
    "plt.show()"
   ]
  },
  {
   "cell_type": "code",
   "execution_count": 75,
   "metadata": {},
   "outputs": [],
   "source": [
    "alpha = 1e-3\n",
    "epochs = 15\n",
    "\n",
    "adagrad_model = LightFM(no_components=30,\n",
    "                        loss='warp-kos', \n",
    "                        learning_schedule='adagrad',\n",
    "                        user_alpha=alpha, item_alpha=alpha)\n",
    "\n",
    "adadelta_model = LightFM(no_components=30,\n",
    "                        loss='warp-kos', \n",
    "                        learning_schedule='adadelta',\n",
    "                        user_alpha=alpha, item_alpha=alpha)\n",
    "\n",
    "adagrad_auc = []\n",
    "\n",
    "for epoch in range(epochs):\n",
    "    adagrad_model.fit_partial(train, epochs=1)\n",
    "    adagrad_auc.append(auc_score(adagrad_model, test).mean())\n",
    "\n",
    "\n",
    "adadelta_auc = []\n",
    "\n",
    "for epoch in range(epochs):\n",
    "    adadelta_model.fit_partial(train, epochs=1)\n",
    "    adadelta_auc.append(auc_score(adadelta_model, test).mean())"
   ]
  },
  {
   "cell_type": "code",
   "execution_count": 76,
   "metadata": {},
   "outputs": [
    {
     "data": {
      "image/png": "[encoded data removed]",
      "text/plain": [
       "<Figure size 432x288 with 1 Axes>"
      ]
     },
     "metadata": {},
     "output_type": "display_data"
    }
   ],
   "source": [
    "x = np.arange(len(adagrad_auc))\n",
    "plt.plot(x, np.array(adagrad_auc))\n",
    "plt.plot(x, np.array(adadelta_auc))\n",
    "plt.legend(['adagrad (test)', 'adadelta (test)'], loc = 'lower right')\n",
    "plt.show()"
   ]
  },
  {
   "cell_type": "code",
   "execution_count": 77,
   "metadata": {},
   "outputs": [
    {
     "name": "stdout",
     "output_type": "stream",
     "text": [
      "Test WARP AUC: 0.82\n",
      "Test BPR AUC: 0.55\n",
      "Test logistic AUC: 0.83\n",
      "Test WARP + adagrad AUC: 0.83\n",
      "Test WARP + adadelta AUC: 0.83\n"
     ]
    }
   ],
   "source": [
    "print(\"Test WARP AUC: %.2f\" % pd.Series(warp_auc).mean())\n",
    "print(\"Test BPR AUC: %.2f\" % pd.Series(bpr_auc).mean())\n",
    "print(\"Test logistic AUC: %.2f\" % pd.Series(logistic_auc).mean())\n",
    "print(\"Test WARP + adagrad AUC: %.2f\" % pd.Series(adagrad_auc).mean())\n",
    "print(\"Test WARP + adadelta AUC: %.2f\" % pd.Series(adadelta_auc).mean())"
   ]
  },
  {
   "cell_type": "code",
   "execution_count": 78,
   "metadata": {},
   "outputs": [
    {
     "data": {
      "text/plain": [
       "<lightfm.lightfm.LightFM at 0x1071ff048>"
      ]
     },
     "execution_count": 78,
     "metadata": {},
     "output_type": "execute_result"
    }
   ],
   "source": [
    "# Creating a final model\n",
    "# This one was chosen as it was the most stable and thus reliable model\n",
    "final = LightFM(no_components=30,\n",
    "                        loss='logistic', \n",
    "                        learning_schedule='adadelta')\n",
    "final.fit(train, epochs = 3)"
   ]
  },
  {
   "cell_type": "code",
   "execution_count": 58,
   "metadata": {},
   "outputs": [],
   "source": [
    "def recommend_match(model, data, user_ids):\n",
    "    n_user, n_matches = data.shape\n",
    "    first = []\n",
    "    second = []\n",
    "    for user_id in user_ids:\n",
    "        #print('recommendation for user : %s' % str(user_id + 1))\n",
    "        scores = model.predict(user_id, np.arange(n_matches))\n",
    "        topScores = np.argsort(-scores)[:2]\n",
    "\n",
    "        #for x in topScores[:2]:\n",
    "        #    print(\"    %s\"%x)\n",
    "        first.append(topScores[:1][0])\n",
    "        second.append(topScores[:2][1])\n",
    "    return(topScores[:2], first, second)"
   ]
  },
  {
   "cell_type": "code",
   "execution_count": 59,
   "metadata": {},
   "outputs": [],
   "source": [
    "ls = list(all_user_items['user'].unique())\n",
    "a, first, second = recommend_match(final, train, ls)"
   ]
  },
  {
   "cell_type": "code",
   "execution_count": 60,
   "metadata": {},
   "outputs": [],
   "source": [
    "recommendations = pd.DataFrame(\n",
    "    {'first_recommendation': first,\n",
    "     'second_recommendation': second,\n",
    "     'cl_id': list(range(1, 10990))\n",
    "    })\n",
    "recommendations.to_csv(\"recommendations\", sep = ';')"
   ]
  },
  {
   "cell_type": "code",
   "execution_count": 79,
   "metadata": {},
   "outputs": [
    {
     "data": {
      "text/html": [
       "<div>\n",
       "<style scoped>\n",
       "    .dataframe tbody tr th:only-of-type {\n",
       "        vertical-align: middle;\n",
       "    }\n",
       "\n",
       "    .dataframe tbody tr th {\n",
       "        vertical-align: top;\n",
       "    }\n",
       "\n",
       "    .dataframe thead th {\n",
       "        text-align: right;\n",
       "    }\n",
       "</style>\n",
       "<table border=\"1\" class=\"dataframe\">\n",
       "  <thead>\n",
       "    <tr style=\"text-align: right;\">\n",
       "      <th></th>\n",
       "      <th>first_recommendation</th>\n",
       "      <th>second_recommendation</th>\n",
       "      <th>cl_id</th>\n",
       "    </tr>\n",
       "  </thead>\n",
       "  <tbody>\n",
       "    <tr>\n",
       "      <th>0</th>\n",
       "      <td>4713</td>\n",
       "      <td>3366</td>\n",
       "      <td>1</td>\n",
       "    </tr>\n",
       "    <tr>\n",
       "      <th>1</th>\n",
       "      <td>3366</td>\n",
       "      <td>4859</td>\n",
       "      <td>2</td>\n",
       "    </tr>\n",
       "    <tr>\n",
       "      <th>2</th>\n",
       "      <td>4713</td>\n",
       "      <td>4859</td>\n",
       "      <td>3</td>\n",
       "    </tr>\n",
       "    <tr>\n",
       "      <th>3</th>\n",
       "      <td>4859</td>\n",
       "      <td>4713</td>\n",
       "      <td>4</td>\n",
       "    </tr>\n",
       "    <tr>\n",
       "      <th>4</th>\n",
       "      <td>4713</td>\n",
       "      <td>3366</td>\n",
       "      <td>5</td>\n",
       "    </tr>\n",
       "    <tr>\n",
       "      <th>5</th>\n",
       "      <td>4713</td>\n",
       "      <td>3366</td>\n",
       "      <td>6</td>\n",
       "    </tr>\n",
       "    <tr>\n",
       "      <th>6</th>\n",
       "      <td>4713</td>\n",
       "      <td>3366</td>\n",
       "      <td>7</td>\n",
       "    </tr>\n",
       "    <tr>\n",
       "      <th>7</th>\n",
       "      <td>4713</td>\n",
       "      <td>3366</td>\n",
       "      <td>8</td>\n",
       "    </tr>\n",
       "    <tr>\n",
       "      <th>8</th>\n",
       "      <td>4713</td>\n",
       "      <td>4859</td>\n",
       "      <td>9</td>\n",
       "    </tr>\n",
       "    <tr>\n",
       "      <th>9</th>\n",
       "      <td>4713</td>\n",
       "      <td>3366</td>\n",
       "      <td>10</td>\n",
       "    </tr>\n",
       "    <tr>\n",
       "      <th>10</th>\n",
       "      <td>4713</td>\n",
       "      <td>4859</td>\n",
       "      <td>11</td>\n",
       "    </tr>\n",
       "    <tr>\n",
       "      <th>11</th>\n",
       "      <td>4713</td>\n",
       "      <td>3366</td>\n",
       "      <td>12</td>\n",
       "    </tr>\n",
       "    <tr>\n",
       "      <th>12</th>\n",
       "      <td>4713</td>\n",
       "      <td>3366</td>\n",
       "      <td>13</td>\n",
       "    </tr>\n",
       "    <tr>\n",
       "      <th>13</th>\n",
       "      <td>4713</td>\n",
       "      <td>3366</td>\n",
       "      <td>14</td>\n",
       "    </tr>\n",
       "    <tr>\n",
       "      <th>14</th>\n",
       "      <td>4713</td>\n",
       "      <td>3366</td>\n",
       "      <td>15</td>\n",
       "    </tr>\n",
       "    <tr>\n",
       "      <th>15</th>\n",
       "      <td>4713</td>\n",
       "      <td>4859</td>\n",
       "      <td>16</td>\n",
       "    </tr>\n",
       "    <tr>\n",
       "      <th>16</th>\n",
       "      <td>4713</td>\n",
       "      <td>3366</td>\n",
       "      <td>17</td>\n",
       "    </tr>\n",
       "    <tr>\n",
       "      <th>17</th>\n",
       "      <td>3366</td>\n",
       "      <td>4713</td>\n",
       "      <td>18</td>\n",
       "    </tr>\n",
       "    <tr>\n",
       "      <th>18</th>\n",
       "      <td>4713</td>\n",
       "      <td>3366</td>\n",
       "      <td>19</td>\n",
       "    </tr>\n",
       "    <tr>\n",
       "      <th>19</th>\n",
       "      <td>4859</td>\n",
       "      <td>4713</td>\n",
       "      <td>20</td>\n",
       "    </tr>\n",
       "    <tr>\n",
       "      <th>20</th>\n",
       "      <td>4713</td>\n",
       "      <td>4859</td>\n",
       "      <td>21</td>\n",
       "    </tr>\n",
       "    <tr>\n",
       "      <th>21</th>\n",
       "      <td>3366</td>\n",
       "      <td>4713</td>\n",
       "      <td>22</td>\n",
       "    </tr>\n",
       "    <tr>\n",
       "      <th>22</th>\n",
       "      <td>4713</td>\n",
       "      <td>3366</td>\n",
       "      <td>23</td>\n",
       "    </tr>\n",
       "    <tr>\n",
       "      <th>23</th>\n",
       "      <td>4713</td>\n",
       "      <td>3366</td>\n",
       "      <td>24</td>\n",
       "    </tr>\n",
       "    <tr>\n",
       "      <th>24</th>\n",
       "      <td>4713</td>\n",
       "      <td>3366</td>\n",
       "      <td>25</td>\n",
       "    </tr>\n",
       "    <tr>\n",
       "      <th>25</th>\n",
       "      <td>4713</td>\n",
       "      <td>3366</td>\n",
       "      <td>26</td>\n",
       "    </tr>\n",
       "    <tr>\n",
       "      <th>26</th>\n",
       "      <td>4713</td>\n",
       "      <td>4859</td>\n",
       "      <td>27</td>\n",
       "    </tr>\n",
       "    <tr>\n",
       "      <th>27</th>\n",
       "      <td>4713</td>\n",
       "      <td>4859</td>\n",
       "      <td>28</td>\n",
       "    </tr>\n",
       "    <tr>\n",
       "      <th>28</th>\n",
       "      <td>4713</td>\n",
       "      <td>4859</td>\n",
       "      <td>29</td>\n",
       "    </tr>\n",
       "    <tr>\n",
       "      <th>29</th>\n",
       "      <td>4713</td>\n",
       "      <td>3366</td>\n",
       "      <td>30</td>\n",
       "    </tr>\n",
       "    <tr>\n",
       "      <th>...</th>\n",
       "      <td>...</td>\n",
       "      <td>...</td>\n",
       "      <td>...</td>\n",
       "    </tr>\n",
       "    <tr>\n",
       "      <th>10959</th>\n",
       "      <td>4713</td>\n",
       "      <td>3366</td>\n",
       "      <td>10960</td>\n",
       "    </tr>\n",
       "    <tr>\n",
       "      <th>10960</th>\n",
       "      <td>4713</td>\n",
       "      <td>3366</td>\n",
       "      <td>10961</td>\n",
       "    </tr>\n",
       "    <tr>\n",
       "      <th>10961</th>\n",
       "      <td>4713</td>\n",
       "      <td>3366</td>\n",
       "      <td>10962</td>\n",
       "    </tr>\n",
       "    <tr>\n",
       "      <th>10962</th>\n",
       "      <td>4713</td>\n",
       "      <td>3366</td>\n",
       "      <td>10963</td>\n",
       "    </tr>\n",
       "    <tr>\n",
       "      <th>10963</th>\n",
       "      <td>4713</td>\n",
       "      <td>3366</td>\n",
       "      <td>10964</td>\n",
       "    </tr>\n",
       "    <tr>\n",
       "      <th>10964</th>\n",
       "      <td>4713</td>\n",
       "      <td>4859</td>\n",
       "      <td>10965</td>\n",
       "    </tr>\n",
       "    <tr>\n",
       "      <th>10965</th>\n",
       "      <td>4713</td>\n",
       "      <td>3366</td>\n",
       "      <td>10966</td>\n",
       "    </tr>\n",
       "    <tr>\n",
       "      <th>10966</th>\n",
       "      <td>4713</td>\n",
       "      <td>4859</td>\n",
       "      <td>10967</td>\n",
       "    </tr>\n",
       "    <tr>\n",
       "      <th>10967</th>\n",
       "      <td>4713</td>\n",
       "      <td>4859</td>\n",
       "      <td>10968</td>\n",
       "    </tr>\n",
       "    <tr>\n",
       "      <th>10968</th>\n",
       "      <td>4713</td>\n",
       "      <td>4859</td>\n",
       "      <td>10969</td>\n",
       "    </tr>\n",
       "    <tr>\n",
       "      <th>10969</th>\n",
       "      <td>4713</td>\n",
       "      <td>3366</td>\n",
       "      <td>10970</td>\n",
       "    </tr>\n",
       "    <tr>\n",
       "      <th>10970</th>\n",
       "      <td>4713</td>\n",
       "      <td>4859</td>\n",
       "      <td>10971</td>\n",
       "    </tr>\n",
       "    <tr>\n",
       "      <th>10971</th>\n",
       "      <td>4713</td>\n",
       "      <td>3366</td>\n",
       "      <td>10972</td>\n",
       "    </tr>\n",
       "    <tr>\n",
       "      <th>10972</th>\n",
       "      <td>4713</td>\n",
       "      <td>3366</td>\n",
       "      <td>10973</td>\n",
       "    </tr>\n",
       "    <tr>\n",
       "      <th>10973</th>\n",
       "      <td>4713</td>\n",
       "      <td>3366</td>\n",
       "      <td>10974</td>\n",
       "    </tr>\n",
       "    <tr>\n",
       "      <th>10974</th>\n",
       "      <td>4713</td>\n",
       "      <td>3366</td>\n",
       "      <td>10975</td>\n",
       "    </tr>\n",
       "    <tr>\n",
       "      <th>10975</th>\n",
       "      <td>4713</td>\n",
       "      <td>3366</td>\n",
       "      <td>10976</td>\n",
       "    </tr>\n",
       "    <tr>\n",
       "      <th>10976</th>\n",
       "      <td>3366</td>\n",
       "      <td>4713</td>\n",
       "      <td>10977</td>\n",
       "    </tr>\n",
       "    <tr>\n",
       "      <th>10977</th>\n",
       "      <td>4713</td>\n",
       "      <td>4859</td>\n",
       "      <td>10978</td>\n",
       "    </tr>\n",
       "    <tr>\n",
       "      <th>10978</th>\n",
       "      <td>4713</td>\n",
       "      <td>3366</td>\n",
       "      <td>10979</td>\n",
       "    </tr>\n",
       "    <tr>\n",
       "      <th>10979</th>\n",
       "      <td>3366</td>\n",
       "      <td>4713</td>\n",
       "      <td>10980</td>\n",
       "    </tr>\n",
       "    <tr>\n",
       "      <th>10980</th>\n",
       "      <td>4713</td>\n",
       "      <td>3366</td>\n",
       "      <td>10981</td>\n",
       "    </tr>\n",
       "    <tr>\n",
       "      <th>10981</th>\n",
       "      <td>4713</td>\n",
       "      <td>3366</td>\n",
       "      <td>10982</td>\n",
       "    </tr>\n",
       "    <tr>\n",
       "      <th>10982</th>\n",
       "      <td>4713</td>\n",
       "      <td>3366</td>\n",
       "      <td>10983</td>\n",
       "    </tr>\n",
       "    <tr>\n",
       "      <th>10983</th>\n",
       "      <td>4859</td>\n",
       "      <td>4713</td>\n",
       "      <td>10984</td>\n",
       "    </tr>\n",
       "    <tr>\n",
       "      <th>10984</th>\n",
       "      <td>4859</td>\n",
       "      <td>4713</td>\n",
       "      <td>10985</td>\n",
       "    </tr>\n",
       "    <tr>\n",
       "      <th>10985</th>\n",
       "      <td>4713</td>\n",
       "      <td>3366</td>\n",
       "      <td>10986</td>\n",
       "    </tr>\n",
       "    <tr>\n",
       "      <th>10986</th>\n",
       "      <td>4713</td>\n",
       "      <td>4859</td>\n",
       "      <td>10987</td>\n",
       "    </tr>\n",
       "    <tr>\n",
       "      <th>10987</th>\n",
       "      <td>4713</td>\n",
       "      <td>3366</td>\n",
       "      <td>10988</td>\n",
       "    </tr>\n",
       "    <tr>\n",
       "      <th>10988</th>\n",
       "      <td>4713</td>\n",
       "      <td>3366</td>\n",
       "      <td>10989</td>\n",
       "    </tr>\n",
       "  </tbody>\n",
       "</table>\n",
       "<p>10989 rows × 3 columns</p>\n",
       "</div>"
      ],
      "text/plain": [
       "       first_recommendation  second_recommendation  cl_id\n",
       "0                      4713                   3366      1\n",
       "1                      3366                   4859      2\n",
       "2                      4713                   4859      3\n",
       "3                      4859                   4713      4\n",
       "4                      4713                   3366      5\n",
       "5                      4713                   3366      6\n",
       "6                      4713                   3366      7\n",
       "7                      4713                   3366      8\n",
       "8                      4713                   4859      9\n",
       "9                      4713                   3366     10\n",
       "10                     4713                   4859     11\n",
       "11                     4713                   3366     12\n",
       "12                     4713                   3366     13\n",
       "13                     4713                   3366     14\n",
       "14                     4713                   3366     15\n",
       "15                     4713                   4859     16\n",
       "16                     4713                   3366     17\n",
       "17                     3366                   4713     18\n",
       "18                     4713                   3366     19\n",
       "19                     4859                   4713     20\n",
       "20                     4713                   4859     21\n",
       "21                     3366                   4713     22\n",
       "22                     4713                   3366     23\n",
       "23                     4713                   3366     24\n",
       "24                     4713                   3366     25\n",
       "25                     4713                   3366     26\n",
       "26                     4713                   4859     27\n",
       "27                     4713                   4859     28\n",
       "28                     4713                   4859     29\n",
       "29                     4713                   3366     30\n",
       "...                     ...                    ...    ...\n",
       "10959                  4713                   3366  10960\n",
       "10960                  4713                   3366  10961\n",
       "10961                  4713                   3366  10962\n",
       "10962                  4713                   3366  10963\n",
       "10963                  4713                   3366  10964\n",
       "10964                  4713                   4859  10965\n",
       "10965                  4713                   3366  10966\n",
       "10966                  4713                   4859  10967\n",
       "10967                  4713                   4859  10968\n",
       "10968                  4713                   4859  10969\n",
       "10969                  4713                   3366  10970\n",
       "10970                  4713                   4859  10971\n",
       "10971                  4713                   3366  10972\n",
       "10972                  4713                   3366  10973\n",
       "10973                  4713                   3366  10974\n",
       "10974                  4713                   3366  10975\n",
       "10975                  4713                   3366  10976\n",
       "10976                  3366                   4713  10977\n",
       "10977                  4713                   4859  10978\n",
       "10978                  4713                   3366  10979\n",
       "10979                  3366                   4713  10980\n",
       "10980                  4713                   3366  10981\n",
       "10981                  4713                   3366  10982\n",
       "10982                  4713                   3366  10983\n",
       "10983                  4859                   4713  10984\n",
       "10984                  4859                   4713  10985\n",
       "10985                  4713                   3366  10986\n",
       "10986                  4713                   4859  10987\n",
       "10987                  4713                   3366  10988\n",
       "10988                  4713                   3366  10989\n",
       "\n",
       "[10989 rows x 3 columns]"
      ]
     },
     "execution_count": 79,
     "metadata": {},
     "output_type": "execute_result"
    }
   ],
   "source": [
    "recommendations"
   ]
  },
  {
   "cell_type": "code",
   "execution_count": null,
   "metadata": {},
   "outputs": [],
   "source": []
  }
 ],
 "metadata": {
  "kernelspec": {
   "display_name": "Python 3",
   "language": "python",
   "name": "python3"
  },
  "language_info": {
   "codemirror_mode": {
    "name": "ipython",
    "version": 3
   },
   "file_extension": ".py",
   "mimetype": "text/x-python",
   "name": "python",
   "nbconvert_exporter": "python",
   "pygments_lexer": "ipython3",
   "version": "3.6.5"
  }
 },
 "nbformat": 4,
 "nbformat_minor": 2
}
