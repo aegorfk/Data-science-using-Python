{
 "cells": [
  {
   "cell_type": "code",
   "execution_count": 1,
   "metadata": {
    "collapsed": true
   },
   "outputs": [],
   "source": [
    "from __future__ import absolute_import, print_function\n",
    "import json\n",
    "import tweepy\n",
    "from tweepy.parsers import JSONParser\n",
    "\n",
    "\n",
    "consumer_key=\"I6pgkVW8yw3Fjb7PVL4i9Gpx8\"\n",
    "consumer_secret=\"8yHUWcW6LoQFXpKliRTvOUO79SJqkm9gYcPWWvIldwGdtLWku5\"\n",
    "access_token=\"955480296388022273-brCbWye36eRdQHnTwojBf115D5evJuq\"\n",
    "access_token_secret=\"zqUjWBBkUOcffkHMls0WPJCkW8IePH39M3maKR95N21aw\"\n",
    "\n",
    "auth = tweepy.OAuthHandler(consumer_key, consumer_secret)\n",
    "auth.set_access_token(access_token, access_token_secret)\n",
    "api = tweepy.API(auth, wait_on_rate_limit=True, parser=JSONParser())\n",
    "\n",
    "nickname = 'realDonaldTrump'"
   ]
  },
  {
   "cell_type": "code",
   "execution_count": 2,
   "metadata": {
    "scrolled": true
   },
   "outputs": [
    {
     "name": "stdout",
     "output_type": "stream",
     "text": [
      "{\"follow_request_sent\": false, \"has_extended_profile\": false, \"profile_use_background_image\": true, \"profile_text_color\": \"333333\", \"default_profile_image\": false, \"id\": 25073877, \"profile_background_image_url_https\": \"https://pbs.twimg.com/profile_background_images/530021613/trump_scotland__43_of_70_cc.jpg\", \"verified\": true, \"translator_type\": \"regular\", \"profile_location\": null, \"profile_image_url_https\": \"https://pbs.twimg.com/profile_images/874276197357596672/kUuht00m_normal.jpg\", \"profile_sidebar_fill_color\": \"C5CEC0\", \"entities\": {\"url\": {\"urls\": [{\"url\": \"https://t.co/OMxB0x7xC5\", \"indices\": [0, 23], \"expanded_url\": \"http://www.Instagram.com/realDonaldTrump\", \"display_url\": \"Instagram.com/realDonaldTrump\"}]}, \"description\": {\"urls\": []}}, \"followers_count\": 48492518, \"profile_sidebar_border_color\": \"BDDCAD\", \"id_str\": \"25073877\", \"profile_background_color\": \"6D5C18\", \"listed_count\": 85146, \"status\": {\"contributors\": null, \"truncated\": true, \"text\": \"The United States has an $800 Billion Dollar Yearly Trade Deficit because of our \\u201cvery stupid\\u201d trade deals and poli\\u2026 https://t.co/nFF3vEmRmY\", \"is_quote_status\": false, \"in_reply_to_status_id\": null, \"id\": 969991653393039361, \"favorite_count\": 519, \"source\": \"<a href=\\\"http://twitter.com/download/iphone\\\" rel=\\\"nofollow\\\">Twitter for iPhone</a>\", \"retweeted\": false, \"coordinates\": null, \"entities\": {\"symbols\": [], \"user_mentions\": [], \"hashtags\": [], \"urls\": [{\"url\": \"https://t.co/nFF3vEmRmY\", \"indices\": [117, 140], \"expanded_url\": \"https://twitter.com/i/web/status/969991653393039361\", \"display_url\": \"twitter.com/i/web/status/9\\u2026\"}]}, \"in_reply_to_screen_name\": null, \"in_reply_to_user_id\": null, \"retweet_count\": 200, \"id_str\": \"969991653393039361\", \"favorited\": false, \"geo\": null, \"in_reply_to_user_id_str\": null, \"lang\": \"en\", \"created_at\": \"Sat Mar 03 17:43:26 +0000 2018\", \"in_reply_to_status_id_str\": null, \"place\": null}, \"is_translation_enabled\": true, \"utc_offset\": -18000, \"statuses_count\": 37059, \"description\": \"45th President of the United States of America\\ud83c\\uddfa\\ud83c\\uddf8\", \"friends_count\": 45, \"location\": \"Washington, DC\", \"profile_link_color\": \"1B95E0\", \"profile_image_url\": \"http://pbs.twimg.com/profile_images/874276197357596672/kUuht00m_normal.jpg\", \"following\": false, \"geo_enabled\": true, \"profile_banner_url\": \"https://pbs.twimg.com/profile_banners/25073877/1520088304\", \"profile_background_image_url\": \"http://pbs.twimg.com/profile_background_images/530021613/trump_scotland__43_of_70_cc.jpg\", \"name\": \"Donald J. Trump\", \"lang\": \"en\", \"profile_background_tile\": true, \"favourites_count\": 24, \"screen_name\": \"realDonaldTrump\", \"notifications\": false, \"url\": \"https://t.co/OMxB0x7xC5\", \"created_at\": \"Wed Mar 18 13:46:38 +0000 2009\", \"contributors_enabled\": false, \"time_zone\": \"Eastern Time (US & Canada)\", \"protected\": false, \"default_profile\": false, \"is_translator\": false}\n"
     ]
    }
   ],
   "source": [
    "# parsing profile of the user\n",
    "user = api.get_user(nickname)\n",
    "user = json.dumps(user)\n",
    "print(user)"
   ]
  },
  {
   "cell_type": "code",
   "execution_count": 3,
   "metadata": {},
   "outputs": [
    {
     "name": "stdout",
     "output_type": "stream",
     "text": [
      "[{\"contributors\": null, \"truncated\": true, \"text\": \"The United States has an $800 Billion Dollar Yearly Trade Deficit because of our \\u201cvery stupid\\u201d trade deals and poli\\u2026 https://t.co/nFF3vEmRmY\", \"is_quote_status\": false, \"in_reply_to_status_id\": null, \"id\": 969991653393039361, \"favorite_count\": 578, \"source\": \"<a href=\\\"http://twitter.com/download/iphone\\\" rel=\\\"nofollow\\\">Twitter for iPhone</a>\", \"retweeted\": false, \"coordinates\": null, \"entities\": {\"symbols\": [], \"user_mentions\": [], \"hashtags\": [], \"urls\": [{\"url\": \"https://t.co/nFF3vEmRmY\", \"indices\": [117, 140], \"expanded_url\": \"https://twitter.com/i/web/status/969991653393039361\", \"display_url\": \"twitter.com/i/web/status/9\\u2026\"}]}, \"in_reply_to_screen_name\": null, \"in_reply_to_user_id\": null, \"retweet_count\": 219, \"id_str\": \"969991653393039361\", \"favorited\": false, \"user\": {\"follow_request_sent\": false, \"has_extended_profile\": false, \"profile_use_background_image\": true, \"default_profile_image\": false, \"id\": 25073877, \"profile_background_image_url_https\": \"https://pbs.twimg.com/profile_background_images/530021613/trump_scotland__43_of_70_cc.jpg\", \"verified\": true, \"translator_type\": \"regular\", \"profile_text_color\": \"333333\", \"profile_image_url_https\": \"https://pbs.twimg.com/profile_images/874276197357596672/kUuht00m_normal.jpg\", \"profile_sidebar_fill_color\": \"C5CEC0\", \"entities\": {\"url\": {\"urls\": [{\"url\": \"https://t.co/OMxB0x7xC5\", \"indices\": [0, 23], \"expanded_url\": \"http://www.Instagram.com/realDonaldTrump\", \"display_url\": \"Instagram.com/realDonaldTrump\"}]}, \"description\": {\"urls\": []}}, \"followers_count\": 48492539, \"profile_sidebar_border_color\": \"BDDCAD\", \"id_str\": \"25073877\", \"profile_background_color\": \"6D5C18\", \"listed_count\": 85146, \"is_translation_enabled\": true, \"utc_offset\": -18000, \"statuses_count\": 37059, \"description\": \"45th President of the United States of America\\ud83c\\uddfa\\ud83c\\uddf8\", \"friends_count\": 45, \"location\": \"Washington, DC\", \"profile_link_color\": \"1B95E0\", \"profile_image_url\": \"http://pbs.twimg.com/profile_images/874276197357596672/kUuht00m_normal.jpg\", \"following\": false, \"geo_enabled\": true, \"profile_banner_url\": \"https://pbs.twimg.com/profile_banners/25073877/1520088304\", \"profile_background_image_url\": \"http://pbs.twimg.com/profile_background_images/530021613/trump_scotland__43_of_70_cc.jpg\", \"screen_name\": \"realDonaldTrump\", \"lang\": \"en\", \"profile_background_tile\": true, \"favourites_count\": 24, \"name\": \"Donald J. Trump\", \"notifications\": false, \"url\": \"https://t.co/OMxB0x7xC5\", \"created_at\": \"Wed Mar 18 13:46:38 +0000 2009\", \"contributors_enabled\": false, \"time_zone\": \"Eastern Time (US & Canada)\", \"protected\": false, \"default_profile\": false, \"is_translator\": false}, \"geo\": null, \"in_reply_to_user_id_str\": null, \"lang\": \"en\", \"created_at\": \"Sat Mar 03 17:43:26 +0000 2018\", \"in_reply_to_status_id_str\": null, \"place\": null}]\n"
     ]
    }
   ],
   "source": [
    "# parsing timeline of the user\n",
    "timeline = api.user_timeline(nickname, count=1)\n",
    "timeline = json.dumps(timeline)\n",
    "print(timeline)"
   ]
  },
  {
   "cell_type": "code",
   "execution_count": 4,
   "metadata": {
    "scrolled": false
   },
   "outputs": [
    {
     "name": "stdout",
     "output_type": "stream",
     "text": [
      "{\"previous_cursor\": 0, \"previous_cursor_str\": \"0\", \"next_cursor\": 1593939388844547156, \"users\": [{\"follow_request_sent\": false, \"has_extended_profile\": false, \"profile_use_background_image\": true, \"live_following\": false, \"default_profile_image\": true, \"id\": 1383501900, \"profile_background_image_url_https\": \"https://abs.twimg.com/images/themes/theme1/bg.png\", \"translator_type\": \"none\", \"verified\": false, \"blocked_by\": false, \"profile_text_color\": \"333333\", \"muting\": false, \"profile_image_url_https\": \"https://abs.twimg.com/sticky/default_profile_images/default_profile_normal.png\", \"profile_sidebar_fill_color\": \"DDEEF6\", \"entities\": {\"description\": {\"urls\": []}}, \"followers_count\": 0, \"profile_sidebar_border_color\": \"C0DEED\", \"id_str\": \"1383501900\", \"profile_background_color\": \"C0DEED\", \"listed_count\": 0, \"is_translation_enabled\": false, \"utc_offset\": null, \"statuses_count\": 0, \"description\": \"\", \"friends_count\": 46, \"location\": \"\", \"profile_link_color\": \"1DA1F2\", \"profile_image_url\": \"http://abs.twimg.com/sticky/default_profile_images/default_profile_normal.png\", \"following\": false, \"geo_enabled\": false, \"blocking\": false, \"profile_background_image_url\": \"http://abs.twimg.com/images/themes/theme1/bg.png\", \"screen_name\": \"cotachell\", \"lang\": \"en\", \"profile_background_tile\": false, \"favourites_count\": 1, \"name\": \"Richelle Cota\", \"notifications\": false, \"url\": null, \"created_at\": \"Sat Apr 27 04:15:03 +0000 2013\", \"contributors_enabled\": false, \"time_zone\": null, \"protected\": false, \"default_profile\": true, \"is_translator\": false}], \"next_cursor_str\": \"1593939388844547156\"}\n"
     ]
    }
   ],
   "source": [
    "#parsing followers of the user\n",
    "followers = api.followers(nickname, count=1)\n",
    "followers = json.dumps(followers)\n",
    "print(followers)"
   ]
  },
  {
   "cell_type": "code",
   "execution_count": 5,
   "metadata": {
    "scrolled": false
   },
   "outputs": [
    {
     "name": "stdout",
     "output_type": "stream",
     "text": [
      "{\"previous_cursor\": 0, \"previous_cursor_str\": \"0\", \"next_cursor\": 1579256327759506458, \"users\": [{\"follow_request_sent\": false, \"has_extended_profile\": false, \"profile_use_background_image\": true, \"live_following\": false, \"default_profile_image\": false, \"id\": 818927131883356161, \"profile_background_image_url_https\": null, \"translator_type\": \"none\", \"verified\": true, \"blocked_by\": false, \"profile_text_color\": \"333333\", \"muting\": false, \"profile_image_url_https\": \"https://pbs.twimg.com/profile_images/893600318025474048/CbCbznYp_normal.jpg\", \"profile_sidebar_fill_color\": \"DDEEF6\", \"entities\": {\"url\": {\"urls\": [{\"url\": \"https://t.co/wyOVgSLgBV\", \"indices\": [0, 23], \"expanded_url\": \"http://www.WhiteHouse.gov\", \"display_url\": \"WhiteHouse.gov\"}]}, \"description\": {\"urls\": [{\"url\": \"https://t.co/eVVzoBb3Zr\", \"indices\": [105, 128], \"expanded_url\": \"http://wh.gov/privacy\", \"display_url\": \"wh.gov/privacy\"}]}}, \"followers_count\": 2723088, \"profile_sidebar_border_color\": \"C0DEED\", \"id_str\": \"818927131883356161\", \"profile_background_color\": \"F5F8FA\", \"listed_count\": 6494, \"status\": {\"contributors\": null, \"truncated\": false, \"text\": \"RT @FoxNews: .@PressSec: \\\"We just passed the biggest tax cuts in history. ISIS is on the run. We're rebuilding our military. We're rebuildi\\u2026\", \"is_quote_status\": false, \"in_reply_to_status_id\": null, \"id\": 969735751989710848, \"favorite_count\": 0, \"source\": \"<a href=\\\"http://twitter.com/download/iphone\\\" rel=\\\"nofollow\\\">Twitter for iPhone</a>\", \"retweeted\": false, \"coordinates\": null, \"entities\": {\"symbols\": [], \"user_mentions\": [{\"id\": 1367531, \"indices\": [3, 11], \"id_str\": \"1367531\", \"screen_name\": \"FoxNews\", \"name\": \"Fox News\"}, {\"id\": 818927131883356161, \"indices\": [14, 23], \"id_str\": \"818927131883356161\", \"screen_name\": \"PressSec\", \"name\": \"Sarah Sanders\"}], \"hashtags\": [], \"urls\": []}, \"in_reply_to_screen_name\": null, \"in_reply_to_user_id\": null, \"retweet_count\": 1399, \"id_str\": \"969735751989710848\", \"favorited\": false, \"retweeted_status\": {\"contributors\": null, \"truncated\": true, \"text\": \".@PressSec: \\\"We just passed the biggest tax cuts in history. ISIS is on the run. We're rebuilding our military. We'\\u2026 https://t.co/jQIzX7zeUI\", \"is_quote_status\": false, \"in_reply_to_status_id\": null, \"id\": 969652217132277761, \"favorite_count\": 5885, \"source\": \"<a href=\\\"https://studio.twitter.com\\\" rel=\\\"nofollow\\\">Media Studio</a>\", \"retweeted\": false, \"coordinates\": null, \"entities\": {\"symbols\": [], \"user_mentions\": [{\"id\": 818927131883356161, \"indices\": [1, 10], \"id_str\": \"818927131883356161\", \"screen_name\": \"PressSec\", \"name\": \"Sarah Sanders\"}], \"hashtags\": [], \"urls\": [{\"url\": \"https://t.co/jQIzX7zeUI\", \"indices\": [117, 140], \"expanded_url\": \"https://twitter.com/i/web/status/969652217132277761\", \"display_url\": \"twitter.com/i/web/status/9\\u2026\"}]}, \"in_reply_to_screen_name\": null, \"in_reply_to_user_id\": null, \"retweet_count\": 1399, \"id_str\": \"969652217132277761\", \"favorited\": false, \"geo\": null, \"in_reply_to_user_id_str\": null, \"possibly_sensitive\": false, \"lang\": \"en\", \"created_at\": \"Fri Mar 02 19:14:38 +0000 2018\", \"in_reply_to_status_id_str\": null, \"place\": null}, \"geo\": null, \"in_reply_to_user_id_str\": null, \"lang\": \"en\", \"created_at\": \"Sat Mar 03 00:46:34 +0000 2018\", \"in_reply_to_status_id_str\": null, \"place\": null}, \"is_translation_enabled\": false, \"utc_offset\": -28800, \"statuses_count\": 1917, \"description\": \"@WhiteHouse Press Secretary. Proudly representing @POTUS Trump's Administration. Tweets may be archived: https://t.co/eVVzoBb3Zr.\", \"friends_count\": 237, \"location\": \"Washington, D.C.\", \"profile_link_color\": \"1DA1F2\", \"profile_image_url\": \"http://pbs.twimg.com/profile_images/893600318025474048/CbCbznYp_normal.jpg\", \"following\": false, \"geo_enabled\": false, \"profile_banner_url\": \"https://pbs.twimg.com/profile_banners/818927131883356161/1501886832\", \"blocking\": false, \"profile_background_image_url\": null, \"screen_name\": \"PressSec\", \"lang\": \"en\", \"profile_background_tile\": false, \"favourites_count\": 320, \"name\": \"Sarah Sanders\", \"notifications\": false, \"url\": \"https://t.co/wyOVgSLgBV\", \"created_at\": \"Tue Jan 10 21:06:57 +0000 2017\", \"contributors_enabled\": false, \"time_zone\": \"Pacific Time (US & Canada)\", \"protected\": false, \"default_profile\": true, \"is_translator\": false}], \"next_cursor_str\": \"1579256327759506458\"}\n"
     ]
    }
   ],
   "source": [
    "friends = api.friends(nickname, count=1)\n",
    "friends = json.dumps(friends)\n",
    "print(friends)"
   ]
  },
  {
   "cell_type": "code",
   "execution_count": 6,
   "metadata": {},
   "outputs": [
    {
     "name": "stdout",
     "output_type": "stream",
     "text": [
      "[818927131883356161, 22703645, 56561449, 822215673812119553, 823367015830323201, 471672239, 20733972, 322293052, 720293443260456960, 2325495378, 245963716, 50769180, 22203756, 729676086632656900, 14669951, 475802156, 75541946, 41634520, 37764422, 4121225056, 196168350, 2908170952, 34852681, 25429371, 52136185, 15513604, 108471631, 246500501, 14839147, 316865635, 26829777, 1222639789, 620571475, 633797941, 726414091, 82504071, 48223726, 1013672084, 29562422, 39349894, 23970102, 16031927, 216299334, 39344374, 52544275]\n",
      "45\n"
     ]
    }
   ],
   "source": [
    "# parsing friends ids to see the profile individually\n",
    "friends_list = api.friends_ids(nickname)\n",
    "friends_list = friends_list[\"ids\"]\n",
    "print(friends_list)\n",
    "print(len(friends_list))"
   ]
  },
  {
   "cell_type": "code",
   "execution_count": 7,
   "metadata": {},
   "outputs": [
    {
     "name": "stdout",
     "output_type": "stream",
     "text": [
      "{\"follow_request_sent\": false, \"has_extended_profile\": false, \"profile_use_background_image\": true, \"profile_text_color\": \"333333\", \"default_profile_image\": false, \"id\": 818927131883356161, \"profile_background_image_url_https\": null, \"verified\": true, \"translator_type\": \"none\", \"profile_location\": null, \"profile_image_url_https\": \"https://pbs.twimg.com/profile_images/893600318025474048/CbCbznYp_normal.jpg\", \"profile_sidebar_fill_color\": \"DDEEF6\", \"entities\": {\"url\": {\"urls\": [{\"url\": \"https://t.co/wyOVgSLgBV\", \"indices\": [0, 23], \"expanded_url\": \"http://www.WhiteHouse.gov\", \"display_url\": \"WhiteHouse.gov\"}]}, \"description\": {\"urls\": [{\"url\": \"https://t.co/eVVzoBb3Zr\", \"indices\": [105, 128], \"expanded_url\": \"http://wh.gov/privacy\", \"display_url\": \"wh.gov/privacy\"}]}}, \"followers_count\": 2723051, \"profile_sidebar_border_color\": \"C0DEED\", \"id_str\": \"818927131883356161\", \"profile_background_color\": \"F5F8FA\", \"listed_count\": 6494, \"status\": {\"contributors\": null, \"truncated\": false, \"text\": \"RT @FoxNews: .@PressSec: \\\"We just passed the biggest tax cuts in history. ISIS is on the run. We're rebuilding our military. We're rebuildi\\u2026\", \"is_quote_status\": false, \"in_reply_to_status_id\": null, \"id\": 969735751989710848, \"favorite_count\": 0, \"source\": \"<a href=\\\"http://twitter.com/download/iphone\\\" rel=\\\"nofollow\\\">Twitter for iPhone</a>\", \"retweeted\": false, \"coordinates\": null, \"entities\": {\"symbols\": [], \"user_mentions\": [{\"id\": 1367531, \"indices\": [3, 11], \"id_str\": \"1367531\", \"screen_name\": \"FoxNews\", \"name\": \"Fox News\"}, {\"id\": 818927131883356161, \"indices\": [14, 23], \"id_str\": \"818927131883356161\", \"screen_name\": \"PressSec\", \"name\": \"Sarah Sanders\"}], \"hashtags\": [], \"urls\": []}, \"in_reply_to_screen_name\": null, \"in_reply_to_user_id\": null, \"retweet_count\": 1399, \"id_str\": \"969735751989710848\", \"favorited\": false, \"retweeted_status\": {\"contributors\": null, \"truncated\": true, \"text\": \".@PressSec: \\\"We just passed the biggest tax cuts in history. ISIS is on the run. We're rebuilding our military. We'\\u2026 https://t.co/jQIzX7zeUI\", \"is_quote_status\": false, \"in_reply_to_status_id\": null, \"id\": 969652217132277761, \"favorite_count\": 5885, \"source\": \"<a href=\\\"https://studio.twitter.com\\\" rel=\\\"nofollow\\\">Media Studio</a>\", \"retweeted\": false, \"coordinates\": null, \"entities\": {\"symbols\": [], \"user_mentions\": [{\"id\": 818927131883356161, \"indices\": [1, 10], \"id_str\": \"818927131883356161\", \"screen_name\": \"PressSec\", \"name\": \"Sarah Sanders\"}], \"hashtags\": [], \"urls\": [{\"url\": \"https://t.co/jQIzX7zeUI\", \"indices\": [117, 140], \"expanded_url\": \"https://twitter.com/i/web/status/969652217132277761\", \"display_url\": \"twitter.com/i/web/status/9\\u2026\"}]}, \"in_reply_to_screen_name\": null, \"in_reply_to_user_id\": null, \"retweet_count\": 1399, \"id_str\": \"969652217132277761\", \"favorited\": false, \"geo\": null, \"in_reply_to_user_id_str\": null, \"possibly_sensitive\": false, \"lang\": \"en\", \"created_at\": \"Fri Mar 02 19:14:38 +0000 2018\", \"in_reply_to_status_id_str\": null, \"place\": null}, \"geo\": null, \"in_reply_to_user_id_str\": null, \"lang\": \"en\", \"created_at\": \"Sat Mar 03 00:46:34 +0000 2018\", \"in_reply_to_status_id_str\": null, \"place\": null}, \"is_translation_enabled\": false, \"utc_offset\": -28800, \"statuses_count\": 1917, \"description\": \"@WhiteHouse Press Secretary. Proudly representing @POTUS Trump's Administration. Tweets may be archived: https://t.co/eVVzoBb3Zr.\", \"friends_count\": 237, \"location\": \"Washington, D.C.\", \"profile_link_color\": \"1DA1F2\", \"profile_image_url\": \"http://pbs.twimg.com/profile_images/893600318025474048/CbCbznYp_normal.jpg\", \"following\": false, \"geo_enabled\": false, \"profile_banner_url\": \"https://pbs.twimg.com/profile_banners/818927131883356161/1501886832\", \"profile_background_image_url\": null, \"name\": \"Sarah Sanders\", \"lang\": \"en\", \"profile_background_tile\": false, \"favourites_count\": 320, \"screen_name\": \"PressSec\", \"notifications\": false, \"url\": \"https://t.co/wyOVgSLgBV\", \"created_at\": \"Tue Jan 10 21:06:57 +0000 2017\", \"contributors_enabled\": false, \"time_zone\": \"Pacific Time (US & Canada)\", \"protected\": false, \"default_profile\": true, \"is_translator\": false}\n"
     ]
    }
   ],
   "source": [
    "# loop through each friens by id and download profile\n",
    "type(friends_list)\n",
    "l = []\n",
    "for i in friends_list:\n",
    "    # parsing profile of each user\n",
    "    user = api.get_user(i)\n",
    "    user = json.dumps(user)\n",
    "    l.append(user)\n",
    "# print the first friend's profile as an example\n",
    "print(l[0])"
   ]
  },
  {
   "cell_type": "code",
   "execution_count": null,
   "metadata": {
    "collapsed": true
   },
   "outputs": [],
   "source": []
  }
 ],
 "metadata": {
  "kernelspec": {
   "display_name": "Python 2",
   "language": "python",
   "name": "python2"
  },
  "language_info": {
   "codemirror_mode": {
    "name": "ipython",
    "version": 2
   },
   "file_extension": ".py",
   "mimetype": "text/x-python",
   "name": "python",
   "nbconvert_exporter": "python",
   "pygments_lexer": "ipython2",
   "version": "2.7.13"
  }
 },
 "nbformat": 4,
 "nbformat_minor": 1
}
